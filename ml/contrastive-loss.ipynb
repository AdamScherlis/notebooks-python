{
 "cells": [
  {
   "cell_type": "code",
   "execution_count": null,
   "metadata": {},
   "outputs": [],
   "source": [
    "# 2022-12\n",
    "# trying to understand some formal properties of contrastive loss fns"
   ]
  },
  {
   "cell_type": "code",
   "execution_count": 105,
   "metadata": {},
   "outputs": [],
   "source": [
    "import numpy as np\n",
    "import torch as t\n",
    "from matplotlib import pyplot as plt"
   ]
  },
  {
   "cell_type": "code",
   "execution_count": 69,
   "metadata": {},
   "outputs": [],
   "source": [
    "def softmax(tens, axis):\n",
    "    exps = t.exp(tens)\n",
    "    return exps / exps.sum(dim=axis, keepdim=True)"
   ]
  },
  {
   "cell_type": "code",
   "execution_count": 117,
   "metadata": {},
   "outputs": [],
   "source": [
    "def contrastive_loss(qs):\n",
    "    cond_0 = softmax(qs, 0).diagonal()\n",
    "    cond_1 = softmax(qs, 1).diagonal()\n",
    "    loss_0 = -t.log(cond_0).sum()\n",
    "    loss_1 = -t.log(cond_1).sum()\n",
    "    return 1/2 * (loss_0 + loss_1)\n",
    "\n",
    "def joint_loss(qs):\n",
    "    joint = softmax(qs, (0, 1)).diagonal()\n",
    "    loss = -t.log(joint).sum()\n",
    "    return loss"
   ]
  },
  {
   "cell_type": "code",
   "execution_count": 118,
   "metadata": {},
   "outputs": [],
   "source": [
    "n_data = 5\n",
    "\n",
    "pair_probs = t.exp(t.randn(n_data, n_data))\n",
    "pair_probs /= pair_probs.sum()\n",
    "\n",
    "logp = t.log(pair_probs)\n"
   ]
  },
  {
   "cell_type": "code",
   "execution_count": 141,
   "metadata": {},
   "outputs": [],
   "source": [
    "\n",
    "q = t.randn(n_data, n_data)\n",
    "q.requires_grad = True"
   ]
  },
  {
   "cell_type": "code",
   "execution_count": 142,
   "metadata": {},
   "outputs": [],
   "source": [
    "loss = joint_loss\n",
    "\n",
    "ls = []\n",
    "\n",
    "for step in range(10):\n",
    "    ex_loss = t.tensor(0.)\n",
    "\n",
    "    for i in range(n_data):\n",
    "        for j in range(n_data):\n",
    "            for a in range(n_data):\n",
    "                for b in range(n_data):\n",
    "                    if i != j and a != b:\n",
    "                        qs = q[[i, j], :][:, [a, b]]\n",
    "                        p = pair_probs[i, a] * pair_probs[j, b]\n",
    "                        ex_loss += p * loss(qs)\n",
    "    ls.append(ex_loss.detach().item())\n",
    "    \n",
    "    ex_loss.backward()\n",
    "    \n",
    "    with t.no_grad():\n",
    "        q -= 1e1 * q.grad\n",
    "        q.grad.zero_()"
   ]
  },
  {
   "cell_type": "code",
   "execution_count": null,
   "metadata": {},
   "outputs": [],
   "source": []
  },
  {
   "cell_type": "code",
   "execution_count": 143,
   "metadata": {},
   "outputs": [
    {
     "data": {
      "text/plain": [
       "[<matplotlib.lines.Line2D at 0x7fb198f12c50>]"
      ]
     },
     "execution_count": 143,
     "metadata": {},
     "output_type": "execute_result"
    },
    {
     "data": {
      "image/png": "[encoded data removed]",
      "text/plain": [
       "<Figure size 432x288 with 1 Axes>"
      ]
     },
     "metadata": {
      "needs_background": "light"
     },
     "output_type": "display_data"
    }
   ],
   "source": [
    "plt.plot(ls)"
   ]
  },
  {
   "cell_type": "code",
   "execution_count": 144,
   "metadata": {},
   "outputs": [],
   "source": [
    "qq = t.log(q.exp() / q.exp().sum())"
   ]
  },
  {
   "cell_type": "code",
   "execution_count": 129,
   "metadata": {},
   "outputs": [
    {
     "name": "stdout",
     "output_type": "stream",
     "text": [
      "tensor(1.2217, grad_fn=<AddBackward0>)\n"
     ]
    }
   ],
   "source": [
    "ex_loss = t.tensor(0.)\n",
    "\n",
    "for i in range(n_data):\n",
    "    for j in range(n_data):\n",
    "        for a in range(n_data):\n",
    "            for b in range(n_data):\n",
    "                qs = qq[[i, j], :][:, [a, b]]\n",
    "                p = pair_probs[i, a] * pair_probs[j, b]\n",
    "                ex_loss += p * contrastive_loss(qs)\n",
    "\n",
    "print(ex_loss)"
   ]
  },
  {
   "cell_type": "code",
   "execution_count": 153,
   "metadata": {},
   "outputs": [
    {
     "name": "stdout",
     "output_type": "stream",
     "text": [
      "tensor(1.2225, grad_fn=<AddBackward0>)\n"
     ]
    }
   ],
   "source": [
    "ex_loss = t.tensor(0.)\n",
    "\n",
    "for i in range(n_data):\n",
    "    for j in range(n_data):\n",
    "        for a in range(n_data):\n",
    "            for b in range(n_data):\n",
    "                qs = q[[i, j], :][:, [a, b]]\n",
    "                p = pair_probs[i, a] * pair_probs[j, b]\n",
    "                ex_loss += p * contrastive_loss(qs)\n",
    "\n",
    "print(ex_loss)"
   ]
  },
  {
   "cell_type": "code",
   "execution_count": 154,
   "metadata": {},
   "outputs": [
    {
     "name": "stdout",
     "output_type": "stream",
     "text": [
      "tensor(1.2665)\n"
     ]
    }
   ],
   "source": [
    "ex_loss = t.tensor(0.)\n",
    "\n",
    "for i in range(n_data):\n",
    "    for j in range(n_data):\n",
    "        for a in range(n_data):\n",
    "            for b in range(n_data):\n",
    "                qs = logp[[i, j], :][:, [a, b]]\n",
    "                p = pair_probs[i, a] * pair_probs[j, b]\n",
    "                ex_loss += p * contrastive_loss(qs)\n",
    "\n",
    "print(ex_loss)"
   ]
  },
  {
   "cell_type": "code",
   "execution_count": 91,
   "metadata": {},
   "outputs": [
    {
     "data": {
      "text/plain": [
       "tensor([[-0.0102,  0.0103,  0.0100,  0.0269,  0.0047, -0.0016, -0.0172,  0.0121,\n",
       "          0.0468,  0.0045],\n",
       "        [-0.0205, -0.0387,  0.0251,  0.0008, -0.0033,  0.0014,  0.0583, -0.0076,\n",
       "         -0.0099, -0.0128],\n",
       "        [ 0.0138, -0.0051,  0.0002,  0.0066, -0.0055,  0.0181, -0.0006, -0.0046,\n",
       "         -0.0066, -0.0011],\n",
       "        [ 0.0019,  0.0111,  0.0067, -0.0063,  0.0051,  0.0100, -0.0157, -0.0164,\n",
       "         -0.0038, -0.0062],\n",
       "        [ 0.0033, -0.0056,  0.0159, -0.0054, -0.0032,  0.0022,  0.0019, -0.0080,\n",
       "         -0.0052, -0.0013],\n",
       "        [-0.0095,  0.0039, -0.0238, -0.0030,  0.0053,  0.0031, -0.0029,  0.0002,\n",
       "         -0.0082, -0.0043],\n",
       "        [-0.0064,  0.0056,  0.0127,  0.0304,  0.0033,  0.0026, -0.0232, -0.0185,\n",
       "         -0.0211,  0.0005],\n",
       "        [-0.0009, -0.0081, -0.0102,  0.0008,  0.0083, -0.0121,  0.0014,  0.0021,\n",
       "         -0.0167,  0.0011],\n",
       "        [ 0.0147, -0.0028,  0.0036, -0.0016, -0.0035, -0.0235,  0.0059,  0.0200,\n",
       "         -0.0157,  0.0179],\n",
       "        [ 0.0166,  0.0231, -0.0050, -0.0050, -0.0108,  0.0042, -0.0158, -0.0010,\n",
       "         -0.0093,  0.0003]])"
      ]
     },
     "execution_count": 91,
     "metadata": {},
     "output_type": "execute_result"
    }
   ],
   "source": [
    "q.grad"
   ]
  },
  {
   "cell_type": "code",
   "execution_count": null,
   "metadata": {},
   "outputs": [],
   "source": []
  },
  {
   "cell_type": "code",
   "execution_count": 145,
   "metadata": {},
   "outputs": [
    {
     "name": "stdout",
     "output_type": "stream",
     "text": [
      "tensor(2.6666, grad_fn=<AddBackward0>)\n"
     ]
    }
   ],
   "source": [
    "ex_loss = t.tensor(0.)\n",
    "loss = joint_loss\n",
    "\n",
    "for i in range(n_data):\n",
    "    for j in range(n_data):\n",
    "        for a in range(n_data):\n",
    "            for b in range(n_data):\n",
    "                qs = q[[i, j], :][:, [a, b]]\n",
    "                p = pair_probs[i, a] * pair_probs[j, b]\n",
    "                ex_loss += p * loss(qs)\n",
    "\n",
    "print(ex_loss)"
   ]
  },
  {
   "cell_type": "code",
   "execution_count": 146,
   "metadata": {},
   "outputs": [
    {
     "name": "stdout",
     "output_type": "stream",
     "text": [
      "tensor(2.6666, grad_fn=<AddBackward0>)\n"
     ]
    }
   ],
   "source": [
    "ex_loss = t.tensor(0.)\n",
    "loss = joint_loss\n",
    "\n",
    "for i in range(n_data):\n",
    "    for j in range(n_data):\n",
    "        for a in range(n_data):\n",
    "            for b in range(n_data):\n",
    "                qs = qq[[i, j], :][:, [a, b]]\n",
    "                p = pair_probs[i, a] * pair_probs[j, b]\n",
    "                ex_loss += p * loss(qs)\n",
    "\n",
    "print(ex_loss)"
   ]
  },
  {
   "cell_type": "code",
   "execution_count": 147,
   "metadata": {},
   "outputs": [
    {
     "name": "stdout",
     "output_type": "stream",
     "text": [
      "tensor(2.7910)\n"
     ]
    }
   ],
   "source": [
    "ex_loss = t.tensor(0.)\n",
    "loss = joint_loss\n",
    "\n",
    "for i in range(n_data):\n",
    "    for j in range(n_data):\n",
    "        for a in range(n_data):\n",
    "            for b in range(n_data):\n",
    "                qs = logp[[i, j], :][:, [a, b]]\n",
    "                p = pair_probs[i, a] * pair_probs[j, b]\n",
    "                ex_loss += p * loss(qs)\n",
    "\n",
    "print(ex_loss)"
   ]
  },
  {
   "cell_type": "code",
   "execution_count": 148,
   "metadata": {},
   "outputs": [
    {
     "data": {
      "text/plain": [
       "tensor([[0.0132, 0.0094, 0.0726, 0.0413, 0.1436],\n",
       "        [0.0181, 0.0084, 0.0745, 0.0056, 0.0097],\n",
       "        [0.0181, 0.0265, 0.0315, 0.0305, 0.0319],\n",
       "        [0.0729, 0.0609, 0.0222, 0.0191, 0.1161],\n",
       "        [0.0229, 0.0507, 0.0595, 0.0221, 0.0186]])"
      ]
     },
     "execution_count": 148,
     "metadata": {},
     "output_type": "execute_result"
    }
   ],
   "source": [
    "pair_probs"
   ]
  },
  {
   "cell_type": "code",
   "execution_count": 151,
   "metadata": {},
   "outputs": [
    {
     "data": {
      "text/plain": [
       "tensor([[0.0907, 0.0606, 0.2787, 0.3484, 0.4489],\n",
       "        [0.1249, 0.0541, 0.2863, 0.0470, 0.0304],\n",
       "        [0.1246, 0.1697, 0.1211, 0.2569, 0.0999],\n",
       "        [0.5020, 0.3903, 0.0854, 0.1610, 0.3628],\n",
       "        [0.1577, 0.3254, 0.2285, 0.1866, 0.0580]])"
      ]
     },
     "execution_count": 151,
     "metadata": {},
     "output_type": "execute_result"
    }
   ],
   "source": [
    "softmax(logp, axis=(0,))"
   ]
  },
  {
   "cell_type": "code",
   "execution_count": 152,
   "metadata": {},
   "outputs": [
    {
     "data": {
      "text/plain": [
       "tensor([[0.0854, 0.0608, 0.1906, 0.2377, 0.3845],\n",
       "        [0.2160, 0.0471, 0.3634, 0.1506, 0.0772],\n",
       "        [0.1849, 0.2499, 0.1601, 0.3006, 0.1688],\n",
       "        [0.3215, 0.2865, 0.0480, 0.1148, 0.2975],\n",
       "        [0.1921, 0.3558, 0.2379, 0.1964, 0.0721]], grad_fn=<DivBackward0>)"
      ]
     },
     "execution_count": 152,
     "metadata": {},
     "output_type": "execute_result"
    }
   ],
   "source": [
    "softmax(q, axis=(0,))"
   ]
  },
  {
   "cell_type": "code",
   "execution_count": 156,
   "metadata": {},
   "outputs": [
    {
     "data": {
      "text/plain": [
       "tensor(2.9117)"
      ]
     },
     "execution_count": 156,
     "metadata": {},
     "output_type": "execute_result"
    }
   ],
   "source": [
    "t.sum(pair_probs * -t.log(softmax(logp, axis=(0, 1))))"
   ]
  },
  {
   "cell_type": "code",
   "execution_count": 157,
   "metadata": {},
   "outputs": [
    {
     "data": {
      "text/plain": [
       "tensor(3.0615, grad_fn=<SumBackward0>)"
      ]
     },
     "execution_count": 157,
     "metadata": {},
     "output_type": "execute_result"
    }
   ],
   "source": [
    "t.sum(pair_probs * -t.log(softmax(q, axis=(0, 1))))"
   ]
  },
  {
   "cell_type": "code",
   "execution_count": null,
   "metadata": {},
   "outputs": [],
   "source": []
  }
 ],
 "metadata": {
  "kernelspec": {
   "display_name": "Python 3 (ipykernel)",
   "language": "python",
   "name": "python3"
  },
  "language_info": {
   "codemirror_mode": {
    "name": "ipython",
    "version": 3
   },
   "file_extension": ".py",
   "mimetype": "text/x-python",
   "name": "python",
   "nbconvert_exporter": "python",
   "pygments_lexer": "ipython3",
   "version": "3.11.1"
  }
 },
 "nbformat": 4,
 "nbformat_minor": 4
}
