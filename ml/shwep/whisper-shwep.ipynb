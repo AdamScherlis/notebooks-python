{
 "cells": [
  {
   "cell_type": "code",
   "execution_count": 5,
   "id": "4a1b9797-ebe5-402d-a7f6-4645a64d6a96",
   "metadata": {},
   "outputs": [],
   "source": [
    "# 2024-01\n",
    "# Chops SHWEP podcast episodes into 25MB bites,\n",
    "# feeds them to Whisper (OAI API),\n",
    "# combines and formats the transcripts."
   ]
  },
  {
   "cell_type": "code",
   "execution_count": 12,
   "id": "b34c2262",
   "metadata": {},
   "outputs": [],
   "source": [
    "import os\n",
    "from pydub import AudioSegment\n",
    "from openai import OpenAI"
   ]
  },
  {
   "cell_type": "code",
   "execution_count": 13,
   "id": "b3dda110-86fb-4b4a-b42c-e980fa082a69",
   "metadata": {},
   "outputs": [],
   "source": [
    "DIR = \".\"  # \"shwep\""
   ]
  },
  {
   "cell_type": "code",
   "execution_count": 14,
   "id": "d171566c-021f-4b8a-be3b-e987b2451e0d",
   "metadata": {},
   "outputs": [],
   "source": [
    "def join_strings(string_list, max_len, sep=''):\n",
    "    result = []\n",
    "    current = []\n",
    "    current_len = 0\n",
    "    for s in string_list:\n",
    "        if current_len + len(s) > max_len and len(current) > 0:\n",
    "            result.append(sep.join(current))\n",
    "            current = []\n",
    "            current_len = 0\n",
    "        current.append(s)\n",
    "        current_len += len(s)\n",
    "    result.append(sep.join(current))\n",
    "    return (sep+\"\\n\").join(result)"
   ]
  },
  {
   "cell_type": "code",
   "execution_count": 15,
   "id": "1293ed01-e22c-4770-ae7e-f0068ead147e",
   "metadata": {},
   "outputs": [],
   "source": [
    "def split_ep(n, min_parts=1, max_size=25_000_000, overlap_ms=2_000):\n",
    "    \"\"\"Split MP3 into small-enough pieces for the API.\n",
    "    Trial-and-error approach because output file size is unpredictable.\"\"\"\n",
    "    \n",
    "    mp3_file = f\"{DIR}/shwep_ep{n}.mp3\"\n",
    "\n",
    "    print(f\"Splitting {mp3_file} into {min_parts} parts...\")\n",
    "    \n",
    "    sound = AudioSegment.from_mp3(mp3_file)\n",
    "\n",
    "    partsize = len(sound) // min_parts\n",
    "\n",
    "    assert partsize > overlap_ms, \"file could not be sliced finely enough\"\n",
    "\n",
    "    parts = []\n",
    "    path = lambda i: f\"{DIR}/shwep_ep{n}_part{i}.mp3\"\n",
    "    \n",
    "    for i in range(min_parts):\n",
    "        begin = i * partsize\n",
    "        end = (i + 1) * partsize\n",
    "        if i > 0:\n",
    "            begin -= overlap_ms\n",
    "        part = sound[begin:end]\n",
    "        print(f\"Writing {path(i)}...\")\n",
    "        part.export(path(i), format=\"mp3\")\n",
    "\n",
    "    if all(os.path.getsize(path(i)) < max_size for i in range(min_parts)):\n",
    "        print(\"Done!\")\n",
    "        return min_parts\n",
    "    else:\n",
    "        print(\"Not small enough. Trying again...\")\n",
    "        return split_ep(n, min_parts + 1, max_size, overlap_ms)"
   ]
  },
  {
   "cell_type": "code",
   "execution_count": 16,
   "id": "223dd8aa-6068-4354-b496-c124b82c6e9b",
   "metadata": {},
   "outputs": [],
   "source": [
    "client = OpenAI()\n",
    "\n",
    "def transcribe_parts(n, num_parts):\n",
    "    print(f\"Transcribing episode {n} in {num_parts} parts.\")\n",
    "    parts = []\n",
    "    path = lambda i: f\"{DIR}/shwep_ep{n}_part{i}.mp3\"\n",
    "    for p in range(num_parts):\n",
    "        audio_file= open(path(p), \"rb\")\n",
    "        print(f\"Transcribing {path(p)}...\")\n",
    "        parts.append(client.audio.transcriptions.create(\n",
    "          model=\"whisper-1\", \n",
    "          file=audio_file\n",
    "        ).text)\n",
    "    print(\"Done!\")\n",
    "    return parts\n",
    "\n",
    "def write_transcript(transcript, n, suff=''):\n",
    "    pretty = join_strings(transcript.split(\". \"), 80, \". \")\n",
    "    path = f\"{DIR}/shwep_ep{n}{suff}.txt\"\n",
    "    with open(path, 'w') as f:\n",
    "        f.write(pretty)\n",
    "    print(f\"Wrote transcript to {path}.\")\n",
    "\n",
    "def stitch_parts(sep, parts, n):\n",
    "    if len(parts) > 2:\n",
    "        raise NotImplementedError\n",
    "    \n",
    "    transcript = sep.join(parts[0].split(sep)[:-1]) + sep + sep.join(parts[1].split(sep)[1:])\n",
    "\n",
    "    write_transcript(transcript, n, '')\n",
    "\n",
    "def make_html(ns, suff=''):\n",
    "    body = ''\n",
    "    for n in ns:\n",
    "        with open(f\"{DIR}/shwep_ep{n}{suff}.txt\", 'r') as f:\n",
    "            transcript = '<br />'.join(f.readlines())\n",
    "            body += f\"<h2>Episode {n}</h2>\\n{transcript}\"\n",
    "    doc = f\"\"\"<html><head>\n",
    "  <style>\n",
    "    h2 {{\n",
    "      font-weight: normal;\n",
    "    }}\n",
    "  </style>\n",
    "</head>\n",
    "<body>\n",
    "{body}\n",
    "</body></html>\"\"\"\n",
    "    path = f\"{DIR}/shwep_eps{ns[0]}-{ns[-1]}.html\"\n",
    "    with open(path, 'w') as f:\n",
    "        f.write(doc)\n",
    "    print(f\"Wrote HTML to {path}.\")\n",
    "    "
   ]
  },
  {
   "cell_type": "markdown",
   "id": "5f448aa6-2a91-4cab-865c-f014441216a8",
   "metadata": {},
   "source": [
    "# Change ns and run these cells to make a transcript:"
   ]
  },
  {
   "cell_type": "code",
   "execution_count": 17,
   "id": "a7a30c02-8b6d-4ed6-9234-80abb19c5f03",
   "metadata": {},
   "outputs": [
    {
     "name": "stdout",
     "output_type": "stream",
     "text": [
      "Splitting ./shwep_ep65.mp3 into 1 parts...\n",
      "Writing ./shwep_ep65_part0.mp3...\n",
      "Not small enough. Trying again...\n",
      "Splitting ./shwep_ep65.mp3 into 2 parts...\n",
      "Writing ./shwep_ep65_part0.mp3...\n",
      "Writing ./shwep_ep65_part1.mp3...\n",
      "Done!\n",
      "Transcribing episode 65 in 2 parts.\n",
      "Transcribing ./shwep_ep65_part0.mp3...\n",
      "Transcribing ./shwep_ep65_part1.mp3...\n",
      "Done!\n",
      "Wrote transcript to ./shwep_ep65.txt.\n",
      "Splitting ./shwep_ep66.mp3 into 1 parts...\n",
      "Writing ./shwep_ep66_part0.mp3...\n",
      "Not small enough. Trying again...\n",
      "Splitting ./shwep_ep66.mp3 into 2 parts...\n",
      "Writing ./shwep_ep66_part0.mp3...\n",
      "Writing ./shwep_ep66_part1.mp3...\n",
      "Done!\n",
      "Transcribing episode 66 in 2 parts.\n",
      "Transcribing ./shwep_ep66_part0.mp3...\n",
      "Transcribing ./shwep_ep66_part1.mp3...\n",
      "Done!\n",
      "Wrote transcript to ./shwep_ep66.txt.\n",
      "Splitting ./shwep_ep67.mp3 into 1 parts...\n",
      "Writing ./shwep_ep67_part0.mp3...\n",
      "Not small enough. Trying again...\n",
      "Splitting ./shwep_ep67.mp3 into 2 parts...\n",
      "Writing ./shwep_ep67_part0.mp3...\n",
      "Writing ./shwep_ep67_part1.mp3...\n",
      "Done!\n",
      "Transcribing episode 67 in 2 parts.\n",
      "Transcribing ./shwep_ep67_part0.mp3...\n",
      "Transcribing ./shwep_ep67_part1.mp3...\n",
      "Done!\n",
      "Wrote transcript to ./shwep_ep67.txt.\n",
      "Wrote HTML to ./shwep_eps65-67.html.\n"
     ]
    }
   ],
   "source": [
    "# Episode numbers\n",
    "ns = [65, 66, 67]\n",
    "\n",
    "for n in ns:\n",
    "    # chop mp3 into <25MB pieces (may take a couple minutes)\n",
    "    num_parts = split_ep(n)\n",
    "    # send halves to OpenAI API (may take a couple minutes)\n",
    "    parts = transcribe_parts(n, num_parts)\n",
    "    # fuse transcript (without stitching)\n",
    "    write_transcript(\" || \".join(parts), n)\n",
    "# make HTML file for GDocs copypasta\n",
    "make_html(ns)"
   ]
  },
  {
   "cell_type": "code",
   "execution_count": 13,
   "id": "a4a66625-9c4d-4d9d-a9da-f02604a448b9",
   "metadata": {},
   "outputs": [
    {
     "name": "stdout",
     "output_type": "stream",
     "text": [
      "Splitting ./shwep_ep55.mp3 into 3 parts...\n",
      "Writing ./shwep_ep55_part0.mp3...\n",
      "Writing ./shwep_ep55_part1.mp3...\n",
      "Writing ./shwep_ep55_part2.mp3...\n",
      "Done!\n",
      "Transcribing episode 55 in 3 parts.\n",
      "Transcribing ./shwep_ep55_part0.mp3...\n",
      "Transcribing ./shwep_ep55_part1.mp3...\n",
      "Transcribing ./shwep_ep55_part2.mp3...\n",
      "Done!\n",
      "Wrote transcript to ./shwep_ep55.txt.\n"
     ]
    }
   ],
   "source": [
    "n = 55\n",
    "\n",
    "num_parts = split_ep(n, min_parts=3)\n",
    "# send halves to OpenAI API (may take a couple minutes)\n",
    "parts = transcribe_parts(n, num_parts)\n",
    "# fuse transcript (without stitching)\n",
    "write_transcript(\" || \".join(parts), n)"
   ]
  },
  {
   "cell_type": "code",
   "execution_count": null,
   "id": "f6e9ed8e-83c3-4581-b2e3-9c32215947fd",
   "metadata": {},
   "outputs": [],
   "source": []
  }
 ],
 "metadata": {
  "kernelspec": {
   "display_name": "Python 3 (ipykernel)",
   "language": "python",
   "name": "python3"
  },
  "language_info": {
   "codemirror_mode": {
    "name": "ipython",
    "version": 3
   },
   "file_extension": ".py",
   "mimetype": "text/x-python",
   "name": "python",
   "nbconvert_exporter": "python",
   "pygments_lexer": "ipython3",
   "version": "3.12.4"
  }
 },
 "nbformat": 4,
 "nbformat_minor": 5
}
