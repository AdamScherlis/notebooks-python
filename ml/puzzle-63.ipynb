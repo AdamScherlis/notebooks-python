{
 "cells": [
  {
   "cell_type": "code",
   "execution_count": null,
   "metadata": {},
   "outputs": [],
   "source": [
    "# 2022-12\n",
    "# for a blog post"
   ]
  },
  {
   "cell_type": "code",
   "execution_count": 1,
   "metadata": {},
   "outputs": [],
   "source": [
    "import os\n",
    "import openai\n",
    "\n",
    "openai.api_key = API_KEY"
   ]
  },
  {
   "cell_type": "code",
   "execution_count": 88,
   "metadata": {},
   "outputs": [],
   "source": [
    "def tally(l):\n",
    "    return {v: len([x for x in l if x==v]) for v in {*l}}"
   ]
  },
  {
   "cell_type": "code",
   "execution_count": 115,
   "metadata": {},
   "outputs": [],
   "source": [
    "prompt = \"Q: Solve the puzzle: 63 = x = 65536\\n\\nA: x =\"\n",
    "response = openai.Completion.create(\n",
    "    engine=\"text-davinci-003\",\n",
    "    prompt=prompt,\n",
    "    max_tokens=10,\n",
    "    n=100,\n",
    ")"
   ]
  },
  {
   "cell_type": "code",
   "execution_count": 109,
   "metadata": {},
   "outputs": [
    {
     "data": {
      "text/plain": [
       "('Q: Solve the puzzle: 63 = x = 65536\\n\\nA: x =', 9)"
      ]
     },
     "execution_count": 109,
     "metadata": {},
     "output_type": "execute_result"
    }
   ],
   "source": [
    "prompt, tally([r['text'] for r in response.choices])[' 216']"
   ]
  },
  {
   "cell_type": "code",
   "execution_count": 107,
   "metadata": {},
   "outputs": [
    {
     "data": {
      "text/plain": [
       "('Q: Solve the puzzle: 63 = x = 65536\\n\\nA: x =', 10)"
      ]
     },
     "execution_count": 107,
     "metadata": {},
     "output_type": "execute_result"
    }
   ],
   "source": [
    "prompt, tally([r['text'] for r in response.choices])[' 216']"
   ]
  },
  {
   "cell_type": "code",
   "execution_count": 103,
   "metadata": {},
   "outputs": [
    {
     "data": {
      "text/plain": [
       "('Q: Solve the puzzle: 63 = x = 65536\\n\\nA: x =', 9)"
      ]
     },
     "execution_count": 103,
     "metadata": {},
     "output_type": "execute_result"
    }
   ],
   "source": [
    "prompt, tally([r['text'] for r in response.choices])[' 216']"
   ]
  },
  {
   "cell_type": "code",
   "execution_count": 105,
   "metadata": {},
   "outputs": [
    {
     "data": {
      "text/plain": [
       "('Q: Solve the puzzle: 63 = x = 65536\\n\\nA: x =', 12)"
      ]
     },
     "execution_count": 105,
     "metadata": {},
     "output_type": "execute_result"
    }
   ],
   "source": [
    "prompt, tally([r['text'] for r in response.choices])[' 216']"
   ]
  },
  {
   "cell_type": "code",
   "execution_count": 91,
   "metadata": {},
   "outputs": [
    {
     "data": {
      "text/plain": [
       "('Q: Solve the puzzle: 63 = x = 65536\\n\\nA: x =', 11)"
      ]
     },
     "execution_count": 91,
     "metadata": {},
     "output_type": "execute_result"
    }
   ],
   "source": [
    "prompt, tally([r['text'] for r in response.choices])[' 216']"
   ]
  },
  {
   "cell_type": "code",
   "execution_count": 93,
   "metadata": {},
   "outputs": [
    {
     "data": {
      "text/plain": [
       "('Q: Solve the puzzle: 63 = x = 65536\\n\\nA: x =', 17)"
      ]
     },
     "execution_count": 93,
     "metadata": {},
     "output_type": "execute_result"
    }
   ],
   "source": [
    "prompt, tally([r['text'] for r in response.choices])[' 216']"
   ]
  },
  {
   "cell_type": "code",
   "execution_count": 95,
   "metadata": {},
   "outputs": [
    {
     "data": {
      "text/plain": [
       "('Q: Solve the puzzle: 63 = x = 65536\\n\\nA: x =', 8)"
      ]
     },
     "execution_count": 95,
     "metadata": {},
     "output_type": "execute_result"
    }
   ],
   "source": [
    "prompt, tally([r['text'] for r in response.choices])[' 216']"
   ]
  },
  {
   "cell_type": "code",
   "execution_count": 97,
   "metadata": {},
   "outputs": [
    {
     "data": {
      "text/plain": [
       "('Q: Solve the puzzle: 63 = x = 65536\\n\\nA: x =', 12)"
      ]
     },
     "execution_count": 97,
     "metadata": {},
     "output_type": "execute_result"
    }
   ],
   "source": [
    "prompt, tally([r['text'] for r in response.choices])[' 216']"
   ]
  },
  {
   "cell_type": "code",
   "execution_count": 99,
   "metadata": {},
   "outputs": [
    {
     "data": {
      "text/plain": [
       "('Q: Solve the puzzle: 63 = x = 65536\\n\\nA: x =', 14)"
      ]
     },
     "execution_count": 99,
     "metadata": {},
     "output_type": "execute_result"
    }
   ],
   "source": [
    "prompt, tally([r['text'] for r in response.choices])[' 216']"
   ]
  },
  {
   "cell_type": "code",
   "execution_count": 101,
   "metadata": {},
   "outputs": [
    {
     "data": {
      "text/plain": [
       "('Q: Solve the puzzle: 63 = x = 65536\\n\\nA: x =', 7)"
      ]
     },
     "execution_count": 101,
     "metadata": {},
     "output_type": "execute_result"
    }
   ],
   "source": [
    "prompt, tally([r['text'] for r in response.choices])[' 216']"
   ]
  },
  {
   "cell_type": "code",
   "execution_count": 110,
   "metadata": {},
   "outputs": [
    {
     "data": {
      "text/plain": [
       "109"
      ]
     },
     "execution_count": 110,
     "metadata": {},
     "output_type": "execute_result"
    }
   ],
   "source": [
    "9+10+9+12+11+17+8+12+14+7"
   ]
  },
  {
   "cell_type": "code",
   "execution_count": null,
   "metadata": {},
   "outputs": [],
   "source": []
  },
  {
   "cell_type": "code",
   "execution_count": 116,
   "metadata": {},
   "outputs": [
    {
     "data": {
      "text/plain": [
       "('Q: Solve the puzzle: 63 = x = 65536\\n\\nA: x =',\n",
       " {' 4374': 1,\n",
       "  ' 64.': 1,\n",
       "  ' 59049': 2,\n",
       "  ' 1111': 1,\n",
       "  ' 2^16 (2 to the power of 16': 1,\n",
       "  ' 256': 1,\n",
       "  ' 2^6 = 64': 1,\n",
       "  ' 6561': 1,\n",
       "  ' 6554': 1,\n",
       "  ' 4096': 12,\n",
       "  ' 1,048,576': 1,\n",
       "  ' 1024': 1,\n",
       "  ' 2,097,152': 1,\n",
       "  ' 2^16 = 65536': 18,\n",
       "  ' 32768': 3,\n",
       "  ' 43046721': 1,\n",
       "  ' 308.25': 1,\n",
       "  ' (63 * 65536)/63 = 65536': 1,\n",
       "  ' 2^16': 8,\n",
       "  ' 2^16 or 65536': 1,\n",
       "  ' 2^36': 1,\n",
       "  ' 65536': 1,\n",
       "  ' 128': 1,\n",
       "  ' 6148914691236517205': 1,\n",
       "  ' 10,485.76': 1,\n",
       "  ' 216': 11,\n",
       "  ' 8192': 7,\n",
       "  ' 134217728': 1,\n",
       "  ' 131072': 1,\n",
       "  ' 4,096': 1,\n",
       "  ' 4096.\\n\\n63 = 6^4 =': 1,\n",
       "  ' 9261': 2,\n",
       "  ' 64': 3,\n",
       "  ' 16384': 2,\n",
       "  ' 729': 1,\n",
       "  ' 63, either by direct calculation or by recognizing that': 1,\n",
       "  ' 262144': 3,\n",
       "  ' 1048576': 2,\n",
       "  ' 512': 1})"
      ]
     },
     "execution_count": 116,
     "metadata": {},
     "output_type": "execute_result"
    }
   ],
   "source": [
    "prompt, tally([r['text'] for r in response.choices])"
   ]
  },
  {
   "cell_type": "code",
   "execution_count": 39,
   "metadata": {},
   "outputs": [
    {
     "data": {
      "text/plain": [
       "{' 63.': 2,\n",
       " ' 63,648': 1,\n",
       " ' 2^16 = 65536': 2,\n",
       " ' 531441': 1,\n",
       " ' 65,536': 3,\n",
       " ' 4,294,967,296': 2,\n",
       " ' 65535': 2,\n",
       " ' 216': 2,\n",
       " ' 63,536': 1,\n",
       " ' 63 x 63 = 3969 ': 1,\n",
       " ' 6148914691236517205.': 1,\n",
       " ' 262144': 1,\n",
       " ' 63,232': 1,\n",
       " ' 65536': 78,\n",
       " ' 4096': 1,\n",
       " ' 63,65536': 1}"
      ]
     },
     "execution_count": 39,
     "metadata": {},
     "output_type": "execute_result"
    }
   ],
   "source": [
    "tally([r['text'] for r in response.choices])"
   ]
  },
  {
   "cell_type": "code",
   "execution_count": 42,
   "metadata": {},
   "outputs": [
    {
     "data": {
      "text/plain": [
       "{' 63.': 8,\n",
       " ' 2^16 = 65536': 2,\n",
       " ' 63 x 63 = 3969': 1,\n",
       " ' 64': 1,\n",
       " ' 65,536': 4,\n",
       " ' 65535': 3,\n",
       " ' 63^2 = 3969': 1,\n",
       " ' 2^16, or 65536.': 1,\n",
       " ' 218.': 1,\n",
       " ' 6,553,600': 1,\n",
       " ' 2^16 = 65536.': 2,\n",
       " ' 65536.': 1,\n",
       " ' 262144': 2,\n",
       " ' 65,534': 1,\n",
       " ' 65536': 69,\n",
       " ' 63,024': 1,\n",
       " ' 62500': 1}"
      ]
     },
     "execution_count": 42,
     "metadata": {},
     "output_type": "execute_result"
    }
   ],
   "source": [
    "tally([r['text'] for r in response.choices])"
   ]
  },
  {
   "cell_type": "code",
   "execution_count": 45,
   "metadata": {},
   "outputs": [
    {
     "data": {
      "text/plain": [
       "{' 4294967296': 1,\n",
       " ' 64': 3,\n",
       " ' 63.': 2,\n",
       " ' 63,648': 1,\n",
       " ' 65,536': 7,\n",
       " ' 2^16 = 65536': 1,\n",
       " ' 61440': 1,\n",
       " ' 63,65536.': 1,\n",
       " ' 216': 2,\n",
       " ' 63^2 = 3969': 1,\n",
       " ' 6561': 2,\n",
       " ' 65536.': 1,\n",
       " ' 262144': 1,\n",
       " ' 65536': 72,\n",
       " ' 625': 1,\n",
       " ' 65,5353': 1,\n",
       " ' 9261': 1,\n",
       " ' 65,539': 1}"
      ]
     },
     "execution_count": 45,
     "metadata": {},
     "output_type": "execute_result"
    }
   ],
   "source": [
    "tally([r['text'] for r in response.choices])"
   ]
  },
  {
   "cell_type": "code",
   "execution_count": 47,
   "metadata": {},
   "outputs": [
    {
     "data": {
      "text/plain": [
       "{' 65,536': 6,\n",
       " ' 63579.': 1,\n",
       " ' 63,536': 1,\n",
       " ' 63': 1,\n",
       " ' 63,65536': 1,\n",
       " ' 62500': 1,\n",
       " ' 63.': 6,\n",
       " ' 2^16 = 65536': 6,\n",
       " ' 1.024 (128)': 1,\n",
       " ' 2^16 = 65536.': 1,\n",
       " ' 65536': 61,\n",
       " ' 63 * 63 * 63 * 63 * 63 *': 1,\n",
       " ' 216': 2,\n",
       " ' 63,855,553.': 1,\n",
       " ' 65,539': 1,\n",
       " ' 64': 1,\n",
       " ' 63 x 63 = 3969': 1,\n",
       " ' 65535': 3,\n",
       " ' 262144': 2,\n",
       " ' 63 or x = 65536': 1,\n",
       " ' 63 x 65536 = 4064256': 1}"
      ]
     },
     "execution_count": 47,
     "metadata": {},
     "output_type": "execute_result"
    }
   ],
   "source": [
    "tally([r['text'] for r in response.choices])"
   ]
  },
  {
   "cell_type": "code",
   "execution_count": 50,
   "metadata": {},
   "outputs": [
    {
     "data": {
      "text/plain": [
       "{' 63,648': 1,\n",
       " ' 65,536': 4,\n",
       " ' 64.': 2,\n",
       " ' 2^16, or 65536.': 2,\n",
       " ' 63,536': 2,\n",
       " ' 6561': 1,\n",
       " ' 63': 2,\n",
       " ' 65536.': 1,\n",
       " ' 6148914691236517205.': 1,\n",
       " ' 63, or 2^6.': 1,\n",
       " ' 63,65536': 1,\n",
       " ' 63.': 3,\n",
       " ' 225': 1,\n",
       " ' 2^16 = 65536': 1,\n",
       " ' 65536': 68,\n",
       " ' 2^16 = 65,536': 1,\n",
       " ' 216': 2,\n",
       " ' 63^4 = 15,717,8': 1,\n",
       " ' 63, because 63 = 63 and 63 = 655': 1,\n",
       " ' 4,294,967,296': 1,\n",
       " ' 262144': 3}"
      ]
     },
     "execution_count": 50,
     "metadata": {},
     "output_type": "execute_result"
    }
   ],
   "source": [
    "tally([r['text'] for r in response.choices])"
   ]
  },
  {
   "cell_type": "code",
   "execution_count": 56,
   "metadata": {},
   "outputs": [
    {
     "data": {
      "text/plain": [
       "{' 65536/63 ≈ 1039.68': 1,\n",
       " ' 65,536': 3,\n",
       " ' 68921': 1,\n",
       " ' 59049': 1,\n",
       " ' 256': 3,\n",
       " ' 6561': 7,\n",
       " ' 229.67': 1,\n",
       " ' 8. (6^3 = 216, 2': 1,\n",
       " ' 4096': 10,\n",
       " ' 39304': 1,\n",
       " ' 1024': 1,\n",
       " ' 36,864': 1,\n",
       " ' 32768': 7,\n",
       " ' 2^16 = 65536': 12,\n",
       " ' 2^16': 9,\n",
       " ' 65536': 2,\n",
       " ' 16,777,216': 1,\n",
       " ' 216': 18,\n",
       " ' 8192': 2,\n",
       " ' 2⁶': 1,\n",
       " ' 131072': 1,\n",
       " ' 131,072': 1,\n",
       " ' 107375. \\n\\n63 * 2': 1,\n",
       " ' 63 x 63 = 3969': 1,\n",
       " ' 64': 2,\n",
       " ' 16384': 1,\n",
       " ' 2097152': 1,\n",
       " ' 729': 1,\n",
       " ' 65536 - 63 = 65473': 1,\n",
       " ' 2^16, or 65536': 1,\n",
       " ' 262144': 3,\n",
       " ' 20736': 1,\n",
       " ' 2^16.': 2}"
      ]
     },
     "execution_count": 56,
     "metadata": {},
     "output_type": "execute_result"
    }
   ],
   "source": [
    "tally([r['text'] for r in response.choices])"
   ]
  },
  {
   "cell_type": "code",
   "execution_count": 63,
   "metadata": {},
   "outputs": [
    {
     "data": {
      "text/plain": [
       "{' 12288': 1,\n",
       " ' 2^16 (2 to the power of 16': 1,\n",
       " ' 256': 5,\n",
       " ' 6561': 1,\n",
       " ' 2,401': 1,\n",
       " ' 4096': 21,\n",
       " ' 2⁶⁰': 1,\n",
       " ' 1,048,576': 1,\n",
       " ' 1024': 1,\n",
       " ' 2,097,152': 1,\n",
       " ' 2^16 = 65536': 13,\n",
       " ' 32768': 11,\n",
       " ' 2^16': 4,\n",
       " ' 32,768': 2,\n",
       " '\\n\\n65536': 1,\n",
       " ' 2^16 or 65536': 1,\n",
       " ' 65536': 3,\n",
       " ' 2^16  or  x = 65536': 1,\n",
       " ' 2048': 2,\n",
       " ' 6148914691236517205': 1,\n",
       " ' 216': 3,\n",
       " ' 8192': 5,\n",
       " ' 64153': 1,\n",
       " ' 2,048': 1,\n",
       " ' 131072': 2,\n",
       " ' 16384': 1,\n",
       " ' 2^16 (65536)': 1,\n",
       " ' 2^16, or 65,536': 1,\n",
       " ' 2^12 or 4096': 1,\n",
       " ' 2^16, or 65536': 1,\n",
       " ' 262144': 6,\n",
       " ' 1048576': 1,\n",
       " ' 2187': 3}"
      ]
     },
     "execution_count": 63,
     "metadata": {},
     "output_type": "execute_result"
    }
   ],
   "source": [
    "tally([r['text'] for r in response.choices])"
   ]
  },
  {
   "cell_type": "code",
   "execution_count": 78,
   "metadata": {},
   "outputs": [
    {
     "data": {
      "text/plain": [
       "{' 16,384': 1,\n",
       " ' 65,536': 3,\n",
       " ' 6,553,599': 1,\n",
       " ' 59049': 2,\n",
       " ' 6561': 9,\n",
       " ' 256': 3,\n",
       " ' 6554': 1,\n",
       " ' 4096': 10,\n",
       " ' 264': 1,\n",
       " ' 2^16; 63 = 2^6': 1,\n",
       " ' 1024': 3,\n",
       " ' 2^16 = 65536': 18,\n",
       " ' 3^2 x 2^16 = 6144': 1,\n",
       " ' 32768': 1,\n",
       " ' 2^16': 4,\n",
       " ' 32,768': 2,\n",
       " ' 2^16 or 65536': 1,\n",
       " ' 65536': 5,\n",
       " ' 10,240': 1,\n",
       " ' 21': 1,\n",
       " ' 7936': 1,\n",
       " ' 216': 7,\n",
       " ' 7,778.': 1,\n",
       " ' 8192': 6,\n",
       " ' 2^16 or 2 raised to the power of': 1,\n",
       " ' 4,294,967,295': 3,\n",
       " ' 63 and 65536': 1,\n",
       " ' 64': 3,\n",
       " ' 16384': 3,\n",
       " ' 2 ^ 16 = 65,536': 1,\n",
       " ' 262144': 3,\n",
       " ' 64. This can be solved by simply dividing both': 1}"
      ]
     },
     "execution_count": 78,
     "metadata": {},
     "output_type": "execute_result"
    }
   ],
   "source": [
    "tally([r['text'] for r in response.choices])"
   ]
  },
  {
   "cell_type": "code",
   "execution_count": 70,
   "metadata": {},
   "outputs": [
    {
     "data": {
      "text/plain": [
       "6561"
      ]
     },
     "execution_count": 70,
     "metadata": {},
     "output_type": "execute_result"
    }
   ],
   "source": [
    "3**8"
   ]
  },
  {
   "cell_type": "code",
   "execution_count": 48,
   "metadata": {},
   "outputs": [
    {
     "data": {
      "text/plain": [
       "0.015"
      ]
     },
     "execution_count": 48,
     "metadata": {},
     "output_type": "execute_result"
    }
   ],
   "source": [
    "6/400"
   ]
  },
  {
   "cell_type": "code",
   "execution_count": 20,
   "metadata": {},
   "outputs": [
    {
     "data": {
      "text/plain": [
       "65538"
      ]
     },
     "execution_count": 20,
     "metadata": {},
     "output_type": "execute_result"
    }
   ],
   "source": [
    "65412+63+63"
   ]
  },
  {
   "cell_type": "code",
   "execution_count": 76,
   "metadata": {},
   "outputs": [
    {
     "data": {
      "text/plain": [
       "' c    \\n\\na - graph theory\\nb - probability\\nc - linear algebra'"
      ]
     },
     "execution_count": 76,
     "metadata": {},
     "output_type": "execute_result"
    }
   ],
   "source": [
    "response.choices[0]['text']"
   ]
  },
  {
   "cell_type": "code",
   "execution_count": null,
   "metadata": {},
   "outputs": [],
   "source": [
    "v"
   ]
  },
  {
   "cell_type": "code",
   "execution_count": 143,
   "metadata": {},
   "outputs": [],
   "source": [
    "prompt = \"Q: Solve the puzzle: 63 = x = 65536\\n\\nA: x =\"\n",
    "response = openai.Completion.create(\n",
    "    engine=\"text-davinci-002\",\n",
    "    prompt=prompt,\n",
    "    max_tokens=10,\n",
    "    n=100,\n",
    ")"
   ]
  },
  {
   "cell_type": "code",
   "execution_count": 140,
   "metadata": {},
   "outputs": [
    {
     "data": {
      "text/plain": [
       "('Q: Solve the puzzle: 63 = x = 65536\\n\\nA: x =',\n",
       " {(-74, ' 4096'),\n",
       "  (-6, ' 216'),\n",
       "  (-3, ' 2187'),\n",
       "  (-3, ' 40960'),\n",
       "  (-3, ' 61440'),\n",
       "  (-1, ' 1024'),\n",
       "  (-1, ' 1048576'),\n",
       "  (-1, ' 1099511627776'),\n",
       "  (-1, ' 2048'),\n",
       "  (-1, ' 262144'),\n",
       "  (-1, ' 40,960'),\n",
       "  (-1, ' 46656'),\n",
       "  (-1, ' 512'),\n",
       "  (-1, ' 64827'),\n",
       "  (-1, ' 65,536'),\n",
       "  (-1, ' 65536')})"
      ]
     },
     "execution_count": 140,
     "metadata": {},
     "output_type": "execute_result"
    }
   ],
   "source": [
    "txts = [(r['text']) for r in response.choices]\n",
    "prompt, {*sorted([(-len([s for s in txts if s==t]), t) for t in txts])}"
   ]
  },
  {
   "cell_type": "code",
   "execution_count": 142,
   "metadata": {},
   "outputs": [
    {
     "data": {
      "text/plain": [
       "('Q: Solve the puzzle: 63 = x = 65536\\n\\nA: x =',\n",
       " {(-80, ' 4096'),\n",
       "  (-3, ' 216'),\n",
       "  (-3, ' 262144'),\n",
       "  (-3, ' 40960'),\n",
       "  (-2, ' 1048576'),\n",
       "  (-1, ' 2'),\n",
       "  (-1, ' 21'),\n",
       "  (-1, ' 2147450880'),\n",
       "  (-1, ' 2187'),\n",
       "  (-1, ' 3125'),\n",
       "  (-1, ' 4096\\n\\n63 = 4096\\n\\n65536'),\n",
       "  (-1, ' 6\\n\\n63 = 64 - 1\\n\\n'),\n",
       "  (-1, ' 63 is the smallest number that satisfies the equation.'),\n",
       "  (-1, ' 7\\n\\n63 = 7 * 9')})"
      ]
     },
     "execution_count": 142,
     "metadata": {},
     "output_type": "execute_result"
    }
   ],
   "source": [
    "txts = [(r['text']) for r in response.choices]\n",
    "prompt, {*sorted([(-len([s for s in txts if s==t]), t) for t in txts])}"
   ]
  },
  {
   "cell_type": "code",
   "execution_count": 144,
   "metadata": {},
   "outputs": [
    {
     "data": {
      "text/plain": [
       "('Q: Solve the puzzle: 63 = x = 65536\\n\\nA: x =',\n",
       " {(-61, ' 4096'),\n",
       "  (-11, ' 216'),\n",
       "  (-6, ' 1048576'),\n",
       "  (-6, ' 40960'),\n",
       "  (-3, ' 262144'),\n",
       "  (-2, ' 64'),\n",
       "  (-1, ' (63 + 65536) / 2'),\n",
       "  (-1, ' 10242'),\n",
       "  (-1, ' 131072'),\n",
       "  (-1, ' 2048'),\n",
       "  (-1, ' 21845'),\n",
       "  (-1, ' 2187'),\n",
       "  (-1, ' 40,000'),\n",
       "  (-1, ' 62'),\n",
       "  (-1, ' 65536'),\n",
       "  (-1, ' 65600'),\n",
       "  (-1, ' 67584')})"
      ]
     },
     "execution_count": 144,
     "metadata": {},
     "output_type": "execute_result"
    }
   ],
   "source": [
    "txts = [(r['text']) for r in response.choices]\n",
    "prompt, {*sorted([(-len([s for s in txts if s==t]), t) for t in txts])}"
   ]
  },
  {
   "cell_type": "code",
   "execution_count": null,
   "metadata": {},
   "outputs": [],
   "source": []
  },
  {
   "cell_type": "code",
   "execution_count": 158,
   "metadata": {},
   "outputs": [],
   "source": [
    "prompt = \"Q: Solve the puzzle: 63 = x = 65536\\n\\nA: x =\"\n",
    "response = openai.Completion.create(\n",
    "    engine=\"text-davinci-003\",\n",
    "    prompt=prompt,\n",
    "    max_tokens=10,\n",
    "    n=100,\n",
    ")"
   ]
  },
  {
   "cell_type": "code",
   "execution_count": 159,
   "metadata": {},
   "outputs": [
    {
     "data": {
      "text/plain": [
       "('Q: Solve the puzzle: 63 = x = 65536\\n\\nA: x =',\n",
       " [(-20, ' 2^16 = 65536'),\n",
       "  (-16, ' 216'),\n",
       "  (-7, ' 4096'),\n",
       "  (-6, ' 2^16'),\n",
       "  (-6, ' 65536')])"
      ]
     },
     "execution_count": 159,
     "metadata": {},
     "output_type": "execute_result"
    }
   ],
   "source": [
    "txts = [(r['text']) for r in response.choices]\n",
    "prompt, sorted([(-len([s for s in txts if s==t]), t) for t in {*txts}])[:5]"
   ]
  },
  {
   "cell_type": "code",
   "execution_count": 149,
   "metadata": {},
   "outputs": [
    {
     "data": {
      "text/plain": [
       "('Q: Solve the puzzle: 63 = x = 65536\\n\\nA: x =',\n",
       " {(-19, ' 2^16 = 65536'),\n",
       "  (-10, ' 216'),\n",
       "  (-10, ' 32768'),\n",
       "  (-8, ' 2^16'),\n",
       "  (-6, ' 6561'),\n",
       "  (-5, ' 4096'),\n",
       "  (-5, ' 8192'),\n",
       "  (-4, ' 16384'),\n",
       "  (-3, ' 256'),\n",
       "  (-3, ' 65536'),\n",
       "  (-2, ' 262144'),\n",
       "  (-2, ' 65,536'),\n",
       "  (-1, ' 10,000'),\n",
       "  (-1, ' 1024'),\n",
       "  (-1, ' 10^6 (1,000,000)'),\n",
       "  (-1, ' 131071'),\n",
       "  (-1, ' 16.'),\n",
       "  (-1, ' 2*2*2*2*2*'),\n",
       "  (-1, ' 2048'),\n",
       "  (-1, ' 225'),\n",
       "  (-1, ' 2^16 (2 to the power of 16'),\n",
       "  (-1, ' 2^16 or 65536'),\n",
       "  (-1, ' 2^16, or x = 65536.'),\n",
       "  (-1, ' 2^16, so 63 = 2^16'),\n",
       "  (-1, ' 3125'),\n",
       "  (-1, ' 4,294,967,296'),\n",
       "  (-1, ' 56,939.'),\n",
       "  (-1, ' 63^4 = 215233605'),\n",
       "  (-1, ' 64'),\n",
       "  (-1, ' 65,535'),\n",
       "  (-1, ' 65536. To solve the equation, 63 ='),\n",
       "  (-1, ' 65536/63 = 1024'),\n",
       "  (-1, ' 6554'),\n",
       "  (-1, ' 6^5'),\n",
       "  (-1, ' 9261')})"
      ]
     },
     "execution_count": 149,
     "metadata": {},
     "output_type": "execute_result"
    }
   ],
   "source": [
    "txts = [(r['text']) for r in response.choices]\n",
    "prompt, {*sorted([(-len([s for s in txts if s==t]), t) for t in txts])}"
   ]
  },
  {
   "cell_type": "code",
   "execution_count": 157,
   "metadata": {},
   "outputs": [
    {
     "data": {
      "text/plain": [
       "('Q: Solve the puzzle: 63 = x = 65536\\n\\nA: x =',\n",
       " [(-19, ' 2^16 = 65536'),\n",
       "  (-10, ' 216'),\n",
       "  (-10, ' 32768'),\n",
       "  (-8, ' 2^16'),\n",
       "  (-6, ' 6561')])"
      ]
     },
     "execution_count": 157,
     "metadata": {},
     "output_type": "execute_result"
    }
   ],
   "source": [
    "txts = [(r['text']) for r in response.choices]\n",
    "prompt, sorted([(-len([s for s in txts if s==t]), t) for t in {*txts}])[:5]"
   ]
  },
  {
   "cell_type": "code",
   "execution_count": null,
   "metadata": {},
   "outputs": [],
   "source": []
  },
  {
   "cell_type": "code",
   "execution_count": 244,
   "metadata": {},
   "outputs": [],
   "source": [
    "prompt = \"Q: Solve the puzzle: 62 = x = 65536\\n\\nA: x =\"\n",
    "response = openai.Completion.create(\n",
    "    engine=\"text-davinci-003\",\n",
    "    prompt=prompt,\n",
    "    max_tokens=10,\n",
    "    n=100,\n",
    ")"
   ]
  },
  {
   "cell_type": "code",
   "execution_count": 245,
   "metadata": {},
   "outputs": [
    {
     "data": {
      "text/plain": [
       "('Q: Solve the puzzle: 62 = x = 65536\\n\\nA: x =',\n",
       " [(-41, ' 2^16 = 65536'),\n",
       "  (-11, ' 4096'),\n",
       "  (-9, ' 216'),\n",
       "  (-4, ' 2^16'),\n",
       "  (-3, ' 4,294,967,296'),\n",
       "  (-2, ' 1024'),\n",
       "  (-2, ' 1048576'),\n",
       "  (-2, ' 21845'),\n",
       "  (-2, ' 2^16 (2 to the 16th power'),\n",
       "  (-2, ' 2^16 (2 to the power of 16')])"
      ]
     },
     "execution_count": 245,
     "metadata": {},
     "output_type": "execute_result"
    }
   ],
   "source": [
    "txts = [(r['text']) for r in response.choices]\n",
    "prompt, sorted([(-len([s for s in txts if s==t]), t) for t in {*txts}])[:10]"
   ]
  },
  {
   "cell_type": "code",
   "execution_count": 212,
   "metadata": {},
   "outputs": [
    {
     "name": "stdout",
     "output_type": "stream",
     "text": [
      "200: -9.080987\n",
      "201: -11.047651\n",
      "202: -10.030705\n",
      "203: -10.561715\n",
      "204: -10.567883\n",
      "205: -10.000164\n",
      "206: -9.99153\n",
      "207: -10.608494\n",
      "208: -10.709764\n",
      "209: -9.992214\n",
      "210: -11.261563\n",
      "211: -10.4180765\n",
      "212: -9.6172085\n",
      "213: -6.7360306\n",
      "214: -8.381285\n",
      "215: -10.107288\n",
      "216: -10.203889\n",
      "217: -9.047433\n",
      "218: -9.8220625\n",
      "219: -10.577635\n",
      "220: -9.816846\n",
      "221: -10.286293\n",
      "222: -10.329954\n",
      "223: -10.257084\n",
      "224: -9.930305\n",
      "225: -10.117007\n",
      "226: -10.652281\n",
      "227: -10.569419\n",
      "228: -11.113281\n",
      "229: -10.361669\n"
     ]
    }
   ],
   "source": [
    "for n in range(200,230):\n",
    "    prompt = f\"63 = {n}\"\n",
    "    response = openai.Completion.create(\n",
    "        engine=\"text-davinci-003\",\n",
    "        prompt=prompt,\n",
    "        max_tokens=1,\n",
    "        n=1,\n",
    "        logprobs=5,\n",
    "        echo=True\n",
    "    )\n",
    "    lp = response.choices[0].logprobs\n",
    "    assert lp.tokens[2] == f\" {n}\", lp.tokens\n",
    "    print(f\"{n}: {lp.token_logprobs[2]}\")"
   ]
  },
  {
   "cell_type": "code",
   "execution_count": 215,
   "metadata": {},
   "outputs": [
    {
     "name": "stdout",
     "output_type": "stream",
     "text": [
      "200: -9.840474 \n",
      "201: -12.158462 \n",
      "202: -10.874646 \n",
      "203: -10.599335 \n",
      "204: -10.486879 \n",
      "205: -11.150577 \n",
      "206: -9.657322 \n",
      "207: -8.176289 \n",
      "208: -8.7395935 \n",
      "209: -10.887623 \n",
      "210: -9.343175 \n",
      "211: -10.478785 \n",
      "212: -8.698393 \n",
      "213: -9.561263 \n",
      "214: -8.263347 \n",
      "215: -6.581006 \n",
      "216: -0.69693774 ****\n",
      "217: -5.435625 \n",
      "218: -7.5292916 \n",
      "219: -8.477072 \n",
      "220: -8.9774475 \n",
      "221: -10.280064 \n",
      "222: -9.509886 \n",
      "223: -10.007822 \n",
      "224: -10.543671 \n",
      "225: -10.519905 \n",
      "226: -10.616833 \n",
      "227: -12.173821 \n",
      "228: -11.184569 \n",
      "229: -11.240322 \n"
     ]
    }
   ],
   "source": [
    "for n in range(200,230):\n",
    "    prompt = f\"6^3 = {n}\"\n",
    "    response = openai.Completion.create(\n",
    "        engine=\"text-davinci-003\",\n",
    "        prompt=prompt,\n",
    "        max_tokens=1,\n",
    "        n=1,\n",
    "        logprobs=5,\n",
    "        echo=True\n",
    "    )\n",
    "    lp = response.choices[0].logprobs\n",
    "    assert lp.tokens[4] == f\" {n}\", lp.tokens\n",
    "    logp = lp.token_logprobs[4]\n",
    "    print(f\"{n}: {logp} {'*'*int(np.exp(logp)*10)}\")"
   ]
  },
  {
   "cell_type": "code",
   "execution_count": 216,
   "metadata": {},
   "outputs": [
    {
     "name": "stdout",
     "output_type": "stream",
     "text": [
      "200: -9.30976 \n",
      "201: -11.075087 \n",
      "202: -10.613359 \n",
      "203: -10.00538 \n",
      "204: -11.121006 \n",
      "205: -10.982027 \n",
      "206: -10.059509 \n",
      "207: -9.4191885 \n",
      "208: -9.3004265 \n",
      "209: -11.661176 \n",
      "210: -9.89175 \n",
      "211: -10.964412 \n",
      "212: -9.430366 \n",
      "213: -9.21999 \n",
      "214: -8.016155 \n",
      "215: -6.0291066 \n",
      "216: -1.0234812 ***\n",
      "217: -6.9439034 \n",
      "218: -7.8519325 \n",
      "219: -8.049244 \n",
      "220: -8.947964 \n",
      "221: -10.567036 \n",
      "222: -10.656594 \n",
      "223: -10.489569 \n",
      "224: -10.785315 \n",
      "225: -10.266191 \n",
      "226: -10.29313 \n",
      "227: -11.526621 \n",
      "228: -10.786768 \n",
      "229: -9.947138 \n"
     ]
    }
   ],
   "source": [
    "for n in range(200,230):\n",
    "    prompt = f\"6³ = {n}\"\n",
    "    response = openai.Completion.create(\n",
    "        engine=\"text-davinci-003\",\n",
    "        prompt=prompt,\n",
    "        max_tokens=1,\n",
    "        n=1,\n",
    "        logprobs=5,\n",
    "        echo=True\n",
    "    )\n",
    "    lp = response.choices[0].logprobs\n",
    "    assert lp.tokens[4] == f\" {n}\", lp.tokens\n",
    "    logp = lp.token_logprobs[4]\n",
    "    print(f\"{n}: {logp} {'*'*int(np.exp(logp)*10)}\")"
   ]
  },
  {
   "cell_type": "code",
   "execution_count": 218,
   "metadata": {},
   "outputs": [
    {
     "name": "stdout",
     "output_type": "stream",
     "text": [
      "200: -9.5136595\n",
      "201: -9.318411\n",
      "202: -8.824432\n",
      "203: -8.847368\n",
      "204: -9.215029\n",
      "205: -9.249008\n",
      "206: -9.199979\n",
      "207: -9.000359\n",
      "208: -9.083645\n",
      "209: -9.270379\n",
      "210: -9.249243\n",
      "211: -8.996997\n",
      "212: -8.941579\n",
      "213: -9.085327\n",
      "214: -9.09752\n",
      "215: -9.030032\n",
      "216: -9.034305\n",
      "217: -8.980532\n",
      "218: -8.859825\n",
      "219: -9.189238\n",
      "220: -9.414951\n",
      "221: -9.178637\n",
      "222: -9.474077\n",
      "223: -9.512743\n",
      "224: -9.608296\n",
      "225: -9.327062\n",
      "226: -9.13847\n",
      "227: -9.017555\n",
      "228: -8.9986515\n",
      "229: -8.971594\n"
     ]
    }
   ],
   "source": [
    "for n in range(200,230):\n",
    "    prompt = f\"{n} = 63\"\n",
    "    response = openai.Completion.create(\n",
    "        engine=\"text-davinci-003\",\n",
    "        prompt=prompt,\n",
    "        max_tokens=1,\n",
    "        n=1,\n",
    "        logprobs=5,\n",
    "        echo=True\n",
    "    )\n",
    "    lp = response.choices[0].logprobs\n",
    "    assert lp.tokens[0] == f\"{n}\", lp.tokens\n",
    "    print(f\"{n}: {lp.token_logprobs[2]}\")"
   ]
  },
  {
   "cell_type": "code",
   "execution_count": 208,
   "metadata": {},
   "outputs": [
    {
     "data": {
      "text/plain": [
       "['63', ' =', ' 216', '\\n']"
      ]
     },
     "execution_count": 208,
     "metadata": {},
     "output_type": "execute_result"
    }
   ],
   "source": [
    "response.choices[0].logprobs.tokens"
   ]
  },
  {
   "cell_type": "code",
   "execution_count": 205,
   "metadata": {},
   "outputs": [
    {
     "data": {
      "text/plain": [
       "[None, -4.7930284, -10.224847, -0.8711732]"
      ]
     },
     "execution_count": 205,
     "metadata": {},
     "output_type": "execute_result"
    }
   ],
   "source": [
    "response.choices[0].logprobs.token_logprobs"
   ]
  },
  {
   "cell_type": "code",
   "execution_count": 201,
   "metadata": {},
   "outputs": [],
   "source": [
    "import numpy as np"
   ]
  },
  {
   "cell_type": "code",
   "execution_count": 203,
   "metadata": {},
   "outputs": [
    {
     "data": {
      "text/plain": [
       "-4.7914997641795845"
      ]
     },
     "execution_count": 203,
     "metadata": {},
     "output_type": "execute_result"
    }
   ],
   "source": [
    "np.log(.0083)"
   ]
  },
  {
   "cell_type": "code",
   "execution_count": 253,
   "metadata": {},
   "outputs": [
    {
     "name": "stdout",
     "output_type": "stream",
     "text": [
      "Q: Solve the puzzle: 62 = x = 65536\n",
      "\n",
      "A: x = 20000\n",
      "200: 3.308624853527431e-07 *******\n",
      "Q: Solve the puzzle: 62 = x = 65536\n",
      "\n",
      "A: x = 201.\n",
      "201: 5.61373150574727e-07 *******\n",
      "Q: Solve the puzzle: 62 = x = 65536\n",
      "\n",
      "A: x = 202.\n",
      "202: 3.2905886342866226e-05 ***********\n",
      "Q: Solve the puzzle: 62 = x = 65536\n",
      "\n",
      "A: x = 203.\n",
      "203: 8.954315169741478e-06 **********\n",
      "Q: Solve the puzzle: 62 = x = 65536\n",
      "\n",
      "A: x = 204.\n",
      "204: 0.00015039175025212558 *************\n",
      "Q: Solve the puzzle: 62 = x = 65536\n",
      "\n",
      "A: x = 205.\n",
      "205: 1.3688931108239801e-05 **********\n",
      "Q: Solve the puzzle: 62 = x = 65536\n",
      "\n",
      "A: x = 206,\n",
      "206: 0.00011311540242334025 ************\n",
      "Q: Solve the puzzle: 62 = x = 65536\n",
      "\n",
      "A: x = 20736\n",
      "207: 3.1742788255029577e-05 ***********\n",
      "Q: Solve the puzzle: 62 = x = 65536\n",
      "\n",
      "A: x = 208;\n",
      "208: 2.5710579424738447e-05 ***********\n",
      "Q: Solve the puzzle: 62 = x = 65536\n",
      "\n",
      "A: x = 20972\n",
      "209: 2.0212163122303804e-05 ***********\n",
      "Q: Solve the puzzle: 62 = x = 65536\n",
      "\n",
      "A: x = 210\n",
      "210: 0.00012738698227398 *************\n",
      "Q: Solve the puzzle: 62 = x = 65536\n",
      "\n",
      "A: x = 211.\n",
      "211: 0.00019266435043421756 *************\n",
      "Q: Solve the puzzle: 62 = x = 65536\n",
      "\n",
      "A: x = 212\n",
      "212: 0.0005451112803583574 **************\n",
      "Q: Solve the puzzle: 62 = x = 65536\n",
      "\n",
      "A: x = 213.\n",
      "213: 1.897506137820124e-05 ***********\n",
      "Q: Solve the puzzle: 62 = x = 65536\n",
      "\n",
      "A: x = 214\n",
      "214: 0.0002731782624139572 *************\n",
      "Q: Solve the puzzle: 62 = x = 65536\n",
      "\n",
      "A: x = 215.\n",
      "215: 0.00019349246244998547 *************\n",
      "Q: Solve the puzzle: 62 = x = 65536\n",
      "\n",
      "A: x = 216\n",
      "216: 0.10055257036872021 *******************\n",
      "Q: Solve the puzzle: 62 = x = 65536\n",
      "\n",
      "A: x = 217.\n",
      "217: 0.0002097892715223545 *************\n",
      "Q: Solve the puzzle: 62 = x = 65536\n",
      "\n",
      "A: x = 218 =\n",
      "218: 0.006738371503118145 *****************\n",
      "Q: Solve the puzzle: 62 = x = 65536\n",
      "\n",
      "A: x = 21978\n",
      "219: 0.00013760999459014962 *************\n"
     ]
    }
   ],
   "source": [
    "response = openai.Completion.create(\n",
    "    engine=\"text-davinci-003\",\n",
    "    prompt=prompt,\n",
    "    max_tokens=10,\n",
    "    n=100,\n",
    ")\n",
    "\n",
    "for n in range(200, 220):\n",
    "    prompt = f\"Q: Solve the puzzle: 62 = x = 65536\\n\\nA: x = {n}\"\n",
    "    response = openai.Completion.create(\n",
    "        engine=\"text-davinci-003\",\n",
    "        prompt=prompt,\n",
    "        max_tokens=1,\n",
    "        n=1,\n",
    "        logprobs=5,\n",
    "        echo=True\n",
    "    )\n",
    "    print(response.choices[0].text)\n",
    "    lp = response.choices[0].logprobs\n",
    "    pp = 19\n",
    "    assert lp.tokens[pp] == f\" {n}\", lp.tokens\n",
    "    print(f\"{n}: {np.exp(lp.token_logprobs[pp])} {'*'*int(22+lp.token_logprobs[pp])}\")"
   ]
  },
  {
   "cell_type": "code",
   "execution_count": 222,
   "metadata": {},
   "outputs": [
    {
     "data": {
      "text/plain": [
       "' 200'"
      ]
     },
     "execution_count": 222,
     "metadata": {},
     "output_type": "execute_result"
    }
   ],
   "source": [
    "['Q', ':', ' Sol', 've', ' the', ' puzzle', ':', ' 62', ' =', ' x', ' =', ' 655', '36', '\\n', '\\n', 'A', ':', ' x', ' =', ' 200', '<|endoftext|>'][19]"
   ]
  },
  {
   "cell_type": "code",
   "execution_count": 233,
   "metadata": {},
   "outputs": [
    {
     "data": {
      "text/plain": [
       "0.1175994994387363"
      ]
     },
     "execution_count": 233,
     "metadata": {},
     "output_type": "execute_result"
    }
   ],
   "source": [
    "np.exp(-2.1404705)"
   ]
  },
  {
   "cell_type": "code",
   "execution_count": 250,
   "metadata": {},
   "outputs": [
    {
     "name": "stdout",
     "output_type": "stream",
     "text": [
      "Q: Solve the puzzle: 63 = x\n",
      "\n",
      "A: x = 210\n",
      "210: 4.361242626945267e-11 \n",
      "Q: Solve the puzzle: 63 = x\n",
      "\n",
      "A: x = 211,\n",
      "211: 1.3179955014814973e-11 \n",
      "Q: Solve the puzzle: 63 = x\n",
      "\n",
      "A: x = 212\n",
      "212: 6.060904357964636e-11 \n",
      "Q: Solve the puzzle: 63 = x\n",
      "\n",
      "A: x = 213\n",
      "213: 1.4142918266370287e-10 \n",
      "Q: Solve the puzzle: 63 = x\n",
      "\n",
      "A: x = 214\n",
      "214: 1.2005058659638552e-11 \n",
      "Q: Solve the puzzle: 63 = x\n",
      "\n",
      "A: x = 215\n",
      "215: 6.101142342656434e-11 \n",
      "Q: Solve the puzzle: 63 = x\n",
      "\n",
      "A: x = 216\n",
      "216: 2.2005907277754527e-09 **\n",
      "Q: Solve the puzzle: 63 = x\n",
      "\n",
      "A: x = 217\n",
      "217: 3.2486451189211053e-11 \n",
      "Q: Solve the puzzle: 63 = x\n",
      "\n",
      "A: x = 218\n",
      "218: 8.403044014931976e-11 \n",
      "Q: Solve the puzzle: 63 = x\n",
      "\n",
      "A: x = 219\n",
      "219: 4.1141614023952036e-11 \n"
     ]
    }
   ],
   "source": [
    "response = openai.Completion.create(\n",
    "    engine=\"text-davinci-003\",\n",
    "    prompt=prompt,\n",
    "    max_tokens=10,\n",
    "    n=100,\n",
    ")\n",
    "\n",
    "for n in range(210,220):\n",
    "    prompt = f\"Q: Solve the puzzle: 63 = x\\n\\nA: x = {n}\"\n",
    "    response = openai.Completion.create(\n",
    "        engine=\"text-davinci-003\",\n",
    "        prompt=prompt,\n",
    "        max_tokens=1,\n",
    "        n=1,\n",
    "        logprobs=5,\n",
    "        echo=True\n",
    "    )\n",
    "    print(response.choices[0].text)\n",
    "    lp = response.choices[0].logprobs\n",
    "    pp = 16\n",
    "    assert lp.tokens[pp] == f\" {n}\", lp.tokens\n",
    "    print(f\"{n}: {np.exp(lp.token_logprobs[pp])} {'*'*int(22+lp.token_logprobs[pp])}\")"
   ]
  },
  {
   "cell_type": "code",
   "execution_count": null,
   "metadata": {},
   "outputs": [],
   "source": []
  }
 ],
 "metadata": {
  "kernelspec": {
   "display_name": "Python 3 (ipykernel)",
   "language": "python",
   "name": "python3"
  },
  "language_info": {
   "codemirror_mode": {
    "name": "ipython",
    "version": 3
   },
   "file_extension": ".py",
   "mimetype": "text/x-python",
   "name": "python",
   "nbconvert_exporter": "python",
   "pygments_lexer": "ipython3",
   "version": "3.11.1"
  }
 },
 "nbformat": 4,
 "nbformat_minor": 4
}
