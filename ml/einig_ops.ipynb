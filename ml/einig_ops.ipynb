{
 "cells": [
  {
   "cell_type": "code",
   "execution_count": 17,
   "id": "a3a3095f-f235-4259-80e8-aa4342c23143",
   "metadata": {},
   "outputs": [],
   "source": [
    "from typing import Optional, Literal, Any\n",
    "from dataclasses import dataclass"
   ]
  },
  {
   "cell_type": "code",
   "execution_count": null,
   "id": "23c95f32-84f1-4ea1-80cb-4501cac7a4ce",
   "metadata": {},
   "outputs": [],
   "source": [
    "class EinopThing:\n",
    "    lhs: \n",
    "    "
   ]
  },
  {
   "cell_type": "code",
   "execution_count": 60,
   "id": "ffa60248-0b4f-40b8-8e6b-794e331b50b7",
   "metadata": {},
   "outputs": [],
   "source": [
    "@dataclass\n",
    "class Foo:\n",
    "    s: str\n",
    "    def __str__(self):\n",
    "        return ''.join(reversed(self.s))"
   ]
  },
  {
   "cell_type": "code",
   "execution_count": 61,
   "id": "fdecb84f-5979-4448-adc5-b03a1df87a01",
   "metadata": {},
   "outputs": [
    {
     "name": "stdout",
     "output_type": "stream",
     "text": [
      "cba\n"
     ]
    }
   ],
   "source": [
    "x = Foo(\"abc\")\n",
    "print(x)"
   ]
  },
  {
   "cell_type": "code",
   "execution_count": 85,
   "id": "5422e8c2-b46f-4492-8d1f-bb74ae16b91f",
   "metadata": {},
   "outputs": [],
   "source": [
    "Opened = Literal['{'] | Literal['['] | Literal['('] | Literal['']\n",
    "\n",
    "def close_bracket(opened: Opened):\n",
    "    return {'(': ')', '[': ']', '{': '}', '': ''}[opened]\n",
    "\n",
    "@dataclass\n",
    "class Node:\n",
    "    opened: Opened\n",
    "    contents: list[str | Any]\n",
    "    \n",
    "    def __str__(self):\n",
    "        return self.opened + ''.join(map(str, self.contents)) + close_bracket(self.opened)\n",
    "\n",
    "\n",
    "def parse_node(s: str, opened: Opened = ''):\n",
    "    contents = []\n",
    "    new_string = ''\n",
    "    while s:\n",
    "        c, s = s[0], s[1:]\n",
    "        if c in '{[(':\n",
    "            if new_string:\n",
    "                contents.append(new_string)\n",
    "                new_string = ''\n",
    "            subnode, s = parse_node(s, c)\n",
    "            contents.append(subnode)\n",
    "        elif c in '}])':\n",
    "            if close_bracket(opened) != c:\n",
    "                if opened:\n",
    "                    raise ValueError(f\"mismatched brackets {opened} and {c}\")\n",
    "                else:\n",
    "                    raise ValueError(f\"unmatched close bracket {c}\")\n",
    "            if new_string:\n",
    "                contents.append(new_string)\n",
    "            return Node(opened, contents), s\n",
    "        else:\n",
    "            new_string += c\n",
    "    if opened:\n",
    "        raise ValueError(f\"unmatched open bracket {opened}\")\n",
    "    if new_string:\n",
    "        contents.append(new_string)\n",
    "    return Node(opened, contents), ''"
   ]
  },
  {
   "cell_type": "code",
   "execution_count": 82,
   "id": "556ed75c-7c13-4214-9f0a-eccb2f6f8e97",
   "metadata": {},
   "outputs": [
    {
     "data": {
      "text/plain": [
       "'abc(def{ghi((jk))lm[no]}p)q'"
      ]
     },
     "execution_count": 82,
     "metadata": {},
     "output_type": "execute_result"
    }
   ],
   "source": [
    "str(parse_node(\"abc(def{ghi((jk))lm[no]}p)q\")[0])"
   ]
  },
  {
   "cell_type": "code",
   "execution_count": 72,
   "id": "b3d7bb55-e894-476e-a7d0-b4000900fa32",
   "metadata": {},
   "outputs": [
    {
     "data": {
      "text/plain": [
       "\"(Node(opened='', contents=['abc', Node(opened='(', contents=['def', Node(opened='{', contents=['ghi', Node(opened='(', contents=[Node(opened='(', contents=['jk'])]), 'lm', Node(opened='[', contents=['no'])]), 'p']), 'q']), '')\""
      ]
     },
     "execution_count": 72,
     "metadata": {},
     "output_type": "execute_result"
    }
   ],
   "source": [
    "str(x)"
   ]
  },
  {
   "cell_type": "code",
   "execution_count": null,
   "id": "bc49d3a2-a52b-4180-8005-a585a4fbee7a",
   "metadata": {},
   "outputs": [],
   "source": []
  },
  {
   "cell_type": "code",
   "execution_count": 28,
   "id": "b68efac8-0cd3-48ae-9cbe-0f9051863c8f",
   "metadata": {},
   "outputs": [
    {
     "data": {
      "text/plain": [
       "'|'"
      ]
     },
     "execution_count": 28,
     "metadata": {},
     "output_type": "execute_result"
    }
   ],
   "source": [
    "close_bracket('{')"
   ]
  },
  {
   "cell_type": "code",
   "execution_count": null,
   "id": "e4aa81e1-b7be-407b-86b6-bdc105bec168",
   "metadata": {},
   "outputs": [],
   "source": []
  }
 ],
 "metadata": {
  "kernelspec": {
   "display_name": "Python 3 (ipykernel)",
   "language": "python",
   "name": "python3"
  },
  "language_info": {
   "codemirror_mode": {
    "name": "ipython",
    "version": 3
   },
   "file_extension": ".py",
   "mimetype": "text/x-python",
   "name": "python",
   "nbconvert_exporter": "python",
   "pygments_lexer": "ipython3",
   "version": "3.12.3"
  }
 },
 "nbformat": 4,
 "nbformat_minor": 5
}
