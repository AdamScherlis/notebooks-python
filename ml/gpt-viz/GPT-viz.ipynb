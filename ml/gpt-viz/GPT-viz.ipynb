{
 "cells": [
  {
   "cell_type": "code",
   "execution_count": null,
   "metadata": {},
   "outputs": [],
   "source": [
    "# 2022-06\n",
    "# project to visualize GPT sizes"
   ]
  },
  {
   "cell_type": "code",
   "execution_count": 1,
   "metadata": {},
   "outputs": [],
   "source": [
    "from IPython.display import SVG, display"
   ]
  },
  {
   "cell_type": "code",
   "execution_count": 2,
   "metadata": {
    "scrolled": false
   },
   "outputs": [
    {
     "data": {
      "image/svg+xml": [
       "<svg height=\"220\" width=\"220\">\n",
       "<path d=\"M 100 100 l 0 100 h 25 a 75 50 0 0 0 0 -100 h -25 Z\" fill=\"none\" stroke=\"black\" stroke-width=\"5\"/>\n",
       "<path d=\"M 100 100 q 75 0 100 -100\" fill=\"none\" stroke=\"black\" stroke-width=\"5\"/>\n",
       "<path d=\"M 100 100 q -75 0 -100 -100\" fill=\"none\" stroke=\"black\" stroke-width=\"5\"/>\n",
       "<path d=\"M 100 0 V 200\" fill=\"none\" stroke=\"black\" stroke-width=\"5\"/>\n",
       "<path d=\"M 150 150 m 50 -50 l 50 50\" fill=\"none\" stroke=\"black\" stroke-width=\"5\"/>\n",
       "</svg>"
      ],
      "text/plain": [
       "<IPython.core.display.SVG object>"
      ]
     },
     "metadata": {},
     "output_type": "display_data"
    }
   ],
   "source": [
    "mysvg = \"\"\"\\\n",
    "<svg width=\"220\" height=\"220\">\n",
    "<path d=\"M 100 100 l 0 100 h 25 a 75 50 0 0 0 0 -100 h -25 Z\" stroke=\"black\"\n",
    "  stroke-width=\"5\" fill=\"none\" />\n",
    "<path d=\"M 100 100 q 75 0 100 -100\" stroke=\"black\"\n",
    "  stroke-width=\"5\" fill=\"none\" />\n",
    "<path d=\"M 100 100 q -75 0 -100 -100\" stroke=\"black\"\n",
    "  stroke-width=\"5\" fill=\"none\" />\n",
    "<path d=\"M 100 0 V 200\" stroke=\"black\"\n",
    "  stroke-width=\"5\" fill=\"none\" />\n",
    "<path d=\"M 150 150 m 50 -50 l 50 50\" stroke=\"black\"\n",
    "  stroke-width=\"5\" fill=\"none\" />\n",
    "</svg>\"\"\"\n",
    "display(SVG(data=mysvg))"
   ]
  },
  {
   "cell_type": "code",
   "execution_count": 3,
   "metadata": {},
   "outputs": [],
   "source": [
    "gpt1_hyp = (12, 12, 64)"
   ]
  },
  {
   "cell_type": "code",
   "execution_count": 17,
   "metadata": {},
   "outputs": [],
   "source": [
    "def draw_gpt(layers, heads, dimh):\n",
    "    hspace = (((dimh * 10) // 64) + 5)\n",
    "    mysvg = f\"\"\"\\\n",
    "<svg width=\"{hspace * heads}\" height=\"{15 * layers}\">\"\"\"\n",
    "    for x in range(heads):\n",
    "        for y in range(layers):\n",
    "            mysvg += f\"\"\"\n",
    "<rect x=\"{hspace * x}\" y=\"{15 * y}\" \\\n",
    "width=\"{(dimh * 10) // 64}\" height=\"10\" style=\"fill:rgb(128,128,255);stroke:none\" />\"\"\"\n",
    "    mysvg += \"</svg>\"\n",
    "    return mysvg"
   ]
  },
  {
   "cell_type": "code",
   "execution_count": 8,
   "metadata": {},
   "outputs": [
    {
     "name": "stdout",
     "output_type": "stream",
     "text": [
      "<svg width=\"180\" height=\"180\">\n",
      "<rect x=\"0\" y=\"0\"width=\"10\" height=\"10\" style=\"fill:rgb(0,0,255);stroke:none\" />\n",
      "<rect x=\"0\" y=\"15\"width=\"10\" height=\"10\" style=\"fill:rgb(0,0,255);stroke:none\" />\n",
      "<rect x=\"0\" y=\"30\"width=\"10\" height=\"10\" style=\"fill:rgb(0,0,255);stroke:none\" />\n",
      "<rect x=\"0\" y=\"45\"width=\"10\" height=\"10\" style=\"fill:rgb(0,0,255);stroke:none\" />\n",
      "<rect x=\"0\" y=\"60\"width=\"10\" height=\"10\" style=\"fill:rgb(0,0,255);stroke:none\" />\n",
      "<rect x=\"0\" y=\"75\"width=\"10\" height=\"10\" style=\"fill:rgb(0,0,255);stroke:none\" />\n",
      "<rect x=\"0\" y=\"90\"width=\"10\" height=\"10\" style=\"fill:rgb(0,0,255);stroke:none\" />\n",
      "<rect x=\"0\" y=\"105\"width=\"10\" height=\"10\" style=\"fill:rgb(0,0,255);stroke:none\" />\n",
      "<rect x=\"0\" y=\"120\"width=\"10\" height=\"10\" style=\"fill:rgb(0,0,255);stroke:none\" />\n",
      "<rect x=\"0\" y=\"135\"width=\"10\" height=\"10\" style=\"fill:rgb(0,0,255);stroke:none\" />\n",
      "<rect x=\"0\" y=\"150\"width=\"10\" height=\"10\" style=\"fill:rgb(0,0,255);stroke:none\" />\n",
      "<rect x=\"0\" y=\"165\"width=\"10\" height=\"10\" style=\"fill:rgb(0,0,255);stroke:none\" />\n",
      "<rect x=\"15\" y=\"0\"width=\"10\" height=\"10\" style=\"fill:rgb(0,0,255);stroke:none\" />\n",
      "<rect x=\"15\" y=\"15\"width=\"10\" height=\"10\" style=\"fill:rgb(0,0,255);stroke:none\" />\n",
      "<rect x=\"15\" y=\"30\"width=\"10\" height=\"10\" style=\"fill:rgb(0,0,255);stroke:none\" />\n",
      "<rect x=\"15\" y=\"45\"width=\"10\" height=\"10\" style=\"fill:rgb(0,0,255);stroke:none\" />\n",
      "<rect x=\"15\" y=\"60\"width=\"10\" height=\"10\" style=\"fill:rgb(0,0,255);stroke:none\" />\n",
      "<rect x=\"15\" y=\"75\"width=\"10\" height=\"10\" style=\"fill:rgb(0,0,255);stroke:none\" />\n",
      "<rect x=\"15\" y=\"90\"width=\"10\" height=\"10\" style=\"fill:rgb(0,0,255);stroke:none\" />\n",
      "<rect x=\"15\" y=\"105\"width=\"10\" height=\"10\" style=\"fill:rgb(0,0,255);stroke:none\" />\n",
      "<rect x=\"15\" y=\"120\"width=\"10\" height=\"10\" style=\"fill:rgb(0,0,255);stroke:none\" />\n",
      "<rect x=\"15\" y=\"135\"width=\"10\" height=\"10\" style=\"fill:rgb(0,0,255);stroke:none\" />\n",
      "<rect x=\"15\" y=\"150\"width=\"10\" height=\"10\" style=\"fill:rgb(0,0,255);stroke:none\" />\n",
      "<rect x=\"15\" y=\"165\"width=\"10\" height=\"10\" style=\"fill:rgb(0,0,255);stroke:none\" />\n",
      "<rect x=\"30\" y=\"0\"width=\"10\" height=\"10\" style=\"fill:rgb(0,0,255);stroke:none\" />\n",
      "<rect x=\"30\" y=\"15\"width=\"10\" height=\"10\" style=\"fill:rgb(0,0,255);stroke:none\" />\n",
      "<rect x=\"30\" y=\"30\"width=\"10\" height=\"10\" style=\"fill:rgb(0,0,255);stroke:none\" />\n",
      "<rect x=\"30\" y=\"45\"width=\"10\" height=\"10\" style=\"fill:rgb(0,0,255);stroke:none\" />\n",
      "<rect x=\"30\" y=\"60\"width=\"10\" height=\"10\" style=\"fill:rgb(0,0,255);stroke:none\" />\n",
      "<rect x=\"30\" y=\"75\"width=\"10\" height=\"10\" style=\"fill:rgb(0,0,255);stroke:none\" />\n",
      "<rect x=\"30\" y=\"90\"width=\"10\" height=\"10\" style=\"fill:rgb(0,0,255);stroke:none\" />\n",
      "<rect x=\"30\" y=\"105\"width=\"10\" height=\"10\" style=\"fill:rgb(0,0,255);stroke:none\" />\n",
      "<rect x=\"30\" y=\"120\"width=\"10\" height=\"10\" style=\"fill:rgb(0,0,255);stroke:none\" />\n",
      "<rect x=\"30\" y=\"135\"width=\"10\" height=\"10\" style=\"fill:rgb(0,0,255);stroke:none\" />\n",
      "<rect x=\"30\" y=\"150\"width=\"10\" height=\"10\" style=\"fill:rgb(0,0,255);stroke:none\" />\n",
      "<rect x=\"30\" y=\"165\"width=\"10\" height=\"10\" style=\"fill:rgb(0,0,255);stroke:none\" />\n",
      "<rect x=\"45\" y=\"0\"width=\"10\" height=\"10\" style=\"fill:rgb(0,0,255);stroke:none\" />\n",
      "<rect x=\"45\" y=\"15\"width=\"10\" height=\"10\" style=\"fill:rgb(0,0,255);stroke:none\" />\n",
      "<rect x=\"45\" y=\"30\"width=\"10\" height=\"10\" style=\"fill:rgb(0,0,255);stroke:none\" />\n",
      "<rect x=\"45\" y=\"45\"width=\"10\" height=\"10\" style=\"fill:rgb(0,0,255);stroke:none\" />\n",
      "<rect x=\"45\" y=\"60\"width=\"10\" height=\"10\" style=\"fill:rgb(0,0,255);stroke:none\" />\n",
      "<rect x=\"45\" y=\"75\"width=\"10\" height=\"10\" style=\"fill:rgb(0,0,255);stroke:none\" />\n",
      "<rect x=\"45\" y=\"90\"width=\"10\" height=\"10\" style=\"fill:rgb(0,0,255);stroke:none\" />\n",
      "<rect x=\"45\" y=\"105\"width=\"10\" height=\"10\" style=\"fill:rgb(0,0,255);stroke:none\" />\n",
      "<rect x=\"45\" y=\"120\"width=\"10\" height=\"10\" style=\"fill:rgb(0,0,255);stroke:none\" />\n",
      "<rect x=\"45\" y=\"135\"width=\"10\" height=\"10\" style=\"fill:rgb(0,0,255);stroke:none\" />\n",
      "<rect x=\"45\" y=\"150\"width=\"10\" height=\"10\" style=\"fill:rgb(0,0,255);stroke:none\" />\n",
      "<rect x=\"45\" y=\"165\"width=\"10\" height=\"10\" style=\"fill:rgb(0,0,255);stroke:none\" />\n",
      "<rect x=\"60\" y=\"0\"width=\"10\" height=\"10\" style=\"fill:rgb(0,0,255);stroke:none\" />\n",
      "<rect x=\"60\" y=\"15\"width=\"10\" height=\"10\" style=\"fill:rgb(0,0,255);stroke:none\" />\n",
      "<rect x=\"60\" y=\"30\"width=\"10\" height=\"10\" style=\"fill:rgb(0,0,255);stroke:none\" />\n",
      "<rect x=\"60\" y=\"45\"width=\"10\" height=\"10\" style=\"fill:rgb(0,0,255);stroke:none\" />\n",
      "<rect x=\"60\" y=\"60\"width=\"10\" height=\"10\" style=\"fill:rgb(0,0,255);stroke:none\" />\n",
      "<rect x=\"60\" y=\"75\"width=\"10\" height=\"10\" style=\"fill:rgb(0,0,255);stroke:none\" />\n",
      "<rect x=\"60\" y=\"90\"width=\"10\" height=\"10\" style=\"fill:rgb(0,0,255);stroke:none\" />\n",
      "<rect x=\"60\" y=\"105\"width=\"10\" height=\"10\" style=\"fill:rgb(0,0,255);stroke:none\" />\n",
      "<rect x=\"60\" y=\"120\"width=\"10\" height=\"10\" style=\"fill:rgb(0,0,255);stroke:none\" />\n",
      "<rect x=\"60\" y=\"135\"width=\"10\" height=\"10\" style=\"fill:rgb(0,0,255);stroke:none\" />\n",
      "<rect x=\"60\" y=\"150\"width=\"10\" height=\"10\" style=\"fill:rgb(0,0,255);stroke:none\" />\n",
      "<rect x=\"60\" y=\"165\"width=\"10\" height=\"10\" style=\"fill:rgb(0,0,255);stroke:none\" />\n",
      "<rect x=\"75\" y=\"0\"width=\"10\" height=\"10\" style=\"fill:rgb(0,0,255);stroke:none\" />\n",
      "<rect x=\"75\" y=\"15\"width=\"10\" height=\"10\" style=\"fill:rgb(0,0,255);stroke:none\" />\n",
      "<rect x=\"75\" y=\"30\"width=\"10\" height=\"10\" style=\"fill:rgb(0,0,255);stroke:none\" />\n",
      "<rect x=\"75\" y=\"45\"width=\"10\" height=\"10\" style=\"fill:rgb(0,0,255);stroke:none\" />\n",
      "<rect x=\"75\" y=\"60\"width=\"10\" height=\"10\" style=\"fill:rgb(0,0,255);stroke:none\" />\n",
      "<rect x=\"75\" y=\"75\"width=\"10\" height=\"10\" style=\"fill:rgb(0,0,255);stroke:none\" />\n",
      "<rect x=\"75\" y=\"90\"width=\"10\" height=\"10\" style=\"fill:rgb(0,0,255);stroke:none\" />\n",
      "<rect x=\"75\" y=\"105\"width=\"10\" height=\"10\" style=\"fill:rgb(0,0,255);stroke:none\" />\n",
      "<rect x=\"75\" y=\"120\"width=\"10\" height=\"10\" style=\"fill:rgb(0,0,255);stroke:none\" />\n",
      "<rect x=\"75\" y=\"135\"width=\"10\" height=\"10\" style=\"fill:rgb(0,0,255);stroke:none\" />\n",
      "<rect x=\"75\" y=\"150\"width=\"10\" height=\"10\" style=\"fill:rgb(0,0,255);stroke:none\" />\n",
      "<rect x=\"75\" y=\"165\"width=\"10\" height=\"10\" style=\"fill:rgb(0,0,255);stroke:none\" />\n",
      "<rect x=\"90\" y=\"0\"width=\"10\" height=\"10\" style=\"fill:rgb(0,0,255);stroke:none\" />\n",
      "<rect x=\"90\" y=\"15\"width=\"10\" height=\"10\" style=\"fill:rgb(0,0,255);stroke:none\" />\n",
      "<rect x=\"90\" y=\"30\"width=\"10\" height=\"10\" style=\"fill:rgb(0,0,255);stroke:none\" />\n",
      "<rect x=\"90\" y=\"45\"width=\"10\" height=\"10\" style=\"fill:rgb(0,0,255);stroke:none\" />\n",
      "<rect x=\"90\" y=\"60\"width=\"10\" height=\"10\" style=\"fill:rgb(0,0,255);stroke:none\" />\n",
      "<rect x=\"90\" y=\"75\"width=\"10\" height=\"10\" style=\"fill:rgb(0,0,255);stroke:none\" />\n",
      "<rect x=\"90\" y=\"90\"width=\"10\" height=\"10\" style=\"fill:rgb(0,0,255);stroke:none\" />\n",
      "<rect x=\"90\" y=\"105\"width=\"10\" height=\"10\" style=\"fill:rgb(0,0,255);stroke:none\" />\n",
      "<rect x=\"90\" y=\"120\"width=\"10\" height=\"10\" style=\"fill:rgb(0,0,255);stroke:none\" />\n",
      "<rect x=\"90\" y=\"135\"width=\"10\" height=\"10\" style=\"fill:rgb(0,0,255);stroke:none\" />\n",
      "<rect x=\"90\" y=\"150\"width=\"10\" height=\"10\" style=\"fill:rgb(0,0,255);stroke:none\" />\n",
      "<rect x=\"90\" y=\"165\"width=\"10\" height=\"10\" style=\"fill:rgb(0,0,255);stroke:none\" />\n",
      "<rect x=\"105\" y=\"0\"width=\"10\" height=\"10\" style=\"fill:rgb(0,0,255);stroke:none\" />\n",
      "<rect x=\"105\" y=\"15\"width=\"10\" height=\"10\" style=\"fill:rgb(0,0,255);stroke:none\" />\n",
      "<rect x=\"105\" y=\"30\"width=\"10\" height=\"10\" style=\"fill:rgb(0,0,255);stroke:none\" />\n",
      "<rect x=\"105\" y=\"45\"width=\"10\" height=\"10\" style=\"fill:rgb(0,0,255);stroke:none\" />\n",
      "<rect x=\"105\" y=\"60\"width=\"10\" height=\"10\" style=\"fill:rgb(0,0,255);stroke:none\" />\n",
      "<rect x=\"105\" y=\"75\"width=\"10\" height=\"10\" style=\"fill:rgb(0,0,255);stroke:none\" />\n",
      "<rect x=\"105\" y=\"90\"width=\"10\" height=\"10\" style=\"fill:rgb(0,0,255);stroke:none\" />\n",
      "<rect x=\"105\" y=\"105\"width=\"10\" height=\"10\" style=\"fill:rgb(0,0,255);stroke:none\" />\n",
      "<rect x=\"105\" y=\"120\"width=\"10\" height=\"10\" style=\"fill:rgb(0,0,255);stroke:none\" />\n",
      "<rect x=\"105\" y=\"135\"width=\"10\" height=\"10\" style=\"fill:rgb(0,0,255);stroke:none\" />\n",
      "<rect x=\"105\" y=\"150\"width=\"10\" height=\"10\" style=\"fill:rgb(0,0,255);stroke:none\" />\n",
      "<rect x=\"105\" y=\"165\"width=\"10\" height=\"10\" style=\"fill:rgb(0,0,255);stroke:none\" />\n",
      "<rect x=\"120\" y=\"0\"width=\"10\" height=\"10\" style=\"fill:rgb(0,0,255);stroke:none\" />\n",
      "<rect x=\"120\" y=\"15\"width=\"10\" height=\"10\" style=\"fill:rgb(0,0,255);stroke:none\" />\n",
      "<rect x=\"120\" y=\"30\"width=\"10\" height=\"10\" style=\"fill:rgb(0,0,255);stroke:none\" />\n",
      "<rect x=\"120\" y=\"45\"width=\"10\" height=\"10\" style=\"fill:rgb(0,0,255);stroke:none\" />\n",
      "<rect x=\"120\" y=\"60\"width=\"10\" height=\"10\" style=\"fill:rgb(0,0,255);stroke:none\" />\n",
      "<rect x=\"120\" y=\"75\"width=\"10\" height=\"10\" style=\"fill:rgb(0,0,255);stroke:none\" />\n",
      "<rect x=\"120\" y=\"90\"width=\"10\" height=\"10\" style=\"fill:rgb(0,0,255);stroke:none\" />\n",
      "<rect x=\"120\" y=\"105\"width=\"10\" height=\"10\" style=\"fill:rgb(0,0,255);stroke:none\" />\n",
      "<rect x=\"120\" y=\"120\"width=\"10\" height=\"10\" style=\"fill:rgb(0,0,255);stroke:none\" />\n",
      "<rect x=\"120\" y=\"135\"width=\"10\" height=\"10\" style=\"fill:rgb(0,0,255);stroke:none\" />\n",
      "<rect x=\"120\" y=\"150\"width=\"10\" height=\"10\" style=\"fill:rgb(0,0,255);stroke:none\" />\n",
      "<rect x=\"120\" y=\"165\"width=\"10\" height=\"10\" style=\"fill:rgb(0,0,255);stroke:none\" />\n",
      "<rect x=\"135\" y=\"0\"width=\"10\" height=\"10\" style=\"fill:rgb(0,0,255);stroke:none\" />\n",
      "<rect x=\"135\" y=\"15\"width=\"10\" height=\"10\" style=\"fill:rgb(0,0,255);stroke:none\" />\n",
      "<rect x=\"135\" y=\"30\"width=\"10\" height=\"10\" style=\"fill:rgb(0,0,255);stroke:none\" />\n",
      "<rect x=\"135\" y=\"45\"width=\"10\" height=\"10\" style=\"fill:rgb(0,0,255);stroke:none\" />\n",
      "<rect x=\"135\" y=\"60\"width=\"10\" height=\"10\" style=\"fill:rgb(0,0,255);stroke:none\" />\n",
      "<rect x=\"135\" y=\"75\"width=\"10\" height=\"10\" style=\"fill:rgb(0,0,255);stroke:none\" />\n",
      "<rect x=\"135\" y=\"90\"width=\"10\" height=\"10\" style=\"fill:rgb(0,0,255);stroke:none\" />\n",
      "<rect x=\"135\" y=\"105\"width=\"10\" height=\"10\" style=\"fill:rgb(0,0,255);stroke:none\" />\n",
      "<rect x=\"135\" y=\"120\"width=\"10\" height=\"10\" style=\"fill:rgb(0,0,255);stroke:none\" />\n",
      "<rect x=\"135\" y=\"135\"width=\"10\" height=\"10\" style=\"fill:rgb(0,0,255);stroke:none\" />\n",
      "<rect x=\"135\" y=\"150\"width=\"10\" height=\"10\" style=\"fill:rgb(0,0,255);stroke:none\" />\n",
      "<rect x=\"135\" y=\"165\"width=\"10\" height=\"10\" style=\"fill:rgb(0,0,255);stroke:none\" />\n",
      "<rect x=\"150\" y=\"0\"width=\"10\" height=\"10\" style=\"fill:rgb(0,0,255);stroke:none\" />\n",
      "<rect x=\"150\" y=\"15\"width=\"10\" height=\"10\" style=\"fill:rgb(0,0,255);stroke:none\" />\n",
      "<rect x=\"150\" y=\"30\"width=\"10\" height=\"10\" style=\"fill:rgb(0,0,255);stroke:none\" />\n",
      "<rect x=\"150\" y=\"45\"width=\"10\" height=\"10\" style=\"fill:rgb(0,0,255);stroke:none\" />\n",
      "<rect x=\"150\" y=\"60\"width=\"10\" height=\"10\" style=\"fill:rgb(0,0,255);stroke:none\" />\n",
      "<rect x=\"150\" y=\"75\"width=\"10\" height=\"10\" style=\"fill:rgb(0,0,255);stroke:none\" />\n",
      "<rect x=\"150\" y=\"90\"width=\"10\" height=\"10\" style=\"fill:rgb(0,0,255);stroke:none\" />\n",
      "<rect x=\"150\" y=\"105\"width=\"10\" height=\"10\" style=\"fill:rgb(0,0,255);stroke:none\" />\n",
      "<rect x=\"150\" y=\"120\"width=\"10\" height=\"10\" style=\"fill:rgb(0,0,255);stroke:none\" />\n",
      "<rect x=\"150\" y=\"135\"width=\"10\" height=\"10\" style=\"fill:rgb(0,0,255);stroke:none\" />\n",
      "<rect x=\"150\" y=\"150\"width=\"10\" height=\"10\" style=\"fill:rgb(0,0,255);stroke:none\" />\n",
      "<rect x=\"150\" y=\"165\"width=\"10\" height=\"10\" style=\"fill:rgb(0,0,255);stroke:none\" />\n",
      "<rect x=\"165\" y=\"0\"width=\"10\" height=\"10\" style=\"fill:rgb(0,0,255);stroke:none\" />\n",
      "<rect x=\"165\" y=\"15\"width=\"10\" height=\"10\" style=\"fill:rgb(0,0,255);stroke:none\" />\n",
      "<rect x=\"165\" y=\"30\"width=\"10\" height=\"10\" style=\"fill:rgb(0,0,255);stroke:none\" />\n",
      "<rect x=\"165\" y=\"45\"width=\"10\" height=\"10\" style=\"fill:rgb(0,0,255);stroke:none\" />\n",
      "<rect x=\"165\" y=\"60\"width=\"10\" height=\"10\" style=\"fill:rgb(0,0,255);stroke:none\" />\n",
      "<rect x=\"165\" y=\"75\"width=\"10\" height=\"10\" style=\"fill:rgb(0,0,255);stroke:none\" />\n",
      "<rect x=\"165\" y=\"90\"width=\"10\" height=\"10\" style=\"fill:rgb(0,0,255);stroke:none\" />\n",
      "<rect x=\"165\" y=\"105\"width=\"10\" height=\"10\" style=\"fill:rgb(0,0,255);stroke:none\" />\n",
      "<rect x=\"165\" y=\"120\"width=\"10\" height=\"10\" style=\"fill:rgb(0,0,255);stroke:none\" />\n",
      "<rect x=\"165\" y=\"135\"width=\"10\" height=\"10\" style=\"fill:rgb(0,0,255);stroke:none\" />\n",
      "<rect x=\"165\" y=\"150\"width=\"10\" height=\"10\" style=\"fill:rgb(0,0,255);stroke:none\" />\n",
      "<rect x=\"165\" y=\"165\"width=\"10\" height=\"10\" style=\"fill:rgb(0,0,255);stroke:none\" /></svg>\n"
     ]
    }
   ],
   "source": [
    "print(draw_gpt(*gpt1_hyp))"
   ]
  },
  {
   "cell_type": "code",
   "execution_count": 28,
   "metadata": {},
   "outputs": [
    {
     "data": {
      "image/svg+xml": [
       "<svg height=\"180\" width=\"180\">\n",
       "<rect height=\"10\" style=\"fill:rgb(128,128,255);stroke:none\" width=\"10\" x=\"0\" y=\"0\"/>\n",
       "<rect height=\"10\" style=\"fill:rgb(128,128,255);stroke:none\" width=\"10\" x=\"0\" y=\"15\"/>\n",
       "<rect height=\"10\" style=\"fill:rgb(128,128,255);stroke:none\" width=\"10\" x=\"0\" y=\"30\"/>\n",
       "<rect height=\"10\" style=\"fill:rgb(128,128,255);stroke:none\" width=\"10\" x=\"0\" y=\"45\"/>\n",
       "<rect height=\"10\" style=\"fill:rgb(128,128,255);stroke:none\" width=\"10\" x=\"0\" y=\"60\"/>\n",
       "<rect height=\"10\" style=\"fill:rgb(128,128,255);stroke:none\" width=\"10\" x=\"0\" y=\"75\"/>\n",
       "<rect height=\"10\" style=\"fill:rgb(128,128,255);stroke:none\" width=\"10\" x=\"0\" y=\"90\"/>\n",
       "<rect height=\"10\" style=\"fill:rgb(128,128,255);stroke:none\" width=\"10\" x=\"0\" y=\"105\"/>\n",
       "<rect height=\"10\" style=\"fill:rgb(128,128,255);stroke:none\" width=\"10\" x=\"0\" y=\"120\"/>\n",
       "<rect height=\"10\" style=\"fill:rgb(128,128,255);stroke:none\" width=\"10\" x=\"0\" y=\"135\"/>\n",
       "<rect height=\"10\" style=\"fill:rgb(128,128,255);stroke:none\" width=\"10\" x=\"0\" y=\"150\"/>\n",
       "<rect height=\"10\" style=\"fill:rgb(128,128,255);stroke:none\" width=\"10\" x=\"0\" y=\"165\"/>\n",
       "<rect height=\"10\" style=\"fill:rgb(128,128,255);stroke:none\" width=\"10\" x=\"15\" y=\"0\"/>\n",
       "<rect height=\"10\" style=\"fill:rgb(128,128,255);stroke:none\" width=\"10\" x=\"15\" y=\"15\"/>\n",
       "<rect height=\"10\" style=\"fill:rgb(128,128,255);stroke:none\" width=\"10\" x=\"15\" y=\"30\"/>\n",
       "<rect height=\"10\" style=\"fill:rgb(128,128,255);stroke:none\" width=\"10\" x=\"15\" y=\"45\"/>\n",
       "<rect height=\"10\" style=\"fill:rgb(128,128,255);stroke:none\" width=\"10\" x=\"15\" y=\"60\"/>\n",
       "<rect height=\"10\" style=\"fill:rgb(128,128,255);stroke:none\" width=\"10\" x=\"15\" y=\"75\"/>\n",
       "<rect height=\"10\" style=\"fill:rgb(128,128,255);stroke:none\" width=\"10\" x=\"15\" y=\"90\"/>\n",
       "<rect height=\"10\" style=\"fill:rgb(128,128,255);stroke:none\" width=\"10\" x=\"15\" y=\"105\"/>\n",
       "<rect height=\"10\" style=\"fill:rgb(128,128,255);stroke:none\" width=\"10\" x=\"15\" y=\"120\"/>\n",
       "<rect height=\"10\" style=\"fill:rgb(128,128,255);stroke:none\" width=\"10\" x=\"15\" y=\"135\"/>\n",
       "<rect height=\"10\" style=\"fill:rgb(128,128,255);stroke:none\" width=\"10\" x=\"15\" y=\"150\"/>\n",
       "<rect height=\"10\" style=\"fill:rgb(128,128,255);stroke:none\" width=\"10\" x=\"15\" y=\"165\"/>\n",
       "<rect height=\"10\" style=\"fill:rgb(128,128,255);stroke:none\" width=\"10\" x=\"30\" y=\"0\"/>\n",
       "<rect height=\"10\" style=\"fill:rgb(128,128,255);stroke:none\" width=\"10\" x=\"30\" y=\"15\"/>\n",
       "<rect height=\"10\" style=\"fill:rgb(128,128,255);stroke:none\" width=\"10\" x=\"30\" y=\"30\"/>\n",
       "<rect height=\"10\" style=\"fill:rgb(128,128,255);stroke:none\" width=\"10\" x=\"30\" y=\"45\"/>\n",
       "<rect height=\"10\" style=\"fill:rgb(128,128,255);stroke:none\" width=\"10\" x=\"30\" y=\"60\"/>\n",
       "<rect height=\"10\" style=\"fill:rgb(128,128,255);stroke:none\" width=\"10\" x=\"30\" y=\"75\"/>\n",
       "<rect height=\"10\" style=\"fill:rgb(128,128,255);stroke:none\" width=\"10\" x=\"30\" y=\"90\"/>\n",
       "<rect height=\"10\" style=\"fill:rgb(128,128,255);stroke:none\" width=\"10\" x=\"30\" y=\"105\"/>\n",
       "<rect height=\"10\" style=\"fill:rgb(128,128,255);stroke:none\" width=\"10\" x=\"30\" y=\"120\"/>\n",
       "<rect height=\"10\" style=\"fill:rgb(128,128,255);stroke:none\" width=\"10\" x=\"30\" y=\"135\"/>\n",
       "<rect height=\"10\" style=\"fill:rgb(128,128,255);stroke:none\" width=\"10\" x=\"30\" y=\"150\"/>\n",
       "<rect height=\"10\" style=\"fill:rgb(128,128,255);stroke:none\" width=\"10\" x=\"30\" y=\"165\"/>\n",
       "<rect height=\"10\" style=\"fill:rgb(128,128,255);stroke:none\" width=\"10\" x=\"45\" y=\"0\"/>\n",
       "<rect height=\"10\" style=\"fill:rgb(128,128,255);stroke:none\" width=\"10\" x=\"45\" y=\"15\"/>\n",
       "<rect height=\"10\" style=\"fill:rgb(128,128,255);stroke:none\" width=\"10\" x=\"45\" y=\"30\"/>\n",
       "<rect height=\"10\" style=\"fill:rgb(128,128,255);stroke:none\" width=\"10\" x=\"45\" y=\"45\"/>\n",
       "<rect height=\"10\" style=\"fill:rgb(128,128,255);stroke:none\" width=\"10\" x=\"45\" y=\"60\"/>\n",
       "<rect height=\"10\" style=\"fill:rgb(128,128,255);stroke:none\" width=\"10\" x=\"45\" y=\"75\"/>\n",
       "<rect height=\"10\" style=\"fill:rgb(128,128,255);stroke:none\" width=\"10\" x=\"45\" y=\"90\"/>\n",
       "<rect height=\"10\" style=\"fill:rgb(128,128,255);stroke:none\" width=\"10\" x=\"45\" y=\"105\"/>\n",
       "<rect height=\"10\" style=\"fill:rgb(128,128,255);stroke:none\" width=\"10\" x=\"45\" y=\"120\"/>\n",
       "<rect height=\"10\" style=\"fill:rgb(128,128,255);stroke:none\" width=\"10\" x=\"45\" y=\"135\"/>\n",
       "<rect height=\"10\" style=\"fill:rgb(128,128,255);stroke:none\" width=\"10\" x=\"45\" y=\"150\"/>\n",
       "<rect height=\"10\" style=\"fill:rgb(128,128,255);stroke:none\" width=\"10\" x=\"45\" y=\"165\"/>\n",
       "<rect height=\"10\" style=\"fill:rgb(128,128,255);stroke:none\" width=\"10\" x=\"60\" y=\"0\"/>\n",
       "<rect height=\"10\" style=\"fill:rgb(128,128,255);stroke:none\" width=\"10\" x=\"60\" y=\"15\"/>\n",
       "<rect height=\"10\" style=\"fill:rgb(128,128,255);stroke:none\" width=\"10\" x=\"60\" y=\"30\"/>\n",
       "<rect height=\"10\" style=\"fill:rgb(128,128,255);stroke:none\" width=\"10\" x=\"60\" y=\"45\"/>\n",
       "<rect height=\"10\" style=\"fill:rgb(128,128,255);stroke:none\" width=\"10\" x=\"60\" y=\"60\"/>\n",
       "<rect height=\"10\" style=\"fill:rgb(128,128,255);stroke:none\" width=\"10\" x=\"60\" y=\"75\"/>\n",
       "<rect height=\"10\" style=\"fill:rgb(128,128,255);stroke:none\" width=\"10\" x=\"60\" y=\"90\"/>\n",
       "<rect height=\"10\" style=\"fill:rgb(128,128,255);stroke:none\" width=\"10\" x=\"60\" y=\"105\"/>\n",
       "<rect height=\"10\" style=\"fill:rgb(128,128,255);stroke:none\" width=\"10\" x=\"60\" y=\"120\"/>\n",
       "<rect height=\"10\" style=\"fill:rgb(128,128,255);stroke:none\" width=\"10\" x=\"60\" y=\"135\"/>\n",
       "<rect height=\"10\" style=\"fill:rgb(128,128,255);stroke:none\" width=\"10\" x=\"60\" y=\"150\"/>\n",
       "<rect height=\"10\" style=\"fill:rgb(128,128,255);stroke:none\" width=\"10\" x=\"60\" y=\"165\"/>\n",
       "<rect height=\"10\" style=\"fill:rgb(128,128,255);stroke:none\" width=\"10\" x=\"75\" y=\"0\"/>\n",
       "<rect height=\"10\" style=\"fill:rgb(128,128,255);stroke:none\" width=\"10\" x=\"75\" y=\"15\"/>\n",
       "<rect height=\"10\" style=\"fill:rgb(128,128,255);stroke:none\" width=\"10\" x=\"75\" y=\"30\"/>\n",
       "<rect height=\"10\" style=\"fill:rgb(128,128,255);stroke:none\" width=\"10\" x=\"75\" y=\"45\"/>\n",
       "<rect height=\"10\" style=\"fill:rgb(128,128,255);stroke:none\" width=\"10\" x=\"75\" y=\"60\"/>\n",
       "<rect height=\"10\" style=\"fill:rgb(128,128,255);stroke:none\" width=\"10\" x=\"75\" y=\"75\"/>\n",
       "<rect height=\"10\" style=\"fill:rgb(128,128,255);stroke:none\" width=\"10\" x=\"75\" y=\"90\"/>\n",
       "<rect height=\"10\" style=\"fill:rgb(128,128,255);stroke:none\" width=\"10\" x=\"75\" y=\"105\"/>\n",
       "<rect height=\"10\" style=\"fill:rgb(128,128,255);stroke:none\" width=\"10\" x=\"75\" y=\"120\"/>\n",
       "<rect height=\"10\" style=\"fill:rgb(128,128,255);stroke:none\" width=\"10\" x=\"75\" y=\"135\"/>\n",
       "<rect height=\"10\" style=\"fill:rgb(128,128,255);stroke:none\" width=\"10\" x=\"75\" y=\"150\"/>\n",
       "<rect height=\"10\" style=\"fill:rgb(128,128,255);stroke:none\" width=\"10\" x=\"75\" y=\"165\"/>\n",
       "<rect height=\"10\" style=\"fill:rgb(128,128,255);stroke:none\" width=\"10\" x=\"90\" y=\"0\"/>\n",
       "<rect height=\"10\" style=\"fill:rgb(128,128,255);stroke:none\" width=\"10\" x=\"90\" y=\"15\"/>\n",
       "<rect height=\"10\" style=\"fill:rgb(128,128,255);stroke:none\" width=\"10\" x=\"90\" y=\"30\"/>\n",
       "<rect height=\"10\" style=\"fill:rgb(128,128,255);stroke:none\" width=\"10\" x=\"90\" y=\"45\"/>\n",
       "<rect height=\"10\" style=\"fill:rgb(128,128,255);stroke:none\" width=\"10\" x=\"90\" y=\"60\"/>\n",
       "<rect height=\"10\" style=\"fill:rgb(128,128,255);stroke:none\" width=\"10\" x=\"90\" y=\"75\"/>\n",
       "<rect height=\"10\" style=\"fill:rgb(128,128,255);stroke:none\" width=\"10\" x=\"90\" y=\"90\"/>\n",
       "<rect height=\"10\" style=\"fill:rgb(128,128,255);stroke:none\" width=\"10\" x=\"90\" y=\"105\"/>\n",
       "<rect height=\"10\" style=\"fill:rgb(128,128,255);stroke:none\" width=\"10\" x=\"90\" y=\"120\"/>\n",
       "<rect height=\"10\" style=\"fill:rgb(128,128,255);stroke:none\" width=\"10\" x=\"90\" y=\"135\"/>\n",
       "<rect height=\"10\" style=\"fill:rgb(128,128,255);stroke:none\" width=\"10\" x=\"90\" y=\"150\"/>\n",
       "<rect height=\"10\" style=\"fill:rgb(128,128,255);stroke:none\" width=\"10\" x=\"90\" y=\"165\"/>\n",
       "<rect height=\"10\" style=\"fill:rgb(128,128,255);stroke:none\" width=\"10\" x=\"105\" y=\"0\"/>\n",
       "<rect height=\"10\" style=\"fill:rgb(128,128,255);stroke:none\" width=\"10\" x=\"105\" y=\"15\"/>\n",
       "<rect height=\"10\" style=\"fill:rgb(128,128,255);stroke:none\" width=\"10\" x=\"105\" y=\"30\"/>\n",
       "<rect height=\"10\" style=\"fill:rgb(128,128,255);stroke:none\" width=\"10\" x=\"105\" y=\"45\"/>\n",
       "<rect height=\"10\" style=\"fill:rgb(128,128,255);stroke:none\" width=\"10\" x=\"105\" y=\"60\"/>\n",
       "<rect height=\"10\" style=\"fill:rgb(128,128,255);stroke:none\" width=\"10\" x=\"105\" y=\"75\"/>\n",
       "<rect height=\"10\" style=\"fill:rgb(128,128,255);stroke:none\" width=\"10\" x=\"105\" y=\"90\"/>\n",
       "<rect height=\"10\" style=\"fill:rgb(128,128,255);stroke:none\" width=\"10\" x=\"105\" y=\"105\"/>\n",
       "<rect height=\"10\" style=\"fill:rgb(128,128,255);stroke:none\" width=\"10\" x=\"105\" y=\"120\"/>\n",
       "<rect height=\"10\" style=\"fill:rgb(128,128,255);stroke:none\" width=\"10\" x=\"105\" y=\"135\"/>\n",
       "<rect height=\"10\" style=\"fill:rgb(128,128,255);stroke:none\" width=\"10\" x=\"105\" y=\"150\"/>\n",
       "<rect height=\"10\" style=\"fill:rgb(128,128,255);stroke:none\" width=\"10\" x=\"105\" y=\"165\"/>\n",
       "<rect height=\"10\" style=\"fill:rgb(128,128,255);stroke:none\" width=\"10\" x=\"120\" y=\"0\"/>\n",
       "<rect height=\"10\" style=\"fill:rgb(128,128,255);stroke:none\" width=\"10\" x=\"120\" y=\"15\"/>\n",
       "<rect height=\"10\" style=\"fill:rgb(128,128,255);stroke:none\" width=\"10\" x=\"120\" y=\"30\"/>\n",
       "<rect height=\"10\" style=\"fill:rgb(128,128,255);stroke:none\" width=\"10\" x=\"120\" y=\"45\"/>\n",
       "<rect height=\"10\" style=\"fill:rgb(128,128,255);stroke:none\" width=\"10\" x=\"120\" y=\"60\"/>\n",
       "<rect height=\"10\" style=\"fill:rgb(128,128,255);stroke:none\" width=\"10\" x=\"120\" y=\"75\"/>\n",
       "<rect height=\"10\" style=\"fill:rgb(128,128,255);stroke:none\" width=\"10\" x=\"120\" y=\"90\"/>\n",
       "<rect height=\"10\" style=\"fill:rgb(128,128,255);stroke:none\" width=\"10\" x=\"120\" y=\"105\"/>\n",
       "<rect height=\"10\" style=\"fill:rgb(128,128,255);stroke:none\" width=\"10\" x=\"120\" y=\"120\"/>\n",
       "<rect height=\"10\" style=\"fill:rgb(128,128,255);stroke:none\" width=\"10\" x=\"120\" y=\"135\"/>\n",
       "<rect height=\"10\" style=\"fill:rgb(128,128,255);stroke:none\" width=\"10\" x=\"120\" y=\"150\"/>\n",
       "<rect height=\"10\" style=\"fill:rgb(128,128,255);stroke:none\" width=\"10\" x=\"120\" y=\"165\"/>\n",
       "<rect height=\"10\" style=\"fill:rgb(128,128,255);stroke:none\" width=\"10\" x=\"135\" y=\"0\"/>\n",
       "<rect height=\"10\" style=\"fill:rgb(128,128,255);stroke:none\" width=\"10\" x=\"135\" y=\"15\"/>\n",
       "<rect height=\"10\" style=\"fill:rgb(128,128,255);stroke:none\" width=\"10\" x=\"135\" y=\"30\"/>\n",
       "<rect height=\"10\" style=\"fill:rgb(128,128,255);stroke:none\" width=\"10\" x=\"135\" y=\"45\"/>\n",
       "<rect height=\"10\" style=\"fill:rgb(128,128,255);stroke:none\" width=\"10\" x=\"135\" y=\"60\"/>\n",
       "<rect height=\"10\" style=\"fill:rgb(128,128,255);stroke:none\" width=\"10\" x=\"135\" y=\"75\"/>\n",
       "<rect height=\"10\" style=\"fill:rgb(128,128,255);stroke:none\" width=\"10\" x=\"135\" y=\"90\"/>\n",
       "<rect height=\"10\" style=\"fill:rgb(128,128,255);stroke:none\" width=\"10\" x=\"135\" y=\"105\"/>\n",
       "<rect height=\"10\" style=\"fill:rgb(128,128,255);stroke:none\" width=\"10\" x=\"135\" y=\"120\"/>\n",
       "<rect height=\"10\" style=\"fill:rgb(128,128,255);stroke:none\" width=\"10\" x=\"135\" y=\"135\"/>\n",
       "<rect height=\"10\" style=\"fill:rgb(128,128,255);stroke:none\" width=\"10\" x=\"135\" y=\"150\"/>\n",
       "<rect height=\"10\" style=\"fill:rgb(128,128,255);stroke:none\" width=\"10\" x=\"135\" y=\"165\"/>\n",
       "<rect height=\"10\" style=\"fill:rgb(128,128,255);stroke:none\" width=\"10\" x=\"150\" y=\"0\"/>\n",
       "<rect height=\"10\" style=\"fill:rgb(128,128,255);stroke:none\" width=\"10\" x=\"150\" y=\"15\"/>\n",
       "<rect height=\"10\" style=\"fill:rgb(128,128,255);stroke:none\" width=\"10\" x=\"150\" y=\"30\"/>\n",
       "<rect height=\"10\" style=\"fill:rgb(128,128,255);stroke:none\" width=\"10\" x=\"150\" y=\"45\"/>\n",
       "<rect height=\"10\" style=\"fill:rgb(128,128,255);stroke:none\" width=\"10\" x=\"150\" y=\"60\"/>\n",
       "<rect height=\"10\" style=\"fill:rgb(128,128,255);stroke:none\" width=\"10\" x=\"150\" y=\"75\"/>\n",
       "<rect height=\"10\" style=\"fill:rgb(128,128,255);stroke:none\" width=\"10\" x=\"150\" y=\"90\"/>\n",
       "<rect height=\"10\" style=\"fill:rgb(128,128,255);stroke:none\" width=\"10\" x=\"150\" y=\"105\"/>\n",
       "<rect height=\"10\" style=\"fill:rgb(128,128,255);stroke:none\" width=\"10\" x=\"150\" y=\"120\"/>\n",
       "<rect height=\"10\" style=\"fill:rgb(128,128,255);stroke:none\" width=\"10\" x=\"150\" y=\"135\"/>\n",
       "<rect height=\"10\" style=\"fill:rgb(128,128,255);stroke:none\" width=\"10\" x=\"150\" y=\"150\"/>\n",
       "<rect height=\"10\" style=\"fill:rgb(128,128,255);stroke:none\" width=\"10\" x=\"150\" y=\"165\"/>\n",
       "<rect height=\"10\" style=\"fill:rgb(128,128,255);stroke:none\" width=\"10\" x=\"165\" y=\"0\"/>\n",
       "<rect height=\"10\" style=\"fill:rgb(128,128,255);stroke:none\" width=\"10\" x=\"165\" y=\"15\"/>\n",
       "<rect height=\"10\" style=\"fill:rgb(128,128,255);stroke:none\" width=\"10\" x=\"165\" y=\"30\"/>\n",
       "<rect height=\"10\" style=\"fill:rgb(128,128,255);stroke:none\" width=\"10\" x=\"165\" y=\"45\"/>\n",
       "<rect height=\"10\" style=\"fill:rgb(128,128,255);stroke:none\" width=\"10\" x=\"165\" y=\"60\"/>\n",
       "<rect height=\"10\" style=\"fill:rgb(128,128,255);stroke:none\" width=\"10\" x=\"165\" y=\"75\"/>\n",
       "<rect height=\"10\" style=\"fill:rgb(128,128,255);stroke:none\" width=\"10\" x=\"165\" y=\"90\"/>\n",
       "<rect height=\"10\" style=\"fill:rgb(128,128,255);stroke:none\" width=\"10\" x=\"165\" y=\"105\"/>\n",
       "<rect height=\"10\" style=\"fill:rgb(128,128,255);stroke:none\" width=\"10\" x=\"165\" y=\"120\"/>\n",
       "<rect height=\"10\" style=\"fill:rgb(128,128,255);stroke:none\" width=\"10\" x=\"165\" y=\"135\"/>\n",
       "<rect height=\"10\" style=\"fill:rgb(128,128,255);stroke:none\" width=\"10\" x=\"165\" y=\"150\"/>\n",
       "<rect height=\"10\" style=\"fill:rgb(128,128,255);stroke:none\" width=\"10\" x=\"165\" y=\"165\"/></svg>"
      ],
      "text/plain": [
       "<IPython.core.display.SVG object>"
      ]
     },
     "metadata": {},
     "output_type": "display_data"
    }
   ],
   "source": [
    "display(SVG(data=draw_gpt(*gpt1_hyp)))"
   ]
  },
  {
   "cell_type": "code",
   "execution_count": 29,
   "metadata": {},
   "outputs": [
    {
     "data": {
      "image/svg+xml": [
       "<svg height=\"30\" width=\"120\">\n",
       "<rect height=\"10\" style=\"fill:rgb(128,128,255);stroke:none\" width=\"10\" x=\"0\" y=\"0\"/>\n",
       "<rect height=\"10\" style=\"fill:rgb(128,128,255);stroke:none\" width=\"10\" x=\"0\" y=\"15\"/>\n",
       "<rect height=\"10\" style=\"fill:rgb(128,128,255);stroke:none\" width=\"10\" x=\"15\" y=\"0\"/>\n",
       "<rect height=\"10\" style=\"fill:rgb(128,128,255);stroke:none\" width=\"10\" x=\"15\" y=\"15\"/>\n",
       "<rect height=\"10\" style=\"fill:rgb(128,128,255);stroke:none\" width=\"10\" x=\"30\" y=\"0\"/>\n",
       "<rect height=\"10\" style=\"fill:rgb(128,128,255);stroke:none\" width=\"10\" x=\"30\" y=\"15\"/>\n",
       "<rect height=\"10\" style=\"fill:rgb(128,128,255);stroke:none\" width=\"10\" x=\"45\" y=\"0\"/>\n",
       "<rect height=\"10\" style=\"fill:rgb(128,128,255);stroke:none\" width=\"10\" x=\"45\" y=\"15\"/>\n",
       "<rect height=\"10\" style=\"fill:rgb(128,128,255);stroke:none\" width=\"10\" x=\"60\" y=\"0\"/>\n",
       "<rect height=\"10\" style=\"fill:rgb(128,128,255);stroke:none\" width=\"10\" x=\"60\" y=\"15\"/>\n",
       "<rect height=\"10\" style=\"fill:rgb(128,128,255);stroke:none\" width=\"10\" x=\"75\" y=\"0\"/>\n",
       "<rect height=\"10\" style=\"fill:rgb(128,128,255);stroke:none\" width=\"10\" x=\"75\" y=\"15\"/>\n",
       "<rect height=\"10\" style=\"fill:rgb(128,128,255);stroke:none\" width=\"10\" x=\"90\" y=\"0\"/>\n",
       "<rect height=\"10\" style=\"fill:rgb(128,128,255);stroke:none\" width=\"10\" x=\"90\" y=\"15\"/>\n",
       "<rect height=\"10\" style=\"fill:rgb(128,128,255);stroke:none\" width=\"10\" x=\"105\" y=\"0\"/>\n",
       "<rect height=\"10\" style=\"fill:rgb(128,128,255);stroke:none\" width=\"10\" x=\"105\" y=\"15\"/></svg>"
      ],
      "text/plain": [
       "<IPython.core.display.SVG object>"
      ]
     },
     "metadata": {},
     "output_type": "display_data"
    }
   ],
   "source": [
    "display(SVG(data=draw_gpt(2, 8, 64)))"
   ]
  },
  {
   "cell_type": "code",
   "execution_count": 18,
   "metadata": {
    "scrolled": false
   },
   "outputs": [],
   "source": [
    "gpt_layers = [12, 24, 24, 24, 32, 32, 40, 96]\n",
    "gpt_heads = [12, 16, 16, 16, 32, 32, 40, 96]\n",
    "gpt_dimh = [64, 64, 96, 128, 80, 128, 128, 128]\n",
    "\n",
    "gpts = [*zip(gpt_layers, gpt_heads, gpt_dimh)]\n",
    "\n",
    "for (i, gpt) in enumerate(gpts):\n",
    "    with open(f'gptviz_{i}.svg', 'w') as f:\n",
    "        f.write(draw_gpt(*gpt))"
   ]
  },
  {
   "cell_type": "code",
   "execution_count": 23,
   "metadata": {},
   "outputs": [],
   "source": [
    "def nparams(layers, heads, dimh):\n",
    "    hidh = heads * dimh\n",
    "    return 12 * hidh**2 * layers / 10**6, 50257 * hidh / 10 ** 6"
   ]
  },
  {
   "cell_type": "code",
   "execution_count": 25,
   "metadata": {},
   "outputs": [
    {
     "data": {
      "text/plain": [
       "[123.532032,\n",
       " 353.453056,\n",
       " 756.672,\n",
       " 1310.885888,\n",
       " 2645.24032,\n",
       " 6648.303616,\n",
       " 12840.22784,\n",
       " 174563.733504]"
      ]
     },
     "execution_count": 25,
     "metadata": {},
     "output_type": "execute_result"
    }
   ],
   "source": [
    "[sum(nparams(*gpt)) for gpt in gpts]"
   ]
  },
  {
   "cell_type": "code",
   "execution_count": 26,
   "metadata": {},
   "outputs": [
    {
     "data": {
      "text/plain": [
       "[(84.934656, 38.597376),\n",
       " (301.989888, 51.463168),\n",
       " (679.477248, 77.194752),\n",
       " (1207.959552, 102.926336),\n",
       " (2516.5824, 128.65792),\n",
       " (6442.450944, 205.852672),\n",
       " (12582.912, 257.31584),\n",
       " (173946.175488, 617.558016)]"
      ]
     },
     "execution_count": 26,
     "metadata": {},
     "output_type": "execute_result"
    }
   ],
   "source": [
    "[(nparams(*gpt)) for gpt in gpts]"
   ]
  },
  {
   "cell_type": "code",
   "execution_count": 41,
   "metadata": {},
   "outputs": [],
   "source": [
    "with open(f'gptviz_2L.svg', 'w') as f:\n",
    "        f.write(draw_gpt(2, 8, 32))"
   ]
  },
  {
   "cell_type": "code",
   "execution_count": 40,
   "metadata": {},
   "outputs": [
    {
     "data": {
      "text/plain": [
       "(1.572864, 12.865792)"
      ]
     },
     "execution_count": 40,
     "metadata": {},
     "output_type": "execute_result"
    }
   ],
   "source": [
    "nparams(2, 8, 32)"
   ]
  },
  {
   "cell_type": "code",
   "execution_count": 37,
   "metadata": {},
   "outputs": [
    {
     "data": {
      "text/plain": [
       "32.02304"
      ]
     },
     "execution_count": 37,
     "metadata": {},
     "output_type": "execute_result"
    }
   ],
   "source": [
    "sum(_)"
   ]
  },
  {
   "cell_type": "code",
   "execution_count": 38,
   "metadata": {},
   "outputs": [
    {
     "data": {
      "text/plain": [
       "(707.7888, 64.32896)"
      ]
     },
     "execution_count": 38,
     "metadata": {},
     "output_type": "execute_result"
    }
   ],
   "source": [
    "nparams(36, 20, 1280//20)"
   ]
  },
  {
   "cell_type": "code",
   "execution_count": null,
   "metadata": {},
   "outputs": [],
   "source": []
  }
 ],
 "metadata": {
  "kernelspec": {
   "display_name": "Python 3 (ipykernel)",
   "language": "python",
   "name": "python3"
  },
  "language_info": {
   "codemirror_mode": {
    "name": "ipython",
    "version": 3
   },
   "file_extension": ".py",
   "mimetype": "text/x-python",
   "name": "python",
   "nbconvert_exporter": "python",
   "pygments_lexer": "ipython3",
   "version": "3.11.1"
  }
 },
 "nbformat": 4,
 "nbformat_minor": 4
}
