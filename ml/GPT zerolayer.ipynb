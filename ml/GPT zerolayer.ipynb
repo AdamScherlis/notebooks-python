{
 "cells": [
  {
   "cell_type": "code",
   "execution_count": null,
   "metadata": {},
   "outputs": [],
   "source": [
    "# 2021-09\n",
    "# noodling around with GPT2's token embeddings\n",
    "# has some handy utility functions at the bottom"
   ]
  },
  {
   "cell_type": "code",
   "execution_count": 2,
   "metadata": {},
   "outputs": [],
   "source": [
    "import torch as t"
   ]
  },
  {
   "cell_type": "code",
   "execution_count": 3,
   "metadata": {},
   "outputs": [
    {
     "name": "stderr",
     "output_type": "stream",
     "text": [
      "/home/adam/.local/lib/python3.6/site-packages/transformers/models/auto/modeling_auto.py:1010: FutureWarning: The class `AutoModelWithLMHead` is deprecated and will be removed in a future version. Please use `AutoModelForCausalLM` for causal language models, `AutoModelForMaskedLM` for masked language models and `AutoModelForSeq2SeqLM` for encoder-decoder models.\n",
      "  FutureWarning,\n"
     ]
    }
   ],
   "source": [
    "from transformers import AutoTokenizer, AutoModelWithLMHead\n",
    "  \n",
    "tokenizer = AutoTokenizer.from_pretrained(\"gpt2\")\n",
    "\n",
    "model = AutoModelWithLMHead.from_pretrained(\"gpt2\")"
   ]
  },
  {
   "cell_type": "code",
   "execution_count": 4,
   "metadata": {},
   "outputs": [],
   "source": [
    "from transformers import GPT2Model\n"
   ]
  },
  {
   "cell_type": "code",
   "execution_count": 5,
   "metadata": {},
   "outputs": [],
   "source": [
    "w = list(model.transformer.wte.named_parameters())[0][1]"
   ]
  },
  {
   "cell_type": "code",
   "execution_count": 6,
   "metadata": {},
   "outputs": [
    {
     "data": {
      "text/plain": [
       "torch.Size([50257, 768])"
      ]
     },
     "execution_count": 6,
     "metadata": {},
     "output_type": "execute_result"
    }
   ],
   "source": [
    "w.shape"
   ]
  },
  {
   "cell_type": "code",
   "execution_count": 7,
   "metadata": {},
   "outputs": [],
   "source": [
    "tok2tok = w @ w.T"
   ]
  },
  {
   "cell_type": "code",
   "execution_count": null,
   "metadata": {},
   "outputs": [],
   "source": [
    "t.median(tok2tok)"
   ]
  },
  {
   "cell_type": "code",
   "execution_count": 9,
   "metadata": {},
   "outputs": [
    {
     "data": {
      "text/plain": [
       "tensor([3.2481, 2.6960, 4.7101,  ..., 8.3717, 8.0132, 3.1817],\n",
       "       grad_fn=<SelectBackward>)"
      ]
     },
     "execution_count": 9,
     "metadata": {},
     "output_type": "execute_result"
    }
   ],
   "source": [
    "tok2tok[41215]"
   ]
  },
  {
   "cell_type": "code",
   "execution_count": 10,
   "metadata": {},
   "outputs": [
    {
     "data": {
      "text/plain": [
       "torch.Size([50257])"
      ]
     },
     "execution_count": 10,
     "metadata": {},
     "output_type": "execute_result"
    }
   ],
   "source": [
    "tok2tok[0].shape"
   ]
  },
  {
   "cell_type": "code",
   "execution_count": 11,
   "metadata": {},
   "outputs": [],
   "source": [
    "outs = t.argmax(tok2tok, 0)"
   ]
  },
  {
   "cell_type": "code",
   "execution_count": 12,
   "metadata": {},
   "outputs": [],
   "source": [
    "mismatch = t.where(outs != t.arange(50257))"
   ]
  },
  {
   "cell_type": "code",
   "execution_count": 35,
   "metadata": {},
   "outputs": [
    {
     "data": {
      "text/plain": [
       "torch.Size([172])"
      ]
     },
     "execution_count": 35,
     "metadata": {},
     "output_type": "execute_result"
    }
   ],
   "source": [
    "_33[0].shape"
   ]
  },
  {
   "cell_type": "code",
   "execution_count": 13,
   "metadata": {},
   "outputs": [
    {
     "data": {
      "text/plain": [
       "tensor([41215, 41215, 41215, 41215, 41215, 41215, 41215, 41215, 41215, 41215,\n",
       "        41215, 41215, 41215, 41215, 41215, 24847, 41215, 41215, 41215, 41215,\n",
       "        41215, 41215, 41215, 41215, 41215, 41215, 41215, 41215, 41215, 41215,\n",
       "        41215, 41215, 41215, 41215, 41215, 41215, 41215, 41215, 41215, 41215,\n",
       "        41215, 41215, 41215, 24847, 41215, 21387, 27267, 32826, 30823, 48220,\n",
       "        46248, 36591, 46503, 15948, 16480, 16549, 17402, 16010, 14581, 16504,\n",
       "        48307, 49161, 48101, 17940, 25777, 25284, 27012, 25631, 23421, 21569,\n",
       "        21607, 21816, 23604, 40029, 27079, 27429, 31135,  2941, 25705, 39379,\n",
       "        28203, 15905, 37114, 25934, 19727, 33006, 18308, 41017, 29818, 31710,\n",
       "        22614, 42747, 31359, 38036, 31274, 44023, 33387, 44814, 40610, 31632,\n",
       "        34007, 36939, 41330, 49752, 39190, 38485, 42325, 41072, 43584, 40732,\n",
       "        45001, 45696, 44059, 42184, 41191, 40404, 37338, 40540, 45355, 41243,\n",
       "        47230, 42349, 29998, 42694, 45670, 49177, 49097,  5808, 43482, 45186,\n",
       "        43377, 43451, 40744, 40245, 42872, 48559, 37039, 27984, 37396, 32895,\n",
       "        44350, 49153, 46139, 32334, 49818, 45330, 44232, 41351, 39018, 42826,\n",
       "        41053, 23622, 46172, 42918, 46230, 24847, 44960, 48337, 40242, 24847,\n",
       "        24847, 41215, 41215, 41215, 41215, 24847, 41215, 40242, 41215, 41215,\n",
       "        41215, 41215])"
      ]
     },
     "execution_count": 13,
     "metadata": {},
     "output_type": "execute_result"
    }
   ],
   "source": [
    "outs[mismatch]"
   ]
  },
  {
   "cell_type": "code",
   "execution_count": 68,
   "metadata": {},
   "outputs": [
    {
     "data": {
      "text/plain": [
       "'ÃÂÃÂÃÂÃÂ'"
      ]
     },
     "execution_count": 68,
     "metadata": {},
     "output_type": "execute_result"
    }
   ],
   "source": [
    "b'\\xc3\\x83\\xc3\\x82\\xc3\\x83\\xc3\\x82\\xc3\\x83\\xc3\\x82\\xc3\\x83\\xc3\\x82'.decode()"
   ]
  },
  {
   "cell_type": "code",
   "execution_count": 71,
   "metadata": {},
   "outputs": [
    {
     "ename": "UnicodeDecodeError",
     "evalue": "'utf-8' codec can't decode byte 0xf0 in position 0: unexpected end of data",
     "output_type": "error",
     "traceback": [
      "\u001b[0;31m---------------------------------------------------------------------------\u001b[0m",
      "\u001b[0;31mUnicodeDecodeError\u001b[0m                        Traceback (most recent call last)",
      "\u001b[0;32m<ipython-input-71-618df56d0c8c>\u001b[0m in \u001b[0;36m<module>\u001b[0;34m\u001b[0m\n\u001b[0;32m----> 1\u001b[0;31m \u001b[0;34mb'\\xf0'\u001b[0m\u001b[0;34m.\u001b[0m\u001b[0mdecode\u001b[0m\u001b[0;34m(\u001b[0m\u001b[0;34m)\u001b[0m\u001b[0;34m\u001b[0m\u001b[0;34m\u001b[0m\u001b[0m\n\u001b[0m",
      "\u001b[0;31mUnicodeDecodeError\u001b[0m: 'utf-8' codec can't decode byte 0xf0 in position 0: unexpected end of data"
     ]
    }
   ],
   "source": [
    "b'\\xf0'.decode()"
   ]
  },
  {
   "cell_type": "code",
   "execution_count": 1,
   "metadata": {},
   "outputs": [],
   "source": [
    "def tryuni(bs):\n",
    "    try:\n",
    "        return bs.decode()\n",
    "    except UnicodeDecodeError:\n",
    "        return bs"
   ]
  },
  {
   "cell_type": "code",
   "execution_count": 19,
   "metadata": {
    "scrolled": false
   },
   "outputs": [
    {
     "data": {
      "text/plain": [
       "[(124, b'\\xc0', 41215, 'conservancy'),\n",
       " (125, b'\\xc1', 41215, 'conservancy'),\n",
       " (177, b'\\xf5', 41215, 'conservancy'),\n",
       " (178, b'\\xf6', 41215, 'conservancy'),\n",
       " (179, b'\\xf7', 41215, 'conservancy'),\n",
       " (180, b'\\xf8', 41215, 'conservancy'),\n",
       " (181, b'\\xf9', 41215, 'conservancy'),\n",
       " (182, b'\\xfa', 41215, 'conservancy'),\n",
       " (183, b'\\xfb', 41215, 'conservancy'),\n",
       " (184, b'\\xfc', 41215, 'conservancy'),\n",
       " (185, b'\\xfd', 41215, 'conservancy'),\n",
       " (186, b'\\xfe', 41215, 'conservancy'),\n",
       " (187, b'\\xff', 41215, 'conservancy'),\n",
       " (188, '\\x00', 41215, 'conservancy'),\n",
       " (189, '\\x01', 41215, 'conservancy'),\n",
       " (190, '\\x02', 24847, 'ModLoader'),\n",
       " (191, '\\x03', 41215, 'conservancy'),\n",
       " (192, '\\x04', 41215, 'conservancy'),\n",
       " (193, '\\x05', 41215, 'conservancy'),\n",
       " (194, '\\x06', 41215, 'conservancy'),\n",
       " (195, '\\x07', 41215, 'conservancy'),\n",
       " (196, '\\x08', 41215, 'conservancy'),\n",
       " (197, '\\t', 41215, 'conservancy'),\n",
       " (199, '\\x0b', 41215, 'conservancy'),\n",
       " (200, '\\x0c', 41215, 'conservancy'),\n",
       " (201, '\\r', 41215, 'conservancy'),\n",
       " (202, '\\x0e', 41215, 'conservancy'),\n",
       " (203, '\\x0f', 41215, 'conservancy'),\n",
       " (204, '\\x10', 41215, 'conservancy'),\n",
       " (205, '\\x11', 41215, 'conservancy'),\n",
       " (206, '\\x12', 41215, 'conservancy'),\n",
       " (207, '\\x13', 41215, 'conservancy'),\n",
       " (208, '\\x14', 41215, 'conservancy'),\n",
       " (209, '\\x15', 41215, 'conservancy'),\n",
       " (210, '\\x16', 41215, 'conservancy'),\n",
       " (211, '\\x17', 41215, 'conservancy'),\n",
       " (212, '\\x18', 41215, 'conservancy'),\n",
       " (213, '\\x19', 41215, 'conservancy'),\n",
       " (214, '\\x1a', 41215, 'conservancy'),\n",
       " (215, '\\x1b', 41215, 'conservancy'),\n",
       " (216, '\\x1c', 41215, 'conservancy'),\n",
       " (217, '\\x1d', 41215, 'conservancy'),\n",
       " (218, '\\x1e', 41215, 'conservancy'),\n",
       " (219, '\\x1f', 24847, 'ModLoader'),\n",
       " (221, '\\x7f', 41215, 'conservancy'),\n",
       " (737, ').', 21387, ').\"'),\n",
       " (828, '),', 27267, '),\"'),\n",
       " (1028, ' against', 32826, 'against'),\n",
       " (1701, '?\"', 30823, '?!\"'),\n",
       " (1911, '\".', 48220, '!\".'),\n",
       " (2130, ' someone', 46248, 'someone'),\n",
       " (2383, ' significant', 36591, 'significant'),\n",
       " (2440, ' higher', 46503, 'higher'),\n",
       " (2486, ' Obama', 15948, 'Obama'),\n",
       " (2592, ' especially', 16480, 'especially'),\n",
       " (2605, ' Clinton', 16549, 'Clinton'),\n",
       " (2669, ' Washington', 17402, 'Washington'),\n",
       " (2679, ' German', 16010, 'German'),\n",
       " (2807, ' China', 14581, 'China'),\n",
       " (2869, ' Japan', 16504, 'Japan'),\n",
       " (3034, ' economic', 48307, 'Economic'),\n",
       " (3206, ' sexual', 49161, 'Sexual'),\n",
       " (3294, ' multiple', 48101, 'multiple'),\n",
       " (3340, ' Canada', 17940, 'Canada'),\n",
       " (3415, ' Republican', 25777, 'Republican'),\n",
       " (3442, ' California', 25284, 'California'),\n",
       " (3511, ' yourself', 27012, ' yourselves'),\n",
       " (3517, ' British', 25631, 'British'),\n",
       " (3576, ' London', 23421, 'London'),\n",
       " (3794, ' India', 21569, 'India'),\n",
       " (3936, ' Texas', 21607, 'Texas'),\n",
       " (3945, ' February', 21816, 'February'),\n",
       " (3999, ' Chinese', 23604, 'Chinese'),\n",
       " (4392, ' Syria', 40029, 'Syria'),\n",
       " (4486, ' Germany', 27079, 'Germany'),\n",
       " (4505, ' Australia', 27429, 'Australia'),\n",
       " (4744, ' Florida', 31135, 'Florida'),\n",
       " (4821, 'According', 2941, 'ccording'),\n",
       " (4842, ' Chicago', 25705, 'Chicago'),\n",
       " (5349, ' FBI', 39379, 'FBI'),\n",
       " (5398, ' Canadian', 28203, 'Canadian'),\n",
       " (5413, ' Microsoft', 15905, 'Microsoft'),\n",
       " (5491, ' Britain', 37114, 'Britain'),\n",
       " (5565, ' Android', 25934, 'Android'),\n",
       " (5613, ' Peter', 19727, 'Peter'),\n",
       " (5828, ' Mexico', 33006, 'Mexico'),\n",
       " (5850, ' Harry', 18308, 'Harry'),\n",
       " (6025, ' Virginia', 41017, 'Virginia'),\n",
       " (6085, ' Israeli', 29818, 'Israeli'),\n",
       " (6182, ' Boston', 31710, 'Boston'),\n",
       " (6185, ' Bitcoin', 22614, 'Bitcoin'),\n",
       " (6318, ' Syrian', 42747, 'Syrian'),\n",
       " (6586, ' Toronto', 31359, 'Toronto'),\n",
       " (6638, ' Australian', 38036, 'Australian'),\n",
       " (6835, ' Ohio', 31274, 'Ohio'),\n",
       " (6906, ' depending', 44023, 'depending'),\n",
       " (6995, ' Houston', 33387, 'Houston'),\n",
       " (7049, ' Ukraine', 44814, 'Ukraine'),\n",
       " (7055, ' Michigan', 40610, 'Michigan'),\n",
       " (7137, ' Turkey', 31632, 'Turkey'),\n",
       " (7312, ' Seattle', 34007, 'Seattle'),\n",
       " (7420, ' Saudi', 36939, 'Saudi'),\n",
       " (7492, ' Colorado', 41330, 'Colorado'),\n",
       " (7517, ' Ireland', 49752, 'Ireland'),\n",
       " (7595, ' Brazil', 39190, 'Brazil'),\n",
       " (7648, ' Pakistan', 38485, 'Pakistan'),\n",
       " (7702, ' radical', 42325, 'radical'),\n",
       " (7859, ' Georgia', 41072, 'Georgia'),\n",
       " (7897, ' Spanish', 43584, 'Spanish'),\n",
       " (7943, ' Arizona', 40732, 'Arizona'),\n",
       " (8031, ' Italy', 45001, 'Italy'),\n",
       " (8200, ' Italian', 45696, 'Italian'),\n",
       " (8312, ' Greek', 44059, 'Greek'),\n",
       " (8431, ' Romney', 42184, 'Romney'),\n",
       " (8437, ' Miami', 41191, 'Miami'),\n",
       " (8488, ' Detroit', 40404, 'Detroit'),\n",
       " (8519, ' Disney', 37338, 'Disney'),\n",
       " (8533, ' Dallas', 40540, 'Dallas'),\n",
       " (8602, ' Spain', 45355, 'Spain'),\n",
       " (8819, ' Oregon', 41243, 'Oregon'),\n",
       " (8838, ' Scotland', 47230, 'Scotland'),\n",
       " (8857, ' Philadelphia', 42349, 'Philadelphia'),\n",
       " (8884, ' NASA', 29998, 'NASA'),\n",
       " (8909, ' Santa', 42694, 'Santa'),\n",
       " (8919, ' Minnesota', 45670, 'Minnesota'),\n",
       " (9266, ' Alabama', 49177, 'Alabama'),\n",
       " (9279, ' Wisconsin', 49097, 'Wisconsin'),\n",
       " (9364, 'ÃÂÃÂÃÂÃÂ', 5808, 'ÃÂ'),\n",
       " (9371, ' Atlanta', 43482, 'Atlanta'),\n",
       " (9406, ' Iowa', 45186, 'Iowa'),\n",
       " (9445, ' Xbox', 43377, 'Xbox'),\n",
       " (9470, ' Kansas', 43451, 'Kansas'),\n",
       " (9502, ' Manchester', 40744, 'Manchester'),\n",
       " (9533, ' Austin', 40245, 'Austin'),\n",
       " (9663, ' Turkish', 42872, 'Turkish'),\n",
       " (9764, ' Hong', 48559, 'Hong'),\n",
       " (9827, ' Batman', 37039, 'Batman'),\n",
       " (9935, ' Dave', 27984, 'Dave'),\n",
       " (10106, ' Mayor', 37396, 'Mayor'),\n",
       " (10184, ' Sony', 32895, 'Sony'),\n",
       " (10202, ' Utah', 44350, 'Utah'),\n",
       " (10278, ' Indiana', 49153, 'Indiana'),\n",
       " (10346, ' Baltimore', 46139, 'Baltimore'),\n",
       " (10397, ' Samsung', 32334, 'Samsung'),\n",
       " (10656, ' Denver', 49818, 'Denver'),\n",
       " (10727, ' Portland', 45330, 'Portland'),\n",
       " (11761, ' Liverpool', 44232, 'Liverpool'),\n",
       " (11938, ' Tesla', 41351, 'Tesla'),\n",
       " (12024, ' Uber', 39018, 'Uber'),\n",
       " (12074, ' Netflix', 42826, 'Netflix'),\n",
       " (12147, ' Chelsea', 41053, 'Chelsea'),\n",
       " (13032, ' Assad', 23622, 'Assad'),\n",
       " (13258, ' Pope', 46172, 'Pope'),\n",
       " (13633, ' Larry', 42918, 'Larry'),\n",
       " (13837, ' Arsenal', 46230, 'Arsenal'),\n",
       " (14827, 'ÃÂÃÂÃÂÃÂÃÂÃÂÃÂÃÂ', 24847, 'ModLoader'),\n",
       " (15470, ' Johnny', 44960, 'Johnny'),\n",
       " (17826, ' Jamie', 48337, 'Jamie'),\n",
       " (23090, 'ÃÂÃÂÃÂÃÂÃÂÃÂÃÂÃÂÃÂÃÂÃÂÃÂÃÂÃÂÃÂÃÂ', 40242, 'BuyableInstoreAndOnline'),\n",
       " (30208, ' externalTo', 24847, 'ModLoader'),\n",
       " (30212, ' externalToEVA', 24847, 'ModLoader'),\n",
       " (30897, 'reportprint', 41215, 'conservancy'),\n",
       " (30898, 'embedreportprint', 41215, 'conservancy'),\n",
       " (30905, 'rawdownload', 41215, 'conservancy'),\n",
       " (36173, ' RandomRedditor', 41215, 'conservancy'),\n",
       " (37574, 'StreamerBot', 24847, 'ModLoader'),\n",
       " (39752, 'quickShip', 41215, 'conservancy'),\n",
       " (39820, b'\\xe9\\xbe\\x8d\\xe5\\xa5', 40242, 'BuyableInstoreAndOnline'),\n",
       " (40240, 'oreAndOnline', 41215, 'conservancy'),\n",
       " (40241, 'InstoreAndOnline', 41215, 'conservancy'),\n",
       " (42089, ' TheNitrome', 41215, 'conservancy'),\n",
       " (45544, ' サーティ', 41215, 'conservancy')]"
      ]
     },
     "execution_count": 19,
     "metadata": {},
     "output_type": "execute_result"
    }
   ],
   "source": [
    "[(i, tryuni(ntoks2bbyts([i])), n.item(), ntoks2utxt([n.item()])) for i,n in zip(mismatch[0].numpy().tolist(),outs[mismatch])]"
   ]
  },
  {
   "cell_type": "code",
   "execution_count": 25,
   "metadata": {
    "scrolled": true
   },
   "outputs": [
    {
     "name": "stdout",
     "output_type": "stream",
     "text": [
      "13: .\n",
      "492: ..\n",
      "526: .\"\n",
      "737: ).\n",
      "764:  .\n",
      "986: ...\n",
      "1106: ....\n",
      "1539: .,\n",
      "1911: \".\n",
      "2014: .)\n",
      "2109: ........\n",
      "2637: .'\n",
      "2644:  ...\n",
      "3693: .[\n",
      "4083: ].\n",
      "4181: ................\n",
      "4458: '.\n",
      "6739:  ).\n",
      "7225: %.\n",
      "7874: .-\n",
      "8183: .]\n",
      "8864: ................................\n",
      "9313: ...\"\n",
      "9816: .--\n",
      "11074: \").\n",
      "11207: .:\n",
      "11485:  ..\n",
      "11496: .'\"\n",
      "11580: ….\n",
      "11757: /.\n",
      "12179: .),\n",
      "12195: .(\n",
      "12359: .....\n",
      "13402: .—\n",
      "13531: .''\n",
      "13557: ._\n",
      "15089: .;\n",
      "15729: .).\n",
      "15885: .*\n",
      "16317: ......\n",
      "17405: \\.\n",
      "18161: .\"[\n",
      "18823: %).\n",
      "19424:  ....\n",
      "19570: .\")\n",
      "19571: ./\n",
      "19588: !).\n",
      "20004:  ........\n",
      "20262:  (.\n",
      "20740:  ].\n",
      "21387: ).\"\n",
      "22135:  .\"\n",
      "22345: ...]\n",
      "22446: ().\n",
      "23029: ...)\n",
      "23193: ................................................................\n",
      "24457:  ./\n",
      "24620: *.\n",
      "25295: )].\n",
      "25780: .......\n",
      "25970: .</\n",
      "26214: \"...\n",
      "26513: )...\n",
      "26894:  [...]\n",
      "27071:  \".\n",
      "27422: }.\n",
      "27613: +.\n",
      "27691: ').\n",
      "27754: ........................\n",
      "27896:  \"...\n",
      "27972:  ().\n",
      "28401: >.\n",
      "29225: ].\"\n",
      "29720: )).\n",
      "29847: .<\n",
      "29865: ?).\n",
      "30827: '.\"\n",
      "30864: …..\n",
      "32203: .\"\"\n",
      "32535: .#\n",
      "32756: .>>\n",
      "33283: .\",\n",
      "34507: -.\n",
      "34617: .........\n",
      "35307: $.\n",
      "35384: ''.\n",
      "35713:  ...\"\n",
      "35944: ]).\n",
      "37585: .–\n",
      "38508: ,.\n",
      "39763:  ~/.\n",
      "39864:  ..........\n",
      "40670: .�\n",
      "40720: ../\n",
      "40791: .?\n",
      "41424: .\",\"\n",
      "42303: ,...\n",
      "42669: ).[\n",
      "42924: \".[\n",
      "43179: !.\n",
      "43634: ?\".\n",
      "43735: .」\n",
      "44274: .............\n",
      "44388: .,\"\n",
      "44587: .}\n",
      "44646: `.\n",
      "44713:  ................\n",
      "44807: _.\n",
      "44825: ...?\n",
      "44912:  ..............\n",
      "45302:  '.\n",
      "46328:  .)\n",
      "46866:  *.\n",
      "47082:  ......\n",
      "47308: .):\n",
      "47540:  ._\n",
      "48082: .$\n",
      "48220: !\".\n",
      "49129: ..................\n",
      "50113: .''.\n",
      "50248: ….\"\n"
     ]
    },
    {
     "data": {
      "text/plain": [
       "[None,\n",
       " None,\n",
       " None,\n",
       " None,\n",
       " None,\n",
       " None,\n",
       " None,\n",
       " None,\n",
       " None,\n",
       " None,\n",
       " None,\n",
       " None,\n",
       " None,\n",
       " None,\n",
       " None,\n",
       " None,\n",
       " None,\n",
       " None,\n",
       " None,\n",
       " None,\n",
       " None,\n",
       " None,\n",
       " None,\n",
       " None,\n",
       " None,\n",
       " None,\n",
       " None,\n",
       " None,\n",
       " None,\n",
       " None,\n",
       " None,\n",
       " None,\n",
       " None,\n",
       " None,\n",
       " None,\n",
       " None,\n",
       " None,\n",
       " None,\n",
       " None,\n",
       " None,\n",
       " None,\n",
       " None,\n",
       " None,\n",
       " None,\n",
       " None,\n",
       " None,\n",
       " None,\n",
       " None,\n",
       " None,\n",
       " None,\n",
       " None,\n",
       " None,\n",
       " None,\n",
       " None,\n",
       " None,\n",
       " None,\n",
       " None,\n",
       " None,\n",
       " None,\n",
       " None,\n",
       " None,\n",
       " None,\n",
       " None,\n",
       " None,\n",
       " None,\n",
       " None,\n",
       " None,\n",
       " None,\n",
       " None,\n",
       " None,\n",
       " None,\n",
       " None,\n",
       " None,\n",
       " None,\n",
       " None,\n",
       " None,\n",
       " None,\n",
       " None,\n",
       " None,\n",
       " None,\n",
       " None,\n",
       " None,\n",
       " None,\n",
       " None,\n",
       " None,\n",
       " None,\n",
       " None,\n",
       " None,\n",
       " None,\n",
       " None,\n",
       " None,\n",
       " None,\n",
       " None,\n",
       " None,\n",
       " None,\n",
       " None,\n",
       " None,\n",
       " None,\n",
       " None,\n",
       " None,\n",
       " None,\n",
       " None,\n",
       " None,\n",
       " None,\n",
       " None,\n",
       " None,\n",
       " None,\n",
       " None,\n",
       " None,\n",
       " None,\n",
       " None,\n",
       " None,\n",
       " None,\n",
       " None,\n",
       " None,\n",
       " None,\n",
       " None,\n",
       " None,\n",
       " None,\n",
       " None,\n",
       " None]"
      ]
     },
     "execution_count": 25,
     "metadata": {},
     "output_type": "execute_result"
    }
   ],
   "source": [
    "[print(f\"{i}: {tryuni(ntoks2bbyts([i]))}\")  for i in range(50257) if type(tryuni(ntoks2bbyts([i]))) == type('.') and '.' in tryuni(ntoks2bbyts([i]))]"
   ]
  },
  {
   "cell_type": "code",
   "execution_count": 33,
   "metadata": {},
   "outputs": [
    {
     "data": {
      "text/plain": [
       "'ÃÂÃÂÃÂÃÂÃÂÃÂÃÂÃÂÃÂÃÂÃÂÃÂÃÂÃÂÃÂÃÂearanceÃÂÃÂÃÂÃÂÃÂÃÂÃÂÃÂÃÂÃÂÃÂÃÂÃÂÃÂÃÂÃÂ'"
      ]
     },
     "execution_count": 33,
     "metadata": {},
     "output_type": "execute_result"
    }
   ],
   "source": [
    "tokenizer.convert_tokens_to_string(tokenizer.convert_ids_to_tokens([23090, 23435, 23090]))"
   ]
  },
  {
   "cell_type": "code",
   "execution_count": 76,
   "metadata": {},
   "outputs": [
    {
     "data": {
      "text/plain": [
       "['------------------------------------------------',\n",
       " '--------------------------------------------------------',\n",
       " '----------------------------------------------------------------',\n",
       " 'ÃĥÃĤÃĥÃĤÃĥÃĤÃĥÃĤÃĥÃĤÃĥÃĤÃĥÃĤÃĥÃĤÃĥÃĤÃĥÃĤÃĥÃĤÃĥÃĤÃĥÃĤÃĥÃĤÃĥÃĤÃĥÃĤ',\n",
       " '................................................................',\n",
       " '================================================================',\n",
       " '________________________________________________________________',\n",
       " 'Ġ----------------------------------------------------------------',\n",
       " 'Ġ=================================================================',\n",
       " 'ÃĥÃĤÃĥÃĤÃĥÃĤÃĥÃĤÃĥÃĤÃĥÃĤÃĥÃĤÃĥÃĤÃĥÃĤÃĥÃĤÃĥÃĤÃĥÃĤÃĥÃĤÃĥÃĤÃĥÃĤÃĥÃĤÃĥÃĤÃĥÃĤÃĥÃĤÃĥÃĤÃĥÃĤÃĥÃĤÃĥÃĤÃĥÃĤÃĥÃĤÃĥÃĤÃĥÃĤÃĥÃĤÃĥÃĤÃĥÃĤÃĥÃĤÃĥÃĤ']"
      ]
     },
     "execution_count": 76,
     "metadata": {},
     "output_type": "execute_result"
    }
   ],
   "source": [
    "sorted(list(ntok2vtok_d.values()), key=len)[-10:]"
   ]
  },
  {
   "cell_type": "code",
   "execution_count": 77,
   "metadata": {},
   "outputs": [
    {
     "data": {
      "text/plain": [
       "'ÃÂÃÂÃÂÃÂÃÂÃÂÃÂÃÂÃÂÃÂÃÂÃÂÃÂÃÂÃÂÃÂÃÂÃÂÃÂÃÂÃÂÃÂÃÂÃÂÃÂÃÂÃÂÃÂÃÂÃÂÃÂÃÂ'"
      ]
     },
     "execution_count": 77,
     "metadata": {},
     "output_type": "execute_result"
    }
   ],
   "source": [
    "vtxt2utxt('ÃĥÃĤÃĥÃĤÃĥÃĤÃĥÃĤÃĥÃĤÃĥÃĤÃĥÃĤÃĥÃĤÃĥÃĤÃĥÃĤÃĥÃĤÃĥÃĤÃĥÃĤÃĥÃĤÃĥÃĤÃĥÃĤÃĥÃĤÃĥÃĤÃĥÃĤÃĥÃĤÃĥÃĤÃĥÃĤÃĥÃĤÃĥÃĤÃĥÃĤÃĥÃĤÃĥÃĤÃĥÃĤÃĥÃĤÃĥÃĤÃĥÃĤÃĥÃĤ')"
   ]
  },
  {
   "cell_type": "code",
   "execution_count": 50,
   "metadata": {},
   "outputs": [
    {
     "data": {
      "text/plain": [
       "'conservancy'"
      ]
     },
     "execution_count": 50,
     "metadata": {},
     "output_type": "execute_result"
    }
   ],
   "source": [
    "ntok2vtok(41215)"
   ]
  },
  {
   "cell_type": "code",
   "execution_count": 48,
   "metadata": {},
   "outputs": [
    {
     "data": {
      "text/plain": [
       "'!\"#$%&\\'()*+,-./0123456789:;<=>?@ABCDEFGHIJKLMNOPQRSTUVWXYZ[\\\\]^_`abcdefghijklmnopqrstuvwxyz{|}~¡¢£¤¥¦§¨©ª«¬®¯°±²³´µ¶·¸¹º»¼½¾¿ÀÁÂÃÄÅÆÇÈÉÊËÌÍÎÏÐÑÒÓÔÕÖ×ØÙÚÛÜÝÞßàáâãäåæçèéêëìíîïðñòóôõö÷øùúûüýþÿĀāĂăĄąĆćĈĉĊċČčĎďĐđĒēĔĕĖėĘęĚěĜĝĞğĠġĢģĤĥĦħĨĩĪīĬĭĮįİıĲĳĴĵĶķĸĹĺĻļĽľĿŀŁłŃ'"
      ]
     },
     "execution_count": 48,
     "metadata": {},
     "output_type": "execute_result"
    }
   ],
   "source": [
    "''.join([ntok2vtok_d[i] for i in range(256)])"
   ]
  },
  {
   "cell_type": "code",
   "execution_count": 18,
   "metadata": {},
   "outputs": [],
   "source": [
    "import json\n",
    "\n",
    "with open('gpt2-vocab.json') as json_file:\n",
    "    vocab = json.load(json_file)\n",
    "\n",
    "vtok2ntok_d = vocab\n",
    "ntok2vtok_d = {v:k for k,v in vtok2ntok_d.items()}\n",
    "\n",
    "bs = (\n",
    "    list(range(ord(\"!\"), ord(\"~\") + 1)) + list(range(ord(\"¡\"), ord(\"¬\") + 1)) + list(range(ord(\"®\"), ord(\"ÿ\") + 1))\n",
    ")\n",
    "cs = bs[:]\n",
    "n = 0\n",
    "for b in range(2 ** 8):\n",
    "    if b not in bs:\n",
    "        bs.append(b)\n",
    "        cs.append(2 ** 8 + n)\n",
    "        n += 1\n",
    "cs = [chr(n) for n in cs]\n",
    "nbyt2vchr_d = dict(zip(bs, cs))\n",
    "vchr2nbyt_d = dict(zip(cs, bs))\n",
    "\n",
    "vtok2ntok = lambda x: vtok2ntok_d[x]\n",
    "ntok2vtok = lambda x: ntok2vtok_d[x]\n",
    "vchr2nbyt = lambda x: vchr2nbyt_d[x]\n",
    "nbyt2vchr = lambda x: nbyt2vchr_d[x]\n",
    "\n",
    "utxt2nbyts = lambda s: list(s.encode())\n",
    "# nbyts2vchrs = lambda l: ''.join([nbyt2vchr(n) for n in l])\n",
    "nbyts2vchrs = lambda l: ''.join(map(nbyt2vchr, l))\n",
    "utxt2vtxt = lambda s: nbyts2vchrs(utxt2nbyts(s))\n",
    "utok2ntok = lambda s: vtok2ntok(utxt2vtxt(s))\n",
    "\n",
    "# vtxt2nbyts = lambda s: bytes([vchr2nbyt(c) for c in s])\n",
    "vtxt2bbyts = lambda s: bytes(map(vchr2nbyt, s))\n",
    "vtxt2nbyts = lambda s: list(map(vchr2nbyt, s))\n",
    "vtxt2utxt = lambda s: vtxt2bbyts(s).decode()\n",
    "\n",
    "ntoks2vtxt = lambda l: ''.join(map(ntok2vtok, l))\n",
    "\n",
    "ntoks2utxt = lambda l: vtxt2utxt(ntoks2vtxt(l))\n",
    "ntoks2bbyts = lambda l: vtxt2bbyts(ntoks2vtxt(l))"
   ]
  },
  {
   "cell_type": "code",
   "execution_count": 15,
   "metadata": {},
   "outputs": [
    {
     "data": {
      "text/plain": [
       "[('weight',\n",
       "  Parameter containing:\n",
       "  tensor([[-0.1101, -0.0393,  0.0331,  ..., -0.1364,  0.0151,  0.0453],\n",
       "          [ 0.0403, -0.0486,  0.0462,  ...,  0.0861,  0.0025,  0.0432],\n",
       "          [-0.1275,  0.0479,  0.1841,  ...,  0.0899, -0.1297, -0.0879],\n",
       "          ...,\n",
       "          [-0.0445, -0.0548,  0.0123,  ...,  0.1044,  0.0978, -0.0695],\n",
       "          [ 0.1860,  0.0167,  0.0461,  ..., -0.0963,  0.0785, -0.0225],\n",
       "          [ 0.0514, -0.0277,  0.0499,  ...,  0.0070,  0.1552,  0.1207]],\n",
       "         requires_grad=True))]"
      ]
     },
     "execution_count": 15,
     "metadata": {},
     "output_type": "execute_result"
    }
   ],
   "source": [
    "list(w.named_parameters())"
   ]
  }
 ],
 "metadata": {
  "kernelspec": {
   "display_name": "Python 3 (ipykernel)",
   "language": "python",
   "name": "python3"
  },
  "language_info": {
   "codemirror_mode": {
    "name": "ipython",
    "version": 3
   },
   "file_extension": ".py",
   "mimetype": "text/x-python",
   "name": "python",
   "nbconvert_exporter": "python",
   "pygments_lexer": "ipython3",
   "version": "3.11.1"
  }
 },
 "nbformat": 4,
 "nbformat_minor": 4
}
