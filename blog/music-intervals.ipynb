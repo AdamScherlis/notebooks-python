{
 "cells": [
  {
   "cell_type": "code",
   "execution_count": 1,
   "id": "52673a8c-1a14-4204-a3f3-fdd255c3c046",
   "metadata": {},
   "outputs": [],
   "source": [
    "# 2024-04\n",
    "# musical tunings visualized with log-scaled bars"
   ]
  },
  {
   "cell_type": "code",
   "execution_count": 3,
   "id": "549a56a5-ab4a-465e-8e0c-c868d6b9487f",
   "metadata": {},
   "outputs": [],
   "source": [
    "import xml.etree.ElementTree as ET\n",
    "from IPython.display import SVG, display\n",
    "\n",
    "import numpy as np\n",
    "\n",
    "import matplotlib.pyplot as plt"
   ]
  },
  {
   "cell_type": "code",
   "execution_count": 4,
   "id": "0a98a971-267e-45ec-ab96-8792eac40427",
   "metadata": {},
   "outputs": [],
   "source": [
    "import colour"
   ]
  },
  {
   "cell_type": "code",
   "execution_count": 5,
   "id": "092fe5aa-23de-43b1-9a18-64a02ce80233",
   "metadata": {},
   "outputs": [
    {
     "name": "stdout",
     "output_type": "stream",
     "text": [
      "[ 0.95638578  0.78348894  0.99823294] [ 0.02175557  0.54194503  0.25827363]\n"
     ]
    },
    {
     "data": {
      "text/plain": [
       "<matplotlib.image.AxesImage at 0x712e362e0090>"
      ]
     },
     "execution_count": 5,
     "metadata": {},
     "output_type": "execute_result"
    },
    {
     "data": {
      "image/png": "[encoded data removed]",
      "text/plain": [
       "<Figure size 640x480 with 1 Axes>"
      ]
     },
     "metadata": {},
     "output_type": "display_data"
    }
   ],
   "source": [
    "theta = np.linspace(0, 2*np.pi, 100)\n",
    "a = 0.127 * np.sin(theta)\n",
    "b = 0.127 * np.cos(theta)\n",
    "L = 0.75\n",
    "oklabs = np.zeros([100, 3])\n",
    "oklabs[:, 0] = L\n",
    "oklabs[:, 1] = a\n",
    "oklabs[:, 2] = b\n",
    "\n",
    "xyz = (colour.Oklab_to_XYZ(oklabs))\n",
    "rgb = colour.XYZ_to_sRGB(xyz)\n",
    "print(np.max(rgb, axis=0), np.min(rgb, axis=0))\n",
    "\n",
    "img = np.zeros([10, 100, 3])\n",
    "for i in range(10):\n",
    "    img[i] = rgb\n",
    "\n",
    "plt.imshow(img)"
   ]
  },
  {
   "cell_type": "code",
   "execution_count": 6,
   "id": "e7891a25-b2a0-4177-96f4-978ad8a8ff2f",
   "metadata": {},
   "outputs": [],
   "source": [
    "def okhue(theta):\n",
    "    L = 0.75\n",
    "    a = 0.127 * np.sin(theta)\n",
    "    b = 0.127 * np.cos(theta)\n",
    "\n",
    "    rgb = colour.XYZ_to_sRGB(colour.Oklab_to_XYZ([L, a, b]))\n",
    "\n",
    "    return rgb * 256"
   ]
  },
  {
   "cell_type": "code",
   "execution_count": 7,
   "id": "386f35aa-1060-4a35-bb6b-7586ae2c0850",
   "metadata": {},
   "outputs": [
    {
     "name": "stdout",
     "output_type": "stream",
     "text": [
      "156.150551459 165.805613688 254.168499343\n"
     ]
    }
   ],
   "source": [
    "print(*okhue(3))"
   ]
  },
  {
   "cell_type": "code",
   "execution_count": 8,
   "id": "2d2af02c-15db-4e1c-92ec-3f05a36f0cf4",
   "metadata": {},
   "outputs": [],
   "source": [
    "def make_color(r, g, b):\n",
    "    r, g, b = (int(x) % 256 for x in (r, g, b))\n",
    "    return f'#{r:02x}{g:02x}{b:02x}'\n",
    "\n",
    "def get_color(l):\n",
    "        PRIMES = [2, 3, 5, 7, 11, 13, 17, 19, 23, 29, 31, 37, 41, 43, 47, 53, 59, 61, 67]\n",
    "        COLORS = {p: make_color(*okhue(1.35 * i - 1)) for i, p in enumerate(PRIMES)}\n",
    "\n",
    "        if l in COLORS:\n",
    "            return COLORS[l]\n",
    "\n",
    "        return \"white\"\n",
    "    \n",
    "        #return make_color(*okhue(3 * np.sqrt(l)))\n",
    "\n",
    "class Diagram:\n",
    "    def __init__(self):\n",
    "        self.rows = []\n",
    "\n",
    "    def add_row(self, lengths):\n",
    "        self.rows.append(lengths)\n",
    "    \n",
    "    def render(self):\n",
    "        xscale=50\n",
    "        yscale=20\n",
    "        \n",
    "        svg = ET.Element('svg', version='1.1', xmlns='http://www.w3.org/2000/svg')\n",
    "        \n",
    "        totwidth = 0\n",
    "        for i, row in enumerate(self.rows):\n",
    "            x = 0\n",
    "            for length in row:\n",
    "                width = xscale * np.log(length)\n",
    "                y = yscale * i\n",
    "                ET.SubElement(svg, 'rect', \n",
    "                              x=str(x), y=str(y), width=str(width), height=str(yscale), \n",
    "                              fill=get_color(length), stroke='black')\n",
    "                x += width\n",
    "                totwidth = max(x, totwidth)\n",
    "\n",
    "        svg.set('width', str(int(totwidth + 2)))\n",
    "\n",
    "        return SVG(ET.tostring(svg, encoding='unicode'))"
   ]
  },
  {
   "cell_type": "code",
   "execution_count": 14,
   "id": "111295f7-e0ea-4606-b917-42a6abbbd4ac",
   "metadata": {},
   "outputs": [
    {
     "data": {
      "image/svg+xml": [
       "<svg xmlns=\"http://www.w3.org/2000/svg\" version=\"1.1\" width=\"556\"><rect x=\"0\" y=\"0\" width=\"34.657359028\" height=\"20\" fill=\"#73c47e\" stroke=\"black\"/><rect x=\"34.657359028\" y=\"0\" width=\"54.9306144334\" height=\"20\" fill=\"#e19f4a\" stroke=\"black\"/><rect x=\"89.5879734614\" y=\"0\" width=\"80.4718956217\" height=\"20\" fill=\"#ec8bb6\" stroke=\"black\"/><rect x=\"170.059869083\" y=\"0\" width=\"97.2955074528\" height=\"20\" fill=\"#97a7fe\" stroke=\"black\"/><rect x=\"267.355376536\" y=\"0\" width=\"119.89476364\" height=\"20\" fill=\"#06c6cb\" stroke=\"black\"/><rect x=\"0\" y=\"20\" width=\"128.247467873\" height=\"20\" fill=\"#a3ba58\" stroke=\"black\"/><rect x=\"128.247467873\" y=\"20\" width=\"141.660667203\" height=\"20\" fill=\"#f1926a\" stroke=\"black\"/><rect x=\"269.908135076\" y=\"20\" width=\"147.221948958\" height=\"20\" fill=\"#d891d9\" stroke=\"black\"/><rect x=\"0\" y=\"40\" width=\"156.774710796\" height=\"20\" fill=\"#69b4fb\" stroke=\"black\"/><rect x=\"156.774710796\" y=\"40\" width=\"168.364791499\" height=\"20\" fill=\"#41c8a3\" stroke=\"black\"/><rect x=\"325.139502296\" y=\"40\" width=\"171.699360224\" height=\"20\" fill=\"#c9ac42\" stroke=\"black\"/><rect x=\"0\" y=\"60\" width=\"180.545895632\" height=\"20\" fill=\"#f48b92\" stroke=\"black\"/><rect x=\"180.545895632\" y=\"60\" width=\"185.678603335\" height=\"20\" fill=\"#b99bf3\" stroke=\"black\"/><rect x=\"366.224498967\" y=\"60\" width=\"188.060005785\" height=\"20\" fill=\"#31c0e7\" stroke=\"black\"/></svg>"
      ],
      "text/plain": [
       "<IPython.core.display.SVG object>"
      ]
     },
     "metadata": {},
     "output_type": "display_data"
    },
    {
     "data": {
      "image/svg+xml": [
       "<svg xmlns=\"http://www.w3.org/2000/svg\" version=\"1.1\" width=\"661\"><rect x=\"0\" y=\"0\" width=\"80.4718956217\" height=\"20\" fill=\"#ec8bb6\" stroke=\"black\"/><rect x=\"80.4718956217\" y=\"0\" width=\"80.4718956217\" height=\"20\" fill=\"#ec8bb6\" stroke=\"black\"/><rect x=\"160.943791243\" y=\"0\" width=\"80.4718956217\" height=\"20\" fill=\"#ec8bb6\" stroke=\"black\"/><rect x=\"0\" y=\"20\" width=\"34.657359028\" height=\"20\" fill=\"#73c47e\" stroke=\"black\"/><rect x=\"34.657359028\" y=\"20\" width=\"34.657359028\" height=\"20\" fill=\"#73c47e\" stroke=\"black\"/><rect x=\"69.314718056\" y=\"20\" width=\"34.657359028\" height=\"20\" fill=\"#73c47e\" stroke=\"black\"/><rect x=\"103.972077084\" y=\"20\" width=\"34.657359028\" height=\"20\" fill=\"#73c47e\" stroke=\"black\"/><rect x=\"138.629436112\" y=\"20\" width=\"34.657359028\" height=\"20\" fill=\"#73c47e\" stroke=\"black\"/><rect x=\"173.28679514\" y=\"20\" width=\"34.657359028\" height=\"20\" fill=\"#73c47e\" stroke=\"black\"/><rect x=\"207.944154168\" y=\"20\" width=\"34.657359028\" height=\"20\" fill=\"#73c47e\" stroke=\"black\"/><rect x=\"242.601513196\" y=\"20\" width=\"34.657359028\" height=\"20\" fill=\"#73c47e\" stroke=\"black\"/><rect x=\"277.258872224\" y=\"20\" width=\"34.657359028\" height=\"20\" fill=\"#73c47e\" stroke=\"black\"/><rect x=\"311.916231252\" y=\"20\" width=\"34.657359028\" height=\"20\" fill=\"#73c47e\" stroke=\"black\"/><rect x=\"346.57359028\" y=\"20\" width=\"34.657359028\" height=\"20\" fill=\"#73c47e\" stroke=\"black\"/><rect x=\"381.230949308\" y=\"20\" width=\"34.657359028\" height=\"20\" fill=\"#73c47e\" stroke=\"black\"/><rect x=\"415.888308336\" y=\"20\" width=\"34.657359028\" height=\"20\" fill=\"#73c47e\" stroke=\"black\"/><rect x=\"450.545667364\" y=\"20\" width=\"34.657359028\" height=\"20\" fill=\"#73c47e\" stroke=\"black\"/><rect x=\"485.203026392\" y=\"20\" width=\"34.657359028\" height=\"20\" fill=\"#73c47e\" stroke=\"black\"/><rect x=\"519.86038542\" y=\"20\" width=\"34.657359028\" height=\"20\" fill=\"#73c47e\" stroke=\"black\"/><rect x=\"554.517744448\" y=\"20\" width=\"34.657359028\" height=\"20\" fill=\"#73c47e\" stroke=\"black\"/><rect x=\"589.175103476\" y=\"20\" width=\"34.657359028\" height=\"20\" fill=\"#73c47e\" stroke=\"black\"/><rect x=\"623.832462504\" y=\"20\" width=\"34.657359028\" height=\"20\" fill=\"#73c47e\" stroke=\"black\"/><rect x=\"0\" y=\"40\" width=\"54.9306144334\" height=\"20\" fill=\"#e19f4a\" stroke=\"black\"/><rect x=\"54.9306144334\" y=\"40\" width=\"54.9306144334\" height=\"20\" fill=\"#e19f4a\" stroke=\"black\"/><rect x=\"109.861228867\" y=\"40\" width=\"54.9306144334\" height=\"20\" fill=\"#e19f4a\" stroke=\"black\"/><rect x=\"164.7918433\" y=\"40\" width=\"54.9306144334\" height=\"20\" fill=\"#e19f4a\" stroke=\"black\"/><rect x=\"219.722457734\" y=\"40\" width=\"54.9306144334\" height=\"20\" fill=\"#e19f4a\" stroke=\"black\"/><rect x=\"274.653072167\" y=\"40\" width=\"54.9306144334\" height=\"20\" fill=\"#e19f4a\" stroke=\"black\"/><rect x=\"329.5836866\" y=\"40\" width=\"54.9306144334\" height=\"20\" fill=\"#e19f4a\" stroke=\"black\"/><rect x=\"384.514301034\" y=\"40\" width=\"54.9306144334\" height=\"20\" fill=\"#e19f4a\" stroke=\"black\"/><rect x=\"439.444915467\" y=\"40\" width=\"54.9306144334\" height=\"20\" fill=\"#e19f4a\" stroke=\"black\"/><rect x=\"494.375529901\" y=\"40\" width=\"54.9306144334\" height=\"20\" fill=\"#e19f4a\" stroke=\"black\"/><rect x=\"549.306144334\" y=\"40\" width=\"54.9306144334\" height=\"20\" fill=\"#e19f4a\" stroke=\"black\"/><rect x=\"604.236758767\" y=\"40\" width=\"54.9306144334\" height=\"20\" fill=\"#e19f4a\" stroke=\"black\"/></svg>"
      ],
      "text/plain": [
       "<IPython.core.display.SVG object>"
      ]
     },
     "metadata": {},
     "output_type": "display_data"
    }
   ],
   "source": [
    "diag = Diagram()\n",
    "diag.add_row([2, 3, 5, 7, 11])\n",
    "diag.add_row([13, 17, 19])\n",
    "diag.add_row([23, 29, 31])\n",
    "diag.add_row([37, 41, 43])\n",
    "display(diag.render())\n",
    "\n",
    "diag = Diagram()\n",
    "diag.add_row([5] * 3)\n",
    "diag.add_row([2] * 19)\n",
    "diag.add_row([3] * 12)\n",
    "display(diag.render())"
   ]
  },
  {
   "cell_type": "code",
   "execution_count": 56,
   "id": "4f43ce27-b9e5-4f2f-b3a6-5c705b458ef6",
   "metadata": {},
   "outputs": [
    {
     "data": {
      "image/svg+xml": [
       "<svg xmlns=\"http://www.w3.org/2000/svg\" width=\"100\" height=\"100\" version=\"1.1\"><rect x=\"10\" y=\"10\" width=\"8\" height=\"8\" fill=\"#aa00AA\" stroke=\"black\"/></svg>"
      ],
      "text/plain": [
       "<IPython.core.display.SVG object>"
      ]
     },
     "metadata": {},
     "output_type": "display_data"
    }
   ],
   "source": [
    "\n",
    "# Create the SVG element\n",
    "svg = ET.Element('svg', width='100', height='100', version='1.1', xmlns='http://www.w3.org/2000/svg')\n",
    "\n",
    "# Create a rectangle\n",
    "rect = ET.SubElement(svg, 'rect', x='10', y='10', width='8', height='8', fill='#aa00AA', stroke=\"black\")\n",
    "\n",
    "# Use ET.tostring to convert to string and decode from bytes\n",
    "svg_string = ET.tostring(svg, encoding='unicode')\n",
    "\n",
    "\n",
    "# Render the SVG\n",
    "display(SVG(svg_string))"
   ]
  },
  {
   "cell_type": "code",
   "execution_count": 46,
   "id": "13878ead-42bd-4ecc-8c11-c78353aa2f77",
   "metadata": {},
   "outputs": [
    {
     "data": {
      "text/plain": [
       "[<Element 'rect' at 0x75124c66b600>]"
      ]
     },
     "execution_count": 46,
     "metadata": {},
     "output_type": "execute_result"
    }
   ],
   "source": [
    "[x for x in svg]"
   ]
  }
 ],
 "metadata": {
  "kernelspec": {
   "display_name": "Python 3 (ipykernel)",
   "language": "python",
   "name": "python3"
  },
  "language_info": {
   "codemirror_mode": {
    "name": "ipython",
    "version": 3
   },
   "file_extension": ".py",
   "mimetype": "text/x-python",
   "name": "python",
   "nbconvert_exporter": "python",
   "pygments_lexer": "ipython3",
   "version": "3.12.3"
  }
 },
 "nbformat": 4,
 "nbformat_minor": 5
}
