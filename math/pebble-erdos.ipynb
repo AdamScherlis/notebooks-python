{
 "cells": [
  {
   "cell_type": "code",
   "execution_count": null,
   "id": "edc1771b-f51a-4f61-9926-d0c2c35734fa",
   "metadata": {},
   "outputs": [],
   "source": [
    "# 2023-12"
   ]
  },
  {
   "cell_type": "code",
   "execution_count": 1,
   "id": "855ffe00",
   "metadata": {},
   "outputs": [],
   "source": [
    "# I start with a red, green, and a blue pebble in a bag. \n",
    "# I pull out a pebble and add another of its color, putting both back into the back. \n",
    "# For example, if I pull a red pebble, I put it back in with an extra red pebble. \n",
    "# Thus, the chances of choosing the same color pebble increase as I choose that pebble more and others less.\n",
    "# Let f(n) be the expected value of the size of the smallest pile after I do this n times. \n",
    "# What is the approximate growth rate of f(n)?"
   ]
  },
  {
   "cell_type": "code",
   "execution_count": 5,
   "id": "ff3aa77d",
   "metadata": {},
   "outputs": [],
   "source": [
    "from matplotlib import pyplot as plt\n",
    "import numpy as np\n",
    "import random"
   ]
  },
  {
   "cell_type": "code",
   "execution_count": 6,
   "id": "e656ec72",
   "metadata": {},
   "outputs": [],
   "source": [
    "def sample_run(n=100):\n",
    "    bag = [0, 1, 2]\n",
    "    for _ in range(n):\n",
    "        color = random.choice(bag)\n",
    "        bag.append(color)\n",
    "    return bag"
   ]
  },
  {
   "cell_type": "code",
   "execution_count": 12,
   "id": "fad84248",
   "metadata": {},
   "outputs": [],
   "source": [
    "bag = sample_run(10**6)"
   ]
  },
  {
   "cell_type": "code",
   "execution_count": null,
   "id": "8a4e1dd4",
   "metadata": {},
   "outputs": [],
   "source": [
    "def sample_run_fast(n=100):\n",
    "    "
   ]
  },
  {
   "cell_type": "code",
   "execution_count": 14,
   "id": "79fcc34b",
   "metadata": {},
   "outputs": [],
   "source": [
    "counts = [len([c for c in bag if c==i]) for i in range(3)]"
   ]
  },
  {
   "cell_type": "code",
   "execution_count": 16,
   "id": "4bdfa537",
   "metadata": {},
   "outputs": [
    {
     "data": {
      "text/plain": [
       "[683862, 12662, 303479]"
      ]
     },
     "execution_count": 16,
     "metadata": {},
     "output_type": "execute_result"
    }
   ],
   "source": [
    "counts"
   ]
  },
  {
   "cell_type": "code",
   "execution_count": null,
   "id": "7b7842c4",
   "metadata": {},
   "outputs": [],
   "source": []
  }
 ],
 "metadata": {
  "kernelspec": {
   "display_name": "Python 3 (ipykernel)",
   "language": "python",
   "name": "python3"
  },
  "language_info": {
   "codemirror_mode": {
    "name": "ipython",
    "version": 3
   },
   "file_extension": ".py",
   "mimetype": "text/x-python",
   "name": "python",
   "nbconvert_exporter": "python",
   "pygments_lexer": "ipython3",
   "version": "3.11.8"
  }
 },
 "nbformat": 4,
 "nbformat_minor": 5
}
