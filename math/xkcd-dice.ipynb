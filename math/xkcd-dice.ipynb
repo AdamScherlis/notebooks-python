{
 "cells": [
  {
   "cell_type": "markdown",
   "id": "b32059f9-2928-4e5a-84de-62fc31374ebf",
   "metadata": {},
   "source": [
    "2024-11-22\n",
    "\n",
    "# XKCD dnd dice problem"
   ]
  },
  {
   "cell_type": "code",
   "execution_count": 21,
   "id": "b5d160f5-6903-449a-a98d-178f14f3129d",
   "metadata": {},
   "outputs": [],
   "source": [
    "from functools import cache, lru_cache\n",
    "\n",
    "import numpy as np\n",
    "from numpy import log\n",
    "\n",
    "from time import time\n",
    "\n",
    "import matplotlib.pyplot as plt"
   ]
  },
  {
   "cell_type": "code",
   "execution_count": 6,
   "id": "4edad19f-d1da-4412-abcd-b86be3cee684",
   "metadata": {},
   "outputs": [],
   "source": [
    "def prod(l):\n",
    "    if not l:\n",
    "        return 1\n",
    "    return l[0] * prod(l[1:])"
   ]
  },
  {
   "cell_type": "code",
   "execution_count": 7,
   "id": "97a639b1-59e1-4980-a872-9568f5d50372",
   "metadata": {},
   "outputs": [],
   "source": [
    "def multisets(n, k):\n",
    "    mset = (0,) * k\n",
    "    msets = [mset]\n",
    "    while mset != (n-1,) * k:\n",
    "        last = mset[-1]\n",
    "        lasts = [i for i in range(k) if mset[i] == last]\n",
    "        j = lasts[0]\n",
    "        mset = mset[:j] + (last+1,) + (0,) * (k-j-1)\n",
    "        msets.append(mset)\n",
    "    return msets"
   ]
  },
  {
   "cell_type": "code",
   "execution_count": 8,
   "id": "7aa6a064-45ba-4980-990c-435f2a23b6b3",
   "metadata": {},
   "outputs": [],
   "source": [
    "@cache\n",
    "def multisets_prod(maxprod, diceset):\n",
    "    if maxprod < 1:\n",
    "        return []\n",
    "    if not diceset:\n",
    "        return [()]\n",
    "    msets = []\n",
    "    big, rest = diceset[-1], diceset[:-1]\n",
    "    maxbig = int(log(maxprod) / log(big))\n",
    "    for nbig in range(maxbig + 1):\n",
    "        restmaxprod = maxprod // (big**nbig)\n",
    "        mset_big = (len(diceset)-1,) * nbig\n",
    "        rest_msets = multisets_prod(restmaxprod, rest)\n",
    "        new_msets = [mset+mset_big for mset in rest_msets]\n",
    "        msets += new_msets\n",
    "    return msets"
   ]
  },
  {
   "cell_type": "code",
   "execution_count": 22,
   "id": "daf90f5e-84e2-4c9a-b2f2-0026be9515b2",
   "metadata": {},
   "outputs": [],
   "source": [
    "@lru_cache(20_000_000)\n",
    "def sum_num(n, dice):\n",
    "    if n > sum(dice) or n < len(dice):\n",
    "        return 0\n",
    "    if not dice:\n",
    "        return int(n == 0)\n",
    "    if len(dice) == 1:\n",
    "        return 1\n",
    "    first, rest = dice[0], dice[1:]\n",
    "    tot = 0\n",
    "    for i in range(1, first+1):\n",
    "        tot += sum_num(n-i, rest)\n",
    "    return tot"
   ]
  },
  {
   "cell_type": "code",
   "execution_count": 10,
   "id": "9e28bf38-ddbf-4aef-9e63-a032a29ed4d8",
   "metadata": {},
   "outputs": [],
   "source": [
    "PRIMES = [2]\n",
    "\n",
    "@cache\n",
    "def primes_below(n):\n",
    "    global PRIMES\n",
    "    if PRIMES[-1] >= n-1:\n",
    "        return [p for p in PRIMES if p<n]\n",
    "    PRIMES += [k for k in range(PRIMES[-1]+1, n) if is_prime(k)]\n",
    "    return PRIMES\n",
    "\n",
    "@cache\n",
    "def is_prime(n):\n",
    "    if n < 2:\n",
    "        return False\n",
    "    if n == 2:\n",
    "        return True\n",
    "    for p in all_primes():\n",
    "        if p*p > n:\n",
    "            return True\n",
    "        if n%p == 0:\n",
    "            return False\n",
    "            \n",
    "def all_primes():\n",
    "    for p in PRIMES:\n",
    "        yield p\n",
    "    k = p + 1\n",
    "    while True:\n",
    "        if is_prime(k):\n",
    "            PRIMES.append(k)\n",
    "            yield k\n",
    "        k += 1"
   ]
  },
  {
   "cell_type": "code",
   "execution_count": 11,
   "id": "f7a0d93a-eaf5-4789-b7f7-e599ef5c19d6",
   "metadata": {},
   "outputs": [],
   "source": [
    "@cache\n",
    "def prime_factors(n):\n",
    "    if not n:\n",
    "        raise ValueError(n)\n",
    "    if n == 1:\n",
    "        return ()\n",
    "    if is_prime(n):\n",
    "        return (n,)\n",
    "    for p in all_primes():\n",
    "        if n % p == 0:\n",
    "            return (p,) + prime_factors(n//p)"
   ]
  },
  {
   "cell_type": "code",
   "execution_count": 12,
   "id": "6b6d8360-91ae-417a-9416-5a4ca90681cd",
   "metadata": {},
   "outputs": [],
   "source": [
    "def gcd(m, n):\n",
    "    m, n = max(m, n), min(m, n)\n",
    "    if not n:\n",
    "        return m\n",
    "    return gcd(n, m-n)"
   ]
  },
  {
   "cell_type": "code",
   "execution_count": 13,
   "id": "30997b9e-3176-4964-9d60-5ae531b00f56",
   "metadata": {},
   "outputs": [],
   "source": [
    "for f in multisets_prod, sum_num, primes_below, is_prime, prime_factors:\n",
    "    f.cache_clear()"
   ]
  },
  {
   "cell_type": "code",
   "execution_count": 23,
   "id": "f775f075-82b3-43ce-8c62-3708e137eb26",
   "metadata": {},
   "outputs": [
    {
     "name": "stdout",
     "output_type": "stream",
     "text": [
      "CacheInfo(hits=0, misses=0, maxsize=None, currsize=0)\n",
      "CacheInfo(hits=0, misses=0, maxsize=20000000, currsize=0)\n",
      "CacheInfo(hits=0, misses=0, maxsize=None, currsize=0)\n",
      "CacheInfo(hits=135, misses=17736, maxsize=None, currsize=17736)\n",
      "CacheInfo(hits=19323, misses=17737, maxsize=None, currsize=17737)\n"
     ]
    }
   ],
   "source": [
    "for f in multisets_prod, sum_num, primes_below, is_prime, prime_factors:\n",
    "    print(f.cache_info())"
   ]
  },
  {
   "cell_type": "code",
   "execution_count": 19,
   "id": "6beb0b07-f231-409e-b114-a6af0faf4fdd",
   "metadata": {},
   "outputs": [
    {
     "name": "stdout",
     "output_type": "stream",
     "text": [
      "CacheInfo(hits=0, misses=0, maxsize=None, currsize=0)\n",
      "CacheInfo(hits=63047605, misses=52020114, maxsize=None, currsize=52020113)\n",
      "CacheInfo(hits=0, misses=0, maxsize=None, currsize=0)\n",
      "CacheInfo(hits=135, misses=17736, maxsize=None, currsize=17736)\n",
      "CacheInfo(hits=19323, misses=17737, maxsize=None, currsize=17737)\n"
     ]
    }
   ],
   "source": [
    "for f in multisets_prod, sum_num, primes_below, is_prime, prime_factors:\n",
    "    print(f.cache_info())"
   ]
  },
  {
   "cell_type": "code",
   "execution_count": 14,
   "id": "e7b1c5ee-a416-40db-92f2-a8b37907e041",
   "metadata": {},
   "outputs": [],
   "source": [
    "DICE = [4, 6, 8, 10, 12, 20]"
   ]
  },
  {
   "cell_type": "code",
   "execution_count": 32,
   "id": "7c2b8d32-772d-4d66-ae4a-e59ca1e2cd8c",
   "metadata": {},
   "outputs": [],
   "source": [
    "def find_dice(nom, den, max_dice):\n",
    "    found = False\n",
    "    for k in range(max_dice+1):\n",
    "        for mset in multisets(len(DICE), k):\n",
    "            dice = tuple(DICE[i] for i in mset)\n",
    "            poss = prod(dice)\n",
    "            if poss % den:\n",
    "                continue\n",
    "            tot = 0\n",
    "            target = sum(dice) + 1\n",
    "            while poss * nom > tot * den:\n",
    "                target -= 1\n",
    "                tot += sum_num(target, tuple(reversed(dice)))\n",
    "            if poss * nom == tot * den:\n",
    "                if k > 1:\n",
    "                    print(f'{nom}/{den}', k, dice, target, flush=True)\n",
    "                found = True\n",
    "        if found:\n",
    "            break\n",
    "    if not found:\n",
    "        print(f'{nom}/{den}', 'not found in', k, '!'*10, flush=True)"
   ]
  },
  {
   "cell_type": "code",
   "execution_count": 16,
   "id": "eead31d5-45fd-4f03-8a46-fcb1bfa7c5d9",
   "metadata": {},
   "outputs": [],
   "source": [
    "def find_prime_dice(nom, den, max_prod, max_prime=0, v=True):\n",
    "    den_dice = prime_factors(den)\n",
    "    found = False\n",
    "    for dice_prod in range(1, max_prod//den + 1):\n",
    "        extra_dice = prime_factors(dice_prod)\n",
    "        if max_prime and extra_dice and extra_dice[-1] > max_prime:\n",
    "            continue\n",
    "        dice = den_dice + extra_dice\n",
    "        tot = 0\n",
    "        target = sum(dice) + 1\n",
    "        while tot < dice_prod * nom:\n",
    "            target -= 1\n",
    "            tot += sum_num(target, dice)\n",
    "        if tot == dice_prod * nom:\n",
    "            if v and dice_prod > 1:\n",
    "                print(f'{nom}/{den}', dice_prod, extra_dice, target, flush=True)\n",
    "            found = True\n",
    "            break\n",
    "        elif v and dice_prod % 1000 == 0:\n",
    "            print(f'{nom}/{den}', f'>{dice_prod}...')\n",
    "        \n",
    "    if v and not found:\n",
    "        print(f'{nom}/{den}', 'not found in', dice_prod, '!'*10, flush=True)"
   ]
  },
  {
   "cell_type": "code",
   "execution_count": 17,
   "id": "4dd7a3d6-5839-41a8-b8fb-1677ab443a25",
   "metadata": {},
   "outputs": [],
   "source": [
    "def time_fn(fn, **kwargs):\n",
    "    t0 = time()\n",
    "    out = fn(**kwargs)\n",
    "    dt = time() - t0\n",
    "    return out, dt"
   ]
  },
  {
   "cell_type": "code",
   "execution_count": 16,
   "id": "1c16ffda-8e2e-499c-aef1-89b8f8ddc4a3",
   "metadata": {},
   "outputs": [
    {
     "name": "stdout",
     "output_type": "stream",
     "text": [
      "100 0.0003859996795654297\n",
      "120.0 0.0001876354217529297\n",
      "144.0 0.0003807544708251953\n",
      "172.79999999999998 0.00014543533325195312\n",
      "207.35999999999999 0.0003452301025390625\n",
      "248.83199999999997 0.00046133995056152344\n",
      "298.59839999999997 0.0003390312194824219\n",
      "358.31807999999995 0.0005288124084472656\n",
      "429.98169599999994 0.000335693359375\n",
      "515.9780351999999 0.0006647109985351562\n",
      "619.1736422399998 0.0007562637329101562\n",
      "743.0083706879998 0.0010066032409667969\n",
      "891.6100448255997 0.0013263225555419922\n",
      "1069.9320537907197 0.0014319419860839844\n",
      "1283.9184645488635 0.012627601623535156\n",
      "1540.7021574586363 0.001953601837158203\n",
      "1848.8425889503635 0.0029954910278320312\n",
      "2218.6111067404363 0.0026597976684570312\n",
      "2662.3333280885236 0.004491090774536133\n",
      "3194.799993706228 0.006178140640258789\n",
      "3833.7599924474735 0.08240962028503418\n",
      "4600.511990936968 0.016010046005249023\n",
      "5520.614389124361 0.01404714584350586\n",
      "6624.737266949233 0.018916845321655273\n",
      "7949.68472033908 0.027354717254638672\n",
      "9539.621664406895 0.03849530220031738\n",
      "11447.545997288275 0.06009411811828613\n",
      "13737.055196745929 0.07537412643432617\n",
      "16484.466236095115 0.08997058868408203\n",
      "19781.359483314136 0.13811731338500977\n",
      "23737.631379976963 0.17615246772766113\n",
      "28485.157655972354 0.3860650062561035\n",
      "34182.18918716683 0.38545870780944824\n",
      "41018.62702460019 0.5409252643585205\n",
      "49222.35242952022 0.9342601299285889\n",
      "59066.822915424265 1.2179410457611084\n",
      "1.4543652331280879\n",
      "70880.18749850911 1.9374971389770508\n",
      "2.5462443834363966\n",
      "85056.22499821094 2.820364236831665\n",
      "2.0593781647193303\n",
      "102067.46999785311 4.216907978057861\n",
      "2.2061906520141954\n",
      "122480.96399742374 5.609826564788818\n",
      "1.5654629975872112\n",
      "146977.15679690847 9.448757410049438\n",
      "2.859581978886858\n",
      "176372.58815629015 13.522218465805054\n",
      "1.96603687081598\n"
     ]
    },
    {
     "data": {
      "image/png": "[encoded data removed]",
      "text/plain": [
       "<Figure size 640x480 with 1 Axes>"
      ]
     },
     "metadata": {},
     "output_type": "display_data"
    },
    {
     "name": "stdout",
     "output_type": "stream",
     "text": [
      "211647.10578754818 24.39761209487915\n",
      "3.2368696717068075\n"
     ]
    },
    {
     "data": {
      "image/png": "[encoded data removed]",
      "text/plain": [
       "<Figure size 640x480 with 1 Axes>"
      ]
     },
     "metadata": {},
     "output_type": "display_data"
    },
    {
     "name": "stdout",
     "output_type": "stream",
     "text": [
      "253976.5269450578 37.787038803100586\n",
      "2.3995017383883908\n"
     ]
    },
    {
     "data": {
      "image/png": "[encoded data removed]",
      "text/plain": [
       "<Figure size 640x480 with 1 Axes>"
      ]
     },
     "metadata": {},
     "output_type": "display_data"
    },
    {
     "ename": "KeyboardInterrupt",
     "evalue": "",
     "output_type": "error",
     "traceback": [
      "\u001b[0;31m---------------------------------------------------------------------------\u001b[0m",
      "\u001b[0;31mKeyboardInterrupt\u001b[0m                         Traceback (most recent call last)",
      "Cell \u001b[0;32mIn[16], line 6\u001b[0m\n\u001b[1;32m      4\u001b[0m rat \u001b[38;5;241m=\u001b[39m \u001b[38;5;241m1.2\u001b[39m\n\u001b[1;32m      5\u001b[0m \u001b[38;5;28;01mwhile\u001b[39;00m \u001b[38;5;28;01mTrue\u001b[39;00m:\n\u001b[0;32m----> 6\u001b[0m     _, t \u001b[38;5;241m=\u001b[39m \u001b[43mtime_fn\u001b[49m\u001b[43m(\u001b[49m\u001b[43mfind_prime_dice\u001b[49m\u001b[43m,\u001b[49m\u001b[43m \u001b[49m\u001b[43mnom\u001b[49m\u001b[38;5;241;43m=\u001b[39;49m\u001b[38;5;241;43m7\u001b[39;49m\u001b[43m,\u001b[49m\u001b[43m \u001b[49m\u001b[43mden\u001b[49m\u001b[38;5;241;43m=\u001b[39;49m\u001b[38;5;241;43m16\u001b[39;49m\u001b[43m,\u001b[49m\u001b[43m \u001b[49m\u001b[43mmax_prod\u001b[49m\u001b[38;5;241;43m=\u001b[39;49m\u001b[38;5;28;43mint\u001b[39;49m\u001b[43m(\u001b[49m\u001b[43mmax_prod\u001b[49m\u001b[43m)\u001b[49m\u001b[43m,\u001b[49m\u001b[43m \u001b[49m\u001b[43mv\u001b[49m\u001b[38;5;241;43m=\u001b[39;49m\u001b[38;5;28;43;01mFalse\u001b[39;49;00m\u001b[43m)\u001b[49m\n\u001b[1;32m      7\u001b[0m     max_prods\u001b[38;5;241m.\u001b[39mappend(max_prod)\n\u001b[1;32m      8\u001b[0m     times\u001b[38;5;241m.\u001b[39mappend(t)\n",
      "Cell \u001b[0;32mIn[12], line 3\u001b[0m, in \u001b[0;36mtime_fn\u001b[0;34m(fn, **kwargs)\u001b[0m\n\u001b[1;32m      1\u001b[0m \u001b[38;5;28;01mdef\u001b[39;00m \u001b[38;5;21mtime_fn\u001b[39m(fn, \u001b[38;5;241m*\u001b[39m\u001b[38;5;241m*\u001b[39mkwargs):\n\u001b[1;32m      2\u001b[0m     t0 \u001b[38;5;241m=\u001b[39m time()\n\u001b[0;32m----> 3\u001b[0m     out \u001b[38;5;241m=\u001b[39m \u001b[43mfn\u001b[49m\u001b[43m(\u001b[49m\u001b[38;5;241;43m*\u001b[39;49m\u001b[38;5;241;43m*\u001b[39;49m\u001b[43mkwargs\u001b[49m\u001b[43m)\u001b[49m\n\u001b[1;32m      4\u001b[0m     dt \u001b[38;5;241m=\u001b[39m time() \u001b[38;5;241m-\u001b[39m t0\n\u001b[1;32m      5\u001b[0m     \u001b[38;5;28;01mreturn\u001b[39;00m out, dt\n",
      "Cell \u001b[0;32mIn[11], line 14\u001b[0m, in \u001b[0;36mfind_prime_dice\u001b[0;34m(nom, den, max_prod, max_prime, v)\u001b[0m\n\u001b[1;32m     12\u001b[0m \u001b[38;5;28;01mwhile\u001b[39;00m poss \u001b[38;5;241m*\u001b[39m nom \u001b[38;5;241m>\u001b[39m tot:\n\u001b[1;32m     13\u001b[0m     target \u001b[38;5;241m-\u001b[39m\u001b[38;5;241m=\u001b[39m \u001b[38;5;241m1\u001b[39m\n\u001b[0;32m---> 14\u001b[0m     tot \u001b[38;5;241m+\u001b[39m\u001b[38;5;241m=\u001b[39m \u001b[43msum_num\u001b[49m\u001b[43m(\u001b[49m\u001b[43mtarget\u001b[49m\u001b[43m,\u001b[49m\u001b[43m \u001b[49m\u001b[43mdice\u001b[49m\u001b[43m)\u001b[49m\n\u001b[1;32m     15\u001b[0m \u001b[38;5;28;01mif\u001b[39;00m poss \u001b[38;5;241m*\u001b[39m nom \u001b[38;5;241m==\u001b[39m tot:\n\u001b[1;32m     16\u001b[0m     \u001b[38;5;28;01mif\u001b[39;00m v \u001b[38;5;129;01mand\u001b[39;00m dice_prod \u001b[38;5;241m>\u001b[39m \u001b[38;5;241m1\u001b[39m:\n",
      "Cell \u001b[0;32mIn[5], line 1\u001b[0m, in \u001b[0;36msum_num\u001b[0;34m(n, dice)\u001b[0m\n\u001b[0;32m----> 1\u001b[0m \u001b[38;5;129m@cache\u001b[39m\n\u001b[1;32m      2\u001b[0m \u001b[38;5;28;01mdef\u001b[39;00m \u001b[38;5;21msum_num\u001b[39m(n, dice):\n\u001b[1;32m      3\u001b[0m     \u001b[38;5;28;01mif\u001b[39;00m n \u001b[38;5;241m>\u001b[39m \u001b[38;5;28msum\u001b[39m(dice) \u001b[38;5;129;01mor\u001b[39;00m n \u001b[38;5;241m<\u001b[39m \u001b[38;5;28mlen\u001b[39m(dice):\n\u001b[1;32m      4\u001b[0m         \u001b[38;5;28;01mreturn\u001b[39;00m \u001b[38;5;241m0\u001b[39m\n",
      "\u001b[0;31mKeyboardInterrupt\u001b[0m: "
     ]
    }
   ],
   "source": [
    "max_prods = []\n",
    "times = []\n",
    "max_prod = 100\n",
    "rat = 1.2\n",
    "while True:\n",
    "    _, t = time_fn(find_prime_dice, nom=7, den=16, max_prod=int(max_prod), v=False)\n",
    "    max_prods.append(max_prod)\n",
    "    times.append(t)\n",
    "    print(max_prod, t, flush=True)\n",
    "    if t > 1:\n",
    "        print(log(t/times[-2])/log(rat))\n",
    "    if t > 10:\n",
    "        plt.loglog(max_prods, times, '.-')\n",
    "        plt.loglog(max_prods, (np.array(max_prods)/max_prod)**2 * t, '.-')\n",
    "        plt.loglog(max_prods, (np.array(max_prods)/max_prod)**3 * t, '.-')\n",
    "        plt.show()\n",
    "    max_prod *= rat"
   ]
  },
  {
   "cell_type": "code",
   "execution_count": 18,
   "id": "23bc9ae7-ab9f-4420-a9bb-39c01ba41913",
   "metadata": {},
   "outputs": [
    {
     "data": {
      "image/png": "[encoded data removed]",
      "text/plain": [
       "<Figure size 640x480 with 1 Axes>"
      ]
     },
     "metadata": {},
     "output_type": "display_data"
    }
   ],
   "source": [
    "max_prod = max_prods[-1]\n",
    "plt.loglog(max_prods, times, '.-')\n",
    "plt.loglog(max_prods, (np.array(max_prods)/max_prod)**2 * t, '.-')\n",
    "plt.loglog(max_prods, (np.array(max_prods)/max_prod)**3 * t, '.-')\n",
    "plt.ylim(1e-4, None)\n",
    "plt.show()"
   ]
  },
  {
   "cell_type": "code",
   "execution_count": null,
   "id": "37d81251-be73-4e84-8c9b-0c4a0588173d",
   "metadata": {},
   "outputs": [
    {
     "name": "stdout",
     "output_type": "stream",
     "text": [
      "10**0 1.2874603271484375e-05\n",
      "10**1 8.344650268554688e-06\n",
      "10**2 5.9604644775390625e-05\n",
      "10**3 0.0007483959197998047\n",
      "10**4 0.17228293418884277\n",
      "10**5 10.589860200881958\n"
     ]
    }
   ],
   "source": [
    "for i in range(10):\n",
    "    _, t = time_fn(find_prime_dice, nom=7, den=16, max_prod=10**i, v=False)\n",
    "    print(f'10**{i}', t)"
   ]
  },
  {
   "cell_type": "code",
   "execution_count": 25,
   "id": "a60bed4e-a7ef-4e2a-9b6f-34bd9b2d59b6",
   "metadata": {},
   "outputs": [],
   "source": [
    "DICE = [4, 6, 8, 10, 12, 20]"
   ]
  },
  {
   "cell_type": "code",
   "execution_count": 38,
   "id": "81f8104d-be2a-4ebb-9878-89ee820e91f5",
   "metadata": {},
   "outputs": [],
   "source": [
    "DICE = [4, 6, 8, 12, 20, 30, 48, 60, 120] + [10] # 24"
   ]
  },
  {
   "cell_type": "code",
   "execution_count": null,
   "id": "7028fbb8-4906-465c-a48a-6a78c8054c8b",
   "metadata": {},
   "outputs": [
    {
     "name": "stdout",
     "output_type": "stream",
     "text": [
      "1\n",
      "2\n",
      "3\n",
      "4\n",
      "5\n",
      "6\n",
      "8\n",
      "9\n",
      "1/9 3 (10, 30, 6) 37\n",
      "2/9 4 (6, 6, 6, 4) 16\n",
      "2/9 4 (10, 8, 6, 6) 21\n",
      "2/9 4 (10, 20, 12, 12) 36\n",
      "4/9 8 (10, 60, 60, 60, 8, 8, 8, 6) 119\n",
      "10\n",
      "12\n",
      "15\n",
      "16\n",
      "18\n",
      "1/18 2 (30, 6) 33\n",
      "5/18 2 (6, 6) 9\n",
      "7/18 3 (8, 6, 6) 13\n",
      "20\n",
      "24\n",
      "25\n",
      "1/25 2 (30, 30) 53\n",
      "2/25 4 (10, 10, 10, 6) 28\n",
      "3/25 2 (10, 30) 33\n",
      "4/25 6 (120, 120, 30, 30, 20, 6) 220\n",
      "4/25 6 (10, 30, 30, 8, 4, 4) 60\n",
      "4/25 6 (10, 120, 120, 20, 8, 8) 199\n",
      "4/25 6 (10, 10, 10, 60, 60, 8) 109\n",
      "6/25 6 (10, 30, 30, 4, 4, 4) 54\n",
      "7/25 2 (10, 10) 14\n",
      "8/25 4 (10, 10, 10, 4) 22\n",
      "9/25 2 (10, 10) 13\n",
      "11/25 5 (10, 10, 10, 10, 10) 29\n",
      "12/25 3 (48, 30, 30) 57\n",
      "27\n",
      "1/27 3 (30, 30, 6) 57\n",
      "2/27 4 (30, 8, 6, 6) 41\n",
      "2/27 4 (10, 12, 6, 6) 27\n",
      "2/27 4 (10, 60, 12, 12) 76\n",
      "4/27 4 (10, 30, 12, 12) 46\n",
      "5/27 4 (12, 8, 6, 6) 23\n",
      "7/27 3 (6, 6, 6) 13\n",
      "7/27 3 (12, 6, 6) 17\n",
      "8/27 7 (60, 60, 8, 8, 6, 6, 4) 94\n",
      "10/27 11 (60, 30, 30, 12, 6, 6, 6, 6, 6, 4, 4) 99\n",
      "10/27 11 (120, 60, 60, 20, 20, 20, 8, 6, 6, 6, 4) 187\n",
      "10/27 11 (10, 60, 30, 30, 8, 8, 8, 4, 4, 4, 4) 99\n",
      "10/27 11 (10, 120, 60, 60, 30, 12, 8, 8, 8, 6, 4) 185\n",
      "10/27 11 (10, 10, 60, 30, 30, 6, 6, 6, 4, 4, 4) 99\n",
      "10/27 11 (10, 10, 120, 60, 60, 20, 20, 12, 12, 8, 6) 191\n",
      "10/27 11 (10, 10, 120, 60, 60, 30, 12, 6, 6, 6, 6) 185\n",
      "10/27 11 (10, 10, 10, 10, 120, 60, 60, 30, 6, 6, 4) 185\n",
      "11/27 7 (10, 120, 120, 120, 20, 12, 8) 224\n",
      "13/27 7 (48, 48, 20, 6, 4, 4, 4) 72\n",
      "30\n",
      "32\n",
      "1/32 2 (8, 4) 12\n",
      "1/32 2 (12, 8) 19\n",
      "1/32 2 (48, 4) 50\n",
      "1/32 2 (48, 30) 70\n",
      "1/32 2 (60, 8) 64\n",
      "1/32 2 (120, 12) 124\n",
      "1/32 2 (10, 48) 54\n",
      "3/32 2 (8, 4) 11\n",
      "3/32 2 (8, 8) 14\n",
      "3/32 2 (20, 8) 24\n",
      "3/32 2 (48, 4) 47\n",
      "3/32 2 (48, 6) 48\n",
      "3/32 2 (48, 8) 49\n",
      "3/32 2 (10, 48) 50\n",
      "5/32 2 (8, 8) 13\n",
      "5/32 2 (12, 8) 16\n",
      "5/32 2 (48, 4) 44\n",
      "5/32 2 (48, 6) 45\n",
      "5/32 2 (48, 8) 46\n",
      "5/32 2 (48, 12) 48\n",
      "5/32 2 (10, 48) 47\n",
      "7/32 2 (12, 8) 15\n",
      "7/32 2 (48, 4) 41\n",
      "7/32 2 (48, 6) 42\n",
      "7/32 2 (48, 8) 43\n",
      "7/32 2 (48, 12) 45\n",
      "7/32 2 (48, 20) 49\n",
      "7/32 2 (60, 48) 74\n",
      "7/32 2 (10, 48) 44\n",
      "9/32 2 (48, 4) 38\n",
      "9/32 2 (48, 6) 39\n",
      "9/32 2 (48, 8) 40\n",
      "9/32 2 (48, 12) 42\n",
      "9/32 2 (48, 20) 46\n",
      "9/32 2 (10, 48) 41\n",
      "11/32 2 (48, 4) 35\n",
      "11/32 2 (48, 6) 36\n",
      "11/32 2 (48, 8) 37\n",
      "11/32 2 (48, 12) 39\n",
      "11/32 2 (48, 20) 43\n",
      "11/32 2 (48, 30) 48\n",
      "11/32 2 (60, 48) 65\n",
      "11/32 2 (120, 120) 142\n",
      "11/32 2 (10, 48) 38\n",
      "13/32 2 (48, 4) 32\n",
      "13/32 2 (48, 6) 33\n",
      "13/32 2 (48, 8) 34\n",
      "13/32 2 (48, 12) 36\n",
      "13/32 2 (48, 20) 40\n",
      "13/32 2 (48, 30) 45\n",
      "13/32 2 (10, 48) 35\n",
      "15/32 2 (48, 4) 29\n",
      "15/32 2 (48, 6) 30\n",
      "15/32 2 (48, 8) 31\n",
      "15/32 2 (48, 12) 33\n",
      "15/32 2 (48, 20) 37\n",
      "15/32 2 (48, 30) 42\n",
      "15/32 2 (10, 48) 32\n",
      "36\n",
      "1/36 2 (6, 6) 12\n",
      "1/36 2 (30, 12) 39\n",
      "1/36 2 (60, 6) 63\n",
      "5/36 2 (12, 6) 15\n",
      "7/36 2 (12, 12) 18\n",
      "11/36 6 (10, 10, 10, 120, 120, 20) 175\n",
      "13/36 2 (30, 30) 36\n",
      "17/36 3 (30, 30, 20) 43\n",
      "40\n",
      "45\n",
      "1/45 4 (20, 20, 6, 6) 45\n",
      "1/45 4 (10, 30, 12, 6) 50\n",
      "2/45 4 (120, 30, 30, 8) 156\n",
      "2/45 4 (10, 20, 6, 6) 35\n",
      "4/45 4 (60, 30, 30, 8) 96\n",
      "4/45 4 (10, 10, 6, 6) 25\n",
      "7/45 3 (20, 6, 6) 25\n",
      "7/45 3 (10, 6, 6) 17\n",
      "8/45 6 (30, 30, 8, 6, 6, 6) 59\n",
      "8/45 6 (60, 48, 12, 12, 8, 6) 99\n",
      "8/45 6 (120, 60, 6, 6, 6, 4) 144\n",
      "8/45 6 (10, 60, 60, 8, 8, 4) 103\n",
      "11/45 10 (120, 120, 20, 12, 8, 8, 8, 6, 6, 4) 198\n"
     ]
    },
    {
     "name": "stderr",
     "output_type": "stream",
     "text": [
      "Exception ignored in: <bound method IPythonKernel._clean_thread_parent_frames of <ipykernel.ipkernel.IPythonKernel object at 0x73205ef09fa0>>\n",
      "Traceback (most recent call last):\n",
      "  File \"/usr/lib/python3.12/site-packages/ipykernel/ipkernel.py\", line 775, in _clean_thread_parent_frames\n",
      "    def _clean_thread_parent_frames(\n",
      "\n",
      "KeyboardInterrupt: \n",
      "Exception ignored in: <bound method IPythonKernel._clean_thread_parent_frames of <ipykernel.ipkernel.IPythonKernel object at 0x73205ef09fa0>>\n",
      "Traceback (most recent call last):\n",
      "  File \"/usr/lib/python3.12/site-packages/ipykernel/ipkernel.py\", line 775, in _clean_thread_parent_frames\n",
      "    def _clean_thread_parent_frames(\n",
      "\n",
      "KeyboardInterrupt: \n",
      "Exception ignored in: <bound method IPythonKernel._clean_thread_parent_frames of <ipykernel.ipkernel.IPythonKernel object at 0x73205ef09fa0>>\n",
      "Traceback (most recent call last):\n",
      "  File \"/usr/lib/python3.12/site-packages/ipykernel/ipkernel.py\", line 775, in _clean_thread_parent_frames\n",
      "    def _clean_thread_parent_frames(\n",
      "\n",
      "KeyboardInterrupt: \n"
     ]
    }
   ],
   "source": [
    "max_dice = 11\n",
    "max_den = 50\n",
    "good_primes = list(set(sum([prime_factors(n) for n in DICE], ())))\n",
    "bad_primes = [p for p in primes_below(max_den) if p not in good_primes]\n",
    "\n",
    "for den in range(1, max_den):\n",
    "    if not any(den%k == 0 for k in bad_primes):\n",
    "        print(den)\n",
    "        for nom in range(den//2 + 1):\n",
    "            if gcd(nom, den) > 1:\n",
    "                continue\n",
    "            find_dice(nom, den, max_dice)"
   ]
  },
  {
   "cell_type": "code",
   "execution_count": 35,
   "id": "1bff851b-2df3-479b-8df3-0cba7c7ea087",
   "metadata": {},
   "outputs": [
    {
     "name": "stdout",
     "output_type": "stream",
     "text": [
      "1\n",
      "2\n",
      "3\n",
      "4\n",
      "5\n",
      "6\n",
      "8\n",
      "9\n",
      "1/9 4 (20, 8, 6, 6) 31\n",
      "1/9 4 (48, 30, 30, 8) 84\n",
      "2/9 4 (6, 6, 6, 4) 16\n",
      "4/9 11 (120, 120, 120, 20, 20, 12, 12, 8, 8, 6, 6) 241\n",
      "4/9 11 (120, 120, 120, 24, 12, 12, 12, 12, 8, 6, 6) 241\n",
      "4/9 11 (120, 120, 120, 24, 20, 12, 8, 6, 6, 4, 4) 237\n",
      "4/9 11 (120, 120, 120, 24, 24, 6, 6, 4, 4, 4, 4) 233\n",
      "4/9 11 (120, 120, 120, 30, 12, 8, 6, 6, 6, 6, 6) 235\n",
      "4/9 11 (120, 120, 120, 30, 12, 12, 6, 4, 4, 4, 4) 233\n",
      "10\n",
      "12\n",
      "15\n",
      "16\n",
      "18\n",
      "1/18 2 (30, 6) 33\n",
      "5/18 2 (6, 6) 9\n",
      "7/18 3 (8, 6, 6) 13\n",
      "20\n",
      "24\n",
      "25\n",
      "1/25 2 (30, 30) 53\n",
      "2/25 7 (60, 60, 20, 8, 6, 6, 6) 124\n",
      "3/25 7 (30, 30, 12, 6, 6, 4, 4) 66\n",
      "3/25 7 (120, 120, 24, 20, 8, 6, 6) 218\n",
      "3/25 7 (120, 120, 30, 12, 6, 4, 4) 214\n",
      "4/25 6 (120, 120, 30, 30, 20, 6) 220\n",
      "6/25 10 (120, 120, 20, 20, 20, 4, 4, 4, 4, 4) 203\n",
      "6/25 10 (120, 120, 24, 20, 12, 6, 6, 6, 6, 4) 205\n",
      "7/25 10 (120, 120, 12, 12, 12, 8, 8, 8, 4, 4) 190\n",
      "7/25 10 (120, 120, 20, 8, 8, 8, 4, 4, 4, 4) 186\n",
      "8/25 not found in 11 !!!!!!!!!!\n"
     ]
    },
    {
     "ename": "KeyboardInterrupt",
     "evalue": "",
     "output_type": "error",
     "traceback": [
      "\u001b[0;31m---------------------------------------------------------------------------\u001b[0m",
      "\u001b[0;31mKeyboardInterrupt\u001b[0m                         Traceback (most recent call last)",
      "Cell \u001b[0;32mIn[35], line 12\u001b[0m\n\u001b[1;32m     10\u001b[0m \u001b[38;5;28;01mif\u001b[39;00m gcd(nom, den) \u001b[38;5;241m>\u001b[39m \u001b[38;5;241m1\u001b[39m:\n\u001b[1;32m     11\u001b[0m     \u001b[38;5;28;01mcontinue\u001b[39;00m\n\u001b[0;32m---> 12\u001b[0m \u001b[43mfind_dice\u001b[49m\u001b[43m(\u001b[49m\u001b[43mnom\u001b[49m\u001b[43m,\u001b[49m\u001b[43m \u001b[49m\u001b[43mden\u001b[49m\u001b[43m,\u001b[49m\u001b[43m \u001b[49m\u001b[43mmax_dice\u001b[49m\u001b[43m)\u001b[49m\n",
      "Cell \u001b[0;32mIn[32], line 13\u001b[0m, in \u001b[0;36mfind_dice\u001b[0;34m(nom, den, max_dice)\u001b[0m\n\u001b[1;32m     11\u001b[0m \u001b[38;5;28;01mwhile\u001b[39;00m poss \u001b[38;5;241m*\u001b[39m nom \u001b[38;5;241m>\u001b[39m tot \u001b[38;5;241m*\u001b[39m den:\n\u001b[1;32m     12\u001b[0m     target \u001b[38;5;241m-\u001b[39m\u001b[38;5;241m=\u001b[39m \u001b[38;5;241m1\u001b[39m\n\u001b[0;32m---> 13\u001b[0m     tot \u001b[38;5;241m+\u001b[39m\u001b[38;5;241m=\u001b[39m sum_num(target, \u001b[38;5;28;43mtuple\u001b[39;49m\u001b[43m(\u001b[49m\u001b[38;5;28;43mreversed\u001b[39;49m\u001b[43m(\u001b[49m\u001b[43mdice\u001b[49m\u001b[43m)\u001b[49m\u001b[43m)\u001b[49m)\n\u001b[1;32m     14\u001b[0m \u001b[38;5;28;01mif\u001b[39;00m poss \u001b[38;5;241m*\u001b[39m nom \u001b[38;5;241m==\u001b[39m tot \u001b[38;5;241m*\u001b[39m den:\n\u001b[1;32m     15\u001b[0m     \u001b[38;5;28;01mif\u001b[39;00m k \u001b[38;5;241m>\u001b[39m \u001b[38;5;241m1\u001b[39m:\n",
      "\u001b[0;31mKeyboardInterrupt\u001b[0m: "
     ]
    }
   ],
   "source": [
    "max_dice = 11\n",
    "max_den = 50\n",
    "good_primes = list(set(sum([prime_factors(n) for n in DICE], ())))\n",
    "bad_primes = [p for p in primes_below(max_den) if p not in good_primes]\n",
    "\n",
    "for den in range(1, max_den):\n",
    "    if not any(den%k == 0 for k in bad_primes):\n",
    "        print(den)\n",
    "        for nom in range(den//2 + 1):\n",
    "            if gcd(nom, den) > 1:\n",
    "                continue\n",
    "            find_dice(nom, den, max_dice)"
   ]
  },
  {
   "cell_type": "code",
   "execution_count": 19,
   "id": "9e0aa8a7-7328-421f-b000-91cfd268dce9",
   "metadata": {},
   "outputs": [
    {
     "data": {
      "text/plain": [
       "315462"
      ]
     },
     "execution_count": 19,
     "metadata": {},
     "output_type": "execute_result"
    }
   ],
   "source": [
    "7511 * 21 * 2"
   ]
  },
  {
   "cell_type": "code",
   "execution_count": 24,
   "id": "217653b8-3c88-45e8-afc9-c59b2a7ac00e",
   "metadata": {},
   "outputs": [
    {
     "name": "stdout",
     "output_type": "stream",
     "text": [
      "\n",
      "1 ()\n",
      "\n",
      "2 (2,)\n",
      "\n",
      "3 (3,)\n",
      "\n",
      "4 (2, 2)\n",
      "\n",
      "5 (5,)\n",
      "\n",
      "6 (2, 3)\n",
      "\n",
      "7 (7,)\n",
      "\n",
      "8 (2, 2, 2)\n",
      "3/8 18 (2, 3, 3) 11\n",
      "\n",
      "9 (3, 3)\n",
      "2/9 2 (2,) 7\n",
      "4/9 >1000...\n",
      "4/9 >2000...\n",
      "4/9 2625 (3, 5, 5, 5, 7) 20\n",
      "\n",
      "10 (2, 5)\n",
      "\n",
      "11 (11,)\n",
      "\n",
      "12 (2, 2, 3)\n",
      "5/12 25 (5, 5) 12\n",
      "\n",
      "13 (13,)\n",
      "\n",
      "14 (2, 7)\n",
      "\n",
      "15 (3, 5)\n",
      "2/15 2 (2,) 9\n",
      "4/15 15 (3, 5) 12\n",
      "7/15 845 (5, 13, 13) 23\n",
      "\n",
      "16 (2, 2, 2, 2)\n",
      "3/16 2 (2,) 9\n",
      "7/16 >1000...\n",
      "7/16 >2000...\n",
      "7/16 >3000...\n",
      "7/16 >4000...\n",
      "7/16 >5000...\n",
      "7/16 >6000...\n",
      "7/16 >7000...\n",
      "7/16 >8000...\n",
      "7/16 >9000...\n",
      "7/16 >10000...\n",
      "7/16 >11000...\n",
      "7/16 >12000...\n",
      "7/16 >13000...\n",
      "7/16 >14000...\n",
      "7/16 >15000...\n",
      "7/16 >16000...\n",
      "7/16 >17000...\n",
      "7/16 >18000...\n",
      "7/16 >19000...\n",
      "7/16 >20000...\n",
      "7/16 >21000...\n"
     ]
    },
    {
     "name": "stderr",
     "output_type": "stream",
     "text": [
      "Exception ignored in: <bound method IPythonKernel._clean_thread_parent_frames of <ipykernel.ipkernel.IPythonKernel object at 0x73205ef09fa0>>\n",
      "Traceback (most recent call last):\n",
      "  File \"/usr/lib/python3.12/site-packages/ipykernel/ipkernel.py\", line 775, in _clean_thread_parent_frames\n",
      "    def _clean_thread_parent_frames(\n",
      "\n",
      "KeyboardInterrupt: \n"
     ]
    },
    {
     "ename": "KeyboardInterrupt",
     "evalue": "",
     "output_type": "error",
     "traceback": [
      "\u001b[0;31m---------------------------------------------------------------------------\u001b[0m",
      "\u001b[0;31mKeyboardInterrupt\u001b[0m                         Traceback (most recent call last)",
      "Cell \u001b[0;32mIn[24], line 10\u001b[0m\n\u001b[1;32m      8\u001b[0m \u001b[38;5;28;01mif\u001b[39;00m gcd(nom, den) \u001b[38;5;241m>\u001b[39m \u001b[38;5;241m1\u001b[39m:\n\u001b[1;32m      9\u001b[0m     \u001b[38;5;28;01mcontinue\u001b[39;00m\n\u001b[0;32m---> 10\u001b[0m \u001b[43mfind_prime_dice\u001b[49m\u001b[43m(\u001b[49m\u001b[43mnom\u001b[49m\u001b[43m,\u001b[49m\u001b[43m \u001b[49m\u001b[43mden\u001b[49m\u001b[43m,\u001b[49m\u001b[43m \u001b[49m\u001b[43mmax_prod\u001b[49m\u001b[43m)\u001b[49m\n",
      "Cell \u001b[0;32mIn[16], line 13\u001b[0m, in \u001b[0;36mfind_prime_dice\u001b[0;34m(nom, den, max_prod, max_prime, v)\u001b[0m\n\u001b[1;32m     11\u001b[0m \u001b[38;5;28;01mwhile\u001b[39;00m tot \u001b[38;5;241m<\u001b[39m dice_prod \u001b[38;5;241m*\u001b[39m nom:\n\u001b[1;32m     12\u001b[0m     target \u001b[38;5;241m-\u001b[39m\u001b[38;5;241m=\u001b[39m \u001b[38;5;241m1\u001b[39m\n\u001b[0;32m---> 13\u001b[0m     tot \u001b[38;5;241m+\u001b[39m\u001b[38;5;241m=\u001b[39m \u001b[43msum_num\u001b[49m\u001b[43m(\u001b[49m\u001b[43mtarget\u001b[49m\u001b[43m,\u001b[49m\u001b[43m \u001b[49m\u001b[43mdice\u001b[49m\u001b[43m)\u001b[49m\n\u001b[1;32m     14\u001b[0m \u001b[38;5;28;01mif\u001b[39;00m tot \u001b[38;5;241m==\u001b[39m dice_prod \u001b[38;5;241m*\u001b[39m nom:\n\u001b[1;32m     15\u001b[0m     \u001b[38;5;28;01mif\u001b[39;00m v \u001b[38;5;129;01mand\u001b[39;00m dice_prod \u001b[38;5;241m>\u001b[39m \u001b[38;5;241m1\u001b[39m:\n",
      "Cell \u001b[0;32mIn[22], line 12\u001b[0m, in \u001b[0;36msum_num\u001b[0;34m(n, dice)\u001b[0m\n\u001b[1;32m     10\u001b[0m tot \u001b[38;5;241m=\u001b[39m \u001b[38;5;241m0\u001b[39m\n\u001b[1;32m     11\u001b[0m \u001b[38;5;28;01mfor\u001b[39;00m i \u001b[38;5;129;01min\u001b[39;00m \u001b[38;5;28mrange\u001b[39m(\u001b[38;5;241m1\u001b[39m, first\u001b[38;5;241m+\u001b[39m\u001b[38;5;241m1\u001b[39m):\n\u001b[0;32m---> 12\u001b[0m     tot \u001b[38;5;241m+\u001b[39m\u001b[38;5;241m=\u001b[39m \u001b[43msum_num\u001b[49m\u001b[43m(\u001b[49m\u001b[43mn\u001b[49m\u001b[38;5;241;43m-\u001b[39;49m\u001b[43mi\u001b[49m\u001b[43m,\u001b[49m\u001b[43m \u001b[49m\u001b[43mrest\u001b[49m\u001b[43m)\u001b[49m\n\u001b[1;32m     13\u001b[0m \u001b[38;5;28;01mreturn\u001b[39;00m tot\n",
      "Cell \u001b[0;32mIn[22], line 12\u001b[0m, in \u001b[0;36msum_num\u001b[0;34m(n, dice)\u001b[0m\n\u001b[1;32m     10\u001b[0m tot \u001b[38;5;241m=\u001b[39m \u001b[38;5;241m0\u001b[39m\n\u001b[1;32m     11\u001b[0m \u001b[38;5;28;01mfor\u001b[39;00m i \u001b[38;5;129;01min\u001b[39;00m \u001b[38;5;28mrange\u001b[39m(\u001b[38;5;241m1\u001b[39m, first\u001b[38;5;241m+\u001b[39m\u001b[38;5;241m1\u001b[39m):\n\u001b[0;32m---> 12\u001b[0m     tot \u001b[38;5;241m+\u001b[39m\u001b[38;5;241m=\u001b[39m \u001b[43msum_num\u001b[49m\u001b[43m(\u001b[49m\u001b[43mn\u001b[49m\u001b[38;5;241;43m-\u001b[39;49m\u001b[43mi\u001b[49m\u001b[43m,\u001b[49m\u001b[43m \u001b[49m\u001b[43mrest\u001b[49m\u001b[43m)\u001b[49m\n\u001b[1;32m     13\u001b[0m \u001b[38;5;28;01mreturn\u001b[39;00m tot\n",
      "Cell \u001b[0;32mIn[22], line 12\u001b[0m, in \u001b[0;36msum_num\u001b[0;34m(n, dice)\u001b[0m\n\u001b[1;32m     10\u001b[0m tot \u001b[38;5;241m=\u001b[39m \u001b[38;5;241m0\u001b[39m\n\u001b[1;32m     11\u001b[0m \u001b[38;5;28;01mfor\u001b[39;00m i \u001b[38;5;129;01min\u001b[39;00m \u001b[38;5;28mrange\u001b[39m(\u001b[38;5;241m1\u001b[39m, first\u001b[38;5;241m+\u001b[39m\u001b[38;5;241m1\u001b[39m):\n\u001b[0;32m---> 12\u001b[0m     tot \u001b[38;5;241m+\u001b[39m\u001b[38;5;241m=\u001b[39m \u001b[43msum_num\u001b[49m\u001b[43m(\u001b[49m\u001b[43mn\u001b[49m\u001b[38;5;241;43m-\u001b[39;49m\u001b[43mi\u001b[49m\u001b[43m,\u001b[49m\u001b[43m \u001b[49m\u001b[43mrest\u001b[49m\u001b[43m)\u001b[49m\n\u001b[1;32m     13\u001b[0m \u001b[38;5;28;01mreturn\u001b[39;00m tot\n",
      "Cell \u001b[0;32mIn[22], line 11\u001b[0m, in \u001b[0;36msum_num\u001b[0;34m(n, dice)\u001b[0m\n\u001b[1;32m      9\u001b[0m first, rest \u001b[38;5;241m=\u001b[39m dice[\u001b[38;5;241m0\u001b[39m], dice[\u001b[38;5;241m1\u001b[39m:]\n\u001b[1;32m     10\u001b[0m tot \u001b[38;5;241m=\u001b[39m \u001b[38;5;241m0\u001b[39m\n\u001b[0;32m---> 11\u001b[0m \u001b[38;5;28;01mfor\u001b[39;00m i \u001b[38;5;129;01min\u001b[39;00m \u001b[38;5;28;43mrange\u001b[39;49m\u001b[43m(\u001b[49m\u001b[38;5;241;43m1\u001b[39;49m\u001b[43m,\u001b[49m\u001b[43m \u001b[49m\u001b[43mfirst\u001b[49m\u001b[38;5;241;43m+\u001b[39;49m\u001b[38;5;241;43m1\u001b[39;49m\u001b[43m)\u001b[49m:\n\u001b[1;32m     12\u001b[0m     tot \u001b[38;5;241m+\u001b[39m\u001b[38;5;241m=\u001b[39m sum_num(n\u001b[38;5;241m-\u001b[39mi, rest)\n\u001b[1;32m     13\u001b[0m \u001b[38;5;28;01mreturn\u001b[39;00m tot\n",
      "\u001b[0;31mKeyboardInterrupt\u001b[0m: "
     ]
    }
   ],
   "source": [
    "max_den = 1000\n",
    "max_prod = 1_000_000\n",
    "\n",
    "for den in range(1, max_den):\n",
    "    print()\n",
    "    print(den, prime_factors(den), flush=True)\n",
    "    for nom in range(den//2 + 1):\n",
    "        if gcd(nom, den) > 1:\n",
    "            continue\n",
    "        find_prime_dice(nom, den, max_prod)"
   ]
  },
  {
   "cell_type": "code",
   "execution_count": null,
   "id": "a02e123d-21bb-4ca5-ae72-d655d9865d74",
   "metadata": {},
   "outputs": [
    {
     "name": "stdout",
     "output_type": "stream",
     "text": [
      "\n",
      "1 ()\n",
      "\n",
      "2 (2,)\n",
      "\n",
      "3 (3,)\n",
      "\n",
      "4 (2, 2)\n",
      "\n",
      "5 (5,)\n",
      "\n",
      "6 (2, 3)\n",
      "\n",
      "7 (7,)\n",
      "\n",
      "8 (2, 2, 2)\n",
      "3/8 18 (2, 3, 3) 11\n",
      "\n",
      "9 (3, 3)\n",
      "2/9 2 (2,) 7\n",
      "4/9 >1000...\n",
      "4/9 >2000...\n",
      "4/9 2625 (3, 5, 5, 5, 7) 20\n",
      "\n",
      "10 (2, 5)\n",
      "\n",
      "11 (11,)\n",
      "\n",
      "12 (2, 2, 3)\n",
      "5/12 25 (5, 5) 12\n",
      "\n",
      "13 (13,)\n",
      "\n",
      "14 (2, 7)\n",
      "\n",
      "15 (3, 5)\n",
      "2/15 2 (2,) 9\n",
      "4/15 15 (3, 5) 12\n",
      "7/15 845 (5, 13, 13) 23\n",
      "\n",
      "16 (2, 2, 2, 2)\n",
      "3/16 2 (2,) 9\n",
      "7/16 >1000...\n",
      "7/16 >2000...\n",
      "7/16 >3000...\n",
      "7/16 >4000...\n",
      "7/16 >5000...\n",
      "7/16 >6000...\n",
      "7/16 >7000...\n",
      "7/16 >8000...\n",
      "7/16 >9000...\n",
      "7/16 >10000...\n",
      "7/16 >11000...\n",
      "7/16 >12000...\n",
      "7/16 >13000...\n",
      "7/16 >14000...\n",
      "7/16 >15000...\n",
      "7/16 >16000...\n",
      "7/16 >17000...\n",
      "7/16 >18000...\n",
      "7/16 >19000...\n",
      "7/16 >20000...\n",
      "7/16 >21000...\n",
      "7/16 >22000...\n",
      "7/16 >23000...\n",
      "7/16 >24000...\n",
      "7/16 >25000...\n",
      "7/16 >26000...\n"
     ]
    }
   ],
   "source": [
    "max_den = 1000\n",
    "max_prod = 1_000_000\n",
    "\n",
    "for den in range(1, max_den):\n",
    "    print()\n",
    "    print(den, prime_factors(den), flush=True)\n",
    "    for nom in range(den//2 + 1):\n",
    "        if gcd(nom, den) > 1:\n",
    "            continue\n",
    "        find_prime_dice(nom, den, max_prod)"
   ]
  },
  {
   "cell_type": "code",
   "execution_count": null,
   "id": "f6c6c1a8-5e89-40d3-92a8-98996a9e3bab",
   "metadata": {},
   "outputs": [
    {
     "name": "stdout",
     "output_type": "stream",
     "text": [
      "\n",
      "1 ()\n",
      "\n",
      "2 (2,)\n",
      "\n",
      "3 (3,)\n",
      "\n",
      "4 (2, 2)\n",
      "\n",
      "5 (5,)\n",
      "\n",
      "6 (2, 3)\n",
      "\n",
      "7 (7,)\n",
      "\n",
      "8 (2, 2, 2)\n",
      "3/8 18 (2, 3, 3) 11\n",
      "\n",
      "9 (3, 3)\n",
      "2/9 2 (2,) 7\n",
      "4/9 2625 (3, 5, 5, 5, 7) 20\n",
      "\n",
      "10 (2, 5)\n",
      "\n",
      "11 (11,)\n",
      "\n",
      "12 (2, 2, 3)\n",
      "5/12 25 (5, 5) 12\n",
      "\n",
      "13 (13,)\n",
      "\n",
      "14 (2, 7)\n",
      "\n",
      "15 (3, 5)\n",
      "2/15 2 (2,) 9\n",
      "4/15 15 (3, 5) 12\n",
      "7/15 845 (5, 13, 13) 23\n",
      "\n",
      "16 (2, 2, 2, 2)\n",
      "3/16 2 (2,) 9\n",
      "7/16 not found in 19716 !!!!!!!!!!\n",
      "\n",
      "17 (17,)\n",
      "\n",
      "18 (2, 3, 3)\n",
      "5/18 12 (2, 2, 3) 12\n",
      "7/18 24 (2, 2, 2, 3) 13\n",
      "\n",
      "19 (19,)\n",
      "\n",
      "20 (2, 2, 5)\n",
      "3/20 6 (2, 3) 12\n",
      "7/20 6665 (5, 31, 43) 54\n",
      "9/20 not found in 15773 !!!!!!!!!!\n",
      "\n",
      "21 (3, 7)\n",
      "2/21 2 (2,) 11\n",
      "4/21 15 (3, 5) 14\n",
      "5/21 10 (2, 5) 13\n",
      "8/21 7511 (7, 29, 37) 49\n",
      "10/21 361 (19, 19) 27\n",
      "\n",
      "22 (2, 11)\n",
      "\n",
      "23 (23,)\n",
      "\n",
      "24 (2, 2, 2, 3)\n",
      "7/24 627 (3, 11, 19) 29\n"
     ]
    }
   ],
   "source": [
    "max_den = 100\n",
    "max_prod = 7511 * 21 * 2\n",
    "\n",
    "for den in range(1, max_den):\n",
    "    print()\n",
    "    print(den, prime_factors(den), flush=True)\n",
    "    for nom in range(den//2 + 1):\n",
    "        if gcd(nom, den) > 1:\n",
    "            continue\n",
    "        find_prime_dice(nom, den, max_prod)"
   ]
  }
 ],
 "metadata": {
  "kernelspec": {
   "display_name": "Python 3 (ipykernel)",
   "language": "python",
   "name": "python3"
  },
  "language_info": {
   "codemirror_mode": {
    "name": "ipython",
    "version": 3
   },
   "file_extension": ".py",
   "mimetype": "text/x-python",
   "name": "python",
   "nbconvert_exporter": "python",
   "pygments_lexer": "ipython3",
   "version": "3.12.7"
  }
 },
 "nbformat": 4,
 "nbformat_minor": 5
}
