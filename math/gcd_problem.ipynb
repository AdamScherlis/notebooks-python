{
 "cells": [
  {
   "cell_type": "code",
   "execution_count": 1,
   "id": "ac523ea0-788b-4d6b-8142-7622a19399b4",
   "metadata": {},
   "outputs": [],
   "source": [
    "# 2024-07\n",
    "\n",
    "# https://math.stackexchange.com/questions/4624424/what-is-the-largest-possible-number-of-distinct-gcds-in-a-3x3-grid"
   ]
  },
  {
   "cell_type": "code",
   "execution_count": 2,
   "id": "1d35b564-7bb3-4431-b4dc-53564db48b23",
   "metadata": {},
   "outputs": [],
   "source": [
    "from math import gcd"
   ]
  },
  {
   "cell_type": "code",
   "execution_count": 9,
   "id": "bdbe6019-ed7a-4815-a064-b41de15a9269",
   "metadata": {},
   "outputs": [
    {
     "name": "stdout",
     "output_type": "stream",
     "text": [
      "1 1 3\n",
      "2 2 4\n",
      "3 4 5\n",
      "10 20 6\n",
      "20 54 7\n",
      "76 208 8\n",
      "740 2014 9\n"
     ]
    }
   ],
   "source": [
    "best = 0\n",
    "for i in range(2, 10_000):\n",
    "    for j in range(1, i):\n",
    "        k = i - j\n",
    "        aa = [*range(j, j+3)]\n",
    "        bb = [*range(k, k+3)] \n",
    "        gcds = [gcd(a,b) for a in aa for b in bb]\n",
    "        score = len(set(gcds))\n",
    "        if score > best:\n",
    "            print(j, k, score)\n",
    "            best = score\n",
    "    if best == 9:\n",
    "        break"
   ]
  },
  {
   "cell_type": "code",
   "execution_count": 11,
   "id": "90dc3d13-4c88-4b44-b69b-9d7e50888733",
   "metadata": {},
   "outputs": [
    {
     "name": "stdout",
     "output_type": "stream",
     "text": [
      "1 1 4\n",
      "2 2 5\n",
      "3 3 6\n",
      "6 6 7\n",
      "18 27 8\n",
      "33 42 9\n",
      "54 132 10\n",
      "207 285 11\n",
      "153 558 12\n",
      "6783 13038 13\n"
     ]
    },
    {
     "ename": "KeyboardInterrupt",
     "evalue": "",
     "output_type": "error",
     "traceback": [
      "\u001b[0;31m---------------------------------------------------------------------------\u001b[0m",
      "\u001b[0;31mKeyboardInterrupt\u001b[0m                         Traceback (most recent call last)",
      "Cell \u001b[0;32mIn[11], line 8\u001b[0m\n\u001b[1;32m      6\u001b[0m aa \u001b[38;5;241m=\u001b[39m [\u001b[38;5;241m*\u001b[39m\u001b[38;5;28mrange\u001b[39m(j, j \u001b[38;5;241m+\u001b[39m size)]\n\u001b[1;32m      7\u001b[0m bb \u001b[38;5;241m=\u001b[39m [\u001b[38;5;241m*\u001b[39m\u001b[38;5;28mrange\u001b[39m(k, k \u001b[38;5;241m+\u001b[39m size)] \n\u001b[0;32m----> 8\u001b[0m gcds \u001b[38;5;241m=\u001b[39m [\u001b[43mgcd\u001b[49m\u001b[43m(\u001b[49m\u001b[43ma\u001b[49m\u001b[43m,\u001b[49m\u001b[43mb\u001b[49m\u001b[43m)\u001b[49m \u001b[38;5;28;01mfor\u001b[39;00m a \u001b[38;5;129;01min\u001b[39;00m aa \u001b[38;5;28;01mfor\u001b[39;00m b \u001b[38;5;129;01min\u001b[39;00m bb]\n\u001b[1;32m      9\u001b[0m score \u001b[38;5;241m=\u001b[39m \u001b[38;5;28mlen\u001b[39m(\u001b[38;5;28mset\u001b[39m(gcds))\n\u001b[1;32m     10\u001b[0m \u001b[38;5;28;01mif\u001b[39;00m score \u001b[38;5;241m>\u001b[39m best:\n",
      "\u001b[0;31mKeyboardInterrupt\u001b[0m: "
     ]
    }
   ],
   "source": [
    "size = 4\n",
    "best = 0\n",
    "for i in range(2, 1_000_000):\n",
    "    for j in range(1, i):\n",
    "        k = i - j\n",
    "        aa = [*range(j, j + size)]\n",
    "        bb = [*range(k, k + size)] \n",
    "        gcds = [gcd(a,b) for a in aa for b in bb]\n",
    "        score = len(set(gcds))\n",
    "        if score > best:\n",
    "            print(j, k, score)\n",
    "            best = score\n",
    "    if best == size**2:\n",
    "        break"
   ]
  },
  {
   "cell_type": "code",
   "execution_count": null,
   "id": "233adec6-0dd3-499b-8170-9d4961f8430d",
   "metadata": {},
   "outputs": [],
   "source": []
  }
 ],
 "metadata": {
  "kernelspec": {
   "display_name": "Python 3 (ipykernel)",
   "language": "python",
   "name": "python3"
  },
  "language_info": {
   "codemirror_mode": {
    "name": "ipython",
    "version": 3
   },
   "file_extension": ".py",
   "mimetype": "text/x-python",
   "name": "python",
   "nbconvert_exporter": "python",
   "pygments_lexer": "ipython3",
   "version": "3.12.6"
  }
 },
 "nbformat": 4,
 "nbformat_minor": 5
}
