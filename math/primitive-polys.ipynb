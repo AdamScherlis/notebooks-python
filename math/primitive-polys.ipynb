{
 "cells": [
  {
   "cell_type": "code",
   "execution_count": 2,
   "id": "8ced6827-acd1-4822-84d7-9de123eb5e27",
   "metadata": {},
   "outputs": [],
   "source": [
    "with open(\"minweight-primpoly.txt\") as f:\n",
    "    s = f.readlines()"
   ]
  },
  {
   "cell_type": "code",
   "execution_count": 18,
   "id": "ac8ec3c5-9bd1-46de-9fdf-31f839e8117f",
   "metadata": {},
   "outputs": [
    {
     "name": "stdout",
     "output_type": "stream",
     "text": [
      "[3, 3, 3, 3, 3, 3, 5, 3, 3, 3, 5, 5, 5, 3, 5, 3, 3, 5, 3, 3, 3, 3, 5, 3, 5, 5, 3, 3, 5, 3, 5, 3, 5, 3, 3, 5, 5, 3, 5, 3, 5, 5, 5, 5, 5, 3, 5, 3, 5, 5, 3, 5, 5, 3, 5, 3, 3, 5, 3, 5, 5, 3, 5, 3, 5, 5, 3, 5, 5, 3, 5, 3, 5, 5, 5, 5, 5, 3, 5, 3, 5, 5, 3, 5, 5, 3, 5, 3, 5, 5, 5, 3, 3, 3, 5, 3, 3, 5, 3, 5, 5, 3, 5, 3, 3, 5, 3, 5, 5, 3, 5, 3, 5, 5, 5, 5, 3, 3, 5, 3, 5, 3, 3, 5, 5, 3, 5, 3, 3, 5, 3, 5, 3, 3, 5, 3, 5, 5, 3, 5, 3, 5, 5, 3, 5, 5, 3, 5, 3, 3, 5, 3, 5, 5, 5, 5, 5, 3, 5, 3, 5, 5, 5, 5, 5, 3, 5, 3, 3, 5, 3, 5, 3, 3, 5, 3, 3, 5, 5, 5, 5, 3, 5, 3, 5, 5, 5, 5, 5, 3, 5, 3, 3, 5, 5, 5, 3, 3, 5, 3, 3, 5, 5, 5, 5, 3, 5, 3, 5, 5, 3, 5, 5, 3, 5, 3, 3, 5, 5, 5, 5, 3, 5, 3, 5, 5, 5, 5, 5, 3, 5, 3, 3, 5, 3, 5, 5, 3, 5, 3, 5, 5, 5, 5, 5, 3, 5, 3, 3, 5, 3, 5, 5, 3, 5, 3, 3, 5, 5, 5, 5, 3, 5, 3, 3, 5, 3, 5, 3, 3, 5, 3, 3, 5, 5, 5, 3, 3, 5, 3, 3, 5, 3, 5, 3, 3, 5, 3, 5, 5, 3, 5, 3, 3, 5, 3, 5, 5, 3, 5, 3, 5, 5, 3, 5, 5, 5, 5, 5, 5, 5, 3, 3, 5, 3, 5, 5, 3, 5, 3, 3, 5, 5, 5, 5, 3, 5, 3, 5, 5, 3, 3, 5, 5, 5, 3, 5, 5, 5, 5, 3, 3, 5, 3, 5, 5, 5, 5, 3, 3, 5, 3, 5, 5, 5, 5, 5, 3, 5, 5, 3, 5, 3, 5, 3, 3, 5, 3, 3, 5, 5, 5, 5, 3, 5, 3, 3, 5, 3, 5, 3, 3, 5, 3, 3, 5, 5, 5, 3, 3, 5, 3, 3, 5, 3, 5, 5, 3, 5]\n"
     ]
    }
   ],
   "source": [
    "ws = [len(x.split(',')) for x in s[9:]]\n",
    "print(ws)"
   ]
  },
  {
   "cell_type": "code",
   "execution_count": 80,
   "id": "3def362c-f755-4943-8d35-ec5d0d3c961e",
   "metadata": {},
   "outputs": [
    {
     "data": {
      "text/plain": [
       "'000000100011101001000010110010101001101011111010110110100101101011011010111110101101101011100010010110100101101011110010100110100101001011010110110100101111101011111010010100100111101011111010011100100111101011011010011110101111101001011010111110100101101001111010010100100111001001010010110100101101011011111110010110100111101011001110111100101111001011111011010100100111101001010010011100100101101'"
      ]
     },
     "execution_count": 80,
     "metadata": {},
     "output_type": "execute_result"
    }
   ],
   "source": [
    "''.join(map(str, bits))"
   ]
  },
  {
   "cell_type": "code",
   "execution_count": 77,
   "id": "fb14fb30-d4c3-4e60-adc2-f45e901f3888",
   "metadata": {},
   "outputs": [],
   "source": [
    "import matplotlib.pyplot as plt"
   ]
  },
  {
   "cell_type": "code",
   "execution_count": 56,
   "id": "2fac60e4-ac0f-48b5-ac98-a64f927ce5f6",
   "metadata": {},
   "outputs": [],
   "source": [
    "bits = [x//4 for x in ws]"
   ]
  },
  {
   "cell_type": "code",
   "execution_count": 74,
   "id": "d28bc778-c08e-4e11-9681-8f2f00b0a608",
   "metadata": {},
   "outputs": [
    {
     "data": {
      "text/plain": [
       "[0, 1, 0, 1, 1, 0, 1]"
      ]
     },
     "execution_count": 74,
     "metadata": {},
     "output_type": "execute_result"
    }
   ],
   "source": [
    "bits[-7:]"
   ]
  },
  {
   "cell_type": "code",
   "execution_count": 96,
   "id": "6caf1ccd-fb5f-4fc3-be4b-7f58c3f729bd",
   "metadata": {},
   "outputs": [
    {
     "data": {
      "text/plain": [
       "0.6090225563909775"
      ]
     },
     "execution_count": 96,
     "metadata": {},
     "output_type": "execute_result"
    }
   ],
   "source": [
    "sum([abs(x) for x in diffs(bits)]) / len(bits)"
   ]
  },
  {
   "cell_type": "code",
   "execution_count": 58,
   "id": "9ef67e7c-d467-4505-94ae-d8cfa3b73dd4",
   "metadata": {},
   "outputs": [
    {
     "data": {
      "text/plain": [
       "'0x3'"
      ]
     },
     "execution_count": 58,
     "metadata": {},
     "output_type": "execute_result"
    }
   ],
   "source": [
    "hex(3)"
   ]
  },
  {
   "cell_type": "code",
   "execution_count": 73,
   "id": "df149510-3445-404e-af48-9618ec1e0013",
   "metadata": {},
   "outputs": [
    {
     "name": "stdout",
     "output_type": "stream",
     "text": [
      "023a42ca9afada5adafadae25a5af29a52d6d2fafa527afa727ada7afa5afa5a7a527252d2d6fe5a7acef2f2fb527a52725\n"
     ]
    }
   ],
   "source": [
    "hx = ''\n",
    "for i in range(len(bits)//4):\n",
    "    a,b,c,d = bits[4*i:4*(i+1)]\n",
    "    hx += hex(((a*2+b)*2+c)*2+d)[-1]\n",
    "print(hx)"
   ]
  },
  {
   "cell_type": "code",
   "execution_count": 75,
   "id": "b285aa3b-8cf6-4bc8-bf8d-430dba18bc70",
   "metadata": {},
   "outputs": [
    {
     "data": {
      "text/plain": [
       "99"
      ]
     },
     "execution_count": 75,
     "metadata": {},
     "output_type": "execute_result"
    }
   ],
   "source": [
    "len(hx)"
   ]
  },
  {
   "cell_type": "code",
   "execution_count": 28,
   "id": "d5330bae-e3fe-499f-86ee-dc0d1f5f0b98",
   "metadata": {},
   "outputs": [
    {
     "name": "stdout",
     "output_type": "stream",
     "text": [
      "[0, 1, 2, 3, 4, 5, 7, 8, 9, 13, 15, 16, 18, 19, 20, 21, 23, 26, 27, 29, 31, 33, 34, 37, 39, 45, 47, 50, 53, 55, 56, 58, 61, 63, 66, 69, 71, 77, 79, 82, 85, 87, 91, 92, 93, 95, 96, 98, 101, 103, 104, 106, 109, 111, 116, 117, 119, 121, 122, 125, 127, 128, 130, 132, 133, 135, 138, 140, 143, 146, 148, 149, 151, 157, 159, 165, 167, 168, 170, 172, 173, 175, 176, 181, 183, 189, 191, 192, 196, 197, 199, 200, 205, 207, 210, 213, 215, 216, 221, 223, 229, 231, 232, 234, 237, 239, 245, 247, 248, 250, 253, 255, 256, 261, 263, 264, 266, 268, 269, 271, 272, 276, 277, 279, 280, 282, 284, 285, 287, 290, 292, 293, 295, 298, 300, 303, 311, 312, 314, 317, 319, 320, 325, 327, 330, 331, 335, 340, 341, 343, 348, 349, 351, 357, 360, 362, 364, 365, 367, 368, 373, 375, 376, 378, 380, 381, 383, 384, 388, 389, 391, 392, 394, 397]\n"
     ]
    }
   ],
   "source": [
    "tris = [i for i in range(len(ws)) if ws[i] == 3]\n",
    "print(tris)"
   ]
  },
  {
   "cell_type": "code",
   "execution_count": 24,
   "id": "f0881d3c-7a82-4ced-84bb-8f2e5239bf28",
   "metadata": {},
   "outputs": [],
   "source": [
    "def diffs(l):\n",
    "    if len(l) <= 1:\n",
    "        return []\n",
    "    return [l[1] - l[0]] + diffs(l[1:])"
   ]
  },
  {
   "cell_type": "code",
   "execution_count": 85,
   "id": "7616490c-edc6-42cc-8dd4-02b664b5f4d2",
   "metadata": {},
   "outputs": [
    {
     "name": "stdout",
     "output_type": "stream",
     "text": [
      "[0, 0, 0, 0, 0, 1, 0, 0, 3, 1, 0, 1, 0, 0, 0, 1, 2, 0, 1, 1, 1, 0, 2, 1, 5, 1, 2, 2, 1, 0, 1, 2, 1, 2, 2, 1, 5, 1, 2, 2, 1, 3, 0, 0, 1, 0, 1, 2, 1, 0, 1, 2, 1, 4, 0, 1, 1, 0, 2, 1, 0, 1, 1, 0, 1, 2, 1, 2, 2, 1, 0, 1, 5, 1, 5, 1, 0, 1, 1, 0, 1, 0, 4, 1, 5, 1, 0, 3, 0, 1, 0, 4, 1, 2, 2, 1, 0, 4, 1, 5, 1, 0, 1, 2, 1, 5, 1, 0, 1, 2, 1, 0, 4, 1, 0, 1, 1, 0, 1, 0, 3, 0, 1, 0, 1, 1, 0, 1, 2, 1, 0, 1, 2, 1, 2, 7, 0, 1, 2, 1, 0, 4, 1, 2, 0, 3, 4, 0, 1, 4, 0, 1, 5, 2, 1, 1, 0, 1, 0, 4, 1, 0, 1, 1, 0, 1, 0, 3, 0, 1, 0, 1, 2]\n"
     ]
    }
   ],
   "source": [
    "print([x-1 for x in diffs(tris)])"
   ]
  },
  {
   "cell_type": "code",
   "execution_count": 39,
   "id": "188dbbc7-1714-485f-a28b-c81dbb4557df",
   "metadata": {},
   "outputs": [],
   "source": [
    "def rle(l):\n",
    "    ct = 0\n",
    "    cts = []\n",
    "    v = None\n",
    "    for x in l:\n",
    "        if x != v:\n",
    "            if ct > 0:\n",
    "                cts.append(ct)\n",
    "            ct = 1\n",
    "            v = x\n",
    "        else:\n",
    "            ct += 1\n",
    "    if ct > 0:\n",
    "        cts.append(ct)\n",
    "    return cts"
   ]
  },
  {
   "cell_type": "code",
   "execution_count": 47,
   "id": "ec599ccc-9c75-43a2-81d8-6036c9377aac",
   "metadata": {},
   "outputs": [
    {
     "name": "stdout",
     "output_type": "stream",
     "text": [
      "[6, 1, 3, 3, 1, 1, 2, 1, 4, 1, 1, 2, 2, 1, 1, 1, 1, 1, 2, 2, 1, 1, 1, 5, 1, 1, 1, 2, 1, 2, 1, 1, 2, 1, 1, 2, 1, 1, 1, 2, 1, 2, 1, 1, 1, 5, 1, 1, 1, 2, 1, 2, 1, 1, 1, 3, 3, 1, 2, 1, 1, 2, 1, 1, 2, 1, 1, 2, 1, 1, 1, 4, 2, 1, 1, 1, 2, 2, 1, 1, 2, 1, 1, 1, 2, 1, 1, 2, 1, 1, 1, 2, 1, 2, 1, 1, 2, 1, 1, 5, 1, 1, 1, 5, 1, 1, 2, 1, 1, 1, 2, 1, 2, 4, 1, 1, 1, 5, 1, 1, 2, 3, 2, 1, 2, 4, 1, 1, 1, 2, 1, 2, 1, 1, 2, 4, 1, 1, 1, 5, 1, 1, 2, 1, 1, 2, 1, 1, 1, 5, 1, 1, 2, 1, 1, 2, 1, 1, 2, 4, 1, 1, 2, 1, 1, 1, 2, 1, 2, 3, 2, 1, 2, 1, 1, 1, 2, 1, 1, 2, 1, 1, 2, 1, 1, 2, 1, 1, 1, 2, 1, 7, 2, 1, 1, 2, 1, 1, 2, 4, 1, 1, 1, 2, 2, 3, 1, 4, 2, 1, 1, 4, 2, 1, 1, 5, 1, 2, 1, 1, 1, 1, 2, 1, 2, 4, 1, 1, 2, 1, 1, 1, 2, 1, 2, 3, 2, 1, 2, 1, 1, 2, 1, 1]\n"
     ]
    }
   ],
   "source": [
    "print(rle(ws))"
   ]
  },
  {
   "cell_type": "code",
   "execution_count": 92,
   "id": "d6af4632-1443-4e1a-bf28-9ed0302c4dd9",
   "metadata": {},
   "outputs": [
    {
     "data": {
      "text/plain": [
       "'111113121431142725111534453511153512134445112524545344111511145321151114212321153421151114451114442114532123544453111112442115221311241124111363211453212343'"
      ]
     },
     "execution_count": 92,
     "metadata": {},
     "output_type": "execute_result"
    }
   ],
   "source": [
    "''.join(map(str,(rle([(i+b)%2 for i, b in enumerate(bits)]))))"
   ]
  },
  {
   "cell_type": "code",
   "execution_count": 89,
   "id": "b28e6794-3941-46a8-a2ea-70d992715338",
   "metadata": {},
   "outputs": [
    {
     "data": {
      "text/plain": [
       "99"
      ]
     },
     "execution_count": 89,
     "metadata": {},
     "output_type": "execute_result"
    }
   ],
   "source": [
    "len(hx)"
   ]
  },
  {
   "cell_type": "code",
   "execution_count": null,
   "id": "d3342108-0402-4506-befd-8bad45d4aab9",
   "metadata": {},
   "outputs": [],
   "source": []
  }
 ],
 "metadata": {
  "kernelspec": {
   "display_name": "Python 3 (ipykernel)",
   "language": "python",
   "name": "python3"
  },
  "language_info": {
   "codemirror_mode": {
    "name": "ipython",
    "version": 3
   },
   "file_extension": ".py",
   "mimetype": "text/x-python",
   "name": "python",
   "nbconvert_exporter": "python",
   "pygments_lexer": "ipython3",
   "version": "3.12.3"
  }
 },
 "nbformat": 4,
 "nbformat_minor": 5
}
