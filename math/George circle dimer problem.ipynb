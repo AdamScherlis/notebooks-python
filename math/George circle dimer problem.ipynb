{
 "cells": [
  {
   "cell_type": "code",
   "execution_count": 1,
   "metadata": {},
   "outputs": [],
   "source": [
    "# 2022-04\n",
    "# start with n beads in a circle\n",
    "# if you randomly remove pairs of adjacent beads,\n",
    "# what's the expected fraction of spots occupied\n",
    "# when no adjacent pairs are left?"
   ]
  },
  {
   "cell_type": "code",
   "execution_count": 1,
   "metadata": {},
   "outputs": [],
   "source": [
    "import random"
   ]
  },
  {
   "cell_type": "code",
   "execution_count": 2,
   "metadata": {},
   "outputs": [],
   "source": [
    "?random.randint"
   ]
  },
  {
   "cell_type": "code",
   "execution_count": 3,
   "metadata": {},
   "outputs": [],
   "source": [
    "def count(n):\n",
    "    nums = [*range(n)]\n",
    "    while any([(i+1)%n in nums for i in nums]):\n",
    "        i = random.randint(0, n-1)\n",
    "        if i in nums and (i+1)%n in nums:\n",
    "            nums.remove(i)\n",
    "            nums.remove((i+1)%n)\n",
    "    return len(nums)"
   ]
  },
  {
   "cell_type": "code",
   "execution_count": 24,
   "metadata": {},
   "outputs": [
    {
     "data": {
      "text/plain": [
       "[0.13372,\n",
       " 0.13776,\n",
       " 0.13536,\n",
       " 0.13824,\n",
       " 0.13468,\n",
       " 0.13592,\n",
       " 0.13596,\n",
       " 0.13192,\n",
       " 0.13608,\n",
       " 0.13364]"
      ]
     },
     "execution_count": 24,
     "metadata": {},
     "output_type": "execute_result"
    }
   ],
   "source": [
    "nn = 1000\n",
    "n = 50\n",
    "[sum([count(n) for _ in range(nn)])/(n*nn) for __ in range(10)]"
   ]
  },
  {
   "cell_type": "code",
   "execution_count": 25,
   "metadata": {},
   "outputs": [
    {
     "data": {
      "text/plain": [
       "[0.13192,\n",
       " 0.13364,\n",
       " 0.13372,\n",
       " 0.13468,\n",
       " 0.13536,\n",
       " 0.13592,\n",
       " 0.13596,\n",
       " 0.13608,\n",
       " 0.13776,\n",
       " 0.13824]"
      ]
     },
     "execution_count": 25,
     "metadata": {},
     "output_type": "execute_result"
    }
   ],
   "source": [
    "sorted(_)"
   ]
  },
  {
   "cell_type": "code",
   "execution_count": 22,
   "metadata": {},
   "outputs": [],
   "source": [
    "import numpy as np"
   ]
  },
  {
   "cell_type": "code",
   "execution_count": null,
   "metadata": {},
   "outputs": [],
   "source": [
    "# I forget if this is the answer or just a guess"
   ]
  },
  {
   "cell_type": "code",
   "execution_count": 23,
   "metadata": {},
   "outputs": [
    {
     "data": {
      "text/plain": [
       "0.1353352832366127"
      ]
     },
     "execution_count": 23,
     "metadata": {},
     "output_type": "execute_result"
    }
   ],
   "source": [
    "np.exp(-2)"
   ]
  },
  {
   "cell_type": "code",
   "execution_count": null,
   "metadata": {},
   "outputs": [],
   "source": []
  }
 ],
 "metadata": {
  "kernelspec": {
   "display_name": "Python 3 (ipykernel)",
   "language": "python",
   "name": "python3"
  },
  "language_info": {
   "codemirror_mode": {
    "name": "ipython",
    "version": 3
   },
   "file_extension": ".py",
   "mimetype": "text/x-python",
   "name": "python",
   "nbconvert_exporter": "python",
   "pygments_lexer": "ipython3",
   "version": "3.11.1"
  }
 },
 "nbformat": 4,
 "nbformat_minor": 4
}
