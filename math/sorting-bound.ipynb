{
 "cells": [
  {
   "cell_type": "code",
   "execution_count": null,
   "metadata": {},
   "outputs": [],
   "source": [
    "# 2024-02\n",
    "# simple upper bound on sorting networks"
   ]
  },
  {
   "cell_type": "code",
   "execution_count": 7,
   "metadata": {},
   "outputs": [],
   "source": [
    "import numpy as np\n",
    "# for factorial\n",
    "import math"
   ]
  },
  {
   "cell_type": "code",
   "execution_count": 14,
   "metadata": {},
   "outputs": [
    {
     "data": {
      "text/plain": [
       "int"
      ]
     },
     "execution_count": 14,
     "metadata": {},
     "output_type": "execute_result"
    }
   ],
   "source": [
    "type(math.factorial(20))"
   ]
  },
  {
   "cell_type": "code",
   "execution_count": 16,
   "metadata": {},
   "outputs": [
    {
     "name": "stdout",
     "output_type": "stream",
     "text": [
      "1 0\n",
      "2 1\n",
      "3 2\n",
      "4 4\n",
      "5 6\n",
      "6 9\n",
      "7 12\n",
      "8 15\n",
      "9 18\n",
      "10 21\n",
      "11 25\n",
      "12 28\n",
      "13 32\n",
      "14 36\n",
      "15 40\n",
      "16 44\n",
      "17 48\n",
      "18 52\n",
      "19 56\n",
      "20 61\n",
      "21 65\n",
      "22 69\n",
      "23 74\n",
      "24 79\n"
     ]
    }
   ],
   "source": [
    "for n in range(1, 25):\n",
    "    print (n, int(np.log2(float(math.factorial(n)))))"
   ]
  }
 ],
 "metadata": {
  "kernelspec": {
   "display_name": "Python 3 (ipykernel)",
   "language": "python",
   "name": "python3"
  },
  "language_info": {
   "codemirror_mode": {
    "name": "ipython",
    "version": 3
   },
   "file_extension": ".py",
   "mimetype": "text/x-python",
   "name": "python",
   "nbconvert_exporter": "python",
   "pygments_lexer": "ipython3",
   "version": "3.11.8"
  }
 },
 "nbformat": 4,
 "nbformat_minor": 4
}
