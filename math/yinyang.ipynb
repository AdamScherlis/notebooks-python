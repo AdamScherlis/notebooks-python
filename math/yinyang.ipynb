{
 "cells": [
  {
   "cell_type": "code",
   "execution_count": 1,
   "id": "fb4ed051-d543-4668-bb24-50134066089b",
   "metadata": {},
   "outputs": [],
   "source": [
    "# 2024-08\n",
    "# counting yin yang puzzles"
   ]
  },
  {
   "cell_type": "code",
   "execution_count": 30,
   "id": "753c4be2-d256-4fe6-86c3-17ff190f9907",
   "metadata": {},
   "outputs": [],
   "source": [
    "def bordercheck(b):\n",
    "    bord = list(b[0]) + [r[-1] for r in b[1:-1]] + list(reversed(b[-1])) + list(reversed([r[0] for r in b[:-1]]))\n",
    "    return np.sum(np.abs(np.diff(np.array(bord)))) == 2"
   ]
  },
  {
   "cell_type": "code",
   "execution_count": 26,
   "id": "44ed932b-4114-42b6-b77d-3d7316adfac5",
   "metadata": {},
   "outputs": [],
   "source": [
    "import numpy as np"
   ]
  },
  {
   "cell_type": "code",
   "execution_count": 29,
   "id": "5c6c31fd-cccd-4b22-af08-f5408c93fb24",
   "metadata": {},
   "outputs": [
    {
     "ename": "AttributeError",
     "evalue": "'numpy.ndarray' object has no attribute 'diff'",
     "output_type": "error",
     "traceback": [
      "\u001b[0;31m---------------------------------------------------------------------------\u001b[0m",
      "\u001b[0;31mAttributeError\u001b[0m                            Traceback (most recent call last)",
      "Cell \u001b[0;32mIn[29], line 1\u001b[0m\n\u001b[0;32m----> 1\u001b[0m \u001b[43mnp\u001b[49m\u001b[38;5;241;43m.\u001b[39;49m\u001b[43marray\u001b[49m\u001b[43m(\u001b[49m\u001b[43m[\u001b[49m\u001b[38;5;241;43m1\u001b[39;49m\u001b[43m,\u001b[49m\u001b[38;5;241;43m0\u001b[39;49m\u001b[43m,\u001b[49m\u001b[38;5;241;43m0\u001b[39;49m\u001b[43m,\u001b[49m\u001b[38;5;241;43m0\u001b[39;49m\u001b[43m,\u001b[49m\u001b[38;5;241;43m1\u001b[39;49m\u001b[43m,\u001b[49m\u001b[38;5;241;43m1\u001b[39;49m\u001b[43m]\u001b[49m\u001b[43m)\u001b[49m\u001b[38;5;241;43m.\u001b[39;49m\u001b[43mdiff\u001b[49m()\u001b[38;5;241m.\u001b[39mabs()\u001b[38;5;241m.\u001b[39msum()\n",
      "\u001b[0;31mAttributeError\u001b[0m: 'numpy.ndarray' object has no attribute 'diff'"
     ]
    }
   ],
   "source": [
    "np.array([1,0,0,0,1,1]).diff().abs().sum()"
   ]
  },
  {
   "cell_type": "code",
   "execution_count": 14,
   "id": "09c9b80c-3d6f-4bec-9f3a-2a654a90bc80",
   "metadata": {},
   "outputs": [],
   "source": [
    "b = [[i for i in range(5*n, 5*n+5)] for n in range(5)]"
   ]
  },
  {
   "cell_type": "code",
   "execution_count": 24,
   "id": "0ca40722-4638-46d9-9c19-e4e31af0c96b",
   "metadata": {},
   "outputs": [
    {
     "data": {
      "text/plain": [
       "[[0, 1, 2, 3, 4],\n",
       " [5, 6, 7, 8, 9],\n",
       " [10, 11, 12, 13, 14],\n",
       " [15, 16, 17, 18, 19],\n",
       " [20, 21, 22, 23, 24]]"
      ]
     },
     "execution_count": 24,
     "metadata": {},
     "output_type": "execute_result"
    }
   ],
   "source": [
    "b"
   ]
  },
  {
   "cell_type": "code",
   "execution_count": 25,
   "id": "38a6192b-c0ee-4b24-be63-95833cb487ff",
   "metadata": {},
   "outputs": [
    {
     "data": {
      "text/plain": [
       "[0, 1, 2, 3, 4, 9, 14, 19, 24, 23, 22, 21, 20, 15, 10, 5, 0]"
      ]
     },
     "execution_count": 25,
     "metadata": {},
     "output_type": "execute_result"
    }
   ],
   "source": [
    "bordercheck(b)"
   ]
  },
  {
   "cell_type": "code",
   "execution_count": 7,
   "id": "5a7b1fd0-e670-4dc1-bfa5-ffb5c21011e7",
   "metadata": {},
   "outputs": [],
   "source": [
    "b = ((1,),(2,),(3,))\n",
    "c = b"
   ]
  },
  {
   "cell_type": "code",
   "execution_count": 10,
   "id": "d4fad93f-ae54-4894-90fa-75d58ca900cd",
   "metadata": {},
   "outputs": [
    {
     "ename": "TypeError",
     "evalue": "'tuple' object does not support item assignment",
     "output_type": "error",
     "traceback": [
      "\u001b[0;31m---------------------------------------------------------------------------\u001b[0m",
      "\u001b[0;31mTypeError\u001b[0m                                 Traceback (most recent call last)",
      "Cell \u001b[0;32mIn[10], line 1\u001b[0m\n\u001b[0;32m----> 1\u001b[0m \u001b[43mc\u001b[49m\u001b[43m[\u001b[49m\u001b[38;5;241;43m0\u001b[39;49m\u001b[43m]\u001b[49m\u001b[43m[\u001b[49m\u001b[38;5;241;43m0\u001b[39;49m\u001b[43m]\u001b[49m \u001b[38;5;241m=\u001b[39m \u001b[38;5;241m5\u001b[39m\n",
      "\u001b[0;31mTypeError\u001b[0m: 'tuple' object does not support item assignment"
     ]
    }
   ],
   "source": [
    "c[0][0] = 5"
   ]
  },
  {
   "cell_type": "code",
   "execution_count": null,
   "id": "4dc2db8f-4724-4902-8624-50b3d9a0c9ad",
   "metadata": {},
   "outputs": [],
   "source": []
  }
 ],
 "metadata": {
  "kernelspec": {
   "display_name": "venv",
   "language": "python",
   "name": "venv"
  },
  "language_info": {
   "codemirror_mode": {
    "name": "ipython",
    "version": 3
   },
   "file_extension": ".py",
   "mimetype": "text/x-python",
   "name": "python",
   "nbconvert_exporter": "python",
   "pygments_lexer": "ipython3",
   "version": "3.12.4"
  }
 },
 "nbformat": 4,
 "nbformat_minor": 5
}
