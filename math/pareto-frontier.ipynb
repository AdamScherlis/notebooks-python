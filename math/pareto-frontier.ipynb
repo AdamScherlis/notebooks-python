{
 "cells": [
  {
   "cell_type": "code",
   "execution_count": 15,
   "id": "26350903-9e24-40f4-a221-66ef5e61cb90",
   "metadata": {},
   "outputs": [],
   "source": [
    "# 2024-04\n",
    "# 2D Pareto frontier\n",
    "# simple O(nlogn) (sort) + O(n) algorithm\n",
    "# turns out there's a simpler algorithm but I like this one"
   ]
  },
  {
   "cell_type": "code",
   "execution_count": 11,
   "id": "e5988494-7e7c-41b8-badb-3df96ba88ccd",
   "metadata": {},
   "outputs": [],
   "source": [
    "def pareto(pairs):\n",
    "    frontier = []\n",
    "\n",
    "    for x, y in sorted(pairs):\n",
    "        for xx, yy in reversed(frontier):\n",
    "            if x >= xx and y >= yy:\n",
    "                frontier.remove((xx, yy))\n",
    "            else:\n",
    "                break\n",
    "        frontier.append((x, y))\n",
    "\n",
    "    return frontier"
   ]
  }
 ],
 "metadata": {
  "kernelspec": {
   "display_name": "Python 3 (ipykernel)",
   "language": "python",
   "name": "python3"
  },
  "language_info": {
   "codemirror_mode": {
    "name": "ipython",
    "version": 3
   },
   "file_extension": ".py",
   "mimetype": "text/x-python",
   "name": "python",
   "nbconvert_exporter": "python",
   "pygments_lexer": "ipython3",
   "version": "3.11.8"
  }
 },
 "nbformat": 4,
 "nbformat_minor": 5
}
