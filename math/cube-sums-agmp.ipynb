{
 "cells": [
  {
   "cell_type": "code",
   "execution_count": 3,
   "id": "5a8a7054-aaae-4d62-bbe9-dc59abf47009",
   "metadata": {},
   "outputs": [],
   "source": [
    "# 2024-03-02\n",
    "# AGMP cubic terms"
   ]
  },
  {
   "cell_type": "code",
   "execution_count": 51,
   "id": "bccc8a05-3be9-4ee6-b54c-8a7f0738bb7c",
   "metadata": {},
   "outputs": [],
   "source": [
    "from collections import defaultdict"
   ]
  },
  {
   "cell_type": "code",
   "execution_count": 52,
   "id": "71e2845c-ccd5-49a5-b1a7-69fe36bd05f3",
   "metadata": {},
   "outputs": [],
   "source": [
    "max = 200_000\n",
    "\n",
    "csums = []\n",
    "l = {i**3:(0,i**3) for i in range(int(max**(1/3))+1)}\n",
    "\n",
    "csums.append(l)\n",
    "\n",
    "for k in [2, 3, 4, 5]:\n",
    "    l = defaultdict(lambda: [])\n",
    "    for csum in csums[-1]:\n",
    "        for c in csums[0]:\n",
    "            if csum + c <= max:\n",
    "                l[csum + c].append((csum, c))\n",
    "    csums.append(l)"
   ]
  },
  {
   "cell_type": "code",
   "execution_count": 54,
   "id": "e7b1ccfd-3aeb-4c38-bd28-9326f2d0810a",
   "metadata": {},
   "outputs": [
    {
     "data": {
      "text/plain": [
       "[False, False, False, True, True]"
      ]
     },
     "execution_count": 54,
     "metadata": {},
     "output_type": "execute_result"
    }
   ],
   "source": [
    "[120_000 in l for l in csums]"
   ]
  },
  {
   "cell_type": "code",
   "execution_count": 55,
   "id": "dc569e48-2753-4f28-bbba-21f571d4e69a",
   "metadata": {},
   "outputs": [
    {
     "data": {
      "text/plain": [
       "[(28875, 91125), (98048, 21952), (113141, 6859), (119936, 64)]"
      ]
     },
     "execution_count": 55,
     "metadata": {},
     "output_type": "execute_result"
    }
   ],
   "source": [
    "csums[3][120_000]"
   ]
  },
  {
   "cell_type": "code",
   "execution_count": 59,
   "id": "b601a0cb-c473-48a4-ac31-98d8086af077",
   "metadata": {},
   "outputs": [
    {
     "data": {
      "text/plain": [
       "[45, 28, 19, 4]"
      ]
     },
     "execution_count": 59,
     "metadata": {},
     "output_type": "execute_result"
    }
   ],
   "source": [
    "[*map(lambda x: int(x**(1/3) + .1), [91125, 21952, 6859, 64])]"
   ]
  },
  {
   "cell_type": "code",
   "execution_count": 50,
   "id": "abac8953-73c3-4284-b237-b22b881848ae",
   "metadata": {},
   "outputs": [
    {
     "data": {
      "text/plain": [
       "120000"
      ]
     },
     "execution_count": 50,
     "metadata": {},
     "output_type": "execute_result"
    }
   ],
   "source": [
    "45**3 + 28**3 + 19**3 + 4**3"
   ]
  },
  {
   "cell_type": "code",
   "execution_count": 62,
   "id": "c830197f-ee03-40da-8175-09053257c5f5",
   "metadata": {},
   "outputs": [
    {
     "data": {
      "text/plain": [
       "[45,\n",
       " 28,\n",
       " 19,\n",
       " 4,\n",
       " 42,\n",
       " 31,\n",
       " 21,\n",
       " 49,\n",
       " 10,\n",
       " 7,\n",
       " 43,\n",
       " 22,\n",
       " 3,\n",
       " 40,\n",
       " 38,\n",
       " 34,\n",
       " 12,\n",
       " 6,\n",
       " 5,\n",
       " 0,\n",
       " 48,\n",
       " 16,\n",
       " 18,\n",
       " 2,\n",
       " 30,\n",
       " 27,\n",
       " 37,\n",
       " 33,\n",
       " 24,\n",
       " 20,\n",
       " 1,\n",
       " 13,\n",
       " 17]"
      ]
     },
     "execution_count": 62,
     "metadata": {},
     "output_type": "execute_result"
    }
   ],
   "source": [
    "[*map(lambda x: int(x[1]**(1/3) + .1), csums[4][120_000])]\n",
    "# todo print recursively"
   ]
  }
 ],
 "metadata": {
  "kernelspec": {
   "display_name": "Python 3 (ipykernel)",
   "language": "python",
   "name": "python3"
  },
  "language_info": {
   "codemirror_mode": {
    "name": "ipython",
    "version": 3
   },
   "file_extension": ".py",
   "mimetype": "text/x-python",
   "name": "python",
   "nbconvert_exporter": "python",
   "pygments_lexer": "ipython3",
   "version": "3.11.7"
  }
 },
 "nbformat": 4,
 "nbformat_minor": 5
}
