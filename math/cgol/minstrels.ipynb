{
 "cells": [
  {
   "cell_type": "code",
   "execution_count": null,
   "id": "35f148a2",
   "metadata": {},
   "outputs": [],
   "source": [
    "# 2023-01\n",
    "# Conway's Game of Life\n",
    "# searching for a better numbering scheme for \"minstrels\"\n",
    "# subject to some algebraic constraints\n",
    "# there are some paper notes that go with this"
   ]
  },
  {
   "cell_type": "code",
   "execution_count": 3,
   "id": "b8705974",
   "metadata": {},
   "outputs": [],
   "source": [
    "from itertools import product"
   ]
  },
  {
   "cell_type": "code",
   "execution_count": 10,
   "id": "8fe1d432",
   "metadata": {},
   "outputs": [
    {
     "name": "stdout",
     "output_type": "stream",
     "text": [
      "  3 6\n",
      "    4\n",
      "1 5 4 3\n",
      "1 1\n",
      "(28)\n",
      "\n",
      "  3 7\n",
      "    3\n",
      "1 5 3 4\n",
      "1 1\n",
      "(28)\n",
      "\n",
      "CPU times: user 4min 21s, sys: 176 ms, total: 4min 21s\n",
      "Wall time: 4min 22s\n"
     ]
    }
   ],
   "source": [
    "%%time\n",
    "\n",
    "for (h, l, r, e, w, p, f, u, c) in product(range(1, 9), repeat=9):\n",
    "    if (\n",
    "        {h, l, l+r, e, \n",
    "        h+e, l+r+e, h+w, l+r+w, \n",
    "        h+p, l+r+p, l+r+f, e+u,\n",
    "        h+e+u, l+r+e+u, h+w+c, l+r+w+c} == {*range(1,17)}\n",
    "    ) and (\n",
    "        h+l+r+e+w+p+f+u+c <= 28\n",
    "    ):\n",
    "        \n",
    "        print(f'  {h} {l}')\n",
    "        print(f'    {r}')\n",
    "        print(f'{e} {w} {p} {f}')\n",
    "        print(f'{u} {c}')\n",
    "        print(f'({h+l+r+e+w+p+f+u+c})')\n",
    "        print()"
   ]
  },
  {
   "cell_type": "code",
   "execution_count": 1,
   "id": "9fe223e0",
   "metadata": {},
   "outputs": [
    {
     "data": {
      "text/plain": [
       "3.326040420624603"
      ]
     },
     "execution_count": 1,
     "metadata": {},
     "output_type": "execute_result"
    }
   ],
   "source": [
    "(8/7)**9"
   ]
  },
  {
   "cell_type": "code",
   "execution_count": 13,
   "id": "5ff1845e",
   "metadata": {},
   "outputs": [
    {
     "name": "stdout",
     "output_type": "stream",
     "text": [
      " !\"#$%&'()*+,-./\n",
      "0123456789:;<=>?\n"
     ]
    }
   ],
   "source": [
    "print(''.join(map(chr, range(0x20,0x30))))\n",
    "print(''.join(map(chr, range(0x30,0x40))))"
   ]
  },
  {
   "cell_type": "markdown",
   "id": "9981227f",
   "metadata": {},
   "source": [
    "1234567890\n",
    "!@#$%^&*()\n",
    "1 345 6:89"
   ]
  }
 ],
 "metadata": {
  "kernelspec": {
   "display_name": "Python 3 (ipykernel)",
   "language": "python",
   "name": "python3"
  },
  "language_info": {
   "codemirror_mode": {
    "name": "ipython",
    "version": 3
   },
   "file_extension": ".py",
   "mimetype": "text/x-python",
   "name": "python",
   "nbconvert_exporter": "python",
   "pygments_lexer": "ipython3",
   "version": "3.11.1"
  }
 },
 "nbformat": 4,
 "nbformat_minor": 5
}
