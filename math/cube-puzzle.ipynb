{
 "cells": [
  {
   "cell_type": "code",
   "execution_count": null,
   "id": "299be4f8",
   "metadata": {},
   "outputs": [],
   "source": [
    "# 2023-08\n",
    "# solving a metal cube-and-ring puzzle\n",
    "# that a neighbor brought over\n",
    "# fun exercise in right-hand rule and sign conventions"
   ]
  },
  {
   "cell_type": "code",
   "execution_count": 44,
   "id": "225631d7",
   "metadata": {},
   "outputs": [],
   "source": [
    "import numpy as np\n",
    "import networkx as nx\n",
    "import matplotlib.pyplot as plt"
   ]
  },
  {
   "cell_type": "code",
   "execution_count": 35,
   "id": "fc427ff0",
   "metadata": {},
   "outputs": [],
   "source": [
    "def L2(vec):\n",
    "    return np.sum(vec**2)"
   ]
  },
  {
   "cell_type": "code",
   "execution_count": 36,
   "id": "b47496cb",
   "metadata": {},
   "outputs": [],
   "source": [
    "# states are of two kinds:\n",
    "# (edge center, orientation vector) and \n",
    "# (face vector,)\n",
    "\n",
    "# notches are of the form:\n",
    "# (edge center, notch vector)\n",
    "\n",
    "# coords: (at me, right, up)\n",
    "\n",
    "NOTCHES = [(np.array(u), np.array(v)) for (u, v) in [\n",
    "    ([1, -1, 0], [0, 1, 0]),\n",
    "    ([0, -1, 1], [0, 0, -1]),\n",
    "    ([0, 1, 1], [0, -1, 0]),\n",
    "    ([0, 1, -1], [0, 1, 0]),\n",
    "    ([0, -1, -1], [0, -1, 0]),\n",
    "    ([-1, -1, 0], [0, 1, 0]),\n",
    "    ([-1, 1, 0], [0, -1, 0])\n",
    "]]\n",
    "\n",
    "STATES = []\n",
    "\n",
    "for x in [-1, 0, 1]:\n",
    "    for y in [-1, 0, 1]:\n",
    "        for z in [-1, 0, 1]:\n",
    "            edge = np.array([x, y, z])\n",
    "            if L2(edge) == 2:\n",
    "                orient = np.array([1, 1, 1]) - edge**2\n",
    "                STATES.append((edge, +orient))\n",
    "                STATES.append((edge, -orient))\n",
    "                \n",
    "for axis in range(3):\n",
    "    face = np.array([0, 0, 0])\n",
    "    face[axis] = 1\n",
    "    \n",
    "    STATES.append((+face,))\n",
    "    STATES.append((-face,))"
   ]
  },
  {
   "cell_type": "code",
   "execution_count": 48,
   "id": "c3d8a788",
   "metadata": {},
   "outputs": [],
   "source": [
    "def is_free(state):\n",
    "    if len(state) == 1:\n",
    "        return False\n",
    "    \n",
    "    for notch in NOTCHES:\n",
    "        if L2(notch[0] - state[0]) == 0:\n",
    "            # notch pointing inwards\n",
    "            if L2(notch[0] + notch[1]) == 1:\n",
    "                face = notch[0] + notch[1]\n",
    "                tooth = np.cross(state[1], face - state[0])\n",
    "                \n",
    "                # want tooth pointing IN\n",
    "                if L2(face + tooth) == 0:\n",
    "                    return True\n",
    "            # notch pointing outwards\n",
    "            else:\n",
    "                assert L2(notch[0] + notch[1]) == 5\n",
    "                \n",
    "                # face OPPOSITE notch\n",
    "                face = notch[0] - notch[1]\n",
    "                tooth = np.cross(state[1], face - state[0])\n",
    "                \n",
    "                # want tooth pointing OUT\n",
    "                if L2(face - tooth) == 0:\n",
    "                    return True\n",
    "    \n",
    "    return False\n",
    "\n",
    "def is_start(state):\n",
    "    return (len(state) == 2 \n",
    "            and L2(state[0] - np.array([1, 0, -1])) == 0)"
   ]
  },
  {
   "cell_type": "code",
   "execution_count": 58,
   "id": "8c81ff67",
   "metadata": {},
   "outputs": [],
   "source": [
    "def adjacent(edge1, edge2):\n",
    "    # edge positions are adjacent\n",
    "    # iff they are dist sqrt(2) apart\n",
    "    return L2(edge1 - edge2) == 2\n",
    "\n",
    "def turnable(state1, state2):\n",
    "    # corners pointed to from state edge + orientation\n",
    "    corner1 = state1[0] + state1[1]\n",
    "    corner2 = state2[0] + state2[1]\n",
    "    \n",
    "    # orientation arrow will flow along turn\n",
    "    # iff the corners are dist 2 apart\n",
    "    return L2(corner1 - corner2) == 4\n",
    "    \n",
    "def is_move22_directed(state1, state2, notch):\n",
    "    # check that state, state, notch form a triangle\n",
    "    # at some corner\n",
    "    if not (adjacent(state1[0], state2[0])\n",
    "        and adjacent(state1[0], notch[0])\n",
    "        and adjacent(state2[0], notch[0])):\n",
    "        return False\n",
    "    \n",
    "    # put ring gap in the face between state and notch\n",
    "    # lame hack: adj state and notch share one nonzero coord\n",
    "    # so multiply them to get face, w/ sign from state1\n",
    "    face = state1[0] * notch[0]**2\n",
    "    \n",
    "    # tooth is pointing in this direction when in the face\n",
    "    # (right-hand rule)\n",
    "    tooth = np.cross(state1[1], face - state1[0])\n",
    "    \n",
    "    assert np.dot(face, tooth) in {-1, 1}\n",
    "    \n",
    "    # check that notch is aimed at tooth\n",
    "    # and new state is oriented correctly\n",
    "    return ((L2(tooth + notch[1]) == 0) \n",
    "            and turnable(state1, state2))\n",
    "\n",
    "def is_move(state1, state2, notch):\n",
    "    # two single-edge states: corner turn\n",
    "    if {len(state1), len(state2)} == {2, 2}:\n",
    "        # check push-then-turn and turn-then-push\n",
    "        return (is_move22_directed(state1, state2, notch)\n",
    "                or is_move22_directed(state2, state1, notch))\n",
    "    \n",
    "    # single and double: simple push/unpush\n",
    "    elif {len(state1), len(state2)} == {1, 2}:\n",
    "        # single-edge, double-edge\n",
    "        stateS, stateD = (state1, state2) if len(state1) == 2 else (state2, state1)\n",
    "        \n",
    "        # check distance from edge to notch is 2\n",
    "        if L2(notch[0] - stateS[0]) != 4:\n",
    "            return False\n",
    "        \n",
    "        # face to traverse is directly between them\n",
    "        face = (notch[0] + stateS[0]) // 2\n",
    "\n",
    "        # tooth is pointing in this direction when in the face\n",
    "        # (right-hand rule)\n",
    "        tooth = np.cross(stateS[1], face - stateS[0])\n",
    "        \n",
    "        assert np.dot(face, tooth) in {-1, 1}\n",
    "\n",
    "        # check that notch is aimed at tooth\n",
    "        if L2(tooth + notch[1]) != 0:\n",
    "            return False\n",
    "\n",
    "        # check that new state is correct \n",
    "        newface_abs = (notch[0] - stateS[0]) // 2\n",
    "        # orientation: borrow from face and tooth\n",
    "        newface = newface_abs * np.dot(face, tooth)\n",
    "        \n",
    "        return L2(newface - stateD[0]) == 0\n",
    "    \n",
    "    else:\n",
    "        return False\n",
    "    \n",
    "def is_movable(state1, state2):\n",
    "    return any(is_move(state1, state2, notch) for notch in NOTCHES)"
   ]
  },
  {
   "cell_type": "code",
   "execution_count": 90,
   "id": "ee2dece5",
   "metadata": {
    "scrolled": false
   },
   "outputs": [
    {
     "data": {
      "image/png": "[encoded data removed]",
      "text/plain": [
       "<Figure size 640x480 with 1 Axes>"
      ]
     },
     "metadata": {},
     "output_type": "display_data"
    }
   ],
   "source": [
    "graph_edges = []\n",
    "for i1, state1 in enumerate(STATES):\n",
    "    for i2, state2 in enumerate(STATES):\n",
    "        if is_movable(state1, state2):\n",
    "            graph_edges.append([i1, i2])\n",
    "\n",
    "def my_color(state):\n",
    "    if is_start(state):\n",
    "        return 'red'\n",
    "    elif is_free(state):\n",
    "        return 'green'\n",
    "    else:\n",
    "        return 'lightblue'\n",
    "    \n",
    "states_in_order = []\n",
    "for e in graph_edges:\n",
    "    for i in e:\n",
    "        if i not in states_in_order:\n",
    "            states_in_order.append(i)\n",
    "\n",
    "colors = [my_color(STATES[i]) for i in states_in_order]\n",
    "G = nx.Graph()\n",
    "G.add_edges_from(graph_edges)\n",
    "\n",
    "pos = nx.spring_layout(G)\n",
    "nx.draw_networkx(G, pos, font_size=12, node_color=colors)\n",
    "plt.show()"
   ]
  },
  {
   "cell_type": "code",
   "execution_count": 88,
   "id": "97b71458",
   "metadata": {},
   "outputs": [
    {
     "data": {
      "text/plain": [
       "{0: (array([-1, -1,  0]), array([0, 0, 1])),\n",
       " 1: (array([-1, -1,  0]), array([ 0,  0, -1])),\n",
       " 2: (array([-1,  0, -1]), array([0, 1, 0])),\n",
       " 3: (array([-1,  0, -1]), array([ 0, -1,  0])),\n",
       " 4: (array([-1,  0,  1]), array([0, 1, 0])),\n",
       " 5: (array([-1,  0,  1]), array([ 0, -1,  0])),\n",
       " 6: (array([-1,  1,  0]), array([0, 0, 1])),\n",
       " 7: (array([-1,  1,  0]), array([ 0,  0, -1])),\n",
       " 8: (array([ 0, -1, -1]), array([1, 0, 0])),\n",
       " 9: (array([ 0, -1, -1]), array([-1,  0,  0])),\n",
       " 10: (array([ 0, -1,  1]), array([1, 0, 0])),\n",
       " 11: (array([ 0, -1,  1]), array([-1,  0,  0])),\n",
       " 12: (array([ 0,  1, -1]), array([1, 0, 0])),\n",
       " 13: (array([ 0,  1, -1]), array([-1,  0,  0])),\n",
       " 14: (array([0, 1, 1]), array([1, 0, 0])),\n",
       " 15: (array([0, 1, 1]), array([-1,  0,  0])),\n",
       " 16: (array([ 1, -1,  0]), array([0, 0, 1])),\n",
       " 17: (array([ 1, -1,  0]), array([ 0,  0, -1])),\n",
       " 18: (array([ 1,  0, -1]), array([0, 1, 0])),\n",
       " 19: (array([ 1,  0, -1]), array([ 0, -1,  0])),\n",
       " 20: (array([1, 0, 1]), array([0, 1, 0])),\n",
       " 21: (array([1, 0, 1]), array([ 0, -1,  0])),\n",
       " 22: (array([1, 1, 0]), array([0, 0, 1])),\n",
       " 23: (array([1, 1, 0]), array([ 0,  0, -1])),\n",
       " 24: (array([1, 0, 0]),),\n",
       " 25: (array([-1,  0,  0]),),\n",
       " 26: (array([0, 1, 0]),),\n",
       " 27: (array([ 0, -1,  0]),),\n",
       " 28: (array([0, 0, 1]),),\n",
       " 29: (array([ 0,  0, -1]),)}"
      ]
     },
     "execution_count": 88,
     "metadata": {},
     "output_type": "execute_result"
    }
   ],
   "source": [
    "{i:STATES[i] for i in range(len(STATES))}"
   ]
  },
  {
   "cell_type": "code",
   "execution_count": 89,
   "id": "2d24474a",
   "metadata": {
    "scrolled": false
   },
   "outputs": [
    {
     "data": {
      "image/png": "[encoded data removed]",
      "text/plain": [
       "<Figure size 640x480 with 1 Axes>"
      ]
     },
     "metadata": {},
     "output_type": "display_data"
    }
   ],
   "source": []
  },
  {
   "cell_type": "code",
   "execution_count": 84,
   "id": "c2063e80",
   "metadata": {},
   "outputs": [
    {
     "name": "stdout",
     "output_type": "stream",
     "text": [
      "[(array([ 1, -1,  0]), array([0, 1, 0]))]\n",
      "[(array([-1, -1,  0]), array([0, 1, 0]))]\n",
      "[(array([-1,  1,  0]), array([ 0, -1,  0]))]\n",
      "[(array([0, 1, 1]), array([ 0, -1,  0]))]\n",
      "[(array([ 0, -1, -1]), array([ 0, -1,  0]))]\n"
     ]
    }
   ],
   "source": [
    "path = [18, 8, 3, 13, 28, 10]\n",
    "\n",
    "for i in range(len(path) - 1):\n",
    "    #print(path[i], STATES[i])\n",
    "    print([notch for notch in NOTCHES if is_move(STATES[path[i]], STATES[path[i+1]], notch)])\n",
    "    #print(path[i+1], STATES[i+1])\n",
    "    #print()"
   ]
  },
  {
   "cell_type": "code",
   "execution_count": null,
   "id": "d24d19ed",
   "metadata": {},
   "outputs": [],
   "source": []
  }
 ],
 "metadata": {
  "kernelspec": {
   "display_name": "Python 3 (ipykernel)",
   "language": "python",
   "name": "python3"
  },
  "language_info": {
   "codemirror_mode": {
    "name": "ipython",
    "version": 3
   },
   "file_extension": ".py",
   "mimetype": "text/x-python",
   "name": "python",
   "nbconvert_exporter": "python",
   "pygments_lexer": "ipython3",
   "version": "3.11.1"
  }
 },
 "nbformat": 4,
 "nbformat_minor": 5
}
