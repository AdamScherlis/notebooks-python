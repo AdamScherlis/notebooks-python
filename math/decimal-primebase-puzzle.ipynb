{
 "cells": [
  {
   "cell_type": "code",
   "execution_count": 1,
   "id": "c1c15ef9",
   "metadata": {},
   "outputs": [],
   "source": [
    "# 2023-08\n",
    "# AGMP: \"prime base\" (actually exponents)"
   ]
  },
  {
   "cell_type": "code",
   "execution_count": 7,
   "id": "e47e2de9",
   "metadata": {},
   "outputs": [],
   "source": [
    "from sympy.ntheory import factorint, prime, primepi"
   ]
  },
  {
   "cell_type": "code",
   "execution_count": 21,
   "id": "9a34eef9",
   "metadata": {},
   "outputs": [],
   "source": [
    "def primeseq(n):\n",
    "    fact = factorint(n)\n",
    "    length = int(primepi(max(fact.keys())))\n",
    "    return [fact[prime(i)] if prime(i) in fact else 0 for i in range(1, length + 1)]"
   ]
  },
  {
   "cell_type": "code",
   "execution_count": 40,
   "id": "42a70f67",
   "metadata": {},
   "outputs": [],
   "source": [
    "def digits(n, base=10):\n",
    "    if n == 0:\n",
    "        return []\n",
    "    return [n % base] + digits(n // base)"
   ]
  },
  {
   "cell_type": "code",
   "execution_count": 30,
   "id": "5425e3ef",
   "metadata": {},
   "outputs": [],
   "source": [
    "def decseq(n):\n",
    "    return [int(c) for c in reversed(str(n))]"
   ]
  },
  {
   "cell_type": "code",
   "execution_count": 48,
   "id": "411bb05a",
   "metadata": {},
   "outputs": [
    {
     "name": "stdout",
     "output_type": "stream",
     "text": [
      "3 3 [0, 1]\n",
      "5 6 [1, 1]\n",
      "9 27 [0, 3]\n",
      "10 12 [2, 1]\n"
     ]
    }
   ],
   "source": [
    "for base in range(2, 12):\n",
    "    for n in range(2, 300):\n",
    "        if primeseq(n) == digits(n, base):\n",
    "            print(base, n, digits(n, base))"
   ]
  },
  {
   "cell_type": "code",
   "execution_count": 35,
   "id": "37de9b70",
   "metadata": {},
   "outputs": [],
   "source": [
    "x = 2"
   ]
  },
  {
   "cell_type": "code",
   "execution_count": null,
   "id": "c17237af",
   "metadata": {},
   "outputs": [],
   "source": []
  }
 ],
 "metadata": {
  "kernelspec": {
   "display_name": "Python 3 (ipykernel)",
   "language": "python",
   "name": "python3"
  },
  "language_info": {
   "codemirror_mode": {
    "name": "ipython",
    "version": 3
   },
   "file_extension": ".py",
   "mimetype": "text/x-python",
   "name": "python",
   "nbconvert_exporter": "python",
   "pygments_lexer": "ipython3",
   "version": "3.11.1"
  }
 },
 "nbformat": 4,
 "nbformat_minor": 5
}
