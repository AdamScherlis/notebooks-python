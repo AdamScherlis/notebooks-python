{
 "cells": [
  {
   "cell_type": "code",
   "execution_count": null,
   "metadata": {},
   "outputs": [],
   "source": [
    "# 2021-12\n",
    "# which permutation of the 10 digits gives the best approximation of pi?"
   ]
  },
  {
   "cell_type": "code",
   "execution_count": 6,
   "metadata": {},
   "outputs": [],
   "source": [
    "from itertools import permutations\n",
    "from numpy import pi"
   ]
  },
  {
   "cell_type": "code",
   "execution_count": 9,
   "metadata": {},
   "outputs": [],
   "source": [
    "digs = [*map(str, range(10))]"
   ]
  },
  {
   "cell_type": "code",
   "execution_count": 18,
   "metadata": {},
   "outputs": [
    {
     "name": "stdout",
     "output_type": "stream",
     "text": [
      "57906 18432 3.1416015625 8.908910206884002e-06\n",
      "60548 19273 3.1415970528718935 4.39928210038687e-06\n",
      "84531 26907 3.1415988404504405 6.186860647350301e-06\n",
      "85910 27346 3.1415929203539825 2.667641894049666e-07\n",
      "97468 31025 3.1415954875100724 2.8339202793326024e-06\n",
      "97584 31062 3.1415877921576203 -4.8614321728202015e-06\n",
      "(85910, 27346, 3.1415929203539825) 2.667641894049666e-07\n"
     ]
    }
   ],
   "source": [
    "best = pi\n",
    "fav = None\n",
    "for perm in permutations(digs):\n",
    "    d, n = int(''.join(perm[:5])), int(''.join(perm[5:]))\n",
    "    num = d / n\n",
    "    err = abs(num - pi)\n",
    "    if err < 1e-5:\n",
    "        print(d, n, num, num-pi)\n",
    "    if err < best:\n",
    "        best = err\n",
    "        fav = d, n, num\n",
    "print(fav, best)"
   ]
  },
  {
   "cell_type": "code",
   "execution_count": 11,
   "metadata": {},
   "outputs": [
    {
     "data": {
      "text/plain": [
       "3.1415929203539825"
      ]
     },
     "execution_count": 11,
     "metadata": {},
     "output_type": "execute_result"
    }
   ],
   "source": [
    "355/113 "
   ]
  },
  {
   "cell_type": "code",
   "execution_count": 17,
   "metadata": {},
   "outputs": [
    {
     "data": {
      "text/plain": [
       "(242.0, 242.0)"
      ]
     },
     "execution_count": 17,
     "metadata": {},
     "output_type": "execute_result"
    }
   ],
   "source": [
    "85910/355, 27346/113"
   ]
  },
  {
   "cell_type": "code",
   "execution_count": null,
   "metadata": {},
   "outputs": [],
   "source": [
    "# turns out to be a classic approximation in disguise"
   ]
  }
 ],
 "metadata": {
  "kernelspec": {
   "display_name": "Python 3 (ipykernel)",
   "language": "python",
   "name": "python3"
  },
  "language_info": {
   "codemirror_mode": {
    "name": "ipython",
    "version": 3
   },
   "file_extension": ".py",
   "mimetype": "text/x-python",
   "name": "python",
   "nbconvert_exporter": "python",
   "pygments_lexer": "ipython3",
   "version": "3.11.1"
  }
 },
 "nbformat": 4,
 "nbformat_minor": 4
}
