{
 "cells": [
  {
   "cell_type": "code",
   "execution_count": 11,
   "metadata": {},
   "outputs": [],
   "source": [
    "from collections import Counter\n",
    "from random import shuffle"
   ]
  },
  {
   "cell_type": "code",
   "execution_count": 30,
   "metadata": {},
   "outputs": [],
   "source": [
    "deck = [i%4 for i in range(52)]\n",
    "shapes = []\n",
    "for step in range(100_000):\n",
    "    shuffle(deck)\n",
    "    hand = deck[:13]\n",
    "    shape = tuple(sorted([*Counter(hand).values()], key=lambda x:-x))\n",
    "    shapes.append(shape)"
   ]
  },
  {
   "cell_type": "code",
   "execution_count": 31,
   "metadata": {},
   "outputs": [
    {
     "data": {
      "text/plain": [
       "[((4, 4, 3, 2), 21465),\n",
       " ((5, 3, 3, 2), 15495),\n",
       " ((5, 4, 3, 1), 12879),\n",
       " ((4, 3, 3, 3), 10715),\n",
       " ((5, 4, 2, 2), 10523),\n",
       " ((6, 3, 2, 2), 5653),\n",
       " ((6, 4, 2, 1), 4740),\n",
       " ((5, 5, 2, 1), 3323),\n",
       " ((6, 3, 3, 1), 3289),\n",
       " ((4, 4, 4, 1), 2994),\n",
       " ((7, 3, 2, 1), 1875),\n",
       " ((6, 4, 3), 1396),\n",
       " ((5, 4, 4), 1271),\n",
       " ((5, 5, 3), 878),\n",
       " ((6, 5, 2), 669),\n",
       " ((6, 5, 1, 1), 649),\n",
       " ((7, 2, 2, 2), 549),\n",
       " ((7, 4, 1, 1), 388),\n",
       " ((7, 4, 2), 366),\n",
       " ((7, 3, 3), 242),\n",
       " ((8, 2, 2, 1), 174),\n",
       " ((7, 5, 1), 113),\n",
       " ((8, 3, 2), 107),\n",
       " ((8, 3, 1, 1), 98),\n",
       " ((6, 6, 1), 71),\n",
       " ((8, 4, 1), 50),\n",
       " ((9, 2, 1, 1), 13),\n",
       " ((9, 2, 2), 7),\n",
       " ((7, 6), 4),\n",
       " ((9, 3, 1), 3),\n",
       " ((8, 5), 1)]"
      ]
     },
     "execution_count": 31,
     "metadata": {},
     "output_type": "execute_result"
    }
   ],
   "source": [
    "sorted(Counter(shapes).items(), key=lambda p: -p[1])"
   ]
  }
 ],
 "metadata": {
  "kernelspec": {
   "display_name": "Python 3",
   "language": "python",
   "name": "python3"
  },
  "language_info": {
   "codemirror_mode": {
    "name": "ipython",
    "version": 3
   },
   "file_extension": ".py",
   "mimetype": "text/x-python",
   "name": "python",
   "nbconvert_exporter": "python",
   "pygments_lexer": "ipython3",
   "version": "3.6.9"
  }
 },
 "nbformat": 4,
 "nbformat_minor": 4
}
