{
 "cells": [
  {
   "cell_type": "code",
   "execution_count": null,
   "metadata": {},
   "outputs": [],
   "source": [
    "# 2022-10\n",
    "# geometry puzzle from Actually Good Math Problems"
   ]
  },
  {
   "cell_type": "code",
   "execution_count": 1,
   "metadata": {},
   "outputs": [],
   "source": [
    "from numpy import sqrt"
   ]
  },
  {
   "cell_type": "code",
   "execution_count": 9,
   "metadata": {},
   "outputs": [
    {
     "data": {
      "text/plain": [
       "False"
      ]
     },
     "execution_count": 9,
     "metadata": {},
     "output_type": "execute_result"
    }
   ],
   "source": [
    "int(sqrt(15)) == sqrt(15)"
   ]
  },
  {
   "cell_type": "code",
   "execution_count": 31,
   "metadata": {
    "scrolled": false
   },
   "outputs": [
    {
     "name": "stdout",
     "output_type": "stream",
     "text": [
      "3528 15 20 48 36\n",
      "11700 21 28 96 72\n",
      "6468 24 32 60 45\n",
      "29172 27 36 160 120\n",
      "14112 30 40 96 72\n",
      "26928 36 48 140 105\n",
      "37620 40 75 180 96\n",
      "46800 42 56 192 144\n",
      "31752 45 60 144 108\n",
      "25872 48 64 120 90\n",
      "20592 60 63 84 80\n",
      "56448 60 80 192 144\n",
      "58212 72 96 180 135\n",
      "65208 84 112 180 135\n",
      "82368 120 126 168 160\n"
     ]
    }
   ],
   "source": [
    "LIM = 200\n",
    "\n",
    "for n in range(1, LIM):\n",
    "    for e in range(n, LIM):\n",
    "        c2 = sqrt(n**2 + e**2)\n",
    "        if len({n, e}) == 2 and c2 == int(c2):\n",
    "            for s in range(n, LIM):\n",
    "                c2 = sqrt(s**2 + e**2)\n",
    "                if len({n, e, s}) == 3 and c2 == int(c2):\n",
    "                    for w in range(e, LIM):\n",
    "                        c2 = sqrt(s**2 + w**2)\n",
    "                        d2 = sqrt(n**2 + w**2)\n",
    "                        if len({n, e, s, w}) == 4 and c2 == int(c2) and d2 == int(d2):\n",
    "                            score = (n+s)*(e+w)\n",
    "                            if score < 100_000:\n",
    "                                print(score, n, e, s, w)"
   ]
  },
  {
   "cell_type": "code",
   "execution_count": 20,
   "metadata": {},
   "outputs": [
    {
     "data": {
      "text/plain": [
       "1764"
      ]
     },
     "execution_count": 20,
     "metadata": {},
     "output_type": "execute_result"
    }
   ],
   "source": [
    "3528//2"
   ]
  },
  {
   "cell_type": "code",
   "execution_count": 25,
   "metadata": {},
   "outputs": [
    {
     "data": {
      "text/plain": [
       "20.024984394500787"
      ]
     },
     "execution_count": 25,
     "metadata": {},
     "output_type": "execute_result"
    }
   ],
   "source": [
    "sqrt(201**2-200**2)"
   ]
  },
  {
   "cell_type": "code",
   "execution_count": 32,
   "metadata": {},
   "outputs": [
    {
     "data": {
      "text/plain": [
       "289"
      ]
     },
     "execution_count": 32,
     "metadata": {},
     "output_type": "execute_result"
    }
   ],
   "source": [
    "8**2+15**2"
   ]
  },
  {
   "cell_type": "code",
   "execution_count": 34,
   "metadata": {},
   "outputs": [
    {
     "data": {
      "text/plain": [
       "289"
      ]
     },
     "execution_count": 34,
     "metadata": {},
     "output_type": "execute_result"
    }
   ],
   "source": [
    "17**2"
   ]
  },
  {
   "cell_type": "code",
   "execution_count": null,
   "metadata": {},
   "outputs": [],
   "source": []
  }
 ],
 "metadata": {
  "kernelspec": {
   "display_name": "Python 3 (ipykernel)",
   "language": "python",
   "name": "python3"
  },
  "language_info": {
   "codemirror_mode": {
    "name": "ipython",
    "version": 3
   },
   "file_extension": ".py",
   "mimetype": "text/x-python",
   "name": "python",
   "nbconvert_exporter": "python",
   "pygments_lexer": "ipython3",
   "version": "3.11.1"
  }
 },
 "nbformat": 4,
 "nbformat_minor": 4
}
