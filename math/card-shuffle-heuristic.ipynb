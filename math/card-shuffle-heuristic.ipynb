{
 "cells": [
  {
   "cell_type": "code",
   "execution_count": null,
   "id": "8ce3c5c1",
   "metadata": {},
   "outputs": [],
   "source": [
    "# 2023-07\n",
    "# null-hypothesis significance testing for a shuffled deck of cards\n",
    "# designing a rule of thumb that can be applied quickly\n",
    "# based on counting red vs. black (or flipped vs. unflipped) cards"
   ]
  },
  {
   "cell_type": "code",
   "execution_count": 15,
   "id": "0c388c2f",
   "metadata": {},
   "outputs": [],
   "source": [
    "import numpy as np\n",
    "from collections import defaultdict"
   ]
  },
  {
   "cell_type": "code",
   "execution_count": 14,
   "id": "5dec5f51",
   "metadata": {},
   "outputs": [],
   "source": [
    "def maxrun_sample():\n",
    "    deck = [0]*26 + [1]*26\n",
    "    np.random.shuffle(deck)\n",
    "    last = deck[0]\n",
    "    maxrun = 1\n",
    "    run = 1\n",
    "    for card in deck[1:]:\n",
    "        if card == last:\n",
    "            run += 1\n",
    "            maxrun = max(maxrun, run)\n",
    "        else:\n",
    "            run = 1\n",
    "        last = card\n",
    "    \n",
    "    return maxrun"
   ]
  },
  {
   "cell_type": "code",
   "execution_count": 31,
   "id": "002d4520",
   "metadata": {},
   "outputs": [],
   "source": [
    "def allruns():\n",
    "    deck = [0]*26 + [1]*26\n",
    "    np.random.shuffle(deck)\n",
    "    runs = []\n",
    "    last = deck[0]\n",
    "    run = 1\n",
    "    for card in deck[1:]:\n",
    "        if card == last:\n",
    "            run += 1\n",
    "        else:\n",
    "            runs.append(run)\n",
    "            run = 1\n",
    "        last = card\n",
    "    runs.append(run)\n",
    "    return runs"
   ]
  },
  {
   "cell_type": "code",
   "execution_count": 38,
   "id": "e44c61bd",
   "metadata": {},
   "outputs": [
    {
     "data": {
      "text/plain": [
       "{52}"
      ]
     },
     "execution_count": 38,
     "metadata": {},
     "output_type": "execute_result"
    }
   ],
   "source": [
    "set(sum(allruns()) for _ in range(100))"
   ]
  },
  {
   "cell_type": "code",
   "execution_count": 21,
   "id": "edfe1405",
   "metadata": {},
   "outputs": [],
   "source": [
    "def tally(l):\n",
    "    d = defaultdict(lambda:0)\n",
    "    for item in l:\n",
    "        d[item] += 1\n",
    "    return d"
   ]
  },
  {
   "cell_type": "code",
   "execution_count": 42,
   "id": "d7379998",
   "metadata": {},
   "outputs": [],
   "source": [
    "d = tally(maxrun_sample() for _ in range(1_000_000))"
   ]
  },
  {
   "cell_type": "code",
   "execution_count": 43,
   "id": "48b8d5ec",
   "metadata": {},
   "outputs": [
    {
     "data": {
      "text/plain": [
       "{0: 0.0,\n",
       " 1: 0.0,\n",
       " 2: 0.0056,\n",
       " 3: 2.5965,\n",
       " 4: 20.0563,\n",
       " 5: 30.9298,\n",
       " 6: 23.1889,\n",
       " 7: 12.7817,\n",
       " 8: 6.0318,\n",
       " 9: 2.6374,\n",
       " 10: 1.0923,\n",
       " 11: 0.4358,\n",
       " 12: 0.1596,\n",
       " 13: 0.0556,\n",
       " 14: 0.0191,\n",
       " 15: 0.0069,\n",
       " 16: 0.0023,\n",
       " 17: 0.0003,\n",
       " 18: 0.0001,\n",
       " 19: 0.0}"
      ]
     },
     "execution_count": 43,
     "metadata": {},
     "output_type": "execute_result"
    }
   ],
   "source": [
    "{l:d[l]/10_000 for l in range(20)}"
   ]
  },
  {
   "cell_type": "code",
   "execution_count": 49,
   "id": "819ed9ad",
   "metadata": {},
   "outputs": [
    {
     "data": {
      "text/plain": [
       "44094"
      ]
     },
     "execution_count": 49,
     "metadata": {},
     "output_type": "execute_result"
    }
   ],
   "source": [
    "sum(d[l] for l in range(9,20))"
   ]
  },
  {
   "cell_type": "code",
   "execution_count": 50,
   "id": "9b25a530",
   "metadata": {},
   "outputs": [
    {
     "data": {
      "text/plain": [
       "26021"
      ]
     },
     "execution_count": 50,
     "metadata": {},
     "output_type": "execute_result"
    }
   ],
   "source": [
    "sum(d[l] for l in range(4))"
   ]
  },
  {
   "cell_type": "code",
   "execution_count": 61,
   "id": "5ae59cf8",
   "metadata": {},
   "outputs": [
    {
     "data": {
      "text/plain": [
       "{0: 0.0,\n",
       " 1: 0.0,\n",
       " 2: 0.0838,\n",
       " 3: 13.5687,\n",
       " 4: 44.534,\n",
       " 5: 29.0781,\n",
       " 6: 9.5507,\n",
       " 7: 2.4621,\n",
       " 8: 0.5554,\n",
       " 9: 0.1277,\n",
       " 10: 0.0301,\n",
       " 11: 0.0067,\n",
       " 12: 0.0023,\n",
       " 13: 0.0003,\n",
       " 14: 0.0001,\n",
       " 15: 0.0,\n",
       " 16: 0.0,\n",
       " 17: 0.0,\n",
       " 18: 0.0,\n",
       " 19: 0.0}"
      ]
     },
     "execution_count": 61,
     "metadata": {},
     "output_type": "execute_result"
    }
   ],
   "source": [
    "d = tally(sorted(allruns())[-2] for _ in range(1_000_000))\n",
    "{l:d[l]/10_000 for l in range(20)}"
   ]
  },
  {
   "cell_type": "code",
   "execution_count": 64,
   "id": "f6dd7cac",
   "metadata": {},
   "outputs": [
    {
     "data": {
      "text/plain": [
       "838"
      ]
     },
     "execution_count": 64,
     "metadata": {},
     "output_type": "execute_result"
    }
   ],
   "source": [
    "sum(d[l] for l in range(3))"
   ]
  },
  {
   "cell_type": "code",
   "execution_count": 63,
   "id": "3614f7f0",
   "metadata": {},
   "outputs": [
    {
     "data": {
      "text/plain": [
       "31847"
      ]
     },
     "execution_count": 63,
     "metadata": {},
     "output_type": "execute_result"
    }
   ],
   "source": [
    "sum(d[l] for l in range(7,20))"
   ]
  },
  {
   "cell_type": "code",
   "execution_count": null,
   "id": "1061477a",
   "metadata": {},
   "outputs": [],
   "source": []
  },
  {
   "cell_type": "code",
   "execution_count": 65,
   "id": "c9ad79ee",
   "metadata": {},
   "outputs": [
    {
     "data": {
      "text/plain": [
       "{0: 0.0,\n",
       " 1: 0.0,\n",
       " 2: 0.6892,\n",
       " 3: 36.5962,\n",
       " 4: 48.6025,\n",
       " 5: 12.3738,\n",
       " 6: 1.5795,\n",
       " 7: 0.1448,\n",
       " 8: 0.0132,\n",
       " 9: 0.0008,\n",
       " 10: 0.0,\n",
       " 11: 0.0,\n",
       " 12: 0.0,\n",
       " 13: 0.0,\n",
       " 14: 0.0,\n",
       " 15: 0.0,\n",
       " 16: 0.0,\n",
       " 17: 0.0,\n",
       " 18: 0.0,\n",
       " 19: 0.0}"
      ]
     },
     "execution_count": 65,
     "metadata": {},
     "output_type": "execute_result"
    }
   ],
   "source": [
    "d = tally(sorted(allruns())[-3] for _ in range(1_000_000))\n",
    "{l:d[l]/10_000 for l in range(20)}"
   ]
  },
  {
   "cell_type": "code",
   "execution_count": 67,
   "id": "7e0e27bb",
   "metadata": {},
   "outputs": [
    {
     "data": {
      "text/plain": [
       "97.5725"
      ]
     },
     "execution_count": 67,
     "metadata": {},
     "output_type": "execute_result"
    }
   ],
   "source": [
    "100 - sum(d[l] for l in [0, 1, 2, 6, 7, 8, 9])/10_000"
   ]
  },
  {
   "cell_type": "code",
   "execution_count": 68,
   "id": "9579d0b5",
   "metadata": {},
   "outputs": [],
   "source": [
    "def okay(runs):\n",
    "    s = sorted(runs)\n",
    "    return s[-1] < 9 and s[-2] < 7"
   ]
  },
  {
   "cell_type": "code",
   "execution_count": 69,
   "id": "008aedb8",
   "metadata": {},
   "outputs": [
    {
     "data": {
      "text/plain": [
       "defaultdict(<function __main__.tally.<locals>.<lambda>()>,\n",
       "            {True: 935975, False: 64025})"
      ]
     },
     "execution_count": 69,
     "metadata": {},
     "output_type": "execute_result"
    }
   ],
   "source": [
    "tally(okay(allruns()) for _ in range(1_000_000))"
   ]
  },
  {
   "cell_type": "code",
   "execution_count": null,
   "id": "65711ffa",
   "metadata": {},
   "outputs": [],
   "source": []
  }
 ],
 "metadata": {
  "kernelspec": {
   "display_name": "Python 3 (ipykernel)",
   "language": "python",
   "name": "python3"
  },
  "language_info": {
   "codemirror_mode": {
    "name": "ipython",
    "version": 3
   },
   "file_extension": ".py",
   "mimetype": "text/x-python",
   "name": "python",
   "nbconvert_exporter": "python",
   "pygments_lexer": "ipython3",
   "version": "3.11.1"
  }
 },
 "nbformat": 4,
 "nbformat_minor": 5
}
