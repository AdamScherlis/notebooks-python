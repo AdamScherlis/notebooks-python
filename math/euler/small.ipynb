{
 "cells": [
  {
   "cell_type": "code",
   "execution_count": null,
   "id": "50c81f46-3a23-497b-a5ea-a36e1db18d1e",
   "metadata": {},
   "outputs": [],
   "source": [
    "# 2024-01\n",
    "# Project Euler problems that don't need their own nb"
   ]
  },
  {
   "cell_type": "code",
   "execution_count": 72,
   "id": "5dcadf9c-89e9-4814-a972-0901ed96914d",
   "metadata": {},
   "outputs": [],
   "source": [
    "from functools import cache\n",
    "from itertools import *\n",
    "import numpy as np\n",
    "from tqdm import tqdm"
   ]
  },
  {
   "cell_type": "code",
   "execution_count": 3,
   "id": "4ad9d58d-80f9-493b-8c45-25bfa5df1e7a",
   "metadata": {},
   "outputs": [
    {
     "data": {
      "text/plain": [
       "233168"
      ]
     },
     "execution_count": 3,
     "metadata": {},
     "output_type": "execute_result"
    }
   ],
   "source": [
    "# 1\n",
    "sum([i for i in range(1000) if not (i%3 and i%5)])"
   ]
  },
  {
   "cell_type": "code",
   "execution_count": 4,
   "id": "066f0fff-22a5-4899-87e9-755145590013",
   "metadata": {},
   "outputs": [
    {
     "data": {
      "text/plain": [
       "4613732"
      ]
     },
     "execution_count": 4,
     "metadata": {},
     "output_type": "execute_result"
    }
   ],
   "source": [
    "# 2\n",
    "ans = 0\n",
    "i, j = 1, 1\n",
    "while i <= 4_000_000:\n",
    "    if i % 2 == 0:\n",
    "        ans += i\n",
    "    i, j = j, i+j\n",
    "ans"
   ]
  },
  {
   "cell_type": "code",
   "execution_count": 84,
   "id": "344b0669-046e-49df-8e87-eef7ce579543",
   "metadata": {},
   "outputs": [],
   "source": [
    "# 3\n",
    "def isqrt(n):\n",
    "    return int(np.sqrt(n)+1)+1\n",
    "\n",
    "@cache\n",
    "def is_prime(n):\n",
    "    if n < 1:\n",
    "        raise ValueError\n",
    "    if n == 1:\n",
    "        return False\n",
    "    if n == 2:\n",
    "        return True\n",
    "    for k in range(2, isqrt(n)):\n",
    "        if is_prime(k):\n",
    "            if n % k == 0:\n",
    "                return False\n",
    "    return True\n",
    "\n",
    "def smallest_prime_fac(n):\n",
    "    for k in range(2, isqrt(n)):\n",
    "        if is_prime(k) and n % k == 0:\n",
    "            return k\n",
    "    return n\n",
    "\n",
    "def prime_facs(n):\n",
    "    if n == 1:\n",
    "        return []\n",
    "    k = smallest_prime_fac(n)\n",
    "    return [k] + prime_facs(n // k)"
   ]
  },
  {
   "cell_type": "code",
   "execution_count": 24,
   "id": "a1954e6b-9895-42a2-a809-abe5f990802d",
   "metadata": {},
   "outputs": [
    {
     "data": {
      "text/plain": [
       "[71, 839, 1471, 6857]"
      ]
     },
     "execution_count": 24,
     "metadata": {},
     "output_type": "execute_result"
    }
   ],
   "source": [
    "prime_facs(600851475143)"
   ]
  },
  {
   "cell_type": "markdown",
   "id": "425721a4-1c32-4496-9e50-0d2369e62f70",
   "metadata": {},
   "source": [
    "# 162"
   ]
  },
  {
   "cell_type": "code",
   "execution_count": 12,
   "id": "4dad8462-0fcd-4e23-9ff7-c77c1a529b9f",
   "metadata": {},
   "outputs": [
    {
     "name": "stderr",
     "output_type": "stream",
     "text": [
      "100%|████████████████████████████████████████████████████████████████████████| 16777216/16777216 [00:24<00:00, 696185.61it/s]"
     ]
    },
    {
     "name": "stdout",
     "output_type": "stream",
     "text": [
      "36532652750462\n"
     ]
    },
    {
     "name": "stderr",
     "output_type": "stream",
     "text": [
      "\n"
     ]
    }
   ],
   "source": [
    "# 162 the dumb way\n",
    "\n",
    "def numvalid(patt):\n",
    "    dig = patt[0]\n",
    "    while dig == '0' and patt:\n",
    "        patt = patt[1:]\n",
    "        if patt:\n",
    "            dig = patt[0]\n",
    "    if len(patt) == 0:\n",
    "        return 0\n",
    "    if '0' in patt and '1' in patt and 'A' in patt:\n",
    "        numx = len([d for d in patt if d == 'x'])\n",
    "        return 13 ** numx\n",
    "    else:\n",
    "        return 0\n",
    "\n",
    "patterns = [*product('01Ax', repeat=12)]\n",
    "valid = 0\n",
    "for patt in tqdm(patterns):\n",
    "    valid += numvalid(patt)\n",
    "\n",
    "print(valid)"
   ]
  },
  {
   "cell_type": "code",
   "execution_count": 16,
   "id": "663c396c-ce07-4c1c-8f5a-4ef44c63edad",
   "metadata": {},
   "outputs": [
    {
     "data": {
      "text/plain": [
       "102.4"
      ]
     },
     "execution_count": 16,
     "metadata": {},
     "output_type": "execute_result"
    }
   ],
   "source": [
    "4**4 * 24 / 60 # too slow"
   ]
  },
  {
   "cell_type": "code",
   "execution_count": 26,
   "id": "a0b7d4c3-86c7-48b9-880b-f96d2b38e553",
   "metadata": {},
   "outputs": [],
   "source": [
    "def is_valid(s):\n",
    "    s = s.lstrip('0')\n",
    "    return all(c in s for c in '01A')\n",
    "\n",
    "def num_valid_full(s):\n",
    "    if is_valid(s):\n",
    "        return 13 ** len([d for d in s if d == 'x'])\n",
    "    else:\n",
    "        return 0\n",
    "\n",
    "def num_valid_pre(prefix, totlen):\n",
    "    if len(prefix) == totlen:\n",
    "        return num_valid_full(prefix)\n",
    "    elif is_valid(prefix):\n",
    "        return num_valid_full(prefix) * 16 ** (totlen - len(prefix))\n",
    "    else:\n",
    "        return sum([num_valid_pre(prefix+c, totlen) for c in '01Ax'])"
   ]
  },
  {
   "cell_type": "code",
   "execution_count": 35,
   "id": "4c614e3e-59db-4c7c-9887-d763b49aa8a0",
   "metadata": {},
   "outputs": [
    {
     "name": "stdout",
     "output_type": "stream",
     "text": [
      "4420408745587516162\n",
      "CPU times: user 5min 25s, sys: 1.53 s, total: 5min 26s\n",
      "Wall time: 7min 17s\n"
     ]
    }
   ],
   "source": [
    "%%time\n",
    "\n",
    "valid = num_valid_pre('', 16)\n",
    "print(valid)"
   ]
  },
  {
   "cell_type": "code",
   "execution_count": 37,
   "id": "0ced2e77-3986-4504-937c-f0f76fe2f1b6",
   "metadata": {},
   "outputs": [
    {
     "data": {
      "text/plain": [
       "'0x3d58725572c62302'"
      ]
     },
     "execution_count": 37,
     "metadata": {},
     "output_type": "execute_result"
    }
   ],
   "source": [
    "hex(4420408745587516162)"
   ]
  },
  {
   "cell_type": "code",
   "execution_count": 34,
   "id": "f0241b34-4c9b-4171-9c83-62fbe539a669",
   "metadata": {},
   "outputs": [
    {
     "data": {
      "text/plain": [
       "324"
      ]
     },
     "execution_count": 34,
     "metadata": {},
     "output_type": "execute_result"
    }
   ],
   "source": [
    "4 * 3**4 # acceptable..."
   ]
  },
  {
   "cell_type": "markdown",
   "id": "8cb7a715-e190-46e8-b0bc-621179f49df2",
   "metadata": {},
   "source": [
    "# 111"
   ]
  },
  {
   "cell_type": "code",
   "execution_count": 58,
   "id": "bc4dc946-2ef0-4553-a1d9-e690951ba0cd",
   "metadata": {},
   "outputs": [],
   "source": [
    "def divs(k, n):\n",
    "    return n % k == 0\n",
    "\n",
    "def sieve_primes(n):\n",
    "    possible = [True for k in range(n)]\n",
    "    primes = []\n",
    "    for k in range(2, n):\n",
    "        if possible[k]:\n",
    "            primes.append(k)\n",
    "            for m in range(2*k, n, k):\n",
    "                possible[m] = False\n",
    "    return primes"
   ]
  },
  {
   "cell_type": "code",
   "execution_count": 65,
   "id": "f6fccb91-5654-4987-8c7a-4ff982e34311",
   "metadata": {},
   "outputs": [
    {
     "name": "stdout",
     "output_type": "stream",
     "text": [
      "CPU times: user 5.69 s, sys: 99.6 ms, total: 5.79 s\n",
      "Wall time: 7.15 s\n"
     ]
    }
   ],
   "source": [
    "%%time\n",
    "ps = sieve_primes(2*10**7)"
   ]
  },
  {
   "cell_type": "code",
   "execution_count": 62,
   "id": "eca32011-8abf-4092-9482-d6b2275cccbd",
   "metadata": {},
   "outputs": [
    {
     "data": {
      "text/plain": [
       "9592"
      ]
     },
     "execution_count": 62,
     "metadata": {},
     "output_type": "execute_result"
    }
   ],
   "source": [
    "len(ps)"
   ]
  },
  {
   "cell_type": "code",
   "execution_count": 70,
   "id": "ddcc0d0d-123c-4599-8dfe-e826f7516bde",
   "metadata": {},
   "outputs": [
    {
     "name": "stdout",
     "output_type": "stream",
     "text": [
      "CPU times: user 2.24 s, sys: 7.02 s, total: 9.26 s\n",
      "Wall time: 11.8 s\n"
     ]
    },
    {
     "data": {
      "text/plain": [
       "100000000"
      ]
     },
     "execution_count": 70,
     "metadata": {},
     "output_type": "execute_result"
    }
   ],
   "source": [
    "%%time\n",
    "len([n for n in range(10**8)])"
   ]
  },
  {
   "cell_type": "code",
   "execution_count": 81,
   "id": "f1a83bcc-d16a-4db2-adce-84db2bcc68c3",
   "metadata": {},
   "outputs": [
    {
     "ename": "TypeError",
     "evalue": "sequence item 0: expected str instance, int found",
     "output_type": "error",
     "traceback": [
      "\u001b[0;31m---------------------------------------------------------------------------\u001b[0m",
      "\u001b[0;31mTypeError\u001b[0m                                 Traceback (most recent call last)",
      "Cell \u001b[0;32mIn[81], line 1\u001b[0m\n\u001b[0;32m----> 1\u001b[0m \u001b[38;5;124;43m'\u001b[39;49m\u001b[38;5;124;43m'\u001b[39;49m\u001b[38;5;241;43m.\u001b[39;49m\u001b[43mjoin\u001b[49m\u001b[43m(\u001b[49m\u001b[43m[\u001b[49m\u001b[38;5;241;43m1\u001b[39;49m\u001b[43m,\u001b[49m\u001b[38;5;241;43m2\u001b[39;49m\u001b[43m,\u001b[49m\u001b[38;5;241;43m3\u001b[39;49m\u001b[43m]\u001b[49m\u001b[43m)\u001b[49m\n",
      "\u001b[0;31mTypeError\u001b[0m: sequence item 0: expected str instance, int found"
     ]
    }
   ],
   "source": [
    "''.join([1,2,3])"
   ]
  },
  {
   "cell_type": "code",
   "execution_count": 99,
   "id": "f015f055-9d43-4628-86f3-802b05f2e3f8",
   "metadata": {},
   "outputs": [],
   "source": [
    "def S111(N, d):\n",
    "    k = -1\n",
    "    S = 0\n",
    "    while S == 0:\n",
    "        k += 1\n",
    "        vals = [i for i in range(10) if i != d]\n",
    "        S = 0\n",
    "        for nonrep_spots in combinations(range(N), k):\n",
    "            for nonrep_vals in product(vals, repeat=k):\n",
    "                digs = [d for _ in range(N)]\n",
    "                for i in range(k):\n",
    "                    digs[nonrep_spots[i]] = nonrep_vals[i] \n",
    "                if digs[0]:\n",
    "                    n = int(''.join(str(dg) for dg in digs))\n",
    "                    if is_prime(n):\n",
    "                        S += n\n",
    "    return S"
   ]
  },
  {
   "cell_type": "code",
   "execution_count": 102,
   "id": "d5d5ce51-69ac-4808-9354-73e295b226f7",
   "metadata": {},
   "outputs": [
    {
     "data": {
      "text/plain": [
       "612407567715"
      ]
     },
     "execution_count": 102,
     "metadata": {},
     "output_type": "execute_result"
    }
   ],
   "source": [
    "sum([S111(10, d) for d in range(10)])"
   ]
  },
  {
   "cell_type": "code",
   "execution_count": null,
   "id": "3596c782-9ab2-469b-b602-82c922f42223",
   "metadata": {},
   "outputs": [],
   "source": []
  }
 ],
 "metadata": {
  "kernelspec": {
   "display_name": "Python 3 (ipykernel)",
   "language": "python",
   "name": "python3"
  },
  "language_info": {
   "codemirror_mode": {
    "name": "ipython",
    "version": 3
   },
   "file_extension": ".py",
   "mimetype": "text/x-python",
   "name": "python",
   "nbconvert_exporter": "python",
   "pygments_lexer": "ipython3",
   "version": "3.11.8"
  }
 },
 "nbformat": 4,
 "nbformat_minor": 5
}
