{
 "cells": [
  {
   "cell_type": "code",
   "execution_count": 14,
   "metadata": {},
   "outputs": [],
   "source": [
    "def tile(i):\n",
    "    assert 0 <= i < 2**8\n",
    "    s = bin(i)[2:] # 0x...\n",
    "    return '0'*(8-len(s)) + s\n",
    "\n",
    "def friends(t):\n",
    "    l = []\n",
    "    for i in range(4):\n",
    "        l.append(t)\n",
    "        t = rot(t)\n",
    "    return l\n",
    "\n",
    "def canon(t):\n",
    "    return min(friends(t))\n",
    "\n",
    "def rot(t):\n",
    "    return t[2:]+t[:2]"
   ]
  },
  {
   "cell_type": "code",
   "execution_count": 21,
   "metadata": {},
   "outputs": [],
   "source": [
    "tiles = set()\n",
    "for i in range(2**8):\n",
    "    tiles.add(canon(tile(i)))"
   ]
  },
  {
   "cell_type": "code",
   "execution_count": 22,
   "metadata": {},
   "outputs": [
    {
     "data": {
      "text/plain": [
       "70"
      ]
     },
     "execution_count": 22,
     "metadata": {},
     "output_type": "execute_result"
    }
   ],
   "source": [
    "len(tiles)"
   ]
  },
  {
   "cell_type": "code",
   "execution_count": 23,
   "metadata": {},
   "outputs": [
    {
     "data": {
      "text/plain": [
       "{'00000000',\n",
       " '00000001',\n",
       " '00000010',\n",
       " '00000011',\n",
       " '00000101',\n",
       " '00000110',\n",
       " '00000111',\n",
       " '00001001',\n",
       " '00001010',\n",
       " '00001011',\n",
       " '00001101',\n",
       " '00001110',\n",
       " '00001111',\n",
       " '00010001',\n",
       " '00010010',\n",
       " '00010011',\n",
       " '00010101',\n",
       " '00010110',\n",
       " '00010111',\n",
       " '00011001',\n",
       " '00011010',\n",
       " '00011011',\n",
       " '00011101',\n",
       " '00011110',\n",
       " '00011111',\n",
       " '00100010',\n",
       " '00100011',\n",
       " '00100101',\n",
       " '00100110',\n",
       " '00100111',\n",
       " '00101001',\n",
       " '00101010',\n",
       " '00101011',\n",
       " '00101101',\n",
       " '00101110',\n",
       " '00101111',\n",
       " '00110011',\n",
       " '00110101',\n",
       " '00110110',\n",
       " '00110111',\n",
       " '00111001',\n",
       " '00111010',\n",
       " '00111011',\n",
       " '00111101',\n",
       " '00111110',\n",
       " '00111111',\n",
       " '01010101',\n",
       " '01010110',\n",
       " '01010111',\n",
       " '01011010',\n",
       " '01011011',\n",
       " '01011110',\n",
       " '01011111',\n",
       " '01100110',\n",
       " '01100111',\n",
       " '01101010',\n",
       " '01101011',\n",
       " '01101110',\n",
       " '01101111',\n",
       " '01110111',\n",
       " '01111010',\n",
       " '01111011',\n",
       " '01111110',\n",
       " '01111111',\n",
       " '10101010',\n",
       " '10101011',\n",
       " '10101111',\n",
       " '10111011',\n",
       " '10111111',\n",
       " '11111111'}"
      ]
     },
     "execution_count": 23,
     "metadata": {},
     "output_type": "execute_result"
    }
   ],
   "source": [
    "tiles"
   ]
  },
  {
   "cell_type": "code",
   "execution_count": null,
   "metadata": {},
   "outputs": [],
   "source": []
  }
 ],
 "metadata": {
  "kernelspec": {
   "display_name": "Python 3",
   "language": "python",
   "name": "python3"
  },
  "language_info": {
   "codemirror_mode": {
    "name": "ipython",
    "version": 3
   },
   "file_extension": ".py",
   "mimetype": "text/x-python",
   "name": "python",
   "nbconvert_exporter": "python",
   "pygments_lexer": "ipython3",
   "version": "3.6.9"
  }
 },
 "nbformat": 4,
 "nbformat_minor": 4
}
