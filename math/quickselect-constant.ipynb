{
 "cells": [
  {
   "cell_type": "code",
   "execution_count": 29,
   "metadata": {},
   "outputs": [],
   "source": []
  },
  {
   "cell_type": "code",
   "execution_count": 3,
   "metadata": {},
   "outputs": [],
   "source": [
    "import random"
   ]
  },
  {
   "cell_type": "code",
   "execution_count": 46,
   "metadata": {},
   "outputs": [],
   "source": [
    "def findk(l, k):\n",
    "    cost = 0\n",
    "    pivot = l[0]\n",
    "    cost += 1\n",
    "    if len(l)==1:\n",
    "        assert k==0\n",
    "        return pivot, cost\n",
    "    low = []\n",
    "    high = []\n",
    "    for i in range(1, len(l)):\n",
    "        x = l[i]\n",
    "        cost += 1\n",
    "        if x < pivot:\n",
    "            low.append(x)\n",
    "        else:\n",
    "            high.append(x)\n",
    "    if len(low) == k:\n",
    "        return pivot, cost\n",
    "    elif len(low) > k:\n",
    "        kth, c2 = findk(low, k)\n",
    "        return kth, cost + c2\n",
    "    else:\n",
    "        kth, c2 = findk(high, k - len(low) - 1)\n",
    "        return kth, cost + c2"
   ]
  },
  {
   "cell_type": "code",
   "execution_count": 47,
   "metadata": {},
   "outputs": [
    {
     "name": "stdout",
     "output_type": "stream",
     "text": [
      "3364.137\n",
      "3349.115\n",
      "3377.363\n"
     ]
    }
   ],
   "source": [
    "mylist = [*range(1001)]\n",
    "for jj in range(3):\n",
    "    costs = []\n",
    "    for ii in range(1000):\n",
    "        random.shuffle(mylist)\n",
    "        med, cost = findk(mylist, (len(mylist)-1)//2)\n",
    "        costs.append(cost)\n",
    "    print(sum(costs)/len(costs))"
   ]
  }
 ],
 "metadata": {
  "kernelspec": {
   "display_name": "Python 3",
   "language": "python",
   "name": "python3"
  },
  "language_info": {
   "codemirror_mode": {
    "name": "ipython",
    "version": 3
   },
   "file_extension": ".py",
   "mimetype": "text/x-python",
   "name": "python",
   "nbconvert_exporter": "python",
   "pygments_lexer": "ipython3",
   "version": "3.6.9"
  }
 },
 "nbformat": 4,
 "nbformat_minor": 4
}
