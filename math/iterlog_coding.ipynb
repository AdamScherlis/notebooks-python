{
 "cells": [
  {
   "cell_type": "markdown",
   "id": "33628dad-b347-46fe-a325-acd3b56b873c",
   "metadata": {},
   "source": [
    "2024-10-18\n",
    "\n",
    "# Iterated Log Coding for Real Values"
   ]
  },
  {
   "cell_type": "code",
   "execution_count": 1,
   "id": "f110718d-4b1b-4885-a9ef-9f22e36e1de1",
   "metadata": {},
   "outputs": [],
   "source": [
    "import numpy as np\n",
    "import matplotlib.pyplot as plt"
   ]
  },
  {
   "cell_type": "markdown",
   "id": "7deaaf29-84f5-4b44-bb66-57dd96ac718b",
   "metadata": {},
   "source": [
    "## Helper functions"
   ]
  },
  {
   "cell_type": "code",
   "execution_count": 33,
   "id": "7c67b72c-950f-403c-bf5a-2dfa2be6f6ed",
   "metadata": {},
   "outputs": [],
   "source": [
    "def iterexp(signs, base=2):\n",
    "    if len(signs) == 0:\n",
    "        return 0.\n",
    "    return signs[0] * np.exp(iterexp(signs[1:]) * np.log(base))\n",
    "\n",
    "def iterlog(x, prec, base=2):\n",
    "    if prec == 0 or x == 0.:\n",
    "        return []\n",
    "    return [int(np.sign(x))] + iterlog(np.log(np.abs(x)) / np.log(base), prec-1)\n",
    "\n",
    "def signs_to_bits(signs, curr=1):\n",
    "    if len(signs) == 0:\n",
    "        return []\n",
    "    \n",
    "    next = curr * signs[0]\n",
    "    return [(next+1)//2] + signs_to_bits(signs[1:], next)\n",
    "\n",
    "def bits_to_signs(bits, last=1):\n",
    "    if len(bits) == 0:\n",
    "        return []\n",
    "    sign = 1 if bits[0] == last else -1\n",
    "    return [sign] + bits_to_signs(bits[1:], bits[0])\n",
    "\n",
    "def iterlog_bits(x, prec, base=2):\n",
    "    return signs_to_bits(iterlog(x, prec, base))\n",
    "\n",
    "def iterexp_bits(bits, base=2):\n",
    "    return iterexp(bits_to_signs(bits), base)\n",
    "\n",
    "def pad_bits(bits, length=None):\n",
    "    if length is None:\n",
    "        length = len(bits) + 1\n",
    "    if len(bits) >= length:\n",
    "        raise ValueError(\"too many bits!\")\n",
    "    return bits + [1] + [0] * (length - 1 - len(bits))\n",
    "\n",
    "def unpad_bits(bits):\n",
    "    if not any(bits):\n",
    "        raise ValueError(\"zero string = NaN!\")\n",
    "    if bits[-1] == 1:\n",
    "        return bits[:-1]\n",
    "    return unpad_bits(bits[:-1])"
   ]
  },
  {
   "cell_type": "markdown",
   "id": "b869c300-4449-4a57-a41e-298f3d48a945",
   "metadata": {},
   "source": [
    "## Encoding and decoding functions"
   ]
  },
  {
   "cell_type": "code",
   "execution_count": 47,
   "id": "6b683936-58da-49de-bd07-d0a69f7ec0f2",
   "metadata": {},
   "outputs": [],
   "source": [
    "def decode(bits, base=2):\n",
    "    return iterexp_bits(unpad_bits(bits), base)\n",
    "\n",
    "def encode(x, length, base=2):\n",
    "    return pad_bits(iterlog_bits(x, length-1, base))"
   ]
  },
  {
   "cell_type": "markdown",
   "id": "4572e94b-3289-42b9-a351-6d6eee1d9d9d",
   "metadata": {},
   "source": [
    "## \"Tests\""
   ]
  },
  {
   "cell_type": "code",
   "execution_count": 24,
   "id": "f9154173-35a5-440d-b054-ff24e4f773ad",
   "metadata": {},
   "outputs": [
    {
     "data": {
      "text/plain": [
       "[0, 1, 1, 1, 0, 1]"
      ]
     },
     "execution_count": 24,
     "metadata": {},
     "output_type": "execute_result"
    }
   ],
   "source": [
    "(pad_bits([0,1,1,1,0], 5))"
   ]
  },
  {
   "cell_type": "code",
   "execution_count": 2,
   "id": "17ab216d-a240-4f8a-b391-65169e9076e2",
   "metadata": {},
   "outputs": [
    {
     "name": "stdout",
     "output_type": "stream",
     "text": [
      "[-1, 1, 1, -1, -1, -1, 1, -1]\n",
      "[0, 1, 1, 0, 0, 0, 1, 0, 0]\n"
     ]
    }
   ],
   "source": [
    "print(bits_to_signs(signs_to_bits([-1, 1, 1, -1, -1, -1, 1, -1])))\n",
    "print(signs_to_bits(bits_to_signs([0,1,1,0,0,0,1,0,0])))\n"
   ]
  },
  {
   "cell_type": "code",
   "execution_count": 30,
   "id": "a6ca852d-7a8c-4600-b46e-fec1e5b652c9",
   "metadata": {},
   "outputs": [
    {
     "data": {
      "text/plain": [
       "np.float64(3.26354844456319)"
      ]
     },
     "execution_count": 30,
     "metadata": {},
     "output_type": "execute_result"
    }
   ],
   "source": [
    "iterexp(iterlog(np.pi, 7))"
   ]
  },
  {
   "cell_type": "code",
   "execution_count": 48,
   "id": "7820bea8-d8b4-4ef7-ad9d-6a9dfda789d9",
   "metadata": {},
   "outputs": [
    {
     "data": {
      "text/plain": [
       "[1, 1, 1, 0, 1, 1, 0, 0, 0, 1]"
      ]
     },
     "execution_count": 48,
     "metadata": {},
     "output_type": "execute_result"
    }
   ],
   "source": [
    "encode(np.pi, 10)"
   ]
  },
  {
   "cell_type": "code",
   "execution_count": 49,
   "id": "2d695cac-b9ae-4f2d-a438-34155caeb4e9",
   "metadata": {},
   "outputs": [
    {
     "data": {
      "text/plain": [
       "np.float64(3.11876242597597)"
      ]
     },
     "execution_count": 49,
     "metadata": {},
     "output_type": "execute_result"
    }
   ],
   "source": [
    "decode(encode(np.pi, 10))"
   ]
  },
  {
   "cell_type": "markdown",
   "id": "0cc2711e-a054-4e6a-8a77-bc4e06fe75d6",
   "metadata": {},
   "source": [
    "# Choice of base: entropy and fixed point distribution"
   ]
  },
  {
   "cell_type": "code",
   "execution_count": 138,
   "id": "25e70051-0eb0-43c2-ba06-bd46c46ea5c6",
   "metadata": {},
   "outputs": [],
   "source": [
    "from scipy.stats import binomtest"
   ]
  },
  {
   "cell_type": "code",
   "execution_count": 139,
   "id": "94b4bb98-591e-4e1c-bdd7-357459114bc9",
   "metadata": {},
   "outputs": [],
   "source": [
    "def entropy(p):\n",
    "    return -p * np.log2(p) - (1-p) * np.log2(1-p)"
   ]
  },
  {
   "cell_type": "code",
   "execution_count": 141,
   "id": "ec9a760b-e173-4af7-96b0-fa958607701a",
   "metadata": {},
   "outputs": [
    {
     "data": {
      "text/plain": [
       "(np.float64(1.0), np.float64(0.934068055375491))"
      ]
     },
     "execution_count": 141,
     "metadata": {},
     "output_type": "execute_result"
    }
   ],
   "source": [
    "entropy(.5), entropy(.35)"
   ]
  },
  {
   "cell_type": "code",
   "execution_count": 148,
   "id": "1607c3fe-9c60-428f-8297-353e1a385775",
   "metadata": {},
   "outputs": [],
   "source": [
    "def posfrac(b, n=100_000, iters=100, plot=False):\n",
    "    xs = np.random.randn(n)\n",
    "    for _ in range(iters):\n",
    "        xs = np.log(np.abs(xs)) / np.log(b)\n",
    "    if plot:\n",
    "        nbins = int(np.sqrt(n))\n",
    "        plt.hist(xs, bins=nbins,density=True)\n",
    "        plt.hist(np.log(xs[xs>0]), alpha=0.5, bins=nbins, density=True)\n",
    "        plt.hist(np.log(-xs[xs<0]), alpha=0.5, bins=nbins, density=True)\n",
    "        plt.show()\n",
    "    return np.mean(xs), np.std(xs), np.mean(xs > 0), binomtest(k=np.sum(xs > 0), n=n).proportion_ci()"
   ]
  },
  {
   "cell_type": "code",
   "execution_count": 149,
   "id": "37689dfa-12fe-4afc-a6d8-8149c49cd9f7",
   "metadata": {},
   "outputs": [
    {
     "data": {
      "image/png": "[encoded data removed]",
      "text/plain": [
       "<Figure size 640x480 with 1 Axes>"
      ]
     },
     "metadata": {},
     "output_type": "display_data"
    },
    {
     "data": {
      "text/plain": [
       "(np.float64(-0.3917184815903841),\n",
       " np.float64(1.7008660587138684),\n",
       " np.float64(0.47005),\n",
       " ConfidenceInterval(low=0.4669524956151349, high=0.47314924176516765))"
      ]
     },
     "execution_count": 149,
     "metadata": {},
     "output_type": "execute_result"
    }
   ],
   "source": [
    "posfrac(2., iters=1000, n=100_000, plot=True)"
   ]
  },
  {
   "cell_type": "code",
   "execution_count": 142,
   "id": "269a5076-71c3-40a9-a21d-8e1603a6d200",
   "metadata": {},
   "outputs": [
    {
     "data": {
      "text/plain": [
       "np.float64(0.9971040475542574)"
      ]
     },
     "execution_count": 142,
     "metadata": {},
     "output_type": "execute_result"
    }
   ],
   "source": [
    "entropy(.46833)"
   ]
  },
  {
   "cell_type": "code",
   "execution_count": 136,
   "id": "6f4cb28a-d662-454a-b468-1055f672508f",
   "metadata": {},
   "outputs": [
    {
     "data": {
      "image/png": "[encoded data removed]",
      "text/plain": [
       "<Figure size 640x480 with 1 Axes>"
      ]
     },
     "metadata": {},
     "output_type": "display_data"
    },
    {
     "data": {
      "text/plain": [
       "(np.float64(-0.36954555316975446),\n",
       " np.float64(1.6901207766091915),\n",
       " np.float64(0.4779),\n",
       " ConfidenceInterval(low=0.4680673942562442, high=0.4877454832015214))"
      ]
     },
     "execution_count": 136,
     "metadata": {},
     "output_type": "execute_result"
    }
   ],
   "source": [
    "posfrac(2., iters=200, n=10_000, plot=True)"
   ]
  },
  {
   "cell_type": "code",
   "execution_count": 100,
   "id": "bdf3a599-cc85-4d37-9ac5-36238f5950d8",
   "metadata": {},
   "outputs": [
    {
     "data": {
      "image/png": "[encoded data removed]",
      "text/plain": [
       "<Figure size 640x480 with 1 Axes>"
      ]
     },
     "metadata": {},
     "output_type": "display_data"
    },
    {
     "data": {
      "text/plain": [
       "np.float64(0.78643)"
      ]
     },
     "execution_count": 100,
     "metadata": {},
     "output_type": "execute_result"
    }
   ],
   "source": [
    "posfrac(1.899, plot=True)"
   ]
  },
  {
   "cell_type": "code",
   "execution_count": 75,
   "id": "f0d2fdc6-e829-4d63-b057-fb18838de07f",
   "metadata": {},
   "outputs": [
    {
     "name": "stdout",
     "output_type": "stream",
     "text": [
      "1.1 1.0\n",
      "1.568421052631579 0.69579\n",
      "2.0368421052631582 0.45992\n",
      "2.505263157894737 0.37047\n",
      "2.973684210526316 0.32107\n",
      "3.442105263157895 0.28097\n",
      "3.910526315789474 0.25768\n",
      "4.378947368421053 0.2393\n",
      "4.847368421052632 0.22384\n",
      "5.315789473684211 0.21658\n",
      "5.784210526315789 0.20879\n",
      "6.252631578947369 0.20089\n",
      "6.721052631578948 0.19478\n",
      "7.189473684210526 0.18485\n",
      "7.657894736842106 0.17871\n",
      "8.126315789473685 0.17331\n",
      "8.594736842105263 0.16405\n",
      "9.063157894736843 0.15488\n",
      "9.531578947368422 0.14467\n",
      "10.0 0.1354\n"
     ]
    }
   ],
   "source": [
    "for b in np.linspace(1.1, 10.0, 20):\n",
    "    print(b, posfrac(b))"
   ]
  },
  {
   "cell_type": "code",
   "execution_count": 69,
   "id": "7cd985b8-f1db-4fdb-b0a3-12b029768344",
   "metadata": {},
   "outputs": [
    {
     "name": "stdout",
     "output_type": "stream",
     "text": [
      "1.0726515571532118\n"
     ]
    }
   ],
   "source": [
    "p = .348\n",
    "print(-1 / (p * np.log2(p) + (1-p) * np.log2(1-p)))"
   ]
  },
  {
   "cell_type": "markdown",
   "id": "c95ec331-a1e4-419c-96dc-3a1213ecc5dc",
   "metadata": {},
   "source": [
    "# 7-bit example"
   ]
  },
  {
   "cell_type": "code",
   "execution_count": 50,
   "id": "127092ed-c9fd-467d-8b0b-cd1dd1f27cce",
   "metadata": {},
   "outputs": [
    {
     "name": "stdout",
     "output_type": "stream",
     "text": [
      "[0 0 0 0 0 0 1] -inf\n",
      "[0 0 0 0 0 1 0] -65536\n",
      "[0 0 0 0 0 1 1] -81.17181\n",
      "[0 0 0 0 1 0 0] -16\n",
      "[0 0 0 0 1 0 1] -8.577492\n",
      "[0 0 0 0 1 1 0] -6.342907\n",
      "[0 0 0 0 1 1 1] -4.857702\n",
      "[0 0 0 1 0 0 0] -4\n",
      "[0 0 0 1 0 0 1] -3.460937\n",
      "[0 0 0 1 0 1 0] -3.100556\n",
      "[0 0 0 1 0 1 1] -2.88577\n",
      "[0 0 0 1 1 0 0] -2.665144\n",
      "[0 0 0 1 1 0 1] -2.457229\n",
      "[0 0 0 1 1 1 0] -2.280274\n",
      "[0 0 0 1 1 1 1] -2.062328\n",
      "[0 0 1 0 0 0 0] -2\n",
      "[0 0 1 0 0 0 1] -1.942081\n",
      "[0 0 1 0 0 1 0] -1.791163\n",
      "[0 0 1 0 0 1 1] -1.706441\n",
      "[0 0 1 0 1 0 0] -1.632527\n",
      "[0 0 1 0 1 0 1] -1.573569\n",
      "[0 0 1 0 1 1 0] -1.528956\n",
      "[0 0 1 0 1 1 1] -1.47253\n",
      "[0 0 1 1 0 0 0] -1.414214\n",
      "[0 0 1 1 0 0 1] -1.355236\n",
      "[0 0 1 1 0 1 0] -1.297032\n",
      "[0 0 1 1 0 1 1] -1.250515\n",
      "[0 0 1 1 1 0 0] -1.189207\n",
      "[0 0 1 1 1 0 1] -1.115474\n",
      "[0 0 1 1 1 1 0] -1.044274\n",
      "[0 0 1 1 1 1 1] -1.000011\n",
      "[0 1 0 0 0 0 0] -1\n",
      "[0 1 0 0 0 0 1] -0.9999894\n",
      "[0 1 0 0 0 1 0] -0.9576033\n",
      "[0 1 0 0 0 1 1] -0.8964802\n",
      "[0 1 0 0 1 0 0] -0.8408964\n",
      "[0 1 0 0 1 0 1] -0.7996703\n",
      "[0 1 0 0 1 1 0] -0.7709909\n",
      "[0 1 0 0 1 1 1] -0.737879\n",
      "[0 1 0 1 0 0 0] -0.7071068\n",
      "[0 1 0 1 0 0 1] -0.6791035\n",
      "[0 1 0 1 0 1 0] -0.6540409\n",
      "[0 1 0 1 0 1 1] -0.6354978\n",
      "[0 1 0 1 1 0 0] -0.6125473\n",
      "[0 1 0 1 1 0 1] -0.5860148\n",
      "[0 1 0 1 1 1 0] -0.5582966\n",
      "[0 1 0 1 1 1 1] -0.5149116\n",
      "[0 1 1 0 0 0 0] -0.5\n",
      "[0 1 1 0 0 0 1] -0.4848889\n",
      "[0 1 1 0 0 1 0] -0.4385438\n",
      "[0 1 1 0 0 1 1] -0.4069625\n",
      "[0 1 1 0 1 0 0] -0.3752142\n",
      "[0 1 1 0 1 0 1] -0.3465279\n",
      "[0 1 1 0 1 1 0] -0.3225228\n",
      "[0 1 1 0 1 1 1] -0.2889391\n",
      "[0 1 1 1 0 0 0] -0.25\n",
      "[0 1 1 1 0 0 1] -0.2058587\n",
      "[0 1 1 1 0 1 0] -0.1576564\n",
      "[0 1 1 1 0 1 1] -0.1165842\n",
      "[0 1 1 1 1 0 0] -0.0625\n",
      "[0 1 1 1 1 0 1] -0.01231955\n",
      "[0 1 1 1 1 1 0] -1.525879e-05\n",
      "[0 1 1 1 1 1 1] -0\n",
      "[1 0 0 0 0 0 0] 0\n",
      "[1 0 0 0 0 0 1] 0\n",
      "[1 0 0 0 0 1 0] 1.525879e-05\n",
      "[1 0 0 0 0 1 1] 0.01231955\n",
      "[1 0 0 0 1 0 0] 0.0625\n",
      "[1 0 0 0 1 0 1] 0.1165842\n",
      "[1 0 0 0 1 1 0] 0.1576564\n",
      "[1 0 0 0 1 1 1] 0.2058587\n",
      "[1 0 0 1 0 0 0] 0.25\n",
      "[1 0 0 1 0 0 1] 0.2889391\n",
      "[1 0 0 1 0 1 0] 0.3225228\n",
      "[1 0 0 1 0 1 1] 0.3465279\n",
      "[1 0 0 1 1 0 0] 0.3752142\n",
      "[1 0 0 1 1 0 1] 0.4069625\n",
      "[1 0 0 1 1 1 0] 0.4385438\n",
      "[1 0 0 1 1 1 1] 0.4848889\n",
      "[1 0 1 0 0 0 0] 0.5\n",
      "[1 0 1 0 0 0 1] 0.5149116\n",
      "[1 0 1 0 0 1 0] 0.5582966\n",
      "[1 0 1 0 0 1 1] 0.5860148\n",
      "[1 0 1 0 1 0 0] 0.6125473\n",
      "[1 0 1 0 1 0 1] 0.6354978\n",
      "[1 0 1 0 1 1 0] 0.6540409\n",
      "[1 0 1 0 1 1 1] 0.6791035\n",
      "[1 0 1 1 0 0 0] 0.7071068\n",
      "[1 0 1 1 0 0 1] 0.737879\n",
      "[1 0 1 1 0 1 0] 0.7709909\n",
      "[1 0 1 1 0 1 1] 0.7996703\n",
      "[1 0 1 1 1 0 0] 0.8408964\n",
      "[1 0 1 1 1 0 1] 0.8964802\n",
      "[1 0 1 1 1 1 0] 0.9576033\n",
      "[1 0 1 1 1 1 1] 0.9999894\n",
      "[1 1 0 0 0 0 0] 1\n",
      "[1 1 0 0 0 0 1] 1.000011\n",
      "[1 1 0 0 0 1 0] 1.044274\n",
      "[1 1 0 0 0 1 1] 1.115474\n",
      "[1 1 0 0 1 0 0] 1.189207\n",
      "[1 1 0 0 1 0 1] 1.250515\n",
      "[1 1 0 0 1 1 0] 1.297032\n",
      "[1 1 0 0 1 1 1] 1.355236\n",
      "[1 1 0 1 0 0 0] 1.414214\n",
      "[1 1 0 1 0 0 1] 1.47253\n",
      "[1 1 0 1 0 1 0] 1.528956\n",
      "[1 1 0 1 0 1 1] 1.573569\n",
      "[1 1 0 1 1 0 0] 1.632527\n",
      "[1 1 0 1 1 0 1] 1.706441\n",
      "[1 1 0 1 1 1 0] 1.791163\n",
      "[1 1 0 1 1 1 1] 1.942081\n",
      "[1 1 1 0 0 0 0] 2\n",
      "[1 1 1 0 0 0 1] 2.062328\n",
      "[1 1 1 0 0 1 0] 2.280274\n",
      "[1 1 1 0 0 1 1] 2.457229\n",
      "[1 1 1 0 1 0 0] 2.665144\n",
      "[1 1 1 0 1 0 1] 2.88577\n",
      "[1 1 1 0 1 1 0] 3.100556\n",
      "[1 1 1 0 1 1 1] 3.460937\n",
      "[1 1 1 1 0 0 0] 4\n",
      "[1 1 1 1 0 0 1] 4.857702\n",
      "[1 1 1 1 0 1 0] 6.342907\n",
      "[1 1 1 1 0 1 1] 8.577492\n",
      "[1 1 1 1 1 0 0] 16\n",
      "[1 1 1 1 1 0 1] 81.17181\n",
      "[1 1 1 1 1 1 0] 65536\n",
      "[1 1 1 1 1 1 1] inf\n"
     ]
    },
    {
     "name": "stderr",
     "output_type": "stream",
     "text": [
      "/tmp/ipykernel_2501887/2462023612.py:4: RuntimeWarning: overflow encountered in exp\n",
      "  return signs[0] * np.exp(iterexp(signs[1:]) * np.log(base))\n"
     ]
    }
   ],
   "source": [
    "depth = 7\n",
    "for i in range(1, 2**depth):\n",
    "    bits = (i >> np.flip(np.arange(depth))) & 1\n",
    "    print(bits, f'{decode(bits):.7g}')\n"
   ]
  }
 ],
 "metadata": {
  "kernelspec": {
   "display_name": "Python 3 (ipykernel)",
   "language": "python",
   "name": "python3"
  },
  "language_info": {
   "codemirror_mode": {
    "name": "ipython",
    "version": 3
   },
   "file_extension": ".py",
   "mimetype": "text/x-python",
   "name": "python",
   "nbconvert_exporter": "python",
   "pygments_lexer": "ipython3",
   "version": "3.12.7"
  }
 },
 "nbformat": 4,
 "nbformat_minor": 5
}
