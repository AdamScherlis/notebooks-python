{
 "cells": [
  {
   "cell_type": "code",
   "execution_count": null,
   "id": "820fcdc9-b1f0-4eaa-bdc1-856dd5a0ee81",
   "metadata": {},
   "outputs": [],
   "source": [
    "# 2024-03\n",
    "# i^i^i^i^i is dense in C\n",
    "# got sidetracked by an idea for extending einops"
   ]
  },
  {
   "cell_type": "code",
   "execution_count": 44,
   "id": "281480fc-f569-4595-8a27-c97b4a33b862",
   "metadata": {},
   "outputs": [],
   "source": [
    "import numpy as np\n",
    "import torch as t\n",
    "from einops import einsum, repeat\n",
    "\n",
    "import matplotlib as plt"
   ]
  },
  {
   "cell_type": "code",
   "execution_count": 63,
   "id": "66411efb-4d30-4461-83a5-10821d6dc08e",
   "metadata": {},
   "outputs": [
    {
     "data": {
      "text/plain": [
       "array([[0., 0., 0.],\n",
       "       [0., 0., 0.],\n",
       "       [0., 0., 0.],\n",
       "       [0., 0., 0.],\n",
       "       [0., 0., 0.]])"
      ]
     },
     "execution_count": 63,
     "metadata": {},
     "output_type": "execute_result"
    }
   ],
   "source": [
    "repeat(np.zeros(5), 'a_b ... -> (a_b) ... (3)')"
   ]
  },
  {
   "cell_type": "code",
   "execution_count": 51,
   "id": "26335568-de95-498d-beaf-bc3fe84f93ea",
   "metadata": {},
   "outputs": [],
   "source": [
    "class EinFormat(str):\n",
    "    def __call__(self, **kwargs):\n",
    "        \n",
    "        print(self, kwargs)"
   ]
  },
  {
   "cell_type": "code",
   "execution_count": 53,
   "id": "7de3e003-fe90-4742-8c47-5e386e8cae45",
   "metadata": {},
   "outputs": [
    {
     "name": "stdout",
     "output_type": "stream",
     "text": [
      "abc {'x': 3, 'b': 4, 's': 2}\n"
     ]
    }
   ],
   "source": [
    "EinFormat('abc')(x=3,b=4,s=2)"
   ]
  },
  {
   "cell_type": "code",
   "execution_count": 47,
   "id": "466a0c02-c729-473f-b655-5c01d51b1c4c",
   "metadata": {},
   "outputs": [
    {
     "ename": "TypeError",
     "evalue": "f() got multiple values for argument 'x'",
     "output_type": "error",
     "traceback": [
      "\u001b[0;31m---------------------------------------------------------------------------\u001b[0m",
      "\u001b[0;31mTypeError\u001b[0m                                 Traceback (most recent call last)",
      "Cell \u001b[0;32mIn[47], line 4\u001b[0m\n\u001b[1;32m      1\u001b[0m \u001b[38;5;28;01mdef\u001b[39;00m \u001b[38;5;21mf\u001b[39m(x\u001b[38;5;241m=\u001b[39m\u001b[38;5;241m0\u001b[39m, \u001b[38;5;241m*\u001b[39m\u001b[38;5;241m*\u001b[39mkwargs):\n\u001b[1;32m      2\u001b[0m     \u001b[38;5;28mprint\u001b[39m(x, kwargs)\n\u001b[0;32m----> 4\u001b[0m \u001b[43mf\u001b[49m\u001b[43m(\u001b[49m\u001b[38;5;241;43m3\u001b[39;49m\u001b[43m,\u001b[49m\u001b[43m \u001b[49m\u001b[43ma\u001b[49m\u001b[38;5;241;43m=\u001b[39;49m\u001b[38;5;241;43m4\u001b[39;49m\u001b[43m,\u001b[49m\u001b[43m \u001b[49m\u001b[43mb\u001b[49m\u001b[38;5;241;43m=\u001b[39;49m\u001b[38;5;241;43m5\u001b[39;49m\u001b[43m,\u001b[49m\u001b[43m \u001b[49m\u001b[43mx\u001b[49m\u001b[38;5;241;43m=\u001b[39;49m\u001b[38;5;241;43m6\u001b[39;49m\u001b[43m)\u001b[49m\n",
      "\u001b[0;31mTypeError\u001b[0m: f() got multiple values for argument 'x'"
     ]
    }
   ],
   "source": [
    "def f(einopstring, **kwargs):\n",
    "    print(x, kwargs)\n",
    "\n",
    "f(3, a=4, b=5, x=6)"
   ]
  },
  {
   "cell_type": "code",
   "execution_count": null,
   "id": "7c5ece87-80e4-4c7e-894c-327110c006ad",
   "metadata": {},
   "outputs": [],
   "source": [
    "def outer_add(x, y):\n",
    "    rank_x = len(x.shape)\n",
    "    rank_y = len(y.shape)\n",
    "    x = repeat(x, '... -> ... ' + ' '.join(['1'] * rank_y)"
   ]
  },
  {
   "cell_type": "code",
   "execution_count": 45,
   "id": "a77f55c5-501b-46a6-ad54-2d6c55c69ae3",
   "metadata": {},
   "outputs": [],
   "source": [
    "zero = np.zeros(())\n",
    "\n",
    "def log(zs, branches=zero):\n",
    "    \n",
    "    return np.log(complex(z)) + branch * np.pi * 2j"
   ]
  },
  {
   "cell_type": "code",
   "execution_count": 37,
   "id": "575e7c9b-66d7-4cbb-a9db-54b7e8628b5b",
   "metadata": {},
   "outputs": [
    {
     "ename": "ValueError",
     "evalue": "operands could not be broadcast together with shapes (3,5,8) (2,4) ",
     "output_type": "error",
     "traceback": [
      "\u001b[0;31m---------------------------------------------------------------------------\u001b[0m",
      "\u001b[0;31mValueError\u001b[0m                                Traceback (most recent call last)",
      "Cell \u001b[0;32mIn[37], line 1\u001b[0m\n\u001b[0;32m----> 1\u001b[0m \u001b[43mnp\u001b[49m\u001b[38;5;241;43m.\u001b[39;49m\u001b[43mrandom\u001b[49m\u001b[38;5;241;43m.\u001b[39;49m\u001b[43mrandn\u001b[49m\u001b[43m(\u001b[49m\u001b[38;5;241;43m3\u001b[39;49m\u001b[43m,\u001b[49m\u001b[38;5;241;43m5\u001b[39;49m\u001b[43m,\u001b[49m\u001b[38;5;241;43m8\u001b[39;49m\u001b[43m)\u001b[49m\u001b[43m \u001b[49m\u001b[38;5;241;43m+\u001b[39;49m\u001b[43m \u001b[49m\u001b[43mnp\u001b[49m\u001b[38;5;241;43m.\u001b[39;49m\u001b[43mzeros\u001b[49m\u001b[43m(\u001b[49m\u001b[43m(\u001b[49m\u001b[38;5;241;43m2\u001b[39;49m\u001b[43m,\u001b[49m\u001b[38;5;241;43m4\u001b[39;49m\u001b[43m)\u001b[49m\u001b[43m)\u001b[49m\n",
      "\u001b[0;31mValueError\u001b[0m: operands could not be broadcast together with shapes (3,5,8) (2,4) "
     ]
    }
   ],
   "source": [
    "np.random.randn(3,5,8) + np.zeros((2,4))"
   ]
  },
  {
   "cell_type": "code",
   "execution_count": 20,
   "id": "0f5cc41b-90b9-4885-ac13-d38c0199b9cb",
   "metadata": {},
   "outputs": [
    {
     "data": {
      "text/plain": [
       "-6.283185307179586j"
      ]
     },
     "execution_count": 20,
     "metadata": {},
     "output_type": "execute_result"
    }
   ],
   "source": [
    "log(1, -1)"
   ]
  },
  {
   "cell_type": "code",
   "execution_count": null,
   "id": "11ab700f-7394-429c-a2c0-c86c2be41165",
   "metadata": {},
   "outputs": [],
   "source": []
  }
 ],
 "metadata": {
  "kernelspec": {
   "display_name": "Python 3 (ipykernel)",
   "language": "python",
   "name": "python3"
  },
  "language_info": {
   "codemirror_mode": {
    "name": "ipython",
    "version": 3
   },
   "file_extension": ".py",
   "mimetype": "text/x-python",
   "name": "python",
   "nbconvert_exporter": "python",
   "pygments_lexer": "ipython3",
   "version": "3.11.8"
  }
 },
 "nbformat": 4,
 "nbformat_minor": 5
}
