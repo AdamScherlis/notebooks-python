{
 "cells": [
  {
   "cell_type": "code",
   "execution_count": null,
   "id": "7e0cfff9",
   "metadata": {},
   "outputs": [],
   "source": [
    "# 2023-02\n",
    "# a problem from A.G.M.P\n",
    "# demonstrating that two distributions involving a pair of coins differ"
   ]
  },
  {
   "cell_type": "code",
   "execution_count": 1,
   "id": "5f4bcb62",
   "metadata": {},
   "outputs": [],
   "source": [
    "import numpy as np"
   ]
  },
  {
   "cell_type": "code",
   "execution_count": 95,
   "id": "837e9a9a",
   "metadata": {},
   "outputs": [],
   "source": [
    "N = 100"
   ]
  },
  {
   "cell_type": "code",
   "execution_count": 102,
   "id": "1683715f",
   "metadata": {},
   "outputs": [],
   "source": [
    "cdf = np.sort(np.random.rand(N+1))\n",
    "cdf[0] = 0.\n",
    "cdf[-1] = 1.\n",
    "pdf = np.diff(cdf)"
   ]
  },
  {
   "cell_type": "code",
   "execution_count": 103,
   "id": "30e114a6",
   "metadata": {},
   "outputs": [],
   "source": [
    "cdf = np.sort(np.random.rand(N+1))\n",
    "cdf[0] = 0.\n",
    "cdf[-1] = 1.\n",
    "qdf = np.diff(cdf)"
   ]
  },
  {
   "cell_type": "code",
   "execution_count": 104,
   "id": "bc4f8cc7",
   "metadata": {},
   "outputs": [],
   "source": [
    "coinprob = 0.\n",
    "for i in range(N):\n",
    "    coinprob += 0.5 * (qdf[i] if qdf[i]>=pdf[i] else pdf[i])"
   ]
  },
  {
   "cell_type": "code",
   "execution_count": 105,
   "id": "b6987bf7",
   "metadata": {},
   "outputs": [],
   "source": [
    "pairprob = 0.\n",
    "for i in range(N):\n",
    "    for j in range(N):\n",
    "        if pdf[i]*qdf[j] > pdf[j]*qdf[i]:\n",
    "            pairprob += pdf[i]*qdf[j]\n",
    "        if pdf[i]*qdf[j] == pdf[j]*qdf[i]:\n",
    "            pairprob += 0.5 * pdf[i]*qdf[j]"
   ]
  },
  {
   "cell_type": "code",
   "execution_count": 106,
   "id": "7fa2da16",
   "metadata": {},
   "outputs": [
    {
     "data": {
      "text/plain": [
       "0.7630502574291603"
      ]
     },
     "execution_count": 106,
     "metadata": {},
     "output_type": "execute_result"
    }
   ],
   "source": [
    "coinprob"
   ]
  },
  {
   "cell_type": "code",
   "execution_count": 107,
   "id": "9a0a1937",
   "metadata": {},
   "outputs": [
    {
     "data": {
      "text/plain": [
       "0.8439689150452087"
      ]
     },
     "execution_count": 107,
     "metadata": {},
     "output_type": "execute_result"
    }
   ],
   "source": [
    "pairprob"
   ]
  },
  {
   "cell_type": "code",
   "execution_count": null,
   "id": "3889b8db",
   "metadata": {},
   "outputs": [],
   "source": []
  }
 ],
 "metadata": {
  "kernelspec": {
   "display_name": "Python 3 (ipykernel)",
   "language": "python",
   "name": "python3"
  },
  "language_info": {
   "codemirror_mode": {
    "name": "ipython",
    "version": 3
   },
   "file_extension": ".py",
   "mimetype": "text/x-python",
   "name": "python",
   "nbconvert_exporter": "python",
   "pygments_lexer": "ipython3",
   "version": "3.11.1"
  }
 },
 "nbformat": 4,
 "nbformat_minor": 5
}
