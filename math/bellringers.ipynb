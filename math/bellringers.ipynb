{
 "cells": [
  {
   "cell_type": "code",
   "execution_count": 3,
   "id": "62900a36-5b60-4f30-b5c2-87f2a86b9bcb",
   "metadata": {},
   "outputs": [],
   "source": [
    "# 2024-03\n",
    "# AGMP bellringers puzzle"
   ]
  },
  {
   "cell_type": "code",
   "execution_count": 12,
   "id": "286dde1c-ed85-4be5-bc37-016161000d3c",
   "metadata": {},
   "outputs": [],
   "source": [
    "from collections import defaultdict\n",
    "import numpy as np"
   ]
  },
  {
   "cell_type": "code",
   "execution_count": 5,
   "id": "ee8f9669-bd94-4561-a0b4-d76e2a8e391d",
   "metadata": {},
   "outputs": [],
   "source": [
    "N = 2450"
   ]
  },
  {
   "cell_type": "code",
   "execution_count": 26,
   "id": "ef314e60-ec89-44e9-9c06-af9992f8b476",
   "metadata": {},
   "outputs": [],
   "source": [
    "def divisors(n):\n",
    "    return [k for k in range(1, n+1) if n % k == 0]"
   ]
  },
  {
   "cell_type": "code",
   "execution_count": 62,
   "id": "6dc9180c-53b1-4b54-bbdb-0249158288cd",
   "metadata": {},
   "outputs": [
    {
     "data": {
      "text/plain": [
       "108"
      ]
     },
     "execution_count": 62,
     "metadata": {},
     "output_type": "execute_result"
    }
   ],
   "source": [
    "triples = []\n",
    "for a in divisors(N):\n",
    "    for b in divisors(N//a):\n",
    "        c = N//a//b\n",
    "        triples.append((a,b,c))\n",
    "len(triples)"
   ]
  },
  {
   "cell_type": "code",
   "execution_count": 63,
   "id": "8f76314e-269e-4d3d-917f-42fafeb68927",
   "metadata": {},
   "outputs": [
    {
     "data": {
      "text/plain": [
       "20"
      ]
     },
     "execution_count": 63,
     "metadata": {},
     "output_type": "execute_result"
    }
   ],
   "source": [
    "len(set([tuple(sorted(x)) for x in triples]))"
   ]
  },
  {
   "cell_type": "code",
   "execution_count": 64,
   "id": "e90f2e36-38ae-483b-8354-e30126c401c8",
   "metadata": {},
   "outputs": [],
   "source": [
    "def low_divisors(n, min=1):\n",
    "    return [k for k in range(min, int(np.sqrt(n))+1) if n % k == 0]"
   ]
  },
  {
   "cell_type": "code",
   "execution_count": 65,
   "id": "76540686-de4e-4c33-8675-4ba3e9da374c",
   "metadata": {},
   "outputs": [],
   "source": [
    "triples = defaultdict(lambda: [])\n",
    "for a in low_divisors(N):\n",
    "    for b in low_divisors(N//a, a):\n",
    "        c = N//a//b\n",
    "        triples[a+b+c].append((a,b,c))"
   ]
  },
  {
   "cell_type": "code",
   "execution_count": 66,
   "id": "9c81528b-27aa-4370-8d85-56ea3154a87f",
   "metadata": {},
   "outputs": [
    {
     "data": {
      "text/plain": [
       "defaultdict(<function __main__.<lambda>()>,\n",
       "            {2452: [(1, 1, 2450)],\n",
       "             1228: [(1, 2, 1225)],\n",
       "             496: [(1, 5, 490)],\n",
       "             358: [(1, 7, 350)],\n",
       "             256: [(1, 10, 245)],\n",
       "             190: [(1, 14, 175)],\n",
       "             124: [(1, 25, 98)],\n",
       "             106: [(1, 35, 70)],\n",
       "             100: [(1, 49, 50)],\n",
       "             252: [(2, 5, 245)],\n",
       "             184: [(2, 7, 175)],\n",
       "             76: [(2, 25, 49)],\n",
       "             72: [(2, 35, 35)],\n",
       "             108: [(5, 5, 98)],\n",
       "             82: [(5, 7, 70)],\n",
       "             64: [(5, 10, 49), (7, 7, 50)],\n",
       "             54: [(5, 14, 35)],\n",
       "             52: [(7, 10, 35)],\n",
       "             46: [(7, 14, 25)]})"
      ]
     },
     "execution_count": 66,
     "metadata": {},
     "output_type": "execute_result"
    }
   ],
   "source": [
    "triples"
   ]
  },
  {
   "cell_type": "code",
   "execution_count": 67,
   "id": "9dcce075-9fb7-4b8b-ab4a-87832db23c91",
   "metadata": {},
   "outputs": [
    {
     "data": {
      "text/plain": [
       "[1, 2, 5, 7, 10, 14, 25, 35, 49, 50, 70, 98, 175, 245, 350, 490, 1225, 2450]"
      ]
     },
     "execution_count": 67,
     "metadata": {},
     "output_type": "execute_result"
    }
   ],
   "source": [
    "divisors(N)"
   ]
  },
  {
   "cell_type": "code",
   "execution_count": null,
   "id": "def8d6b1-3c52-4230-906d-7cf37b91ad03",
   "metadata": {},
   "outputs": [],
   "source": []
  }
 ],
 "metadata": {
  "kernelspec": {
   "display_name": "Python 3 (ipykernel)",
   "language": "python",
   "name": "python3"
  },
  "language_info": {
   "codemirror_mode": {
    "name": "ipython",
    "version": 3
   },
   "file_extension": ".py",
   "mimetype": "text/x-python",
   "name": "python",
   "nbconvert_exporter": "python",
   "pygments_lexer": "ipython3",
   "version": "3.11.8"
  }
 },
 "nbformat": 4,
 "nbformat_minor": 5
}
