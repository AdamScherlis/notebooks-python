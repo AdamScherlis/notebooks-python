{
 "cells": [
  {
   "cell_type": "markdown",
   "id": "037fd678-cb61-4d96-92c4-cf4b02a5149a",
   "metadata": {},
   "source": [
    "2024-11-28\n",
    "\n",
    "# Perfect squared square candidates with max 43"
   ]
  },
  {
   "cell_type": "code",
   "execution_count": 1,
   "id": "9a69e5b6-45e8-42bc-afe3-72c902310602",
   "metadata": {},
   "outputs": [],
   "source": [
    "import numpy as np"
   ]
  },
  {
   "cell_type": "code",
   "execution_count": 22,
   "id": "19f96681-0cce-4728-9609-b1776b49818e",
   "metadata": {},
   "outputs": [],
   "source": [
    "def int_sqrt(n):\n",
    "    if n == 0:\n",
    "        return 0\n",
    "    s = int(np.sqrt(n+1))\n",
    "    return s if s*s == n else -1"
   ]
  },
  {
   "cell_type": "code",
   "execution_count": 35,
   "id": "50782fc9-10bc-4732-bcda-a1036e6b7845",
   "metadata": {},
   "outputs": [],
   "source": [
    "def all_squares(pieces, max_holes, max_filled=-1):\n",
    "    s = int_sqrt(sum(np.array(pieces)**2))\n",
    "    if s > -1:\n",
    "        return {tuple(pieces): s}\n",
    "    if max_holes == 0:\n",
    "        return {}\n",
    "    sets = {}\n",
    "    for piece in pieces:\n",
    "        if piece > max_filled:\n",
    "            new_pieces = [p for p in pieces if p != piece]\n",
    "            sets |= all_squares(new_pieces, max_holes-1, piece)\n",
    "    return sets"
   ]
  },
  {
   "cell_type": "code",
   "execution_count": 36,
   "id": "1b825e12-f2c4-4f81-a8ad-ede04294b84c",
   "metadata": {},
   "outputs": [],
   "source": [
    "res = (all_squares(list(range(1,44)), 5))"
   ]
  },
  {
   "cell_type": "code",
   "execution_count": 37,
   "id": "0966d451-2a76-40b4-8a5c-f9bf56b253f8",
   "metadata": {},
   "outputs": [
    {
     "data": {
      "text/plain": [
       "3305"
      ]
     },
     "execution_count": 37,
     "metadata": {},
     "output_type": "execute_result"
    }
   ],
   "source": [
    "len(res)"
   ]
  },
  {
   "cell_type": "code",
   "execution_count": 31,
   "id": "55ed820c-76b8-479d-9cb0-0b87d64e6c5a",
   "metadata": {},
   "outputs": [
    {
     "name": "stdout",
     "output_type": "stream",
     "text": [
      "(3, 5, 6, 8, 9, 10, 11, 12, 13, 14, 15, 16, 17, 18, 19, 20, 21, 22, 23, 24, 25, 26, 27, 28, 29, 30, 31, 32, 33, 34, 35, 36, 37, 38, 39, 40, 41, 43) 160\n"
     ]
    }
   ],
   "source": [
    "k = list(res.keys())[0]\n",
    "print(k, res[k])"
   ]
  },
  {
   "cell_type": "code",
   "execution_count": 43,
   "id": "6ff56976-4bd1-4da4-91f2-e5dd59a2f121",
   "metadata": {},
   "outputs": [
    {
     "data": {
      "text/plain": [
       "{142,\n",
       " 143,\n",
       " 144,\n",
       " 145,\n",
       " 146,\n",
       " 147,\n",
       " 148,\n",
       " 149,\n",
       " 150,\n",
       " 151,\n",
       " 152,\n",
       " 153,\n",
       " 154,\n",
       " 155,\n",
       " 156,\n",
       " 157,\n",
       " 158,\n",
       " 159,\n",
       " 160,\n",
       " 161,\n",
       " 162,\n",
       " 163,\n",
       " 164,\n",
       " 165}"
      ]
     },
     "execution_count": 43,
     "metadata": {},
     "output_type": "execute_result"
    }
   ],
   "source": [
    "set(res.values())"
   ]
  },
  {
   "cell_type": "code",
   "execution_count": 46,
   "id": "74308fb5-0c09-486a-9e72-4e1db263d445",
   "metadata": {},
   "outputs": [
    {
     "data": {
      "text/plain": [
       "41"
      ]
     },
     "execution_count": 46,
     "metadata": {},
     "output_type": "execute_result"
    }
   ],
   "source": [
    "max([len(k) for k in res.keys()])"
   ]
  }
 ],
 "metadata": {
  "kernelspec": {
   "display_name": "Python 3 (ipykernel)",
   "language": "python",
   "name": "python3"
  },
  "language_info": {
   "codemirror_mode": {
    "name": "ipython",
    "version": 3
   },
   "file_extension": ".py",
   "mimetype": "text/x-python",
   "name": "python",
   "nbconvert_exporter": "python",
   "pygments_lexer": "ipython3",
   "version": "3.12.7"
  }
 },
 "nbformat": 4,
 "nbformat_minor": 5
}
