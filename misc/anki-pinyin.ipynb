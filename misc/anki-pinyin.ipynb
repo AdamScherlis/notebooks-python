{
 "cells": [
  {
   "cell_type": "code",
   "execution_count": null,
   "id": "0409d4b2-530f-4378-9da9-1c1916be2c69",
   "metadata": {},
   "outputs": [],
   "source": [
    "# 2024-01\n",
    "# Anki cards for learning Pinyin"
   ]
  },
  {
   "cell_type": "code",
   "execution_count": 1,
   "id": "db114929-bcc5-4366-91b2-e9f9db0c1fd7",
   "metadata": {},
   "outputs": [],
   "source": [
    "pairs = '''b\t[p]\n",
    "p\t[pʰ]\n",
    "m\t[m]\n",
    "f\t[f]\n",
    "d\t[t]\n",
    "t\t[tʰ]\n",
    "n\t[n]\n",
    "z\t[ts]\n",
    "c\t[tsʰ]\n",
    "s\t[s]\n",
    "l\t[l]\n",
    "zh\t[ʈʂ]\n",
    "ch\t[ʈʂʰ]\n",
    "sh\t[ʂ]\n",
    "r\t[ɻ]~[ʐ]\n",
    "j\t[tɕ]\n",
    "q\t[tɕʰ]\n",
    "x\t[ɕ]\n",
    "g\t[k]\n",
    "k\t[kʰ]\n",
    "h\t[x]\n",
    "y\t[j], [ɥ]\n",
    "w\t[w]'''"
   ]
  },
  {
   "cell_type": "code",
   "execution_count": 7,
   "id": "84719806-e533-4e1a-bfc8-8f966600a114",
   "metadata": {},
   "outputs": [
    {
     "name": "stdout",
     "output_type": "stream",
     "text": [
      "Pinyin ⟨b⟩ to IPA\t[p]\n",
      "IPA [p] to Pinyin\t⟨b⟩\n",
      "Pinyin ⟨p⟩ to IPA\t[pʰ]\n",
      "IPA [pʰ] to Pinyin\t⟨p⟩\n",
      "Pinyin ⟨m⟩ to IPA\t[m]\n",
      "IPA [m] to Pinyin\t⟨m⟩\n",
      "Pinyin ⟨f⟩ to IPA\t[f]\n",
      "IPA [f] to Pinyin\t⟨f⟩\n",
      "Pinyin ⟨d⟩ to IPA\t[t]\n",
      "IPA [t] to Pinyin\t⟨d⟩\n",
      "Pinyin ⟨t⟩ to IPA\t[tʰ]\n",
      "IPA [tʰ] to Pinyin\t⟨t⟩\n",
      "Pinyin ⟨n⟩ to IPA\t[n]\n",
      "IPA [n] to Pinyin\t⟨n⟩\n",
      "Pinyin ⟨z⟩ to IPA\t[ts]\n",
      "IPA [ts] to Pinyin\t⟨z⟩\n",
      "Pinyin ⟨c⟩ to IPA\t[tsʰ]\n",
      "IPA [tsʰ] to Pinyin\t⟨c⟩\n",
      "Pinyin ⟨s⟩ to IPA\t[s]\n",
      "IPA [s] to Pinyin\t⟨s⟩\n",
      "Pinyin ⟨l⟩ to IPA\t[l]\n",
      "IPA [l] to Pinyin\t⟨l⟩\n",
      "Pinyin ⟨zh⟩ to IPA\t[ʈʂ]\n",
      "IPA [ʈʂ] to Pinyin\t⟨zh⟩\n",
      "Pinyin ⟨ch⟩ to IPA\t[ʈʂʰ]\n",
      "IPA [ʈʂʰ] to Pinyin\t⟨ch⟩\n",
      "Pinyin ⟨sh⟩ to IPA\t[ʂ]\n",
      "IPA [ʂ] to Pinyin\t⟨sh⟩\n",
      "Pinyin ⟨r⟩ to IPA\t[ɻ]~[ʐ]\n",
      "IPA [ɻ]~[ʐ] to Pinyin\t⟨r⟩\n",
      "Pinyin ⟨j⟩ to IPA\t[tɕ]\n",
      "IPA [tɕ] to Pinyin\t⟨j⟩\n",
      "Pinyin ⟨q⟩ to IPA\t[tɕʰ]\n",
      "IPA [tɕʰ] to Pinyin\t⟨q⟩\n",
      "Pinyin ⟨x⟩ to IPA\t[ɕ]\n",
      "IPA [ɕ] to Pinyin\t⟨x⟩\n",
      "Pinyin ⟨g⟩ to IPA\t[k]\n",
      "IPA [k] to Pinyin\t⟨g⟩\n",
      "Pinyin ⟨k⟩ to IPA\t[kʰ]\n",
      "IPA [kʰ] to Pinyin\t⟨k⟩\n",
      "Pinyin ⟨h⟩ to IPA\t[x]\n",
      "IPA [x] to Pinyin\t⟨h⟩\n",
      "Pinyin ⟨y⟩ to IPA\t[j], [ɥ]\n",
      "IPA [j], [ɥ] to Pinyin\t⟨y⟩\n",
      "Pinyin ⟨w⟩ to IPA\t[w]\n",
      "IPA [w] to Pinyin\t⟨w⟩\n"
     ]
    }
   ],
   "source": [
    "for p in pairs.split('\\n'):\n",
    "    pin,ipa = p.split('\\t')\n",
    "    print(f'Pinyin ⟨{pin}⟩ to IPA\\t{ipa}')\n",
    "    print(f'IPA {ipa} to Pinyin\\t⟨{pin}⟩')"
   ]
  },
  {
   "cell_type": "code",
   "execution_count": null,
   "id": "1fde7fba-878a-43ac-b47e-af52d6cb7461",
   "metadata": {},
   "outputs": [],
   "source": []
  }
 ],
 "metadata": {
  "kernelspec": {
   "display_name": "Python 3 (ipykernel)",
   "language": "python",
   "name": "python3"
  },
  "language_info": {
   "codemirror_mode": {
    "name": "ipython",
    "version": 3
   },
   "file_extension": ".py",
   "mimetype": "text/x-python",
   "name": "python",
   "nbconvert_exporter": "python",
   "pygments_lexer": "ipython3",
   "version": "3.11.8"
  }
 },
 "nbformat": 4,
 "nbformat_minor": 5
}
