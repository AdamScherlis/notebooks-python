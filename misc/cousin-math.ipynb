{
 "cells": [
  {
   "cell_type": "code",
   "execution_count": 3,
   "id": "182c926b",
   "metadata": {},
   "outputs": [],
   "source": [
    "# 2023-12\n",
    "# counting first cousins"
   ]
  },
  {
   "cell_type": "code",
   "execution_count": 48,
   "id": "743f9db8",
   "metadata": {},
   "outputs": [],
   "source": [
    "import numpy.random as rand\n",
    "import numpy as np\n",
    "import matplotlib.pyplot as plt"
   ]
  },
  {
   "cell_type": "code",
   "execution_count": 85,
   "id": "e7d46658",
   "metadata": {},
   "outputs": [
    {
     "name": "stdout",
     "output_type": "stream",
     "text": [
      "1 0\n",
      "2 4\n",
      "2.5 7.5\n",
      "3 12\n",
      "4 24\n",
      "5 40\n",
      "6 60\n"
     ]
    }
   ],
   "source": [
    "for n in [1, 2, 2.5, 3, 4, 5, 6]:\n",
    "    print(n, 2*(n-1)*n)"
   ]
  },
  {
   "cell_type": "code",
   "execution_count": 45,
   "id": "f4c9112d",
   "metadata": {},
   "outputs": [],
   "source": [
    "def sample_flat(p_dist):\n",
    "    vals, probs = np.array([*p_dist.items()]).T\n",
    "    return int(rand.choice(vals, p=probs))\n",
    "\n",
    "def sample_weight(p_dist):\n",
    "    vals, probs = np.array([(k, k*v) for k,v in p_dist.items()]).T\n",
    "    probs = probs / np.sum(probs)\n",
    "    return int(rand.choice(vals, p=probs))"
   ]
  },
  {
   "cell_type": "code",
   "execution_count": 86,
   "id": "0cec5dbe",
   "metadata": {},
   "outputs": [],
   "source": [
    "p_dist = {k:.2 for k in [0,1,2,3,4]}\n",
    "\n",
    "cuzzes = []\n",
    "\n",
    "for _ in range(10_000):\n",
    "    cuz = 0\n",
    "    nuncs_M = sample_weight(p_dist) - 1\n",
    "    nuncs_F = sample_weight(p_dist) - 1\n",
    "    for nunc in range(nuncs_M + nuncs_F):\n",
    "        cuz += sample_flat(p_dist)\n",
    "    \n",
    "    cuzzes.append(cuz)"
   ]
  },
  {
   "cell_type": "code",
   "execution_count": 87,
   "id": "d4f81a9f",
   "metadata": {},
   "outputs": [
    {
     "data": {
      "image/png": "[encoded data removed]",
      "text/plain": [
       "<Figure size 640x480 with 1 Axes>"
      ]
     },
     "metadata": {},
     "output_type": "display_data"
    }
   ],
   "source": [
    "plt.hist(cuzzes, bins=range(25))\n",
    "plt.show()"
   ]
  },
  {
   "cell_type": "code",
   "execution_count": 78,
   "id": "e059213b",
   "metadata": {},
   "outputs": [
    {
     "data": {
      "text/plain": [
       "16.0629"
      ]
     },
     "execution_count": 78,
     "metadata": {},
     "output_type": "execute_result"
    }
   ],
   "source": [
    "np.mean(cuzzes)"
   ]
  }
 ],
 "metadata": {
  "kernelspec": {
   "display_name": "Python 3 (ipykernel)",
   "language": "python",
   "name": "python3"
  },
  "language_info": {
   "codemirror_mode": {
    "name": "ipython",
    "version": 3
   },
   "file_extension": ".py",
   "mimetype": "text/x-python",
   "name": "python",
   "nbconvert_exporter": "python",
   "pygments_lexer": "ipython3",
   "version": "3.11.1"
  }
 },
 "nbformat": 4,
 "nbformat_minor": 5
}
