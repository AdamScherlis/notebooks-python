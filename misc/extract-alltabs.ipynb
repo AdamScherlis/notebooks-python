{
 "cells": [
  {
   "cell_type": "code",
   "execution_count": null,
   "id": "34e9577a",
   "metadata": {},
   "outputs": [],
   "source": [
    "# 2023-02\n",
    "# for a blog post"
   ]
  },
  {
   "cell_type": "code",
   "execution_count": 56,
   "id": "ea345fda",
   "metadata": {},
   "outputs": [],
   "source": [
    "import re\n",
    "\n",
    "# Put the actual path to the input file here:\n",
    "INPUT_FILE = '/home/blah/blah/my_better_tabs_file'\n",
    "# Put the desired path to the output file here:\n",
    "OUTPUT_FILE = '/home/blah/blah/phone_tabs_list.html'\n",
    "\n",
    "with open(TABSFILE) as f:\n",
    "    lines = f.readlines()\n",
    "\n",
    "prefix = \"\"\"<!DOCTYPE html>\n",
    "<html lang=\"en\">\n",
    "  <head>\n",
    "    <meta charset=\"utf-8\">\n",
    "    <title>My Phone Tabs</title>\n",
    "  </head>\n",
    "  <body>\"\"\"\n",
    "outlines = [prefix]\n",
    "\n",
    "for line in lines:\n",
    "    name_match = re.match(r'<div class=\"name\">(.*)</div>\\n', line)\n",
    "    url_match = re.match(r'<div class=\"url\">(.*)</div></div>\\n', line)\n",
    "    if name_match:\n",
    "        name = name_match.group(1)\n",
    "        outlines.append(f'<br/><br/><b>{name}</b>\\n')\n",
    "    elif url_match:\n",
    "        url = url_match.group(1)\n",
    "        outlines.append(f'<br/><a href=\"{url}\">{url}</a>\\n')\n",
    "    elif 'class=\"name\"' in line or 'class=\"url\"' in line:\n",
    "        raise ValueError(f'Could not parse line:\\n{line}')\n",
    "\n",
    "suffix = \"\"\"  </body>\n",
    "</html>\"\"\"\n",
    "outlines.append(suffix)\n",
    "\n",
    "with open(OUTPUT_FILE, 'w') as f:\n",
    "     f.writelines(outlines)"
   ]
  }
 ],
 "metadata": {
  "kernelspec": {
   "display_name": "Python 3 (ipykernel)",
   "language": "python",
   "name": "python3"
  },
  "language_info": {
   "codemirror_mode": {
    "name": "ipython",
    "version": 3
   },
   "file_extension": ".py",
   "mimetype": "text/x-python",
   "name": "python",
   "nbconvert_exporter": "python",
   "pygments_lexer": "ipython3",
   "version": "3.11.1"
  }
 },
 "nbformat": 4,
 "nbformat_minor": 5
}
