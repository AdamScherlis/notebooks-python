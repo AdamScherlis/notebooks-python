{
 "cells": [
  {
   "cell_type": "code",
   "execution_count": null,
   "id": "a65a3b9e",
   "metadata": {},
   "outputs": [],
   "source": [
    "# 2022-08\n",
    "# maximize worst-case profits from Neopets Food Club\n",
    "# (fake-money gambling on Neopets eating contests)\n",
    "\n",
    "# interesting constraints: <=10 bets on joint outcomes,\n",
    "# with a slowly-increasing cap on money wagered on each bet\n",
    "# \"odds\" seem to be inverse probabilities, not true odds\n",
    "# i.e. 2:1 \"odds\" is 50% implied probability\n",
    "\n",
    "# note that this is very risk-averse: it maximizes\n",
    "# worst-case outcome, which is more cautious than just\n",
    "# maximizing EV for worst-case probability distribution\n",
    "# (because of the mix of single and double bets)\n",
    "# this is mostly bc it was easier to code this version\n",
    "\n",
    "# the alpha-maximizing strategy is approximately\n",
    "# to bet everything on the most likely outcome\n",
    "# because the bookie gives even odds on the favorite\n",
    "# (and otherwise rounds odds off in the house's favor)\n",
    "# this still generally has a >25% chance of winning\n",
    "# so it's well below Kelly threshold (given my neopoint bankroll)"
   ]
  },
  {
   "cell_type": "code",
   "execution_count": 94,
   "id": "8f49a25d",
   "metadata": {},
   "outputs": [],
   "source": [
    "# wager amounts and profits for mutually-exclusive outcomes\n",
    "\n",
    "def getbets(odds, mult=1):\n",
    "    probs = [1/x for x in odds]\n",
    "    bets = [mult * x/max(probs) for x in probs]\n",
    "    return bets\n",
    "\n",
    "def profit(odds):\n",
    "    bets = getbets(odds)\n",
    "    cost = sum(bets)\n",
    "    win = odds[0] * bets[0]\n",
    "    return win - cost"
   ]
  },
  {
   "cell_type": "code",
   "execution_count": 54,
   "id": "e4198857",
   "metadata": {},
   "outputs": [],
   "source": [
    "# convert 2 events w/ 4 outcomes each to 10 mutually-exclusive bets\n",
    "# by betting on 2 single outcomes from one event and all other pairs\n",
    "\n",
    "def profit_10(odds1, odds2, solo_i, mult=1):\n",
    "    # do 2 solo in odds1, plus 8 combinations of the rest\n",
    "    \n",
    "    solo = [odds1[i] for i in solo_i]\n",
    "    notsolo = [odds1[i] for i in range(len(odds1)) if i not in solo_i]\n",
    "    odds = [x * y for x in notsolo for y in odds2] + [x for x in solo]\n",
    "    return getbets(odds, mult), profit(odds)\n",
    "\n",
    "def max_profit_10_dir(odds1, odds2, mult=1):\n",
    "    # find best two to do solo for odds1\n",
    "    \n",
    "    maxprof = -1000\n",
    "    best = None\n",
    "    for i in range(len(odds1)):\n",
    "        for j in range(i):\n",
    "            bets, prof = profit_10(odds1, odds2, [j, i], mult)\n",
    "            if prof > maxprof:\n",
    "                maxprof = prof\n",
    "                best = [j, i], bets\n",
    "                \n",
    "    return maxprof, best\n",
    "\n",
    "def max_profit_10(odds1, odds2, mult=1):\n",
    "    # try both ways\n",
    "    \n",
    "    maxprof1, best1 = max_profit_10_dir(odds1, odds2, mult)\n",
    "    maxprof2, best2 = max_profit_10_dir(odds2, odds1, mult)\n",
    "    \n",
    "    if maxprof1 > maxprof2:\n",
    "        return 0, maxprof1, best1\n",
    "    else:\n",
    "        return 1, maxprof2, best2"
   ]
  },
  {
   "cell_type": "code",
   "execution_count": 95,
   "id": "452c45e6",
   "metadata": {},
   "outputs": [
    {
     "data": {
      "text/plain": [
       "[0.5384615384615383,\n",
       " 0.4065934065934065,\n",
       " -0.3500000000000001,\n",
       " 0.4017094017094016,\n",
       " -0.24848484848484853]"
      ]
     },
     "execution_count": 95,
     "metadata": {},
     "output_type": "execute_result"
    }
   ],
   "source": [
    "allodds = [\n",
    "    [13, 13, 2, 13],\n",
    "    [13, 13, 7, 2],\n",
    "    [3, 5, 3, 4],\n",
    "    [9, 9, 13, 2],\n",
    "    [5, 3, 11, 2]]\n",
    "[profit(x) for x in allodds]"
   ]
  },
  {
   "cell_type": "code",
   "execution_count": 101,
   "id": "5be721bf",
   "metadata": {},
   "outputs": [
    {
     "data": {
      "text/plain": [
       "[(0, 1, 1.5460693153000848),\n",
       " (0, 2, 1.2115384615384617),\n",
       " (1, 2, 0.8159340659340666),\n",
       " (0, 3, 1.5404339250493102),\n",
       " (1, 3, 1.3296703296703303),\n",
       " (2, 3, 0.8012820512820511),\n",
       " (0, 4, 0.7902097902097909),\n",
       " (1, 4, 0.5264735264735272),\n",
       " (2, 4, -0.3163636363636364),\n",
       " (3, 4, 0.5167055167055166)]"
      ]
     },
     "execution_count": 101,
     "metadata": {},
     "output_type": "execute_result"
    }
   ],
   "source": [
    "[(j, i, max_profit_10(allodds[i], allodds[j], LIM)[1]) for i in range(5) for j in range(i)]"
   ]
  },
  {
   "cell_type": "code",
   "execution_count": 103,
   "id": "5af307fb",
   "metadata": {},
   "outputs": [
    {
     "data": {
      "text/plain": [
       "([13, 13, 2, 13], [13, 13, 7, 2])"
      ]
     },
     "execution_count": 103,
     "metadata": {},
     "output_type": "execute_result"
    }
   ],
   "source": [
    "LIM = 6068\n",
    "d, maxprof, (solo_i, bets) = max_profit_10(allodds[0], allodds[1], LIM)\n",
    "allodds[0], allodds[1]"
   ]
  },
  {
   "cell_type": "code",
   "execution_count": 93,
   "id": "86552c89",
   "metadata": {},
   "outputs": [
    {
     "name": "stdout",
     "output_type": "stream",
     "text": [
      "9381.548605240914\n",
      "0 [0, 1]\n",
      "14893\n"
     ]
    },
    {
     "data": {
      "text/plain": [
       "[((2, 13), 934),\n",
       " ((2, 13), 934),\n",
       " ((2, 7), 1734),\n",
       " ((2, 2), 6068),\n",
       " ((13, 13), 144),\n",
       " ((13, 13), 144),\n",
       " ((13, 7), 267),\n",
       " ((13, 2), 934),\n",
       " ((13,), 1867),\n",
       " ((13,), 1867)]"
      ]
     },
     "execution_count": 93,
     "metadata": {},
     "output_type": "execute_result"
    }
   ],
   "source": [
    "print(maxprof * LIM)\n",
    "odds1, odds2 = oddses[d], oddses[1-d]\n",
    "\n",
    "solo = [odds1[i] for i in solo_i]\n",
    "notsolo = [odds1[i] for i in range(len(odds1)) \n",
    "           if i not in solo_i]\n",
    "labs = [(x, y) for x in notsolo \n",
    "        for y in odds2] + [(x,) for x in solo]\n",
    "print(d, solo_i)\n",
    "print(sum([int(x+.5) for x in bets]))\n",
    "[*zip(labs, [int(x+.5) for x in bets])]"
   ]
  },
  {
   "cell_type": "code",
   "execution_count": null,
   "id": "770b4110",
   "metadata": {},
   "outputs": [],
   "source": [
    "# solo: Shipwreck: Orvinn, Fairfax\n",
    "# all: Shipwreck: Gooblah, Stuff\n",
    "# all: Lagoon: all"
   ]
  },
  {
   "cell_type": "code",
   "execution_count": 87,
   "id": "368c5ab3",
   "metadata": {},
   "outputs": [
    {
     "data": {
      "text/plain": [
       "9378"
      ]
     },
     "execution_count": 87,
     "metadata": {},
     "output_type": "execute_result"
    }
   ],
   "source": [
    "24271 - 14893"
   ]
  },
  {
   "cell_type": "markdown",
   "id": "56ada39d",
   "metadata": {},
   "source": [
    "```\n",
    "Current Bets\n",
    "Round\tBet Info\tAmount\tOdds\tWinnings\n",
    "8859\tShipwreck: Gooblah the Grarrl\n",
    "Lagoon: Scurvy Dan the Blade\n",
    "6068 NP\t4:1\t24272 NP\n",
    "8859\tShipwreck: Fairfax the Deckhand\n",
    "1867 NP\t13:1\t24271 NP\n",
    "8859\tShipwreck: Orvinn the First Mate\n",
    "1867 NP\t13:1\t24271 NP\n",
    "8859\tShipwreck: Gooblah the Grarrl\n",
    "Lagoon: Young Sproggie\n",
    "1734 NP\t14:1\t24276 NP\n",
    "8859\tShipwreck: Gooblah the Grarrl\n",
    "Lagoon: Puffo the Waister\n",
    "934 NP\t26:1\t24284 NP\n",
    "8859\tShipwreck: Gooblah the Grarrl\n",
    "Lagoon: Captain Crossblades\n",
    "934 NP\t26:1\t24284 NP\n",
    "8859\tShipwreck: Stuff-A-Roo\n",
    "Lagoon: Scurvy Dan the Blade\n",
    "934 NP\t26:1\t24284 NP\n",
    "8859\tShipwreck: Stuff-A-Roo\n",
    "Lagoon: Young Sproggie\n",
    "267 NP\t91:1\t24297 NP\n",
    "8859\tShipwreck: Stuff-A-Roo\n",
    "Lagoon: Captain Crossblades\n",
    "144 NP\t169:1\t24336 NP\n",
    "8859\tShipwreck: Stuff-A-Roo\n",
    "Lagoon: Puffo the Waister\n",
    "144 NP\t169:1\t24336 NP\n",
    "Total Possible Winnings\t242911 NP\n",
    "```"
   ]
  },
  {
   "cell_type": "code",
   "execution_count": null,
   "id": "f99658f1",
   "metadata": {},
   "outputs": [],
   "source": []
  }
 ],
 "metadata": {
  "kernelspec": {
   "display_name": "Python 3 (ipykernel)",
   "language": "python",
   "name": "python3"
  },
  "language_info": {
   "codemirror_mode": {
    "name": "ipython",
    "version": 3
   },
   "file_extension": ".py",
   "mimetype": "text/x-python",
   "name": "python",
   "nbconvert_exporter": "python",
   "pygments_lexer": "ipython3",
   "version": "3.11.1"
  }
 },
 "nbformat": 4,
 "nbformat_minor": 5
}
