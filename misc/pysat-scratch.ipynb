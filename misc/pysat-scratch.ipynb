{
 "cells": [
  {
   "cell_type": "code",
   "execution_count": null,
   "id": "79bdf61e",
   "metadata": {},
   "outputs": [],
   "source": [
    "# 2023-01\n",
    "# learning to use pySAT"
   ]
  },
  {
   "cell_type": "code",
   "execution_count": 9,
   "id": "fa716f61",
   "metadata": {
    "scrolled": true
   },
   "outputs": [
    {
     "name": "stdout",
     "output_type": "stream",
     "text": [
      "\u001b[22;0t\u001b]0;IPython: projects/ipy\u0007Defaulting to user installation because normal site-packages is not writeable\n",
      "Collecting python-sat[aiger,pblib]\n",
      "  Using cached python-sat-0.1.7.dev21.tar.gz (3.6 MB)\n",
      "  Preparing metadata (setup.py) ... \u001b[?25ldone\n",
      "\u001b[?25hRequirement already satisfied: six in /home/adam/.local/lib/python3.11/site-packages (from python-sat[aiger,pblib]) (1.16.0)\n",
      "Collecting py-aiger-cnf>=2.0.0\n",
      "  Downloading py_aiger_cnf-5.0.7-py3-none-any.whl (5.1 kB)\n",
      "Collecting pypblib>=0.0.3\n",
      "  Downloading pypblib-0.0.4.tar.gz (74 kB)\n",
      "\u001b[2K     \u001b[38;2;114;156;31m━━━━━━━━━━━━━━━━━━━━━━━━━━━━━━━━━━━━━━━━\u001b[0m \u001b[32m74.0/74.0 kB\u001b[0m \u001b[31m1.2 MB/s\u001b[0m eta \u001b[36m0:00:00\u001b[0m MB/s\u001b[0m eta \u001b[36m0:00:01\u001b[0m\n",
      "\u001b[?25h  Preparing metadata (setup.py) ... \u001b[?25ldone\n",
      "\u001b[?25hCollecting bidict<0.23.0,>=0.22.0\n",
      "  Downloading bidict-0.22.1-py3-none-any.whl (35 kB)\n",
      "Collecting funcy<2.0,>=1.12\n",
      "  Downloading funcy-1.17-py2.py3-none-any.whl (33 kB)\n",
      "Collecting py-aiger<7.0.0,>=6.0.0\n",
      "  Downloading py_aiger-6.1.26-py3-none-any.whl (18 kB)\n",
      "Requirement already satisfied: attrs<23,>=22 in /home/adam/.local/lib/python3.11/site-packages (from py-aiger<7.0.0,>=6.0.0->py-aiger-cnf>=2.0.0->python-sat[aiger,pblib]) (22.2.0)\n",
      "Requirement already satisfied: pyrsistent<0.20.0,>=0.19.0 in /home/adam/.local/lib/python3.11/site-packages (from py-aiger<7.0.0,>=6.0.0->py-aiger-cnf>=2.0.0->python-sat[aiger,pblib]) (0.19.3)\n",
      "Collecting sortedcontainers<3.0.0,>=2.3.0\n",
      "  Using cached sortedcontainers-2.4.0-py2.py3-none-any.whl (29 kB)\n",
      "Collecting toposort<2.0,>=1.5\n",
      "  Downloading toposort-1.7-py2.py3-none-any.whl (9.0 kB)\n",
      "Building wheels for collected packages: pypblib, python-sat\n",
      "  Building wheel for pypblib (setup.py) ... \u001b[?25ldone\n",
      "\u001b[?25h  Created wheel for pypblib: filename=pypblib-0.0.4-cp311-cp311-linux_x86_64.whl size=2750536 sha256=26996aab9d6ce59e32123f6965950cac0d6e621a0151ba36cef4c0e293ec8384\n",
      "  Stored in directory: /home/adam/.cache/pip/wheels/9d/ad/56/091dc62f15d397b409394370434b2d48ccd502d86dde64af39\n",
      "  Building wheel for python-sat (setup.py) ... \u001b[?25ldone\n",
      "\u001b[?25h  Created wheel for python-sat: filename=python_sat-0.1.7.dev21-cp311-cp311-linux_x86_64.whl size=1580639 sha256=26510124741bbbdc75e2e8cbe5b25c70106a58f34ccd1ae0415fa919a5bd47af\n",
      "  Stored in directory: /home/adam/.cache/pip/wheels/a9/6e/9f/979f333dcbef0450c31bf4596ac638ce316006dc454ae0fdf8\n",
      "Successfully built pypblib python-sat\n",
      "Installing collected packages: toposort, sortedcontainers, pypblib, funcy, python-sat, bidict, py-aiger, py-aiger-cnf\n",
      "Successfully installed bidict-0.22.1 funcy-1.17 py-aiger-6.1.26 py-aiger-cnf-5.0.7 pypblib-0.0.4 python-sat-0.1.7.dev21 sortedcontainers-2.4.0 toposort-1.7\n",
      "\u001b[23;0t"
     ]
    }
   ],
   "source": [
    "!ipython -m pip install python-sat[pblib,aiger]"
   ]
  },
  {
   "cell_type": "code",
   "execution_count": 10,
   "id": "bb5cb7f2",
   "metadata": {},
   "outputs": [
    {
     "name": "stdout",
     "output_type": "stream",
     "text": [
      "formula is satisfiable\n",
      "and the model is: [-1, -2]\n",
      "formula is unsatisfiable assuming x1 and x2\n",
      "and the unsatisfiable core is: [1]\n"
     ]
    }
   ],
   "source": [
    "\n",
    "# the standard way to import PySAT:\n",
    "from pysat.formula import CNF\n",
    "from pysat.solvers import Solver\n",
    "\n",
    "# create a satisfiable CNF formula \"(-x1 ∨ x2) ∧ (-x1 ∨ -x2)\":\n",
    "cnf = CNF(from_clauses=[[-1, 2], [-1, -2]])\n",
    "\n",
    "# create a SAT solver for this formula:\n",
    "with Solver(bootstrap_with=cnf) as solver:\n",
    "    # 1.1 call the solver for this formula:\n",
    "    print('formula is', f'{\"s\" if solver.solve() else \"uns\"}atisfiable')\n",
    "\n",
    "    # 1.2 the formula is satisfiable and so has a model:\n",
    "    print('and the model is:', solver.get_model())\n",
    "\n",
    "    # 2.1 apply the MiniSat-like assumption interface:\n",
    "    print('formula is',\n",
    "        f'{\"s\" if solver.solve(assumptions=[1, 2]) else \"uns\"}atisfiable',\n",
    "        'assuming x1 and x2')\n",
    "\n",
    "    # 2.2 the formula is unsatisfiable,\n",
    "    # i.e. an unsatisfiable core can be extracted:\n",
    "    print('and the unsatisfiable core is:', solver.get_core())"
   ]
  },
  {
   "cell_type": "code",
   "execution_count": null,
   "id": "9a674a38",
   "metadata": {},
   "outputs": [],
   "source": []
  }
 ],
 "metadata": {
  "kernelspec": {
   "display_name": "Python 3 (ipykernel)",
   "language": "python",
   "name": "python3"
  },
  "language_info": {
   "codemirror_mode": {
    "name": "ipython",
    "version": 3
   },
   "file_extension": ".py",
   "mimetype": "text/x-python",
   "name": "python",
   "nbconvert_exporter": "python",
   "pygments_lexer": "ipython3",
   "version": "3.11.1"
  }
 },
 "nbformat": 4,
 "nbformat_minor": 5
}
