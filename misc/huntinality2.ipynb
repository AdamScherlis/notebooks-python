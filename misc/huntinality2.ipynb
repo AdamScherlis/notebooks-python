{
 "cells": [
  {
   "cell_type": "code",
   "execution_count": 7,
   "metadata": {},
   "outputs": [],
   "source": [
    "lines = \"\"\"In this theological text by C.S. Lewis, which is considered a classic in the field of apologetics, he investigates the religious nature of NEOPET and introduces a famous trilemma asking whether someone is a lunatic, liar, or lord. (6 12)\n",
    "In this e.e. cummings poem, the sun moon stars rain over a village occupied by a single NEOPET (which is specified in the title). (5 3 5 2 1 6 3 4)\n",
    "This David Foster Wallace novel set partially at a tennis academy takes its title from a Hamlet line about endless NEOPET. (8 6)\n",
    "This landmark memoir by Richard Wright tells of the upbringing of a dark NEOPET in the South and his support of the Communist Party later on in life. (5 3)\n",
    "This Laura Numeroff children's classic ponders a hypothetical scenario in which one hands a cute little rodent a NEOPET. (2 3 4 1 5 1 4)\n",
    "In this absurdist Samuel Beckett play, Vladimir and Estragon are constantly expecting a NEOPET who never shows up. (7 3 6)\n",
    "This somewhat surreal Haruki Murakami novel has a title inspired by the image of a renowned Czech author riding a NEOPET. (5 2 3 6)\n",
    "In this Theodore Dreiser novel, a young avian NEOPET moves to Chicago in pursuit of the American Dream. (6 5)\n",
    "In this Dan Brown thriller, Robert Langdon must crack a cipher invented by a NEOPET polymath. (3 2 5 4)\n",
    "In this Maya Angelou autobiography, you can bet that the NEOPET in the title understands the imprisoned avian's song. (5 5 3 3 5 4 5)\"\"\""
   ]
  },
  {
   "cell_type": "code",
   "execution_count": 9,
   "metadata": {},
   "outputs": [
    {
     "name": "stdout",
     "output_type": "stream",
     "text": [
      "In this theological text by C.S. Lewis, which is considered a classic in the field of apologetics, he investigates the religious nature of NEOPET and introduces a famous trilemma asking whether someone is a lunatic, liar, or lord. \t6 12)\n",
      "In this e.e. cummings poem, the sun moon stars rain over a village occupied by a single NEOPET \twhich is specified in the title). \t5 3 5 2 1 6 3 4)\n",
      "This David Foster Wallace novel set partially at a tennis academy takes its title from a Hamlet line about endless NEOPET. \t8 6)\n",
      "This landmark memoir by Richard Wright tells of the upbringing of a dark NEOPET in the South and his support of the Communist Party later on in life. \t5 3)\n",
      "This Laura Numeroff children's classic ponders a hypothetical scenario in which one hands a cute little rodent a NEOPET. \t2 3 4 1 5 1 4)\n",
      "In this absurdist Samuel Beckett play, Vladimir and Estragon are constantly expecting a NEOPET who never shows up. \t7 3 6)\n",
      "This somewhat surreal Haruki Murakami novel has a title inspired by the image of a renowned Czech author riding a NEOPET. \t5 2 3 6)\n",
      "In this Theodore Dreiser novel, a young avian NEOPET moves to Chicago in pursuit of the American Dream. \t6 5)\n",
      "In this Dan Brown thriller, Robert Langdon must crack a cipher invented by a NEOPET polymath. \t3 2 5 4)\n",
      "In this Maya Angelou autobiography, you can bet that the NEOPET in the title understands the imprisoned avian's song. \t5 5 3 3 5 4 5)\n"
     ]
    }
   ],
   "source": [
    "print(lines.replace('(','\\t'))"
   ]
  },
  {
   "cell_type": "code",
   "execution_count": null,
   "metadata": {},
   "outputs": [],
   "source": []
  }
 ],
 "metadata": {
  "kernelspec": {
   "display_name": "Python 3",
   "language": "python",
   "name": "python3"
  },
  "language_info": {
   "codemirror_mode": {
    "name": "ipython",
    "version": 3
   },
   "file_extension": ".py",
   "mimetype": "text/x-python",
   "name": "python",
   "nbconvert_exporter": "python",
   "pygments_lexer": "ipython3",
   "version": "3.6.9"
  }
 },
 "nbformat": 4,
 "nbformat_minor": 4
}
