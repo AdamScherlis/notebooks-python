{
 "cells": [
  {
   "cell_type": "code",
   "execution_count": null,
   "metadata": {},
   "outputs": [],
   "source": [
    "# 2022-07\n",
    "# sometimes you just need to go write a quine"
   ]
  },
  {
   "cell_type": "code",
   "execution_count": 44,
   "metadata": {},
   "outputs": [
    {
     "name": "stdout",
     "output_type": "stream",
     "text": [
      "def q(s):\n",
      "    print(s+s.replace('\\\\','\\\\\\\\').replace('\\n','\\\\n').replace('\\'','\\\\\\'')+'\\'n\\nq(s)')\n",
      "\n",
      "s = 'def q(s):\\n    print(s+s.replace(\\'\\\\\\\\\\',\\'\\\\\\\\\\\\\\\\\\').replace(\\'\\\\n\\',\\'\\\\\\\\n\\').replace(\\'\\\\\\'\\',\\'\\\\\\\\\\\\\\'\\')+\\'\\\\\\'n\\\\nq(s)\\')\\n\\ns = \\''\n",
      "\n",
      "q(s)\n"
     ]
    }
   ],
   "source": [
    "def q(s):\n",
    "    print(s+s.replace('\\\\','\\\\\\\\').replace('\\n','\\\\n').replace('\\'','\\\\\\'')+'\\'\\n\\nq(s)')\n",
    "    \n",
    "s = 'def q(s):\\n    print(s+s.replace(\\'\\\\\\\\\\',\\'\\\\\\\\\\\\\\\\\\').replace(\\'\\\\n\\',\\'\\\\\\\\n\\').replace(\\'\\\\\\'\\',\\'\\\\\\\\\\\\\\'\\')+\\'\\\\\\'n\\\\nq(s)\\')\\n\\ns = \\''\n",
    "\n",
    "q(s)"
   ]
  },
  {
   "cell_type": "code",
   "execution_count": 43,
   "metadata": {},
   "outputs": [
    {
     "name": "stdout",
     "output_type": "stream",
     "text": [
      "s = '\\ndef quote(s):\\n    return \\'\\\\\\'\\'+s.replace(\\'\\\\\\\\\\',\\'\\\\\\\\\\\\\\\\\\').replace(\\'\\\\n\\',\\'\\\\\\\\\\\\n\\').replace(\\'\\\\\\'\\',\\'\\\\\\\\\\\\\\'\\')+\\'\\\\\\'\\'\\n\\ndef quine(s):\\n    print(\\'s = \\'+quote(s))\\n    print(s)\\n\\nquine(s)'\n",
      "\n",
      "def quote(s):\n",
      "    return '\\''+s.replace('\\\\','\\\\\\\\').replace('\\n','\\\\\\n').replace('\\'','\\\\\\'')+'\\''\n",
      "\n",
      "def quine(s):\n",
      "    print('s = '+quote(s))\n",
      "    print(s)\n",
      "\n",
      "quine(s)\n"
     ]
    }
   ],
   "source": [
    "s = '\\ndef quote(s):\\n    return \\'\\\\\\'\\'+s.replace(\\'\\\\\\\\\\',\\'\\\\\\\\\\\\\\\\\\').replace(\\'\\\\n\\',\\'\\\\\\\\\\\\n\\').replace(\\'\\\\\\'\\',\\'\\\\\\\\\\\\\\'\\')+\\'\\\\\\'\\'\\n\\ndef quine(s):\\n    print(\\'s = \\'+quote(s))\\n    print(s)\\n\\nquine(s)'\n",
    "    \n",
    "def quote(s):\n",
    "    return '\\''+s.replace('\\\\','\\\\\\\\').replace('\\n','\\\\n').replace('\\'','\\\\\\'')+'\\''\n",
    "\n",
    "def quine(s):\n",
    "    print('s = '+quote(s))\n",
    "    print(s)\n",
    "\n",
    "quine(s)"
   ]
  }
 ],
 "metadata": {
  "kernelspec": {
   "display_name": "Python 3 (ipykernel)",
   "language": "python",
   "name": "python3"
  },
  "language_info": {
   "codemirror_mode": {
    "name": "ipython",
    "version": 3
   },
   "file_extension": ".py",
   "mimetype": "text/x-python",
   "name": "python",
   "nbconvert_exporter": "python",
   "pygments_lexer": "ipython3",
   "version": "3.11.1"
  }
 },
 "nbformat": 4,
 "nbformat_minor": 4
}
