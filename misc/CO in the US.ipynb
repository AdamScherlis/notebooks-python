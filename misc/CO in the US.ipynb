{
 "cells": [
  {
   "cell_type": "code",
   "execution_count": null,
   "metadata": {},
   "outputs": [],
   "source": [
    "# 2022-05\n",
    "# ???\n",
    "# Trying to make an elaborate joke, presumably"
   ]
  },
  {
   "cell_type": "code",
   "execution_count": 1,
   "metadata": {},
   "outputs": [],
   "source": [
    "import re\n"
   ]
  },
  {
   "cell_type": "code",
   "execution_count": 5,
   "metadata": {},
   "outputs": [
    {
     "name": "stdout",
     "output_type": "stream",
     "text": [
      "en/articles/c/a/p/Capital_punishment_in_the_united_states.html\n",
      "\n",
      "en/articles/c/e/n/Censorship_in_the_united_states.html\n",
      "\n",
      "en/articles/c/h/i/Child_labor_laws_in_the_united_states.html\n",
      "\n",
      "en/articles/c/i/t/Cities_in_the_united_states.html\n",
      "\n",
      "en/articles/c/o/n/Conscription_in_the_united_states.html\n",
      "\n",
      "en/articles/c/r/i/Crime_in_the_united_states.html\n",
      "\n"
     ]
    }
   ],
   "source": [
    "with open(\"/home/adam/Downloads/html-en.lst\") as file:\n",
    "    for line in file:\n",
    "        search = re.search(r'^.*/C.*_in_the_united_states\\.html$', line)\n",
    "        if search:\n",
    "            print(line)"
   ]
  },
  {
   "cell_type": "code",
   "execution_count": 6,
   "metadata": {},
   "outputs": [
    {
     "name": "stdout",
     "output_type": "stream",
     "text": [
      "en/articles/c/a/p/Capital_punishment_in_the_united_states.html\n",
      "\n",
      "en/articles/c/e/n/Censorship_in_the_united_states.html\n",
      "\n",
      "en/articles/c/h/i/Chief_justice_of_the_united_states.html\n",
      "\n",
      "en/articles/c/h/i/Child_labor_laws_in_the_united_states.html\n",
      "\n",
      "en/articles/c/i/n/Cinema_of_the_united_states.html\n",
      "\n",
      "en/articles/c/i/t/Cities_in_the_united_states.html\n",
      "\n",
      "en/articles/c/o/l/Color_association_of_the_united_states.html\n",
      "\n",
      "en/articles/c/o/n/Constitution_of_the_united_states.html\n",
      "\n",
      "en/articles/c/o/n/Congress_of_the_united_states.html\n",
      "\n",
      "en/articles/c/o/n/Conscription_in_the_united_states.html\n",
      "\n",
      "en/articles/c/r/i/Crime_in_the_united_states.html\n",
      "\n",
      "en/articles/c/u/i/Cuisine_of_the_united_states.html\n",
      "\n"
     ]
    }
   ],
   "source": [
    "with open(\"/home/adam/Downloads/html-en.lst\") as file:\n",
    "    for line in file:\n",
    "        search = re.search(r'^.*/C.*_the_united_states\\.html$', line)\n",
    "        if search:\n",
    "            print(line)"
   ]
  },
  {
   "cell_type": "code",
   "execution_count": null,
   "metadata": {},
   "outputs": [],
   "source": []
  }
 ],
 "metadata": {
  "kernelspec": {
   "display_name": "Python 3 (ipykernel)",
   "language": "python",
   "name": "python3"
  },
  "language_info": {
   "codemirror_mode": {
    "name": "ipython",
    "version": 3
   },
   "file_extension": ".py",
   "mimetype": "text/x-python",
   "name": "python",
   "nbconvert_exporter": "python",
   "pygments_lexer": "ipython3",
   "version": "3.11.1"
  }
 },
 "nbformat": 4,
 "nbformat_minor": 4
}
