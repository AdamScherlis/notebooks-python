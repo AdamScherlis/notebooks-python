{
 "cells": [
  {
   "cell_type": "code",
   "execution_count": null,
   "id": "fc4f1fce",
   "metadata": {},
   "outputs": [],
   "source": [
    "# 2023-05\n",
    "# Dragon fractal \"puzzle piece\" design\n",
    "# for laser cutter"
   ]
  },
  {
   "cell_type": "code",
   "execution_count": 1,
   "id": "5b87213d",
   "metadata": {},
   "outputs": [],
   "source": [
    "import numpy as np\n",
    "from matplotlib import pyplot as plt"
   ]
  },
  {
   "cell_type": "code",
   "execution_count": 7,
   "id": "313ef2a8",
   "metadata": {},
   "outputs": [],
   "source": [
    "def doublepath(path):\n",
    "    return path + [1] + [-x for x in reversed(path)]"
   ]
  },
  {
   "cell_type": "code",
   "execution_count": 72,
   "id": "9dbe1b3e",
   "metadata": {},
   "outputs": [
    {
     "name": "stdout",
     "output_type": "stream",
     "text": [
      "[1]\n",
      "[1, 1, -1]\n",
      "[1, 1, -1, 1, 1, -1, -1]\n",
      "[1, 1, -1, 1, 1, -1, -1, 1, 1, 1, -1, -1, 1, -1, -1]\n"
     ]
    }
   ],
   "source": [
    "path = []\n",
    "for _ in range(4):\n",
    "    path = doublepath(path)\n",
    "    print(path)"
   ]
  },
  {
   "cell_type": "code",
   "execution_count": 43,
   "id": "f78be17f",
   "metadata": {},
   "outputs": [],
   "source": [
    "grid = np.zeros([20, 20])\n",
    "\n",
    "pos = np.array([10.5, 10.5])\n",
    "\n",
    "bearing = 0\n",
    "\n",
    "def rot90(vec):\n",
    "    return np.array([-vec[1], vec[0]])\n",
    "\n",
    "def fwd(pos, bearing, grid):\n",
    "    vecs = [[1, 0], [0, 1], [-1, 0], [0, -1]] # easier than arithmetic\n",
    "    pos += np.array(vecs[bearing % 4])\n",
    "    grid[tuple(pos)] += 1\n",
    "\n",
    "grid[tuple(pos)] = 1\n",
    "fwd(pos, bearing, grid)\n",
    "for rot in path:\n",
    "    bearing += rot\n",
    "    fwd(pos, bearing, grid)"
   ]
  },
  {
   "cell_type": "code",
   "execution_count": 62,
   "id": "4c6450d5",
   "metadata": {},
   "outputs": [],
   "source": [
    "grid = np.zeros([20, 20])\n",
    "\n",
    "# doubled\n",
    "pos = np.array([21, 21])\n",
    "\n",
    "bearing = 0\n",
    "\n",
    "def rot90(vec):\n",
    "    return np.array([-vec[1], vec[0]])\n",
    "\n",
    "def fwd(pos, bearing, grid):\n",
    "    vec = np.array([2, 0])\n",
    "    for _ in range(bearing % 4):\n",
    "        vec = rot90(vec)\n",
    "    mid = pos + vec // 2\n",
    "    side = rot90(vec) // 2\n",
    "    grid[tuple((mid + side)//2)] += 1\n",
    "    grid[tuple((mid - side)//2)] += 1\n",
    "    pos += vec\n",
    "\n",
    "fwd(pos, bearing, grid)\n",
    "for rot in path:\n",
    "    bearing += rot\n",
    "    fwd(pos, bearing, grid)"
   ]
  },
  {
   "cell_type": "code",
   "execution_count": 63,
   "id": "bde5f67c",
   "metadata": {},
   "outputs": [
    {
     "name": "stdout",
     "output_type": "stream",
     "text": [
      "5\n",
      "12\n",
      "5\n",
      "13\n"
     ]
    }
   ],
   "source": [
    "print(min([i for i in range(grid.shape[0]) if np.sum(grid[i, :])>0]))\n",
    "print(max([i for i in range(grid.shape[0]) if np.sum(grid[i, :])>0]))\n",
    "print(min([i for i in range(grid.shape[1]) if np.sum(grid[:, i])>0]))\n",
    "print(max([i for i in range(grid.shape[1]) if np.sum(grid[:, i])>0]))"
   ]
  },
  {
   "cell_type": "code",
   "execution_count": 65,
   "id": "1ad36a12",
   "metadata": {},
   "outputs": [
    {
     "data": {
      "text/plain": [
       "<matplotlib.image.AxesImage at 0x7f3f3942b390>"
      ]
     },
     "execution_count": 65,
     "metadata": {},
     "output_type": "execute_result"
    },
    {
     "data": {
      "image/png": "[encoded data removed]",
      "text/plain": [
       "<Figure size 640x480 with 1 Axes>"
      ]
     },
     "metadata": {},
     "output_type": "display_data"
    }
   ],
   "source": [
    "plt.imshow(grid[5-1:12+2, 5-1:13+2])"
   ]
  },
  {
   "cell_type": "code",
   "execution_count": 67,
   "id": "cef3e7ec",
   "metadata": {},
   "outputs": [
    {
     "data": {
      "text/plain": [
       "<matplotlib.image.AxesImage at 0x7f3f391b7e50>"
      ]
     },
     "execution_count": 67,
     "metadata": {},
     "output_type": "execute_result"
    },
    {
     "data": {
      "image/png": "[encoded data removed]",
      "text/plain": [
       "<Figure size 640x480 with 1 Axes>"
      ]
     },
     "metadata": {},
     "output_type": "display_data"
    }
   ],
   "source": [
    "plt.imshow((grid[5-1:12+2, 5-1:13+2]-1) // 2)"
   ]
  },
  {
   "cell_type": "code",
   "execution_count": null,
   "id": "4b7ab554",
   "metadata": {},
   "outputs": [],
   "source": [
    "# COOL SHIT STARTS HERE"
   ]
  },
  {
   "cell_type": "code",
   "execution_count": 271,
   "id": "3bc3c285",
   "metadata": {},
   "outputs": [],
   "source": [
    "path = []\n",
    "size = 6\n",
    "for _ in range(size):\n",
    "    path = doublepath(path)\n",
    "    #print(path)"
   ]
  },
  {
   "cell_type": "code",
   "execution_count": 272,
   "id": "737a85dc",
   "metadata": {},
   "outputs": [
    {
     "name": "stdout",
     "output_type": "stream",
     "text": [
      "[65 65]\n"
     ]
    }
   ],
   "source": [
    "grid = np.zeros([2**(size//2+3), 2**(size//2+3)])\n",
    "\n",
    "# doubled\n",
    "pos = np.array([2**(size//2+3)+1, 2**(size//2+3)+1])\n",
    "print(pos)\n",
    "bearing = 0\n",
    "\n",
    "def rot90(vec):\n",
    "    return np.array([-vec[1], vec[0]])\n",
    "\n",
    "def fwd(pos, bearing, grid):\n",
    "    vec = np.array([2, 2])\n",
    "    for _ in range(bearing % 4):\n",
    "        vec = rot90(vec)\n",
    "    mid = pos + vec // 2\n",
    "    grid[tuple(mid//2)] += 1\n",
    "    pos += vec\n",
    "\n",
    "fwd(pos, bearing, grid)\n",
    "for rot in path:\n",
    "    bearing += rot\n",
    "    fwd(pos, bearing, grid)"
   ]
  },
  {
   "cell_type": "code",
   "execution_count": 273,
   "id": "6eb6d9ea",
   "metadata": {},
   "outputs": [],
   "source": [
    "minx = (min([i for i in range(grid.shape[0]) if np.sum(grid[i, :])>0]))\n",
    "maxx = (max([i for i in range(grid.shape[0]) if np.sum(grid[i, :])>0]))\n",
    "miny = (min([i for i in range(grid.shape[1]) if np.sum(grid[:, i])>0]))\n",
    "maxy = (max([i for i in range(grid.shape[1]) if np.sum(grid[:, i])>0]))"
   ]
  },
  {
   "cell_type": "code",
   "execution_count": 274,
   "id": "ac3bacf1",
   "metadata": {},
   "outputs": [
    {
     "data": {
      "text/plain": [
       "<matplotlib.image.AxesImage at 0x7f3f3736cc50>"
      ]
     },
     "execution_count": 274,
     "metadata": {},
     "output_type": "execute_result"
    },
    {
     "data": {
      "image/png": "[encoded data removed]",
      "text/plain": [
       "<Figure size 640x480 with 1 Axes>"
      ]
     },
     "metadata": {},
     "output_type": "display_data"
    }
   ],
   "source": [
    "plt.imshow(grid)"
   ]
  },
  {
   "cell_type": "code",
   "execution_count": 275,
   "id": "a5ba2f93",
   "metadata": {
    "scrolled": true
   },
   "outputs": [
    {
     "data": {
      "text/plain": [
       "<matplotlib.image.AxesImage at 0x7f3f36b409d0>"
      ]
     },
     "execution_count": 275,
     "metadata": {},
     "output_type": "execute_result"
    },
    {
     "data": {
      "image/png": "[encoded data removed]",
      "text/plain": [
       "<Figure size 640x480 with 1 Axes>"
      ]
     },
     "metadata": {},
     "output_type": "display_data"
    }
   ],
   "source": [
    "plt.imshow(grid[minx-1:maxx+2, miny-1:maxy+2])"
   ]
  },
  {
   "cell_type": "code",
   "execution_count": 276,
   "id": "6b1a4c17",
   "metadata": {},
   "outputs": [],
   "source": [
    "linestr = ''\n",
    "\n",
    "for x in range(minx-1, maxx+2):\n",
    "    for y in range(miny-1, maxy+2):\n",
    "        if grid[x, y] != grid[x+1, y]:\n",
    "            linestr += f'<line stroke=\"black\" x1=\"{x+.5}\" y1=\"{y-.5}\" x2=\"{x+.5}\" y2=\"{y+.5}\" />\\n'\n",
    "        if grid[x, y] != grid[x, y+1]:\n",
    "            linestr += f'<line stroke=\"black\" x1=\"{x-.5}\" y1=\"{y+.5}\" x2=\"{x+.5}\" y2=\"{y+.5}\" />\\n'    "
   ]
  },
  {
   "cell_type": "code",
   "execution_count": 277,
   "id": "329d5fb5",
   "metadata": {},
   "outputs": [],
   "source": [
    "linesvg = f\"\"\"\\\n",
    "<svg width=\"100\" height=\"100\" viewBox=\"{minx-1} {miny-1} {maxx-minx+2} {maxy-miny+2}\">\n",
    "{linestr}</svg>\"\"\""
   ]
  },
  {
   "cell_type": "code",
   "execution_count": 120,
   "id": "bb10f19b",
   "metadata": {},
   "outputs": [],
   "source": [
    " viewbox=\"{minx-1} {miny-1} {maxx-minx+2} {maxy-miny+2}\""
   ]
  },
  {
   "cell_type": "code",
   "execution_count": 133,
   "id": "43feb776",
   "metadata": {},
   "outputs": [
    {
     "data": {
      "image/svg+xml": [
       "<svg width=\"100\" height=\"100\" viewBox=\"251 246 27 32\">\n",
       "<line stroke=\"black\" x1=\"251.5\" y1=\"250.5\" x2=\"251.5\" y2=\"251.5\"/>\n",
       "<line stroke=\"black\" x1=\"251.5\" y1=\"251.5\" x2=\"251.5\" y2=\"252.5\"/>\n",
       "<line stroke=\"black\" x1=\"251.5\" y1=\"254.5\" x2=\"251.5\" y2=\"255.5\"/>\n",
       "<line stroke=\"black\" x1=\"251.5\" y1=\"255.5\" x2=\"251.5\" y2=\"256.5\"/>\n",
       "<line stroke=\"black\" x1=\"251.5\" y1=\"250.5\" x2=\"252.5\" y2=\"250.5\"/>\n",
       "<line stroke=\"black\" x1=\"251.5\" y1=\"252.5\" x2=\"252.5\" y2=\"252.5\"/>\n",
       "<line stroke=\"black\" x1=\"251.5\" y1=\"254.5\" x2=\"252.5\" y2=\"254.5\"/>\n",
       "<line stroke=\"black\" x1=\"251.5\" y1=\"256.5\" x2=\"252.5\" y2=\"256.5\"/>\n",
       "<line stroke=\"black\" x1=\"252.5\" y1=\"250.5\" x2=\"253.5\" y2=\"250.5\"/>\n",
       "<line stroke=\"black\" x1=\"252.5\" y1=\"252.5\" x2=\"253.5\" y2=\"252.5\"/>\n",
       "<line stroke=\"black\" x1=\"253.5\" y1=\"252.5\" x2=\"253.5\" y2=\"253.5\"/>\n",
       "<line stroke=\"black\" x1=\"253.5\" y1=\"253.5\" x2=\"253.5\" y2=\"254.5\"/>\n",
       "<line stroke=\"black\" x1=\"252.5\" y1=\"254.5\" x2=\"253.5\" y2=\"254.5\"/>\n",
       "<line stroke=\"black\" x1=\"252.5\" y1=\"256.5\" x2=\"253.5\" y2=\"256.5\"/>\n",
       "<line stroke=\"black\" x1=\"253.5\" y1=\"256.5\" x2=\"253.5\" y2=\"257.5\"/>\n",
       "<line stroke=\"black\" x1=\"253.5\" y1=\"257.5\" x2=\"253.5\" y2=\"258.5\"/>\n",
       "<line stroke=\"black\" x1=\"253.5\" y1=\"250.5\" x2=\"254.5\" y2=\"250.5\"/>\n",
       "<line stroke=\"black\" x1=\"254.5\" y1=\"253.5\" x2=\"254.5\" y2=\"254.5\"/>\n",
       "<line stroke=\"black\" x1=\"254.5\" y1=\"254.5\" x2=\"254.5\" y2=\"255.5\"/>\n",
       "<line stroke=\"black\" x1=\"254.5\" y1=\"255.5\" x2=\"254.5\" y2=\"256.5\"/>\n",
       "<line stroke=\"black\" x1=\"254.5\" y1=\"256.5\" x2=\"254.5\" y2=\"257.5\"/>\n",
       "<line stroke=\"black\" x1=\"253.5\" y1=\"258.5\" x2=\"254.5\" y2=\"258.5\"/>\n",
       "<line stroke=\"black\" x1=\"255.5\" y1=\"246.5\" x2=\"255.5\" y2=\"247.5\"/>\n",
       "<line stroke=\"black\" x1=\"255.5\" y1=\"247.5\" x2=\"255.5\" y2=\"248.5\"/>\n",
       "<line stroke=\"black\" x1=\"254.5\" y1=\"250.5\" x2=\"255.5\" y2=\"250.5\"/>\n",
       "<line stroke=\"black\" x1=\"254.5\" y1=\"253.5\" x2=\"255.5\" y2=\"253.5\"/>\n",
       "<line stroke=\"black\" x1=\"254.5\" y1=\"257.5\" x2=\"255.5\" y2=\"257.5\"/>\n",
       "<line stroke=\"black\" x1=\"254.5\" y1=\"258.5\" x2=\"255.5\" y2=\"258.5\"/>\n",
       "<line stroke=\"black\" x1=\"255.5\" y1=\"246.5\" x2=\"256.5\" y2=\"246.5\"/>\n",
       "<line stroke=\"black\" x1=\"255.5\" y1=\"248.5\" x2=\"256.5\" y2=\"248.5\"/>\n",
       "<line stroke=\"black\" x1=\"255.5\" y1=\"250.5\" x2=\"256.5\" y2=\"250.5\"/>\n",
       "<line stroke=\"black\" x1=\"256.5\" y1=\"251.5\" x2=\"256.5\" y2=\"252.5\"/>\n",
       "<line stroke=\"black\" x1=\"256.5\" y1=\"252.5\" x2=\"256.5\" y2=\"253.5\"/>\n",
       "<line stroke=\"black\" x1=\"255.5\" y1=\"253.5\" x2=\"256.5\" y2=\"253.5\"/>\n",
       "<line stroke=\"black\" x1=\"256.5\" y1=\"256.5\" x2=\"256.5\" y2=\"257.5\"/>\n",
       "<line stroke=\"black\" x1=\"255.5\" y1=\"257.5\" x2=\"256.5\" y2=\"257.5\"/>\n",
       "<line stroke=\"black\" x1=\"255.5\" y1=\"258.5\" x2=\"256.5\" y2=\"258.5\"/>\n",
       "<line stroke=\"black\" x1=\"256.5\" y1=\"246.5\" x2=\"257.5\" y2=\"246.5\"/>\n",
       "<line stroke=\"black\" x1=\"256.5\" y1=\"248.5\" x2=\"257.5\" y2=\"248.5\"/>\n",
       "<line stroke=\"black\" x1=\"257.5\" y1=\"248.5\" x2=\"257.5\" y2=\"249.5\"/>\n",
       "<line stroke=\"black\" x1=\"257.5\" y1=\"249.5\" x2=\"257.5\" y2=\"250.5\"/>\n",
       "<line stroke=\"black\" x1=\"256.5\" y1=\"250.5\" x2=\"257.5\" y2=\"250.5\"/>\n",
       "<line stroke=\"black\" x1=\"256.5\" y1=\"251.5\" x2=\"257.5\" y2=\"251.5\"/>\n",
       "<line stroke=\"black\" x1=\"256.5\" y1=\"256.5\" x2=\"257.5\" y2=\"256.5\"/>\n",
       "<line stroke=\"black\" x1=\"257.5\" y1=\"256.5\" x2=\"257.5\" y2=\"257.5\"/>\n",
       "<line stroke=\"black\" x1=\"257.5\" y1=\"257.5\" x2=\"257.5\" y2=\"258.5\"/>\n",
       "<line stroke=\"black\" x1=\"256.5\" y1=\"258.5\" x2=\"257.5\" y2=\"258.5\"/>\n",
       "<line stroke=\"black\" x1=\"257.5\" y1=\"246.5\" x2=\"258.5\" y2=\"246.5\"/>\n",
       "<line stroke=\"black\" x1=\"257.5\" y1=\"251.5\" x2=\"258.5\" y2=\"251.5\"/>\n",
       "<line stroke=\"black\" x1=\"258.5\" y1=\"251.5\" x2=\"258.5\" y2=\"252.5\"/>\n",
       "<line stroke=\"black\" x1=\"258.5\" y1=\"252.5\" x2=\"258.5\" y2=\"253.5\"/>\n",
       "<line stroke=\"black\" x1=\"258.5\" y1=\"246.5\" x2=\"259.5\" y2=\"246.5\"/>\n",
       "<line stroke=\"black\" x1=\"259.5\" y1=\"246.5\" x2=\"259.5\" y2=\"247.5\"/>\n",
       "<line stroke=\"black\" x1=\"259.5\" y1=\"247.5\" x2=\"259.5\" y2=\"248.5\"/>\n",
       "<line stroke=\"black\" x1=\"258.5\" y1=\"253.5\" x2=\"259.5\" y2=\"253.5\"/>\n",
       "<line stroke=\"black\" x1=\"259.5\" y1=\"248.5\" x2=\"260.5\" y2=\"248.5\"/>\n",
       "<line stroke=\"black\" x1=\"260.5\" y1=\"251.5\" x2=\"260.5\" y2=\"252.5\"/>\n",
       "<line stroke=\"black\" x1=\"260.5\" y1=\"252.5\" x2=\"260.5\" y2=\"253.5\"/>\n",
       "<line stroke=\"black\" x1=\"259.5\" y1=\"253.5\" x2=\"260.5\" y2=\"253.5\"/>\n",
       "<line stroke=\"black\" x1=\"260.5\" y1=\"248.5\" x2=\"261.5\" y2=\"248.5\"/>\n",
       "<line stroke=\"black\" x1=\"261.5\" y1=\"248.5\" x2=\"261.5\" y2=\"249.5\"/>\n",
       "<line stroke=\"black\" x1=\"261.5\" y1=\"249.5\" x2=\"261.5\" y2=\"250.5\"/>\n",
       "<line stroke=\"black\" x1=\"260.5\" y1=\"251.5\" x2=\"261.5\" y2=\"251.5\"/>\n",
       "<line stroke=\"black\" x1=\"261.5\" y1=\"250.5\" x2=\"262.5\" y2=\"250.5\"/>\n",
       "<line stroke=\"black\" x1=\"261.5\" y1=\"251.5\" x2=\"262.5\" y2=\"251.5\"/>\n",
       "<line stroke=\"black\" x1=\"262.5\" y1=\"251.5\" x2=\"262.5\" y2=\"252.5\"/>\n",
       "<line stroke=\"black\" x1=\"262.5\" y1=\"252.5\" x2=\"262.5\" y2=\"253.5\"/>\n",
       "<line stroke=\"black\" x1=\"262.5\" y1=\"253.5\" x2=\"262.5\" y2=\"254.5\"/>\n",
       "<line stroke=\"black\" x1=\"262.5\" y1=\"254.5\" x2=\"262.5\" y2=\"255.5\"/>\n",
       "<line stroke=\"black\" x1=\"262.5\" y1=\"255.5\" x2=\"262.5\" y2=\"256.5\"/>\n",
       "<line stroke=\"black\" x1=\"262.5\" y1=\"256.5\" x2=\"262.5\" y2=\"257.5\"/>\n",
       "<line stroke=\"black\" x1=\"262.5\" y1=\"261.5\" x2=\"262.5\" y2=\"262.5\"/>\n",
       "<line stroke=\"black\" x1=\"262.5\" y1=\"262.5\" x2=\"262.5\" y2=\"263.5\"/>\n",
       "<line stroke=\"black\" x1=\"262.5\" y1=\"263.5\" x2=\"262.5\" y2=\"264.5\"/>\n",
       "<line stroke=\"black\" x1=\"262.5\" y1=\"264.5\" x2=\"262.5\" y2=\"265.5\"/>\n",
       "<line stroke=\"black\" x1=\"262.5\" y1=\"269.5\" x2=\"262.5\" y2=\"270.5\"/>\n",
       "<line stroke=\"black\" x1=\"262.5\" y1=\"270.5\" x2=\"262.5\" y2=\"271.5\"/>\n",
       "<line stroke=\"black\" x1=\"262.5\" y1=\"271.5\" x2=\"262.5\" y2=\"272.5\"/>\n",
       "<line stroke=\"black\" x1=\"262.5\" y1=\"272.5\" x2=\"262.5\" y2=\"273.5\"/>\n",
       "<line stroke=\"black\" x1=\"263.5\" y1=\"246.5\" x2=\"263.5\" y2=\"247.5\"/>\n",
       "<line stroke=\"black\" x1=\"263.5\" y1=\"247.5\" x2=\"263.5\" y2=\"248.5\"/>\n",
       "<line stroke=\"black\" x1=\"262.5\" y1=\"250.5\" x2=\"263.5\" y2=\"250.5\"/>\n",
       "<line stroke=\"black\" x1=\"262.5\" y1=\"257.5\" x2=\"263.5\" y2=\"257.5\"/>\n",
       "<line stroke=\"black\" x1=\"262.5\" y1=\"261.5\" x2=\"263.5\" y2=\"261.5\"/>\n",
       "<line stroke=\"black\" x1=\"262.5\" y1=\"265.5\" x2=\"263.5\" y2=\"265.5\"/>\n",
       "<line stroke=\"black\" x1=\"262.5\" y1=\"269.5\" x2=\"263.5\" y2=\"269.5\"/>\n",
       "<line stroke=\"black\" x1=\"262.5\" y1=\"273.5\" x2=\"263.5\" y2=\"273.5\"/>\n",
       "<line stroke=\"black\" x1=\"263.5\" y1=\"246.5\" x2=\"264.5\" y2=\"246.5\"/>\n",
       "<line stroke=\"black\" x1=\"263.5\" y1=\"248.5\" x2=\"264.5\" y2=\"248.5\"/>\n",
       "<line stroke=\"black\" x1=\"263.5\" y1=\"250.5\" x2=\"264.5\" y2=\"250.5\"/>\n",
       "<line stroke=\"black\" x1=\"264.5\" y1=\"255.5\" x2=\"264.5\" y2=\"256.5\"/>\n",
       "<line stroke=\"black\" x1=\"264.5\" y1=\"256.5\" x2=\"264.5\" y2=\"257.5\"/>\n",
       "<line stroke=\"black\" x1=\"263.5\" y1=\"257.5\" x2=\"264.5\" y2=\"257.5\"/>\n",
       "<line stroke=\"black\" x1=\"264.5\" y1=\"259.5\" x2=\"264.5\" y2=\"260.5\"/>\n",
       "<line stroke=\"black\" x1=\"264.5\" y1=\"260.5\" x2=\"264.5\" y2=\"261.5\"/>\n",
       "<line stroke=\"black\" x1=\"263.5\" y1=\"261.5\" x2=\"264.5\" y2=\"261.5\"/>\n",
       "<line stroke=\"black\" x1=\"264.5\" y1=\"263.5\" x2=\"264.5\" y2=\"264.5\"/>\n",
       "<line stroke=\"black\" x1=\"264.5\" y1=\"264.5\" x2=\"264.5\" y2=\"265.5\"/>\n",
       "<line stroke=\"black\" x1=\"263.5\" y1=\"265.5\" x2=\"264.5\" y2=\"265.5\"/>\n",
       "<line stroke=\"black\" x1=\"264.5\" y1=\"267.5\" x2=\"264.5\" y2=\"268.5\"/>\n",
       "<line stroke=\"black\" x1=\"264.5\" y1=\"268.5\" x2=\"264.5\" y2=\"269.5\"/>\n",
       "<line stroke=\"black\" x1=\"263.5\" y1=\"269.5\" x2=\"264.5\" y2=\"269.5\"/>\n",
       "<line stroke=\"black\" x1=\"264.5\" y1=\"271.5\" x2=\"264.5\" y2=\"272.5\"/>\n",
       "<line stroke=\"black\" x1=\"264.5\" y1=\"272.5\" x2=\"264.5\" y2=\"273.5\"/>\n",
       "<line stroke=\"black\" x1=\"263.5\" y1=\"273.5\" x2=\"264.5\" y2=\"273.5\"/>\n",
       "<line stroke=\"black\" x1=\"264.5\" y1=\"246.5\" x2=\"265.5\" y2=\"246.5\"/>\n",
       "<line stroke=\"black\" x1=\"264.5\" y1=\"248.5\" x2=\"265.5\" y2=\"248.5\"/>\n",
       "<line stroke=\"black\" x1=\"265.5\" y1=\"248.5\" x2=\"265.5\" y2=\"249.5\"/>\n",
       "<line stroke=\"black\" x1=\"265.5\" y1=\"249.5\" x2=\"265.5\" y2=\"250.5\"/>\n",
       "<line stroke=\"black\" x1=\"264.5\" y1=\"250.5\" x2=\"265.5\" y2=\"250.5\"/>\n",
       "<line stroke=\"black\" x1=\"264.5\" y1=\"255.5\" x2=\"265.5\" y2=\"255.5\"/>\n",
       "<line stroke=\"black\" x1=\"264.5\" y1=\"259.5\" x2=\"265.5\" y2=\"259.5\"/>\n",
       "<line stroke=\"black\" x1=\"264.5\" y1=\"263.5\" x2=\"265.5\" y2=\"263.5\"/>\n",
       "<line stroke=\"black\" x1=\"264.5\" y1=\"267.5\" x2=\"265.5\" y2=\"267.5\"/>\n",
       "<line stroke=\"black\" x1=\"264.5\" y1=\"271.5\" x2=\"265.5\" y2=\"271.5\"/>\n",
       "<line stroke=\"black\" x1=\"265.5\" y1=\"246.5\" x2=\"266.5\" y2=\"246.5\"/>\n",
       "<line stroke=\"black\" x1=\"265.5\" y1=\"255.5\" x2=\"266.5\" y2=\"255.5\"/>\n",
       "<line stroke=\"black\" x1=\"266.5\" y1=\"255.5\" x2=\"266.5\" y2=\"256.5\"/>\n",
       "<line stroke=\"black\" x1=\"266.5\" y1=\"256.5\" x2=\"266.5\" y2=\"257.5\"/>\n",
       "<line stroke=\"black\" x1=\"266.5\" y1=\"257.5\" x2=\"266.5\" y2=\"258.5\"/>\n",
       "<line stroke=\"black\" x1=\"266.5\" y1=\"258.5\" x2=\"266.5\" y2=\"259.5\"/>\n",
       "<line stroke=\"black\" x1=\"265.5\" y1=\"259.5\" x2=\"266.5\" y2=\"259.5\"/>\n",
       "<line stroke=\"black\" x1=\"265.5\" y1=\"263.5\" x2=\"266.5\" y2=\"263.5\"/>\n",
       "<line stroke=\"black\" x1=\"266.5\" y1=\"263.5\" x2=\"266.5\" y2=\"264.5\"/>\n",
       "<line stroke=\"black\" x1=\"266.5\" y1=\"264.5\" x2=\"266.5\" y2=\"265.5\"/>\n",
       "<line stroke=\"black\" x1=\"266.5\" y1=\"265.5\" x2=\"266.5\" y2=\"266.5\"/>\n",
       "<line stroke=\"black\" x1=\"266.5\" y1=\"266.5\" x2=\"266.5\" y2=\"267.5\"/>\n",
       "<line stroke=\"black\" x1=\"265.5\" y1=\"267.5\" x2=\"266.5\" y2=\"267.5\"/>\n",
       "<line stroke=\"black\" x1=\"265.5\" y1=\"271.5\" x2=\"266.5\" y2=\"271.5\"/>\n",
       "<line stroke=\"black\" x1=\"266.5\" y1=\"271.5\" x2=\"266.5\" y2=\"272.5\"/>\n",
       "<line stroke=\"black\" x1=\"266.5\" y1=\"272.5\" x2=\"266.5\" y2=\"273.5\"/>\n",
       "<line stroke=\"black\" x1=\"266.5\" y1=\"273.5\" x2=\"266.5\" y2=\"274.5\"/>\n",
       "<line stroke=\"black\" x1=\"266.5\" y1=\"274.5\" x2=\"266.5\" y2=\"275.5\"/>\n",
       "<line stroke=\"black\" x1=\"266.5\" y1=\"275.5\" x2=\"266.5\" y2=\"276.5\"/>\n",
       "<line stroke=\"black\" x1=\"266.5\" y1=\"276.5\" x2=\"266.5\" y2=\"277.5\"/>\n",
       "<line stroke=\"black\" x1=\"266.5\" y1=\"246.5\" x2=\"267.5\" y2=\"246.5\"/>\n",
       "<line stroke=\"black\" x1=\"267.5\" y1=\"246.5\" x2=\"267.5\" y2=\"247.5\"/>\n",
       "<line stroke=\"black\" x1=\"267.5\" y1=\"247.5\" x2=\"267.5\" y2=\"248.5\"/>\n",
       "<line stroke=\"black\" x1=\"267.5\" y1=\"250.5\" x2=\"267.5\" y2=\"251.5\"/>\n",
       "<line stroke=\"black\" x1=\"267.5\" y1=\"251.5\" x2=\"267.5\" y2=\"252.5\"/>\n",
       "<line stroke=\"black\" x1=\"267.5\" y1=\"254.5\" x2=\"267.5\" y2=\"255.5\"/>\n",
       "<line stroke=\"black\" x1=\"267.5\" y1=\"255.5\" x2=\"267.5\" y2=\"256.5\"/>\n",
       "<line stroke=\"black\" x1=\"267.5\" y1=\"266.5\" x2=\"267.5\" y2=\"267.5\"/>\n",
       "<line stroke=\"black\" x1=\"267.5\" y1=\"267.5\" x2=\"267.5\" y2=\"268.5\"/>\n",
       "<line stroke=\"black\" x1=\"267.5\" y1=\"270.5\" x2=\"267.5\" y2=\"271.5\"/>\n",
       "<line stroke=\"black\" x1=\"267.5\" y1=\"271.5\" x2=\"267.5\" y2=\"272.5\"/>\n",
       "<line stroke=\"black\" x1=\"266.5\" y1=\"277.5\" x2=\"267.5\" y2=\"277.5\"/>\n",
       "<line stroke=\"black\" x1=\"267.5\" y1=\"248.5\" x2=\"268.5\" y2=\"248.5\"/>\n",
       "<line stroke=\"black\" x1=\"267.5\" y1=\"250.5\" x2=\"268.5\" y2=\"250.5\"/>\n",
       "<line stroke=\"black\" x1=\"267.5\" y1=\"252.5\" x2=\"268.5\" y2=\"252.5\"/>\n",
       "<line stroke=\"black\" x1=\"267.5\" y1=\"254.5\" x2=\"268.5\" y2=\"254.5\"/>\n",
       "<line stroke=\"black\" x1=\"267.5\" y1=\"256.5\" x2=\"268.5\" y2=\"256.5\"/>\n",
       "<line stroke=\"black\" x1=\"267.5\" y1=\"266.5\" x2=\"268.5\" y2=\"266.5\"/>\n",
       "<line stroke=\"black\" x1=\"267.5\" y1=\"268.5\" x2=\"268.5\" y2=\"268.5\"/>\n",
       "<line stroke=\"black\" x1=\"267.5\" y1=\"270.5\" x2=\"268.5\" y2=\"270.5\"/>\n",
       "<line stroke=\"black\" x1=\"267.5\" y1=\"272.5\" x2=\"268.5\" y2=\"272.5\"/>\n",
       "<line stroke=\"black\" x1=\"268.5\" y1=\"275.5\" x2=\"268.5\" y2=\"276.5\"/>\n",
       "<line stroke=\"black\" x1=\"268.5\" y1=\"276.5\" x2=\"268.5\" y2=\"277.5\"/>\n",
       "<line stroke=\"black\" x1=\"267.5\" y1=\"277.5\" x2=\"268.5\" y2=\"277.5\"/>\n",
       "<line stroke=\"black\" x1=\"268.5\" y1=\"248.5\" x2=\"269.5\" y2=\"248.5\"/>\n",
       "<line stroke=\"black\" x1=\"269.5\" y1=\"248.5\" x2=\"269.5\" y2=\"249.5\"/>\n",
       "<line stroke=\"black\" x1=\"269.5\" y1=\"249.5\" x2=\"269.5\" y2=\"250.5\"/>\n",
       "<line stroke=\"black\" x1=\"268.5\" y1=\"250.5\" x2=\"269.5\" y2=\"250.5\"/>\n",
       "<line stroke=\"black\" x1=\"268.5\" y1=\"252.5\" x2=\"269.5\" y2=\"252.5\"/>\n",
       "<line stroke=\"black\" x1=\"269.5\" y1=\"252.5\" x2=\"269.5\" y2=\"253.5\"/>\n",
       "<line stroke=\"black\" x1=\"269.5\" y1=\"253.5\" x2=\"269.5\" y2=\"254.5\"/>\n",
       "<line stroke=\"black\" x1=\"268.5\" y1=\"254.5\" x2=\"269.5\" y2=\"254.5\"/>\n",
       "<line stroke=\"black\" x1=\"268.5\" y1=\"256.5\" x2=\"269.5\" y2=\"256.5\"/>\n",
       "<line stroke=\"black\" x1=\"269.5\" y1=\"256.5\" x2=\"269.5\" y2=\"257.5\"/>\n",
       "<line stroke=\"black\" x1=\"269.5\" y1=\"257.5\" x2=\"269.5\" y2=\"258.5\"/>\n",
       "<line stroke=\"black\" x1=\"268.5\" y1=\"266.5\" x2=\"269.5\" y2=\"266.5\"/>\n",
       "<line stroke=\"black\" x1=\"268.5\" y1=\"268.5\" x2=\"269.5\" y2=\"268.5\"/>\n",
       "<line stroke=\"black\" x1=\"269.5\" y1=\"268.5\" x2=\"269.5\" y2=\"269.5\"/>\n",
       "<line stroke=\"black\" x1=\"269.5\" y1=\"269.5\" x2=\"269.5\" y2=\"270.5\"/>\n",
       "<line stroke=\"black\" x1=\"268.5\" y1=\"270.5\" x2=\"269.5\" y2=\"270.5\"/>\n",
       "<line stroke=\"black\" x1=\"268.5\" y1=\"272.5\" x2=\"269.5\" y2=\"272.5\"/>\n",
       "<line stroke=\"black\" x1=\"269.5\" y1=\"272.5\" x2=\"269.5\" y2=\"273.5\"/>\n",
       "<line stroke=\"black\" x1=\"269.5\" y1=\"273.5\" x2=\"269.5\" y2=\"274.5\"/>\n",
       "<line stroke=\"black\" x1=\"268.5\" y1=\"275.5\" x2=\"269.5\" y2=\"275.5\"/>\n",
       "<line stroke=\"black\" x1=\"269.5\" y1=\"258.5\" x2=\"270.5\" y2=\"258.5\"/>\n",
       "<line stroke=\"black\" x1=\"269.5\" y1=\"266.5\" x2=\"270.5\" y2=\"266.5\"/>\n",
       "<line stroke=\"black\" x1=\"269.5\" y1=\"274.5\" x2=\"270.5\" y2=\"274.5\"/>\n",
       "<line stroke=\"black\" x1=\"269.5\" y1=\"275.5\" x2=\"270.5\" y2=\"275.5\"/>\n",
       "<line stroke=\"black\" x1=\"270.5\" y1=\"275.5\" x2=\"270.5\" y2=\"276.5\"/>\n",
       "<line stroke=\"black\" x1=\"270.5\" y1=\"276.5\" x2=\"270.5\" y2=\"277.5\"/>\n",
       "<line stroke=\"black\" x1=\"271.5\" y1=\"254.5\" x2=\"271.5\" y2=\"255.5\"/>\n",
       "<line stroke=\"black\" x1=\"271.5\" y1=\"255.5\" x2=\"271.5\" y2=\"256.5\"/>\n",
       "<line stroke=\"black\" x1=\"270.5\" y1=\"258.5\" x2=\"271.5\" y2=\"258.5\"/>\n",
       "<line stroke=\"black\" x1=\"271.5\" y1=\"262.5\" x2=\"271.5\" y2=\"263.5\"/>\n",
       "<line stroke=\"black\" x1=\"271.5\" y1=\"263.5\" x2=\"271.5\" y2=\"264.5\"/>\n",
       "<line stroke=\"black\" x1=\"270.5\" y1=\"266.5\" x2=\"271.5\" y2=\"266.5\"/>\n",
       "<line stroke=\"black\" x1=\"270.5\" y1=\"274.5\" x2=\"271.5\" y2=\"274.5\"/>\n",
       "<line stroke=\"black\" x1=\"270.5\" y1=\"277.5\" x2=\"271.5\" y2=\"277.5\"/>\n",
       "<line stroke=\"black\" x1=\"271.5\" y1=\"254.5\" x2=\"272.5\" y2=\"254.5\"/>\n",
       "<line stroke=\"black\" x1=\"271.5\" y1=\"256.5\" x2=\"272.5\" y2=\"256.5\"/>\n",
       "<line stroke=\"black\" x1=\"271.5\" y1=\"258.5\" x2=\"272.5\" y2=\"258.5\"/>\n",
       "<line stroke=\"black\" x1=\"271.5\" y1=\"262.5\" x2=\"272.5\" y2=\"262.5\"/>\n",
       "<line stroke=\"black\" x1=\"271.5\" y1=\"264.5\" x2=\"272.5\" y2=\"264.5\"/>\n",
       "<line stroke=\"black\" x1=\"271.5\" y1=\"266.5\" x2=\"272.5\" y2=\"266.5\"/>\n",
       "<line stroke=\"black\" x1=\"272.5\" y1=\"271.5\" x2=\"272.5\" y2=\"272.5\"/>\n",
       "<line stroke=\"black\" x1=\"271.5\" y1=\"274.5\" x2=\"272.5\" y2=\"274.5\"/>\n",
       "<line stroke=\"black\" x1=\"272.5\" y1=\"275.5\" x2=\"272.5\" y2=\"276.5\"/>\n",
       "<line stroke=\"black\" x1=\"272.5\" y1=\"276.5\" x2=\"272.5\" y2=\"277.5\"/>\n",
       "<line stroke=\"black\" x1=\"271.5\" y1=\"277.5\" x2=\"272.5\" y2=\"277.5\"/>\n",
       "<line stroke=\"black\" x1=\"272.5\" y1=\"254.5\" x2=\"273.5\" y2=\"254.5\"/>\n",
       "<line stroke=\"black\" x1=\"272.5\" y1=\"256.5\" x2=\"273.5\" y2=\"256.5\"/>\n",
       "<line stroke=\"black\" x1=\"273.5\" y1=\"256.5\" x2=\"273.5\" y2=\"257.5\"/>\n",
       "<line stroke=\"black\" x1=\"273.5\" y1=\"257.5\" x2=\"273.5\" y2=\"258.5\"/>\n",
       "<line stroke=\"black\" x1=\"272.5\" y1=\"258.5\" x2=\"273.5\" y2=\"258.5\"/>\n",
       "<line stroke=\"black\" x1=\"272.5\" y1=\"262.5\" x2=\"273.5\" y2=\"262.5\"/>\n",
       "<line stroke=\"black\" x1=\"272.5\" y1=\"264.5\" x2=\"273.5\" y2=\"264.5\"/>\n",
       "<line stroke=\"black\" x1=\"273.5\" y1=\"264.5\" x2=\"273.5\" y2=\"265.5\"/>\n",
       "<line stroke=\"black\" x1=\"273.5\" y1=\"265.5\" x2=\"273.5\" y2=\"266.5\"/>\n",
       "<line stroke=\"black\" x1=\"272.5\" y1=\"266.5\" x2=\"273.5\" y2=\"266.5\"/>\n",
       "<line stroke=\"black\" x1=\"272.5\" y1=\"271.5\" x2=\"273.5\" y2=\"271.5\"/>\n",
       "<line stroke=\"black\" x1=\"272.5\" y1=\"272.5\" x2=\"273.5\" y2=\"272.5\"/>\n",
       "<line stroke=\"black\" x1=\"273.5\" y1=\"272.5\" x2=\"273.5\" y2=\"273.5\"/>\n",
       "<line stroke=\"black\" x1=\"273.5\" y1=\"273.5\" x2=\"273.5\" y2=\"274.5\"/>\n",
       "<line stroke=\"black\" x1=\"272.5\" y1=\"274.5\" x2=\"273.5\" y2=\"274.5\"/>\n",
       "<line stroke=\"black\" x1=\"272.5\" y1=\"275.5\" x2=\"273.5\" y2=\"275.5\"/>\n",
       "<line stroke=\"black\" x1=\"273.5\" y1=\"254.5\" x2=\"274.5\" y2=\"254.5\"/>\n",
       "<line stroke=\"black\" x1=\"273.5\" y1=\"262.5\" x2=\"274.5\" y2=\"262.5\"/>\n",
       "<line stroke=\"black\" x1=\"273.5\" y1=\"271.5\" x2=\"274.5\" y2=\"271.5\"/>\n",
       "<line stroke=\"black\" x1=\"274.5\" y1=\"271.5\" x2=\"274.5\" y2=\"272.5\"/>\n",
       "<line stroke=\"black\" x1=\"274.5\" y1=\"272.5\" x2=\"274.5\" y2=\"273.5\"/>\n",
       "<line stroke=\"black\" x1=\"274.5\" y1=\"273.5\" x2=\"274.5\" y2=\"274.5\"/>\n",
       "<line stroke=\"black\" x1=\"274.5\" y1=\"274.5\" x2=\"274.5\" y2=\"275.5\"/>\n",
       "<line stroke=\"black\" x1=\"273.5\" y1=\"275.5\" x2=\"274.5\" y2=\"275.5\"/>\n",
       "<line stroke=\"black\" x1=\"274.5\" y1=\"254.5\" x2=\"275.5\" y2=\"254.5\"/>\n",
       "<line stroke=\"black\" x1=\"275.5\" y1=\"254.5\" x2=\"275.5\" y2=\"255.5\"/>\n",
       "<line stroke=\"black\" x1=\"275.5\" y1=\"255.5\" x2=\"275.5\" y2=\"256.5\"/>\n",
       "<line stroke=\"black\" x1=\"275.5\" y1=\"258.5\" x2=\"275.5\" y2=\"259.5\"/>\n",
       "<line stroke=\"black\" x1=\"275.5\" y1=\"259.5\" x2=\"275.5\" y2=\"260.5\"/>\n",
       "<line stroke=\"black\" x1=\"274.5\" y1=\"262.5\" x2=\"275.5\" y2=\"262.5\"/>\n",
       "<line stroke=\"black\" x1=\"275.5\" y1=\"256.5\" x2=\"276.5\" y2=\"256.5\"/>\n",
       "<line stroke=\"black\" x1=\"275.5\" y1=\"258.5\" x2=\"276.5\" y2=\"258.5\"/>\n",
       "<line stroke=\"black\" x1=\"275.5\" y1=\"260.5\" x2=\"276.5\" y2=\"260.5\"/>\n",
       "<line stroke=\"black\" x1=\"275.5\" y1=\"262.5\" x2=\"276.5\" y2=\"262.5\"/>\n",
       "<line stroke=\"black\" x1=\"276.5\" y1=\"256.5\" x2=\"277.5\" y2=\"256.5\"/>\n",
       "<line stroke=\"black\" x1=\"277.5\" y1=\"256.5\" x2=\"277.5\" y2=\"257.5\"/>\n",
       "<line stroke=\"black\" x1=\"277.5\" y1=\"257.5\" x2=\"277.5\" y2=\"258.5\"/>\n",
       "<line stroke=\"black\" x1=\"276.5\" y1=\"258.5\" x2=\"277.5\" y2=\"258.5\"/>\n",
       "<line stroke=\"black\" x1=\"276.5\" y1=\"260.5\" x2=\"277.5\" y2=\"260.5\"/>\n",
       "<line stroke=\"black\" x1=\"277.5\" y1=\"260.5\" x2=\"277.5\" y2=\"261.5\"/>\n",
       "<line stroke=\"black\" x1=\"277.5\" y1=\"261.5\" x2=\"277.5\" y2=\"262.5\"/>\n",
       "<line stroke=\"black\" x1=\"276.5\" y1=\"262.5\" x2=\"277.5\" y2=\"262.5\"/>\n",
       "</svg>"
      ],
      "text/plain": [
       "<IPython.core.display.SVG object>"
      ]
     },
     "metadata": {},
     "output_type": "display_data"
    }
   ],
   "source": [
    "display(SVG(data=linesvg))"
   ]
  },
  {
   "cell_type": "code",
   "execution_count": 215,
   "id": "e3f2f42d",
   "metadata": {},
   "outputs": [],
   "source": [
    "from collections import defaultdict"
   ]
  },
  {
   "cell_type": "code",
   "execution_count": 216,
   "id": "a9f94e40",
   "metadata": {},
   "outputs": [],
   "source": [
    "?defaultdict"
   ]
  },
  {
   "cell_type": "code",
   "execution_count": 278,
   "id": "91bd0b38",
   "metadata": {},
   "outputs": [],
   "source": [
    "edict = defaultdict(lambda: [])\n",
    "\n",
    "for x in range(minx-1, maxx+2):\n",
    "    for y in range(miny-1, maxy+2):\n",
    "        if grid[x, y] != grid[x+1, y]:\n",
    "            p1 = (x+.5, y-.5)\n",
    "            p2 = (x+.5, y+.5)\n",
    "            edict[p1].append(p2)\n",
    "            edict[p2].append(p1)\n",
    "        if grid[x, y] != grid[x, y+1]:\n",
    "            p1 = (x-.5, y+.5)\n",
    "            p2 = (x+.5, y+.5)\n",
    "            edict[p1].append(p2)\n",
    "            edict[p2].append(p1)"
   ]
  },
  {
   "cell_type": "code",
   "execution_count": 279,
   "id": "c8df727d",
   "metadata": {},
   "outputs": [],
   "source": [
    "points = []\n",
    "start = list(edict.keys())[0]\n",
    "\n",
    "last = None\n",
    "now = start\n",
    "points.append(now)\n",
    "\n",
    "nex = [pt for pt in edict[now] if pt != last][0]\n",
    "last, now = now, nex\n",
    "points.append(now)\n",
    "\n",
    "while now != start:\n",
    "    nex = [pt for pt in edict[now] if pt != last][0]\n",
    "    last, now = now, nex\n",
    "    points.append(now)"
   ]
  },
  {
   "cell_type": "code",
   "execution_count": 280,
   "id": "334b255a",
   "metadata": {},
   "outputs": [
    {
     "data": {
      "image/svg+xml": [
       "<svg width=\"100\" height=\"100\" viewBox=\"27 22 16 13\">\n",
       "<polyline points=\"27.5,26.5 27.5,27.5 27.5,28.5 28.5,28.5 29.5,28.5 29.5,29.5 29.5,30.5 28.5,30.5 27.5,30.5 27.5,31.5 27.5,32.5 28.5,32.5 29.5,32.5 29.5,33.5 29.5,34.5 30.5,34.5 31.5,34.5 32.5,34.5 33.5,34.5 33.5,33.5 33.5,32.5 32.5,32.5 32.5,33.5 31.5,33.5 30.5,33.5 30.5,32.5 30.5,31.5 30.5,30.5 30.5,29.5 31.5,29.5 32.5,29.5 32.5,28.5 32.5,27.5 33.5,27.5 34.5,27.5 34.5,28.5 34.5,29.5 35.5,29.5 36.5,29.5 36.5,28.5 36.5,27.5 37.5,27.5 38.5,27.5 38.5,28.5 38.5,29.5 39.5,29.5 40.5,29.5 40.5,28.5 40.5,27.5 41.5,27.5 42.5,27.5 42.5,26.5 42.5,25.5 42.5,24.5 42.5,23.5 41.5,23.5 40.5,23.5 40.5,24.5 41.5,24.5 41.5,25.5 41.5,26.5 40.5,26.5 39.5,26.5 38.5,26.5 37.5,26.5 37.5,25.5 37.5,24.5 36.5,24.5 35.5,24.5 35.5,23.5 35.5,22.5 34.5,22.5 33.5,22.5 32.5,22.5 31.5,22.5 31.5,23.5 31.5,24.5 32.5,24.5 33.5,24.5 33.5,25.5 33.5,26.5 32.5,26.5 31.5,26.5 30.5,26.5 29.5,26.5 28.5,26.5 27.5,26.5\"/>\n",
       "</svg>"
      ],
      "text/plain": [
       "<IPython.core.display.SVG object>"
      ]
     },
     "metadata": {},
     "output_type": "display_data"
    }
   ],
   "source": [
    "edictsvg = f\"\"\"\\\n",
    "<svg width=\"100\" height=\"100\" viewBox=\"{minx-1} {miny-1} {maxx-minx+2} {maxy-miny+2}\">\n",
    "<polyline points=\"{' '.join([f'{pt[0]},{pt[1]}' for pt in points])}\"/>\n",
    "</svg>\"\"\"\n",
    "display(SVG(data=edictsvg))"
   ]
  },
  {
   "cell_type": "code",
   "execution_count": 270,
   "id": "c9cd7aff",
   "metadata": {},
   "outputs": [],
   "source": [
    "with open(f'/home/adam/Dropbox/personal/projects/ipy/lasers/dragon{size}.svg', 'w') as f:\n",
    "    f.write(edictsvg)"
   ]
  },
  {
   "cell_type": "code",
   "execution_count": 77,
   "id": "74196b2f",
   "metadata": {},
   "outputs": [],
   "source": [
    "turtle_path = 'FFRFRFLFFLFFRFFRFFLFFRFFFFRFFRFRFLFFLFFFFFF'\n",
    "\n",
    "turt = np.array([0, 0])\n",
    "head = np.array([1, 0])\n",
    "points = [turt]\n",
    "\n",
    "for step in turtle_path:\n",
    "    if step == 'F':\n",
    "        turt = turt + head\n",
    "        points.append(turt)\n",
    "    elif step == 'R':\n",
    "        head = rot90(head)\n",
    "    elif step == 'L':\n",
    "        for _ in range(3):\n",
    "            head = rot90(head) # like in Zoolander"
   ]
  },
  {
   "cell_type": "code",
   "execution_count": 78,
   "id": "3b37efe8",
   "metadata": {},
   "outputs": [
    {
     "data": {
      "text/plain": [
       "[array([0, 0]),\n",
       " array([1, 0]),\n",
       " array([2, 0]),\n",
       " array([2, 1]),\n",
       " array([1, 1]),\n",
       " array([1, 2]),\n",
       " array([1, 3]),\n",
       " array([2, 3]),\n",
       " array([3, 3]),\n",
       " array([3, 4]),\n",
       " array([3, 5]),\n",
       " array([2, 5]),\n",
       " array([1, 5]),\n",
       " array([1, 6]),\n",
       " array([1, 7]),\n",
       " array([0, 7]),\n",
       " array([-1,  7]),\n",
       " array([-2,  7]),\n",
       " array([-3,  7]),\n",
       " array([-3,  6]),\n",
       " array([-3,  5]),\n",
       " array([-2,  5]),\n",
       " array([-2,  6]),\n",
       " array([-1,  6]),\n",
       " array([0, 6]),\n",
       " array([0, 5]),\n",
       " array([0, 4]),\n",
       " array([0, 3]),\n",
       " array([0, 2]),\n",
       " array([0, 1]),\n",
       " array([0, 0])]"
      ]
     },
     "execution_count": 78,
     "metadata": {},
     "output_type": "execute_result"
    }
   ],
   "source": [
    "points"
   ]
  },
  {
   "cell_type": "code",
   "execution_count": 40,
   "id": "248cd4eb",
   "metadata": {},
   "outputs": [],
   "source": [
    "from IPython.display import SVG, display"
   ]
  },
  {
   "cell_type": "code",
   "execution_count": 105,
   "id": "45b9b5d8",
   "metadata": {},
   "outputs": [
    {
     "data": {
      "image/svg+xml": [
       "<svg width=\"100\" height=\"100\" viewbox=\"-4 -1 8 9\">\n",
       "<polyline points=\"0,0 1,0 2,0 2,1 1,1 1,2 1,3 2,3 3,3 3,4 3,5 2,5 1,5 1,6 1,7 0,7 -1,7 -2,7 -3,7 -3,6 -3,5 -2,5 -2,6 -1,6 0,6 0,5 0,4 0,3 0,2 0,1 0,0\"/>\n",
       "</svg>"
      ],
      "text/plain": [
       "<IPython.core.display.SVG object>"
      ]
     },
     "metadata": {},
     "output_type": "display_data"
    }
   ],
   "source": [
    "mysvg = f\"\"\"\\\n",
    "<svg width=\"100\" height=\"100\" viewbox=\"-4 -1 8 9\">\n",
    "<polyline points=\"{' '.join([f'{pt[0]},{pt[1]}' for pt in points])}\"/>\n",
    "</svg>\"\"\"\n",
    "display(SVG(data=mysvg))"
   ]
  },
  {
   "cell_type": "code",
   "execution_count": 85,
   "id": "e1692854",
   "metadata": {},
   "outputs": [],
   "source": [
    "?SVG"
   ]
  },
  {
   "cell_type": "code",
   "execution_count": 88,
   "id": "b6fd488d",
   "metadata": {},
   "outputs": [
    {
     "data": {
      "text/plain": [
       "'<svg width=\"100\" height=\"100\" viewbox=\"-4 -1 4 8\">\\n<polyline points=\"0,0 1,0 2,0 2,1 1,1 1,2 1,3 2,3 3,3 3,4 3,5 2,5 1,5 1,6 1,7 0,7 -1,7 -2,7 -3,7 -3,6 -3,5 -2,5 -2,6 -1,6 0,6 0,5 0,4 0,3 0,2 0,1 0,0\"/>\\n</svg>'"
      ]
     },
     "execution_count": 88,
     "metadata": {},
     "output_type": "execute_result"
    }
   ],
   "source": [
    "mysvg"
   ]
  },
  {
   "cell_type": "code",
   "execution_count": null,
   "id": "6d5f0e71",
   "metadata": {},
   "outputs": [],
   "source": []
  },
  {
   "cell_type": "code",
   "execution_count": 10,
   "id": "5469a73f",
   "metadata": {},
   "outputs": [],
   "source": [
    "pos = np.array([0, 2, 3])"
   ]
  },
  {
   "cell_type": "code",
   "execution_count": 16,
   "id": "0741da2f",
   "metadata": {},
   "outputs": [],
   "source": [
    "pos[[0, 2]] = [3, 5]"
   ]
  },
  {
   "cell_type": "code",
   "execution_count": 17,
   "id": "78d5fbc8",
   "metadata": {},
   "outputs": [
    {
     "data": {
      "text/plain": [
       "array([3, 2, 5])"
      ]
     },
     "execution_count": 17,
     "metadata": {},
     "output_type": "execute_result"
    }
   ],
   "source": [
    "pos"
   ]
  },
  {
   "cell_type": "code",
   "execution_count": null,
   "id": "cc7b57cf",
   "metadata": {},
   "outputs": [],
   "source": []
  }
 ],
 "metadata": {
  "kernelspec": {
   "display_name": "Python 3 (ipykernel)",
   "language": "python",
   "name": "python3"
  },
  "language_info": {
   "codemirror_mode": {
    "name": "ipython",
    "version": 3
   },
   "file_extension": ".py",
   "mimetype": "text/x-python",
   "name": "python",
   "nbconvert_exporter": "python",
   "pygments_lexer": "ipython3",
   "version": "3.12.4"
  }
 },
 "nbformat": 4,
 "nbformat_minor": 5
}
