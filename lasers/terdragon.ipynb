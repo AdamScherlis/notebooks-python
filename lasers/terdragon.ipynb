{
 "cells": [
  {
   "cell_type": "code",
   "execution_count": null,
   "id": "fc4f1fce",
   "metadata": {},
   "outputs": [],
   "source": [
    "# 2023-08\n",
    "# Terdragon fractal \"puzzle piece\" design\n",
    "# for laser cutter"
   ]
  },
  {
   "cell_type": "code",
   "execution_count": 2,
   "id": "5b87213d",
   "metadata": {},
   "outputs": [],
   "source": [
    "import numpy as np\n",
    "from matplotlib import pyplot as plt"
   ]
  },
  {
   "cell_type": "code",
   "execution_count": null,
   "id": "4b7ab554",
   "metadata": {},
   "outputs": [],
   "source": [
    "# COOL SHIT STARTS HERE"
   ]
  },
  {
   "cell_type": "code",
   "execution_count": 44,
   "id": "1d1986c5",
   "metadata": {},
   "outputs": [],
   "source": [
    "def flip(c):\n",
    "    if c == 'L':\n",
    "        return 'R'\n",
    "    elif c == 'R':\n",
    "        return 'L'\n",
    "    else:\n",
    "        return c\n",
    "def next_ter(ter):\n",
    "    return ter + 'R' + ''.join(reversed([flip(c) for c in ter]))"
   ]
  },
  {
   "cell_type": "code",
   "execution_count": 104,
   "id": "1f22d186",
   "metadata": {},
   "outputs": [],
   "source": [
    "size = 5\n",
    "\n",
    "ter = 'F'\n",
    "for _ in range(size):\n",
    "    ter = next_ter(ter)"
   ]
  },
  {
   "cell_type": "code",
   "execution_count": 105,
   "id": "d5dd31cc",
   "metadata": {},
   "outputs": [],
   "source": [
    "def rot(vec, th=np.pi/3, flip=False):\n",
    "    if flip:\n",
    "        th *= -1\n",
    "    return [vec[0]*np.cos(th) - vec[1]*np.sin(th), \n",
    "            vec[1]*np.cos(th) + vec[0]*np.sin(th)]"
   ]
  },
  {
   "cell_type": "code",
   "execution_count": 106,
   "id": "11878dee",
   "metadata": {},
   "outputs": [],
   "source": [
    "turt = np.array([0, 0])\n",
    "head = np.array([1, 0])\n",
    "points = [turt]\n",
    "\n",
    "for step in (ter+'RR'+ter):\n",
    "    if step == 'F':\n",
    "        turt = turt + head\n",
    "        points.append(turt)\n",
    "    elif step == 'L':\n",
    "        head = rot(head)\n",
    "    elif step == 'R':\n",
    "        head = rot(head, flip=True)"
   ]
  },
  {
   "cell_type": "code",
   "execution_count": 107,
   "id": "31b0a09a",
   "metadata": {},
   "outputs": [],
   "source": [
    "from IPython.display import SVG, display"
   ]
  },
  {
   "cell_type": "code",
   "execution_count": 108,
   "id": "c04faec0",
   "metadata": {},
   "outputs": [],
   "source": [
    "minx = min([pt[0] for pt in points])\n",
    "miny = min([pt[1] for pt in points])\n",
    "maxx = max([pt[0] for pt in points])\n",
    "maxy = max([pt[1] for pt in points])"
   ]
  },
  {
   "cell_type": "code",
   "execution_count": 109,
   "id": "2e9aedfc",
   "metadata": {},
   "outputs": [
    {
     "data": {
      "image/svg+xml": [
       "<svg width=\"800\" height=\"800\" viewBox=\"-16.0 -9.660254037844387 18.500000000000004 11.52627944162883\">\n",
       "<polyline points=\"0,0 1,0 1.5,-0.8660254037844386 1.0000000000000002,-1.7320508075688774 1.5000000000000004,-2.598076211353316 1.0000000000000007,-3.464101615137755 6.661338147750939e-16,-3.4641016151377553 -0.49999999999999906,-4.3301270189221945 1.1657341758564144e-15,-5.196152422706633 -0.49999999999999856,-6.062177826491071 -1.4999999999999987,-6.062177826491071 -1.9999999999999991,-5.196152422706633 -2.999999999999999,-5.196152422706633 -3.499999999999999,-6.062177826491071 -4.499999999999999,-6.062177826491071 -4.999999999999999,-6.9282032302755105 -4.499999999999999,-7.794228634059949 -4.999999999999999,-8.660254037844387 -5.999999999999999,-8.660254037844387 -6.5,-7.794228634059949 -7.5,-7.794228634059949 -8.0,-6.9282032302755105 -7.500000000000001,-6.062177826491071 -8.000000000000002,-5.196152422706633 -9.000000000000002,-5.196152422706634 -9.500000000000002,-6.062177826491073 -10.500000000000002,-6.062177826491074 -11.000000000000002,-5.196152422706636 -12.000000000000002,-5.1961524227066365 -12.500000000000002,-6.062177826491075 -13.500000000000002,-6.062177826491076 -14.000000000000002,-6.928203230275514 -13.500000000000002,-7.7942286340599525 -14.500000000000002,-7.794228634059953 -15.000000000000002,-6.928203230275515 -14.500000000000002,-6.062177826491076 -15.000000000000002,-5.196152422706637 -14.500000000000002,-4.330127018922198 -13.500000000000002,-4.330127018922197 -13.000000000000002,-3.464101615137758 -13.500000000000002,-2.5980762113533196 -13.000000000000002,-1.7320508075688803 -12.000000000000002,-1.7320508075688794 -11.5,-2.598076211353318 -10.5,-2.598076211353317 -10.0,-1.7320508075688776 -9.0,-1.7320508075688765 -8.5,-0.8660254037844372 -9.0,1.4432899320127035e-15 -8.5,0.8660254037844409 -7.5,0.866025403784442 -6.999999999999998,3.6637359812630166e-15 -5.999999999999998,4.829470157119431e-15 -5.4999999999999964,-0.8660254037844335 -5.999999999999996,-1.7320508075688732 -5.499999999999995,-2.5980762113533116 -4.499999999999995,-2.5980762113533102 -3.9999999999999956,-1.7320508075688708 -2.999999999999995,-1.7320508075688696 -2.499999999999994,-2.598076211353308 -1.4999999999999933,-2.5980762113533067 -0.999999999999994,-1.7320508075688672 6.439293542825908e-15,-1.732050807568866 0.5000000000000058,-0.8660254037844266 4.884981308350689e-15,1.199040866595169e-14\"/>\n",
       "</svg>"
      ],
      "text/plain": [
       "<IPython.core.display.SVG object>"
      ]
     },
     "metadata": {},
     "output_type": "display_data"
    }
   ],
   "source": [
    "edictsvg = f\"\"\"\\\n",
    "<svg width=\"800\" height=\"800\" viewBox=\"{minx-1} {miny-1} {maxx-minx+2} {maxy-miny+2}\">\n",
    "<polyline points=\"{' '.join([f'{pt[0]},{pt[1]}' for pt in points])}\"/>\n",
    "</svg>\"\"\"\n",
    "display(SVG(data=edictsvg))"
   ]
  },
  {
   "cell_type": "code",
   "execution_count": 110,
   "id": "144e0fbe",
   "metadata": {},
   "outputs": [],
   "source": [
    "with open(f'/home/adam/Dropbox/personal/projects/ipy/lasers/terdragon{size}.svg', 'w') as f:\n",
    "    f.write(edictsvg)"
   ]
  },
  {
   "cell_type": "code",
   "execution_count": null,
   "id": "707fc395",
   "metadata": {},
   "outputs": [],
   "source": []
  }
 ],
 "metadata": {
  "kernelspec": {
   "display_name": "Python 3 (ipykernel)",
   "language": "python",
   "name": "python3"
  },
  "language_info": {
   "codemirror_mode": {
    "name": "ipython",
    "version": 3
   },
   "file_extension": ".py",
   "mimetype": "text/x-python",
   "name": "python",
   "nbconvert_exporter": "python",
   "pygments_lexer": "ipython3",
   "version": "3.11.1"
  }
 },
 "nbformat": 4,
 "nbformat_minor": 5
}
