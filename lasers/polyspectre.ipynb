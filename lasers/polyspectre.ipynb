{
 "cells": [
  {
   "cell_type": "code",
   "execution_count": null,
   "id": "f1717d06",
   "metadata": {},
   "outputs": [],
   "source": [
    "# 2023-05\n",
    "# polygonal Spectre aperiodic tile"
   ]
  },
  {
   "cell_type": "code",
   "execution_count": 3,
   "id": "787d644d",
   "metadata": {},
   "outputs": [],
   "source": [
    "from IPython.display import SVG, display\n",
    "import numpy as np"
   ]
  },
  {
   "cell_type": "code",
   "execution_count": 2,
   "id": "5eda93f3",
   "metadata": {},
   "outputs": [],
   "source": [
    "angles = [90, -60, 60, 60, -90, -60, 60, 60, 0, -60,\\\n",
    "         60, 60, 90, -60, -60, 60, 90, -60, -60, 60,\\\n",
    "          90, -60, 60, 60, -90, -60, 60, 60]"
   ]
  },
  {
   "cell_type": "code",
   "execution_count": 4,
   "id": "7b39add7",
   "metadata": {},
   "outputs": [],
   "source": [
    "pt = np.array([0., 0.])\n",
    "points = [pt]\n",
    "head = 0\n",
    "\n",
    "for angle in angles:\n",
    "    angrad = head*2*np.pi/360\n",
    "    pt = pt + np.array([np.cos(angrad), np.sin(angrad)])\n",
    "    head += angle\n",
    "    points.append(pt)"
   ]
  },
  {
   "cell_type": "code",
   "execution_count": 5,
   "id": "443b25ff",
   "metadata": {},
   "outputs": [
    {
     "data": {
      "text/plain": [
       "[array([0., 0.]),\n",
       " array([1., 0.]),\n",
       " array([1., 1.]),\n",
       " array([1.8660254, 1.5      ]),\n",
       " array([1.8660254, 2.5      ]),\n",
       " array([1., 3.]),\n",
       " array([1.5      , 3.8660254]),\n",
       " array([2.5      , 3.8660254]),\n",
       " array([3.        , 4.73205081]),\n",
       " array([2.5       , 5.59807621]),\n",
       " array([2.        , 6.46410162]),\n",
       " array([2.5       , 7.33012702]),\n",
       " array([2.        , 8.19615242]),\n",
       " array([1.        , 8.19615242]),\n",
       " array([1.        , 7.19615242]),\n",
       " array([0.1339746 , 6.69615242]),\n",
       " array([-0.73205081,  7.19615242]),\n",
       " array([-1.59807621,  6.69615242]),\n",
       " array([-1.09807621,  5.83012702]),\n",
       " array([-1.59807621,  4.96410162]),\n",
       " array([-2.59807621,  4.96410162]),\n",
       " array([-3.09807621,  4.09807621]),\n",
       " array([-2.23205081,  3.59807621]),\n",
       " array([-2.23205081,  2.59807621]),\n",
       " array([-1.3660254 ,  2.09807621]),\n",
       " array([-0.5       ,  2.59807621]),\n",
       " array([-9.99200722e-16,  1.73205081e+00]),\n",
       " array([-0.5      ,  0.8660254]),\n",
       " array([-1.33226763e-15, -2.22044605e-15])]"
      ]
     },
     "execution_count": 5,
     "metadata": {},
     "output_type": "execute_result"
    }
   ],
   "source": [
    "points"
   ]
  },
  {
   "cell_type": "code",
   "execution_count": 6,
   "id": "9235edf4",
   "metadata": {},
   "outputs": [],
   "source": [
    "minx = min([pt[0] for pt in points])\n",
    "miny = min([pt[1] for pt in points])\n",
    "maxx = max([pt[0] for pt in points])\n",
    "maxy = max([pt[1] for pt in points])"
   ]
  },
  {
   "cell_type": "code",
   "execution_count": 7,
   "id": "dcc4026b",
   "metadata": {},
   "outputs": [
    {
     "data": {
      "image/svg+xml": [
       "<svg width=\"100\" height=\"100\" viewBox=\"-4.098076211353317 -1.0000000000000022 8.098076211353316 10.196152422706632\">\n",
       "<polyline points=\"0.0,0.0 1.0,0.0 1.0,1.0 1.8660254037844388,1.5 1.8660254037844388,2.5 1.0,3.0 1.5,3.8660254037844384 2.5,3.8660254037844384 3.0,4.732050807568877 2.5,5.598076211353315 2.0,6.4641016151377535 2.5,7.330127018922192 2.0,8.19615242270663 1.0,8.19615242270663 0.9999999999999998,7.19615242270663 0.13397459621556118,6.69615242270663 -0.7320508075688775,7.19615242270663 -1.598076211353316,6.69615242270663 -1.098076211353316,5.830127018922192 -1.5980762113533165,4.9641016151377535 -2.5980762113533165,4.9641016151377535 -3.098076211353317,4.098076211353315 -2.2320508075688785,3.5980762113533147 -2.2320508075688785,2.5980762113533147 -1.3660254037844402,2.0980762113533142 -0.5000000000000011,2.5980762113533133 -9.992007221626409e-16,1.7320508075688748 -0.5000000000000014,0.8660254037844364 -1.3322676295501878e-15,-2.220446049250313e-15\"/>\n",
       "</svg>"
      ],
      "text/plain": [
       "<IPython.core.display.SVG object>"
      ]
     },
     "metadata": {},
     "output_type": "display_data"
    }
   ],
   "source": [
    "mysvg = f\"\"\"\\\n",
    "<svg width=\"100\" height=\"100\" viewBox=\"{minx-1} {miny-1} {maxx-minx+2} {maxy-miny+2}\">\n",
    "<polyline points=\"{' '.join([f'{pt[0]},{pt[1]}' for pt in points])}\"/>\n",
    "</svg>\"\"\"\n",
    "display(SVG(data=mysvg))"
   ]
  },
  {
   "cell_type": "code",
   "execution_count": 8,
   "id": "9bd15bcf",
   "metadata": {},
   "outputs": [
    {
     "name": "stdout",
     "output_type": "stream",
     "text": [
      "<svg width=\"100\" height=\"100\" viewBox=\"-4.098076211353317 -1.0000000000000022 8.098076211353316 10.196152422706632\">\n",
      "<polyline points=\"0.0,0.0 1.0,0.0 1.0,1.0 1.8660254037844388,1.5 1.8660254037844388,2.5 1.0,3.0 1.5,3.8660254037844384 2.5,3.8660254037844384 3.0,4.732050807568877 2.5,5.598076211353315 2.0,6.4641016151377535 2.5,7.330127018922192 2.0,8.19615242270663 1.0,8.19615242270663 0.9999999999999998,7.19615242270663 0.13397459621556118,6.69615242270663 -0.7320508075688775,7.19615242270663 -1.598076211353316,6.69615242270663 -1.098076211353316,5.830127018922192 -1.5980762113533165,4.9641016151377535 -2.5980762113533165,4.9641016151377535 -3.098076211353317,4.098076211353315 -2.2320508075688785,3.5980762113533147 -2.2320508075688785,2.5980762113533147 -1.3660254037844402,2.0980762113533142 -0.5000000000000011,2.5980762113533133 -9.992007221626409e-16,1.7320508075688748 -0.5000000000000014,0.8660254037844364 -1.3322676295501878e-15,-2.220446049250313e-15\"/>\n",
      "</svg>\n"
     ]
    }
   ],
   "source": [
    "print(mysvg)"
   ]
  },
  {
   "cell_type": "code",
   "execution_count": null,
   "id": "43283d86",
   "metadata": {},
   "outputs": [],
   "source": []
  }
 ],
 "metadata": {
  "kernelspec": {
   "display_name": "Python 3 (ipykernel)",
   "language": "python",
   "name": "python3"
  },
  "language_info": {
   "codemirror_mode": {
    "name": "ipython",
    "version": 3
   },
   "file_extension": ".py",
   "mimetype": "text/x-python",
   "name": "python",
   "nbconvert_exporter": "python",
   "pygments_lexer": "ipython3",
   "version": "3.11.1"
  }
 },
 "nbformat": 4,
 "nbformat_minor": 5
}
