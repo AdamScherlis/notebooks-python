{
 "cells": [
  {
   "cell_type": "code",
   "execution_count": 1,
   "id": "4f4ab257-ce2c-470c-9a54-891590302e21",
   "metadata": {},
   "outputs": [],
   "source": [
    "# 2023-12\n",
    "# experiments in jigsaw puzzle shapes from physics sims\n",
    "# very WIP"
   ]
  },
  {
   "cell_type": "code",
   "execution_count": 439,
   "id": "36c7a94e",
   "metadata": {},
   "outputs": [],
   "source": [
    "import numpy as np\n",
    "import matplotlib.pyplot as plt\n",
    "import torch as t\n",
    "from einops import rearrange, repeat, reduce, einsum"
   ]
  },
  {
   "cell_type": "code",
   "execution_count": 4,
   "id": "eabf0350",
   "metadata": {},
   "outputs": [],
   "source": [
    "indices = np.arange(100)"
   ]
  },
  {
   "cell_type": "code",
   "execution_count": 30,
   "id": "b3f444fb",
   "metadata": {},
   "outputs": [],
   "source": [
    "n = 100\n",
    "pts = np.zeros([n, 2])\n",
    "pts[:, 0] = np.arange(n)"
   ]
  },
  {
   "cell_type": "code",
   "execution_count": 29,
   "id": "98eb0646",
   "metadata": {},
   "outputs": [
    {
     "data": {
      "text/plain": [
       "[<matplotlib.lines.Line2D at 0x7f870de6d0d0>]"
      ]
     },
     "execution_count": 29,
     "metadata": {},
     "output_type": "execute_result"
    },
    {
     "data": {
      "image/png": "[encoded data removed]",
      "text/plain": [
       "<Figure size 640x480 with 1 Axes>"
      ]
     },
     "metadata": {},
     "output_type": "display_data"
    }
   ],
   "source": [
    "plt.plot(pts[:, 0], pts[:, 1], '.')"
   ]
  },
  {
   "cell_type": "code",
   "execution_count": 443,
   "id": "b9d26fc8",
   "metadata": {},
   "outputs": [],
   "source": [
    "def U(i, j, pos):\n",
    "    if i == j:\n",
    "        return 0.\n",
    "    elif i == j+1 or i == j-1:\n",
    "        return U_neighbor(pos[i], pos[j])\n",
    "    else:\n",
    "        return U_stranger(pos[i], pos[j])\n",
    "    \n",
    "def U_neighbor(pos1, pos2):\n",
    "    return 1000 * U_pairwise(pos1, pos2, 3/n)\n",
    "    \n",
    "def U_stranger(pos1, pos2):\n",
    "    return 0.1 * U_pairwise(pos1, pos2, 30/n, rang=0.1)\n",
    "\n",
    "def U_pairwise(pos1, pos2, target, rang=100):\n",
    "    dist2 = t.sum((pos1-pos2)**2)\n",
    "    #print(t.sqrt(dist2), target)\n",
    "    return (t.sqrt(dist2) - target)**2 * t.exp(-dist2 / rang**2)\n",
    "\n",
    "def U_vectorized(pos):\n",
    "    dist2 = reduce((rearrange(pos, 'n p -> n 1 p') - rearrange(pos, 'n p -> 1 n p'))**2, 'n m p -> n m', 'sum')\n",
    "    strangers = (t.sqrt(dist2) - 3/n)**2 * t.exp(-dist2 / 0.1**2)\n",
    "    neighbors = t.diagonal(dist2, offset=1)"
   ]
  },
  {
   "cell_type": "code",
   "execution_count": 449,
   "id": "4ab4b1a2",
   "metadata": {},
   "outputs": [
    {
     "data": {
      "text/plain": [
       "tensor([0., 0., 0., 0.])"
      ]
     },
     "execution_count": 449,
     "metadata": {},
     "output_type": "execute_result"
    }
   ],
   "source": [
    "t.diagonal(t.eye(5), offset=1)"
   ]
  },
  {
   "cell_type": "code",
   "execution_count": 444,
   "id": "5ee38321",
   "metadata": {},
   "outputs": [
    {
     "data": {
      "text/plain": [
       "tensor([[0.0000, 0.0036, 0.0141,  ..., 0.9754, 0.9840, 1.0000],\n",
       "        [0.0036, 0.0000, 0.0034,  ..., 0.9738, 0.9753, 0.9841],\n",
       "        [0.0141, 0.0034, 0.0000,  ..., 0.9790, 0.9738, 0.9754],\n",
       "        ...,\n",
       "        [0.9754, 0.9738, 0.9790,  ..., 0.0000, 0.0034, 0.0141],\n",
       "        [0.9840, 0.9753, 0.9738,  ..., 0.0034, 0.0000, 0.0036],\n",
       "        [1.0000, 0.9841, 0.9754,  ..., 0.0141, 0.0036, 0.0000]],\n",
       "       grad_fn=<ReshapeAliasBackward0>)"
      ]
     },
     "execution_count": 444,
     "metadata": {},
     "output_type": "execute_result"
    }
   ],
   "source": [
    "U_vectorized(pts)"
   ]
  },
  {
   "cell_type": "code",
   "execution_count": 430,
   "id": "b9069196",
   "metadata": {},
   "outputs": [],
   "source": [
    "def grad_step(pts, opt):\n",
    "    E = sum([U(i, j, pts) for i in range(n) for j in range(i)])\n",
    "    print(E)\n",
    "    E.backward()\n",
    "    opt.step()\n",
    "    \n",
    "    pts.requires_grad_(False)\n",
    "    pts[0] = t.tensor([0., 0.])\n",
    "    pts[-1] = t.tensor([1., 0])\n",
    "    pts.requires_grad_(True)\n",
    "    \n",
    "    opt.zero_grad()\n",
    "    "
   ]
  },
  {
   "cell_type": "code",
   "execution_count": 431,
   "id": "81d33d58",
   "metadata": {},
   "outputs": [],
   "source": [
    "n = 100\n",
    "\n",
    "pts = t.zeros([n, 2])\n",
    "pts[:, 0] = t.linspace(0, 1, n)\n",
    "pts[:, 1] = t.sin(t.linspace(0, 2*np.pi, n))\n",
    "\n",
    "pts.requires_grad_()\n",
    "\n",
    "opt = t.optim.SGD([pts], lr=3e-4)"
   ]
  },
  {
   "cell_type": "code",
   "execution_count": 432,
   "id": "23daba92",
   "metadata": {},
   "outputs": [],
   "source": [
    "dots0 = pts.detach().numpy().copy()"
   ]
  },
  {
   "cell_type": "code",
   "execution_count": 433,
   "id": "88f461b7",
   "metadata": {},
   "outputs": [],
   "source": [
    "qplot = lambda dots: plt.plot(dots[:, 0], dots[:, 1], '.-')"
   ]
  },
  {
   "cell_type": "code",
   "execution_count": 434,
   "id": "bcfae4ef",
   "metadata": {},
   "outputs": [
    {
     "name": "stdout",
     "output_type": "stream",
     "text": [
      "0\n",
      "tensor(48.0174, grad_fn=<AddBackward0>)\n",
      "1\n",
      "tensor(46.7916, grad_fn=<AddBackward0>)\n",
      "2\n",
      "tensor(45.6071, grad_fn=<AddBackward0>)\n",
      "3\n",
      "tensor(44.4803, grad_fn=<AddBackward0>)\n",
      "4\n",
      "tensor(43.4375, grad_fn=<AddBackward0>)\n",
      "5\n",
      "tensor(42.4875, grad_fn=<AddBackward0>)\n",
      "6\n",
      "tensor(41.6038, grad_fn=<AddBackward0>)\n",
      "7\n",
      "tensor(40.7656, grad_fn=<AddBackward0>)\n",
      "8\n",
      "tensor(40.0259, grad_fn=<AddBackward0>)\n",
      "9\n",
      "tensor(39.4314, grad_fn=<AddBackward0>)\n",
      "10\n",
      "tensor(38.9303, grad_fn=<AddBackward0>)\n",
      "11\n",
      "tensor(38.4829, grad_fn=<AddBackward0>)\n",
      "12\n",
      "tensor(38.0747, grad_fn=<AddBackward0>)\n",
      "13\n",
      "tensor(37.6976, grad_fn=<AddBackward0>)\n",
      "14\n",
      "tensor(37.3447, grad_fn=<AddBackward0>)\n",
      "15\n",
      "tensor(37.0102, grad_fn=<AddBackward0>)\n",
      "16\n",
      "tensor(36.6897, grad_fn=<AddBackward0>)\n",
      "17\n",
      "tensor(36.3802, grad_fn=<AddBackward0>)\n",
      "18\n",
      "tensor(36.0799, grad_fn=<AddBackward0>)\n",
      "19\n",
      "tensor(35.7873, grad_fn=<AddBackward0>)\n",
      "20\n",
      "tensor(35.5016, grad_fn=<AddBackward0>)\n",
      "21\n",
      "tensor(35.2221, grad_fn=<AddBackward0>)\n",
      "22\n",
      "tensor(34.9485, grad_fn=<AddBackward0>)\n",
      "23\n",
      "tensor(34.6803, grad_fn=<AddBackward0>)\n",
      "24\n",
      "tensor(34.4175, grad_fn=<AddBackward0>)\n",
      "25\n",
      "tensor(34.1603, grad_fn=<AddBackward0>)\n",
      "26\n",
      "tensor(33.9092, grad_fn=<AddBackward0>)\n",
      "27\n",
      "tensor(33.6654, grad_fn=<AddBackward0>)\n",
      "28\n",
      "tensor(33.4316, grad_fn=<AddBackward0>)\n",
      "29\n",
      "tensor(33.2128, grad_fn=<AddBackward0>)\n"
     ]
    }
   ],
   "source": [
    "for step in range(30):\n",
    "    print(step)\n",
    "    grad_step(pts, opt)"
   ]
  },
  {
   "cell_type": "code",
   "execution_count": 435,
   "id": "906d0578",
   "metadata": {},
   "outputs": [
    {
     "data": {
      "text/plain": [
       "[<matplotlib.lines.Line2D at 0x7f868c965650>]"
      ]
     },
     "execution_count": 435,
     "metadata": {},
     "output_type": "execute_result"
    },
    {
     "data": {
      "image/png": "[encoded data removed]",
      "text/plain": [
       "<Figure size 640x480 with 1 Axes>"
      ]
     },
     "metadata": {},
     "output_type": "display_data"
    }
   ],
   "source": [
    "dots = pts.detach().numpy()\n",
    "qplot(dots0)\n",
    "#qplot(dots1)\n",
    "qplot(dots)"
   ]
  },
  {
   "cell_type": "code",
   "execution_count": null,
   "id": "6159f24b",
   "metadata": {},
   "outputs": [],
   "source": []
  },
  {
   "cell_type": "code",
   "execution_count": null,
   "id": "90c49ae8",
   "metadata": {},
   "outputs": [],
   "source": []
  }
 ],
 "metadata": {
  "kernelspec": {
   "display_name": "Python 3 (ipykernel)",
   "language": "python",
   "name": "python3"
  },
  "language_info": {
   "codemirror_mode": {
    "name": "ipython",
    "version": 3
   },
   "file_extension": ".py",
   "mimetype": "text/x-python",
   "name": "python",
   "nbconvert_exporter": "python",
   "pygments_lexer": "ipython3",
   "version": "3.11.8"
  }
 },
 "nbformat": 4,
 "nbformat_minor": 5
}
