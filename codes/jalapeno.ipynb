{
 "cells": [
  {
   "cell_type": "code",
   "execution_count": 5,
   "id": "8dfd600f-dbd8-41be-ab96-167f2b67c282",
   "metadata": {},
   "outputs": [
    {
     "data": {
      "text/plain": [
       "'√±'"
      ]
     },
     "execution_count": 5,
     "metadata": {},
     "output_type": "execute_result"
    }
   ],
   "source": [
    "'ñ'.encode().decode('macintosh')"
   ]
  },
  {
   "cell_type": "code",
   "execution_count": 1,
   "id": "a2cde101-c552-4b40-86f3-7f50991313ac",
   "metadata": {},
   "outputs": [
    {
     "data": {
      "text/plain": [
       "'Ã±'"
      ]
     },
     "execution_count": 1,
     "metadata": {},
     "output_type": "execute_result"
    }
   ],
   "source": [
    "'ñ'.encode().decode('1252')"
   ]
  },
  {
   "cell_type": "code",
   "execution_count": 4,
   "id": "43b2cf1d-4ea9-47fe-9667-803c4ff03bb2",
   "metadata": {},
   "outputs": [
    {
     "data": {
      "text/plain": [
       "'ñ'"
      ]
     },
     "execution_count": 4,
     "metadata": {},
     "output_type": "execute_result"
    }
   ],
   "source": [
    "'√±'.encode('macintosh').decode()"
   ]
  }
 ],
 "metadata": {
  "kernelspec": {
   "display_name": "Python 3 (ipykernel)",
   "language": "python",
   "name": "python3"
  },
  "language_info": {
   "codemirror_mode": {
    "name": "ipython",
    "version": 3
   },
   "file_extension": ".py",
   "mimetype": "text/x-python",
   "name": "python",
   "nbconvert_exporter": "python",
   "pygments_lexer": "ipython3",
   "version": "3.12.6"
  }
 },
 "nbformat": 4,
 "nbformat_minor": 5
}
