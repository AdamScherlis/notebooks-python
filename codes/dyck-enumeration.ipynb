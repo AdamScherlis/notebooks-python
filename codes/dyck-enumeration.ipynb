{
 "cells": [
  {
   "cell_type": "code",
   "execution_count": null,
   "metadata": {},
   "outputs": [],
   "source": [
    "# 2022-07\n",
    "# several bijections between N and Dyck words / paren strings\n",
    "# unfinished, I hope I remember what \"cat\" means"
   ]
  },
  {
   "cell_type": "code",
   "execution_count": 27,
   "metadata": {},
   "outputs": [],
   "source": [
    "from matplotlib import pyplot as plt"
   ]
  },
  {
   "cell_type": "code",
   "execution_count": 42,
   "metadata": {},
   "outputs": [],
   "source": [
    "def parens(n):\n",
    "    bits = bin(n)[2:]  # drop 0b\n",
    "    # len of 0 runs after each 1\n",
    "    ms = [len(s) for s in bits.split('1')[1:]]\n",
    "    return ''.join([f'({parens(m)})' for m in ms])"
   ]
  },
  {
   "cell_type": "code",
   "execution_count": 98,
   "metadata": {},
   "outputs": [],
   "source": [
    "def parens_old(n):\n",
    "    bits = bin(n)[2:]  # drop 0b\n",
    "    if bits == '0':\n",
    "        bits = '' # no leading zero!\n",
    "    out = ''\n",
    "    height = 0\n",
    "    for i, bit in enumerate(bits):\n",
    "        if bit == '0':\n",
    "            height -= 1\n",
    "            out += ')'\n",
    "        if bit == '1' or height == 0 or '0' not in bits[i+1:]:\n",
    "            height += 1\n",
    "            out += '('\n",
    "    return out + ')'*height\n",
    "\n",
    "def parens_cat(n):\n",
    "    raise NotImplementedError"
   ]
  },
  {
   "cell_type": "code",
   "execution_count": 97,
   "metadata": {},
   "outputs": [
    {
     "name": "stdout",
     "output_type": "stream",
     "text": [
      "0 \n",
      "1 ()\n",
      "2 ()()\n",
      "3 (())\n",
      "4 ()()()\n",
      "5 ()(())\n",
      "6 (()())\n",
      "7 ((()))\n",
      "8 ()()()()\n",
      "9 ()()(())\n",
      "10 ()(()())\n",
      "11 ()((()))\n",
      "12 (())()\n",
      "13 (()(()))\n",
      "14 ((()()))\n",
      "15 (((())))\n",
      "16 ()()()()()\n",
      "17 ()()()(())\n",
      "18 ()()(()())\n",
      "19 ()()((()))\n"
     ]
    }
   ],
   "source": [
    "[print(n, parens_old(n)) for n in range(20)];"
   ]
  },
  {
   "cell_type": "code",
   "execution_count": 92,
   "metadata": {
    "scrolled": true
   },
   "outputs": [
    {
     "name": "stdout",
     "output_type": "stream",
     "text": [
      "9 ((()))()\n",
      "10 (())(())\n",
      "11 (())()()\n",
      "12 ()((()))\n",
      "13 ()(())()\n",
      "14 ()()(())\n",
      "15 ()()()()\n",
      "16 (((())))\n",
      "17 (()())()\n",
      "24 ()(()())\n",
      "32 ((())())\n",
      "64 (()(()))\n",
      "128 (()()())\n",
      "256 ((()()))\n"
     ]
    },
    {
     "data": {
      "text/plain": [
       "14"
      ]
     },
     "execution_count": 92,
     "metadata": {},
     "output_type": "execute_result"
    }
   ],
   "source": [
    "len([print(n, parens(n)) for n in range(100000) if len(parens(n))==8])"
   ]
  },
  {
   "cell_type": "code",
   "execution_count": 67,
   "metadata": {},
   "outputs": [
    {
     "data": {
      "text/plain": [
       "[<matplotlib.lines.Line2D at 0x7f30f542b1d0>]"
      ]
     },
     "execution_count": 67,
     "metadata": {},
     "output_type": "execute_result"
    },
    {
     "data": {
      "image/png": "[encoded data removed]",
      "text/plain": [
       "<Figure size 432x288 with 1 Axes>"
      ]
     },
     "metadata": {
      "needs_background": "light"
     },
     "output_type": "display_data"
    }
   ],
   "source": [
    "plt.plot([len(parens(i))//2 for i in range(40)], linestyle='none', marker='.')\n",
    "plt.plot(np.arange(40), np.log2(7*np.arange(40)+7)-2)"
   ]
  },
  {
   "cell_type": "code",
   "execution_count": 73,
   "metadata": {},
   "outputs": [
    {
     "name": "stdout",
     "output_type": "stream",
     "text": [
      "0\n",
      "0b0\n",
      "\n",
      "0\n",
      "0.8073549220576042\n",
      "0.0\n",
      "\n",
      "1\n",
      "0b1\n",
      "()\n",
      "1\n",
      "1.8073549220576042\n",
      "1.4594316186372973\n",
      "\n",
      "2\n",
      "0b10\n",
      "(())\n",
      "2\n",
      "2.3923174227787607\n",
      "2.169925001442312\n",
      "\n",
      "4\n",
      "0b100\n",
      "((()))\n",
      "3\n",
      "3.1292830169449664\n",
      "3.0\n",
      "\n",
      "9\n",
      "0b1001\n",
      "((()))()\n",
      "4\n",
      "4.129283016944966\n",
      "4.066089190457772\n",
      "\n",
      "18\n",
      "0b10010\n",
      "((()))(())\n",
      "5\n",
      "5.05528243550119\n",
      "5.022367813028454\n",
      "\n",
      "36\n",
      "0b100100\n",
      "((()))((()))\n",
      "6\n",
      "6.016808287686555\n",
      "6.0\n",
      "\n",
      "73\n",
      "0b1001001\n",
      "((()))((()))()\n",
      "7\n",
      "7.016808287686555\n",
      "7.00842862207058\n",
      "\n",
      "146\n",
      "0b10010010\n",
      "((()))((()))(())\n",
      "8\n",
      "8.007027266893969\n",
      "8.002815015607053\n",
      "\n",
      "292\n",
      "0b100100100\n",
      "((()))((()))((()))\n",
      "9\n",
      "9.002111776479852\n",
      "9.0\n",
      "\n",
      "585\n",
      "0b1001001001\n",
      "((()))((()))((()))()\n",
      "10\n",
      "10.002111776479852\n",
      "10.001056274634779\n",
      "\n",
      "1170\n",
      "0b10010010010\n",
      "((()))((()))((()))(())\n",
      "11\n",
      "11.00088028255882\n",
      "11.0003521774803\n",
      "\n",
      "2340\n",
      "0b100100100100\n",
      "((()))((()))((()))((()))\n",
      "12\n",
      "12.000264141169616\n",
      "12.0\n",
      "\n",
      "4681\n",
      "0b1001001001001\n",
      "((()))((()))((()))((()))()\n",
      "13\n",
      "13.000264141169616\n",
      "13.000132076629967\n",
      "\n",
      "9362\n",
      "0b10010010010010\n",
      "((()))((()))((()))((()))(())\n",
      "14\n",
      "14.00011006469797\n",
      "14.000044026886826\n",
      "\n",
      "18724\n",
      "0b100100100100100\n",
      "((()))((()))((()))((()))((()))\n",
      "15\n",
      "15.000033020291081\n",
      "15.0\n",
      "\n",
      "37449\n",
      "0b1001001001001001\n",
      "((()))((()))((()))((()))((()))()\n",
      "16\n",
      "16.00003302029108\n",
      "16.00001651024001\n",
      "\n",
      "74898\n",
      "0b10010010010010010\n",
      "((()))((()))((()))((()))((()))(())\n",
      "17\n",
      "17.000013758546462\n",
      "17.00000550343433\n",
      "\n"
     ]
    }
   ],
   "source": [
    "record = -1\n",
    "for i in range(100000):\n",
    "    if len(parens(i)) > record:\n",
    "        record = len(parens(i))\n",
    "        print(i)\n",
    "        print(bin(i))\n",
    "        print(parens(i))\n",
    "        print(record//2)\n",
    "        print(np.log2(7*i+7)-2)\n",
    "        print(np.log2(7*i+4)-2)\n",
    "        print()"
   ]
  },
  {
   "cell_type": "code",
   "execution_count": 79,
   "metadata": {},
   "outputs": [
    {
     "data": {
      "text/plain": [
       "15.0"
      ]
     },
     "execution_count": 79,
     "metadata": {},
     "output_type": "execute_result"
    }
   ],
   "source": [
    "np.log2(7*4681+1)"
   ]
  },
  {
   "cell_type": "code",
   "execution_count": 82,
   "metadata": {},
   "outputs": [
    {
     "data": {
      "text/plain": [
       "14.0"
      ]
     },
     "execution_count": 82,
     "metadata": {},
     "output_type": "execute_result"
    }
   ],
   "source": [
    "np.log2(7*2340+4)"
   ]
  },
  {
   "cell_type": "code",
   "execution_count": 83,
   "metadata": {},
   "outputs": [
    {
     "data": {
      "text/plain": [
       "16384"
      ]
     },
     "execution_count": 83,
     "metadata": {},
     "output_type": "execute_result"
    }
   ],
   "source": [
    "7*2340+4"
   ]
  },
  {
   "cell_type": "code",
   "execution_count": 76,
   "metadata": {},
   "outputs": [
    {
     "data": {
      "text/plain": [
       "26"
      ]
     },
     "execution_count": 76,
     "metadata": {},
     "output_type": "execute_result"
    }
   ],
   "source": [
    "len(parens(4681))"
   ]
  },
  {
   "cell_type": "code",
   "execution_count": 77,
   "metadata": {},
   "outputs": [
    {
     "data": {
      "text/plain": [
       "32768"
      ]
     },
     "execution_count": 77,
     "metadata": {},
     "output_type": "execute_result"
    }
   ],
   "source": [
    "7*4681+1"
   ]
  },
  {
   "cell_type": "code",
   "execution_count": 53,
   "metadata": {},
   "outputs": [],
   "source": [
    "import numpy as np"
   ]
  },
  {
   "cell_type": "code",
   "execution_count": 74,
   "metadata": {},
   "outputs": [
    {
     "data": {
      "text/plain": [
       "4681.0"
      ]
     },
     "execution_count": 74,
     "metadata": {},
     "output_type": "execute_result"
    }
   ],
   "source": [
    "(2**15-1)/7"
   ]
  },
  {
   "cell_type": "code",
   "execution_count": 56,
   "metadata": {},
   "outputs": [
    {
     "data": {
      "text/plain": [
       "0.5703125"
      ]
     },
     "execution_count": 56,
     "metadata": {},
     "output_type": "execute_result"
    }
   ],
   "source": [
    "0b1001001/0b10000000"
   ]
  },
  {
   "cell_type": "code",
   "execution_count": 64,
   "metadata": {},
   "outputs": [
    {
     "name": "stdout",
     "output_type": "stream",
     "text": [
      "0.5714285714285714\n",
      "0.5773502691896258\n",
      "0.5772156649015329\n"
     ]
    }
   ],
   "source": [
    "print(4/7)\n",
    "print(1/np.sqrt(3))\n",
    "print(np.euler_gamma)"
   ]
  },
  {
   "cell_type": "code",
   "execution_count": 63,
   "metadata": {},
   "outputs": [
    {
     "data": {
      "text/plain": [
       "0.33317792380771866"
      ]
     },
     "execution_count": 63,
     "metadata": {},
     "output_type": "execute_result"
    }
   ],
   "source": [
    "np.euler_gamma**2"
   ]
  },
  {
   "cell_type": "code",
   "execution_count": 62,
   "metadata": {},
   "outputs": [
    {
     "name": "stdout",
     "output_type": "stream",
     "text": [
      "0b10010010010010010010\n",
      "0b10010011110011010011\n",
      "0b10010011110001000110\n"
     ]
    }
   ],
   "source": [
    "print(bin(int(2**20 * 4/7)))\n",
    "print(bin(int(2**20 / np.sqrt(3))))\n",
    "print(bin(int(2**20 * np.euler_gamma)))"
   ]
  }
 ],
 "metadata": {
  "kernelspec": {
   "display_name": "Python 3 (ipykernel)",
   "language": "python",
   "name": "python3"
  },
  "language_info": {
   "codemirror_mode": {
    "name": "ipython",
    "version": 3
   },
   "file_extension": ".py",
   "mimetype": "text/x-python",
   "name": "python",
   "nbconvert_exporter": "python",
   "pygments_lexer": "ipython3",
   "version": "3.11.1"
  }
 },
 "nbformat": 4,
 "nbformat_minor": 4
}
