{
 "cells": [
  {
   "cell_type": "code",
   "execution_count": null,
   "id": "5565ddb9",
   "metadata": {},
   "outputs": [],
   "source": [
    "# 2023-10\n",
    "# looking for fun base64 coincidences"
   ]
  },
  {
   "cell_type": "code",
   "execution_count": 5,
   "id": "2cbe4f15",
   "metadata": {},
   "outputs": [],
   "source": [
    "import base64"
   ]
  },
  {
   "cell_type": "code",
   "execution_count": 3,
   "id": "bfe28592",
   "metadata": {},
   "outputs": [],
   "source": [
    "def stripped_lines(filename):\n",
    "    with open('../corpora/'+filename, 'r') as f:\n",
    "        return [l.strip() for l in f.readlines()]"
   ]
  },
  {
   "cell_type": "code",
   "execution_count": 4,
   "id": "cd0f2b88",
   "metadata": {},
   "outputs": [],
   "source": [
    "alphalines = stripped_lines('words_alpha.txt')\n",
    "alpha10klines = stripped_lines('english-10k.txt')"
   ]
  },
  {
   "cell_type": "code",
   "execution_count": 25,
   "id": "e2adfc7e",
   "metadata": {},
   "outputs": [],
   "source": [
    "allalpha = list(set(alphalines+alpha10klines))"
   ]
  },
  {
   "cell_type": "code",
   "execution_count": 31,
   "id": "4e0880c8",
   "metadata": {},
   "outputs": [],
   "source": [
    "sowpods = stripped_lines('sowpods.txt')"
   ]
  },
  {
   "cell_type": "code",
   "execution_count": 50,
   "id": "d4205c99",
   "metadata": {},
   "outputs": [],
   "source": [
    "csw19 = [w.lower() for w in stripped_lines('csw19.txt')[2:]]"
   ]
  },
  {
   "cell_type": "code",
   "execution_count": 34,
   "id": "ba0551b2",
   "metadata": {},
   "outputs": [
    {
     "data": {
      "text/plain": [
       "370103"
      ]
     },
     "execution_count": 34,
     "metadata": {},
     "output_type": "execute_result"
    }
   ],
   "source": [
    "len(alphalines)"
   ]
  },
  {
   "cell_type": "code",
   "execution_count": 53,
   "id": "98815917",
   "metadata": {},
   "outputs": [
    {
     "name": "stdout",
     "output_type": "stream",
     "text": [
      "hin aGlu\n"
     ]
    }
   ],
   "source": [
    "for word in csw19:\n",
    "    if len(word) % 3 == 0:\n",
    "        out = base64.b64encode(word.encode()).decode()\n",
    "        if out.isalpha():\n",
    "            if out.lower() in csw19:\n",
    "                print(word, out)"
   ]
  },
  {
   "cell_type": "code",
   "execution_count": 27,
   "id": "d1c57cd1",
   "metadata": {},
   "outputs": [
    {
     "name": "stdout",
     "output_type": "stream",
     "text": [
      "jib amli\n",
      "hir aGly\n",
      "ian aWFu\n"
     ]
    }
   ],
   "source": [
    "for word in allalpha:\n",
    "    if len(word) % 3 == 0:\n",
    "        out = base64.b64encode(word.encode()).decode()\n",
    "        if out.isalpha():\n",
    "            if out.lower() in allalpha:\n",
    "                print(word, out)"
   ]
  }
 ],
 "metadata": {
  "kernelspec": {
   "display_name": "Python 3 (ipykernel)",
   "language": "python",
   "name": "python3"
  },
  "language_info": {
   "codemirror_mode": {
    "name": "ipython",
    "version": 3
   },
   "file_extension": ".py",
   "mimetype": "text/x-python",
   "name": "python",
   "nbconvert_exporter": "python",
   "pygments_lexer": "ipython3",
   "version": "3.11.1"
  }
 },
 "nbformat": 4,
 "nbformat_minor": 5
}
