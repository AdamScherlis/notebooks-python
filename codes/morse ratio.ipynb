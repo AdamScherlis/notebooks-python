{
 "cells": [
  {
   "cell_type": "code",
   "execution_count": null,
   "metadata": {},
   "outputs": [],
   "source": [
    "# 2023-07\n",
    "# there's an info-theory argument that the dot:dash ratio\n",
    "# in Morse code should be approx. the golden ratio\n",
    "# in fact it's closer to 1.5, alas"
   ]
  },
  {
   "cell_type": "code",
   "execution_count": 1,
   "metadata": {},
   "outputs": [],
   "source": [
    "def stripped_lines(filename):\n",
    "    with open('corpora/'+filename, 'r') as f:\n",
    "        return [l.strip() for l in f.readlines()]"
   ]
  },
  {
   "cell_type": "code",
   "execution_count": 2,
   "metadata": {},
   "outputs": [],
   "source": [
    "alphalines = stripped_lines('words_alpha.txt')\n",
    "alpha10klines = stripped_lines('english-10k.txt')"
   ]
  },
  {
   "cell_type": "code",
   "execution_count": 3,
   "metadata": {},
   "outputs": [],
   "source": [
    "MORSE_CODE_DICT = { 'A':'.-', 'B':'-...',\n",
    "                    'C':'-.-.', 'D':'-..', 'E':'.',\n",
    "                    'F':'..-.', 'G':'--.', 'H':'....',\n",
    "                    'I':'..', 'J':'.---', 'K':'-.-',\n",
    "                    'L':'.-..', 'M':'--', 'N':'-.',\n",
    "                    'O':'---', 'P':'.--.', 'Q':'--.-',\n",
    "                    'R':'.-.', 'S':'...', 'T':'-',\n",
    "                    'U':'..-', 'V':'...-', 'W':'.--',\n",
    "                    'X':'-..-', 'Y':'-.--', 'Z':'--..',\n",
    "                    '1':'.----', '2':'..---', '3':'...--',\n",
    "                    '4':'....-', '5':'.....', '6':'-....',\n",
    "                    '7':'--...', '8':'---..', '9':'----.',\n",
    "                    '0':'-----', ', ':'--..--', '.':'.-.-.-',\n",
    "                    '?':'..--..', '/':'-..-.', '-':'-....-',\n",
    "                    '(':'-.--.', ')':'-.--.-', ' ':' '}"
   ]
  },
  {
   "cell_type": "code",
   "execution_count": 15,
   "metadata": {},
   "outputs": [
    {
     "data": {
      "text/plain": [
       "32"
      ]
     },
     "execution_count": 15,
     "metadata": {},
     "output_type": "execute_result"
    }
   ],
   "source": [
    "1+2+3+5+8+13"
   ]
  },
  {
   "cell_type": "code",
   "execution_count": 18,
   "metadata": {},
   "outputs": [],
   "source": [
    "from functools import cache"
   ]
  },
  {
   "cell_type": "code",
   "execution_count": 19,
   "metadata": {},
   "outputs": [],
   "source": [
    "@cache\n",
    "def fibwords(n):\n",
    "    if n==-1:\n",
    "        return []\n",
    "    if n==0:\n",
    "        return ['']\n",
    "    return ['.'+s for s in fibwords(n-1)] + ['-'+s for s in fibwords(n-2)]"
   ]
  },
  {
   "cell_type": "code",
   "execution_count": 24,
   "metadata": {
    "scrolled": true
   },
   "outputs": [
    {
     "name": "stdout",
     "output_type": "stream",
     "text": [
      "0 \n",
      "6 ......\n",
      "6 ...-.\n",
      "6 ..-..\n",
      "6 ..--\n",
      "6 .-...\n",
      "6 .-.-\n",
      "7 .......\n",
      "7 .....-\n",
      "7 ....-.\n",
      "7 ...-..\n",
      "7 ..-...\n",
      "7 ..-.-\n",
      "7 ..--.\n",
      "7 .-....\n",
      "7 .-..-\n",
      "7 .-.-.\n",
      "7 .--..\n",
      "7 -.....\n",
      "7 -...-\n",
      "7 -.-..\n",
      "7 ---.\n",
      "8 ........\n",
      "8 ......-\n",
      "8 .....-.\n",
      "8 ....-..\n",
      "8 ....--\n",
      "8 ...-...\n",
      "8 ...-.-\n",
      "8 ...--.\n",
      "8 ..-....\n",
      "8 ..-..-\n",
      "8 ..-.-.\n",
      "8 .-.....\n",
      "8 .-...-\n",
      "8 .-..-.\n",
      "8 .-.-..\n",
      "8 .-.--\n",
      "8 .--...\n",
      "8 .--.-\n",
      "8 .---.\n",
      "8 -......\n",
      "8 -...-.\n",
      "8 -..-..\n",
      "8 -..--\n",
      "8 -.-...\n",
      "8 -.-.-\n",
      "8 --....\n",
      "8 --..-\n",
      "8 --.-.\n",
      "8 ----\n",
      "9 .........\n",
      "9 .......-\n",
      "9 ......-.\n",
      "9 .....-..\n",
      "9 .....--\n",
      "9 ....-...\n",
      "9 ....-.-\n",
      "9 ....--.\n",
      "9 ...-....\n",
      "9 ...-..-\n",
      "9 ...-.-.\n",
      "9 ...--..\n",
      "9 ...---\n",
      "9 ..-.....\n",
      "9 ..-...-\n",
      "9 ..-..-.\n",
      "9 ..-.-..\n",
      "9 ..-.--\n",
      "9 ..--...\n",
      "9 ..--.-\n",
      "9 ..---.\n",
      "9 .-......\n",
      "9 .-....-\n",
      "9 .-...-.\n",
      "9 .-..-..\n",
      "9 .-..--\n",
      "9 .-.-...\n",
      "9 .-.--.\n",
      "9 .--....\n",
      "9 .--..-\n",
      "9 .--.-.\n",
      "9 .---..\n",
      "9 -.......\n",
      "9 -.....-\n",
      "9 -....-.\n",
      "9 -...-..\n",
      "9 -...--\n",
      "9 -..-...\n",
      "9 -..-.-\n",
      "9 -..--.\n",
      "9 -.-....\n",
      "9 -.-..-\n",
      "9 -.-.-.\n",
      "9 -.--..\n",
      "9 -.---\n",
      "9 --.....\n",
      "9 --...-\n",
      "9 --..-.\n",
      "9 --.-..\n",
      "9 --.--\n",
      "9 ---...\n",
      "9 ---.-\n",
      "10 ..........\n",
      "10 ........-\n",
      "10 .......-.\n",
      "10 ......-..\n",
      "10 ......--\n",
      "10 .....-...\n",
      "10 .....-.-\n",
      "10 .....--.\n",
      "10 ....-....\n",
      "10 ....-..-\n",
      "10 ....-.-.\n",
      "10 ....--..\n",
      "10 ....---\n",
      "10 ...-.....\n",
      "10 ...-...-\n",
      "10 ...-..-.\n",
      "10 ...-.-..\n",
      "10 ...-.--\n",
      "10 ...--...\n",
      "10 ...--.-\n",
      "10 ...---.\n",
      "10 ..-......\n",
      "10 ..-....-\n",
      "10 ..-...-.\n",
      "10 ..-..-..\n",
      "10 ..-..--\n",
      "10 ..-.-...\n",
      "10 ..-.-.-\n",
      "10 ..-.--.\n",
      "10 ..--....\n",
      "10 ..--..-\n",
      "10 ..--.-.\n",
      "10 ..---..\n",
      "10 ..----\n",
      "10 .-.......\n",
      "10 .-.....-\n",
      "10 .-....-.\n",
      "10 .-...-..\n",
      "10 .-...--\n",
      "10 .-..-...\n",
      "10 .-..-.-\n",
      "10 .-..--.\n",
      "10 .-.-....\n",
      "10 .-.-..-\n",
      "10 .-.-.-.\n",
      "10 .-.--..\n",
      "10 .-.---\n",
      "10 .--.....\n",
      "10 .--...-\n",
      "10 .--..-.\n",
      "10 .--.-..\n",
      "10 .--.--\n",
      "10 .---...\n",
      "10 .---.-\n",
      "10 .----.\n",
      "10 -........\n",
      "10 -......-\n",
      "10 -.....-.\n",
      "10 -....-..\n",
      "10 -....--\n",
      "10 -...-...\n",
      "10 -...-.-\n",
      "10 -...--.\n",
      "10 -..-....\n",
      "10 -..-..-\n",
      "10 -..-.-.\n",
      "10 -..--..\n",
      "10 -..---\n",
      "10 -.-.....\n",
      "10 -.-...-\n",
      "10 -.-..-.\n",
      "10 -.-.-..\n",
      "10 -.-.--\n",
      "10 -.--...\n",
      "10 -.---.\n",
      "10 --......\n",
      "10 --....-\n",
      "10 --...-.\n",
      "10 --..-..\n",
      "10 --.-...\n",
      "10 --.-.-\n",
      "10 --.--.\n",
      "10 ---....\n",
      "10 ---..-\n",
      "10 ---.-.\n",
      "10 ----..\n"
     ]
    }
   ],
   "source": [
    "for n in range(11):\n",
    "    for s in fibwords(n):\n",
    "        if s not in MORSE_CODE_DICT.values():\n",
    "            print(n, s)"
   ]
  },
  {
   "cell_type": "code",
   "execution_count": 4,
   "metadata": {},
   "outputs": [],
   "source": [
    "def morse(word):\n",
    "    return ' '.join([MORSE_CODE_DICT[l.upper()] for l in word])"
   ]
  },
  {
   "cell_type": "code",
   "execution_count": 5,
   "metadata": {},
   "outputs": [],
   "source": [
    "def morse_and_ranges(word):\n",
    "    letters = [MORSE_CODE_DICT[l.upper()] for l in word]\n",
    "    morse = ''.join(letters)\n",
    "    ranges = []\n",
    "    i = 0\n",
    "    for letter in letters:\n",
    "        ranges += [(i, i + len(letter))]\n",
    "        i += len(letter)\n",
    "    return morse, ranges"
   ]
  },
  {
   "cell_type": "code",
   "execution_count": 6,
   "metadata": {},
   "outputs": [],
   "source": [
    "def timelen(code):\n",
    "    return sum([{'.':2, '-':4}[c] for c in code]) - 1"
   ]
  },
  {
   "cell_type": "code",
   "execution_count": 49,
   "metadata": {},
   "outputs": [
    {
     "data": {
      "text/plain": [
       "'-- --- .-. ... .   -.-. --- -.. .'"
      ]
     },
     "execution_count": 49,
     "metadata": {},
     "output_type": "execute_result"
    }
   ],
   "source": [
    "morse('morse code')"
   ]
  },
  {
   "cell_type": "code",
   "execution_count": 50,
   "metadata": {},
   "outputs": [
    {
     "data": {
      "text/plain": [
       "'... .- -- ..- . .-..   -- --- .-. ... .'"
      ]
     },
     "execution_count": 50,
     "metadata": {},
     "output_type": "execute_result"
    }
   ],
   "source": [
    "morse('samuel morse')"
   ]
  },
  {
   "cell_type": "code",
   "execution_count": 10,
   "metadata": {},
   "outputs": [
    {
     "data": {
      "text/plain": [
       "101928"
      ]
     },
     "execution_count": 10,
     "metadata": {},
     "output_type": "execute_result"
    }
   ],
   "source": [
    "sum([len([c for c in morse(s) if c=='.']) for s in alpha10klines])"
   ]
  },
  {
   "cell_type": "code",
   "execution_count": 11,
   "metadata": {},
   "outputs": [
    {
     "data": {
      "text/plain": [
       "67779"
      ]
     },
     "execution_count": 11,
     "metadata": {},
     "output_type": "execute_result"
    }
   ],
   "source": [
    "sum([len([c for c in morse(s) if c=='-']) for s in alpha10klines])"
   ]
  },
  {
   "cell_type": "code",
   "execution_count": 12,
   "metadata": {},
   "outputs": [
    {
     "data": {
      "text/plain": [
       "1.503828619483911"
      ]
     },
     "execution_count": 12,
     "metadata": {},
     "output_type": "execute_result"
    }
   ],
   "source": [
    "101928 / 67779"
   ]
  },
  {
   "cell_type": "code",
   "execution_count": 13,
   "metadata": {},
   "outputs": [],
   "source": [
    "lrates = {'a': 8.17,\n",
    "'b': 1.49,\n",
    "'c': 2.78,\n",
    "'d': 4.25,\n",
    "'e': 12.70,\n",
    "'f': 2.23,\n",
    "'g': 2.02,\n",
    "'h': 6.09,\n",
    "'i': 6.97,\n",
    "'j': 0.25,\n",
    "'k': 1.77,\n",
    "'l': 4.03,\n",
    "'m': 2.41,\n",
    "'n': 6.75,\n",
    "'o': 7.51,\n",
    "'p': 1.93,\n",
    "'q': 0.10,\n",
    "'r': 5.99,\n",
    "'s': 6.33,\n",
    "'t': 9.06,\n",
    "'u': 2.76,\n",
    "'v': 0.98,\n",
    "'w': 2.36,\n",
    "'x': 0.25,\n",
    "'y': 1.97,\n",
    "'z': 0.07,\n",
    "}"
   ]
  },
  {
   "cell_type": "code",
   "execution_count": 14,
   "metadata": {},
   "outputs": [
    {
     "data": {
      "text/plain": [
       "1.5201211174057434"
      ]
     },
     "execution_count": 14,
     "metadata": {},
     "output_type": "execute_result"
    }
   ],
   "source": [
    "dot, dash = 0, 0\n",
    "for l in lrates:\n",
    "    coded = morse(l)\n",
    "    dot += len([c for c in coded if c=='.']) * lrates[l]\n",
    "    dash += len([c for c in coded if c=='-']) * lrates[l]\n",
    "    \n",
    "dot / dash"
   ]
  }
 ],
 "metadata": {
  "kernelspec": {
   "display_name": "Python 3 (ipykernel)",
   "language": "python",
   "name": "python3"
  },
  "language_info": {
   "codemirror_mode": {
    "name": "ipython",
    "version": 3
   },
   "file_extension": ".py",
   "mimetype": "text/x-python",
   "name": "python",
   "nbconvert_exporter": "python",
   "pygments_lexer": "ipython3",
   "version": "3.11.1"
  }
 },
 "nbformat": 4,
 "nbformat_minor": 4
}
