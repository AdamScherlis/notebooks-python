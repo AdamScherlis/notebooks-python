{
 "cells": [
  {
   "cell_type": "code",
   "execution_count": null,
   "metadata": {},
   "outputs": [],
   "source": [
    "# 2022-12\n",
    "# for a blog post"
   ]
  },
  {
   "cell_type": "code",
   "execution_count": 2,
   "metadata": {},
   "outputs": [
    {
     "data": {
      "text/plain": [
       "'don’t'"
      ]
     },
     "execution_count": 2,
     "metadata": {},
     "output_type": "execute_result"
    }
   ],
   "source": [
    "'don\\u2019t'"
   ]
  },
  {
   "cell_type": "code",
   "execution_count": 43,
   "metadata": {},
   "outputs": [
    {
     "data": {
      "text/plain": [
       "'â€”'"
      ]
     },
     "execution_count": 43,
     "metadata": {},
     "output_type": "execute_result"
    }
   ],
   "source": [
    "'\\u2014'.encode('utf8').decode('1252')"
   ]
  },
  {
   "cell_type": "code",
   "execution_count": 14,
   "metadata": {},
   "outputs": [
    {
     "ename": "UnicodeEncodeError",
     "evalue": "'charmap' codec can't encode character '\\u2640' in position 0: character maps to <undefined>",
     "output_type": "error",
     "traceback": [
      "\u001b[0;31m---------------------------------------------------------------------------\u001b[0m",
      "\u001b[0;31mUnicodeEncodeError\u001b[0m                        Traceback (most recent call last)",
      "\u001b[0;32m<ipython-input-14-352ad42716f3>\u001b[0m in \u001b[0;36m<module>\u001b[0;34m\u001b[0m\n\u001b[0;32m----> 1\u001b[0;31m \u001b[0;34m'♀'\u001b[0m\u001b[0;34m.\u001b[0m\u001b[0mencode\u001b[0m\u001b[0;34m(\u001b[0m\u001b[0;34m'437'\u001b[0m\u001b[0;34m)\u001b[0m\u001b[0;34m\u001b[0m\u001b[0;34m\u001b[0m\u001b[0m\n\u001b[0m",
      "\u001b[0;32m/usr/lib/python3.6/encodings/cp437.py\u001b[0m in \u001b[0;36mencode\u001b[0;34m(self, input, errors)\u001b[0m\n\u001b[1;32m     10\u001b[0m \u001b[0;34m\u001b[0m\u001b[0m\n\u001b[1;32m     11\u001b[0m     \u001b[0;32mdef\u001b[0m \u001b[0mencode\u001b[0m\u001b[0;34m(\u001b[0m\u001b[0mself\u001b[0m\u001b[0;34m,\u001b[0m\u001b[0minput\u001b[0m\u001b[0;34m,\u001b[0m\u001b[0merrors\u001b[0m\u001b[0;34m=\u001b[0m\u001b[0;34m'strict'\u001b[0m\u001b[0;34m)\u001b[0m\u001b[0;34m:\u001b[0m\u001b[0;34m\u001b[0m\u001b[0;34m\u001b[0m\u001b[0m\n\u001b[0;32m---> 12\u001b[0;31m         \u001b[0;32mreturn\u001b[0m \u001b[0mcodecs\u001b[0m\u001b[0;34m.\u001b[0m\u001b[0mcharmap_encode\u001b[0m\u001b[0;34m(\u001b[0m\u001b[0minput\u001b[0m\u001b[0;34m,\u001b[0m\u001b[0merrors\u001b[0m\u001b[0;34m,\u001b[0m\u001b[0mencoding_map\u001b[0m\u001b[0;34m)\u001b[0m\u001b[0;34m\u001b[0m\u001b[0;34m\u001b[0m\u001b[0m\n\u001b[0m\u001b[1;32m     13\u001b[0m \u001b[0;34m\u001b[0m\u001b[0m\n\u001b[1;32m     14\u001b[0m     \u001b[0;32mdef\u001b[0m \u001b[0mdecode\u001b[0m\u001b[0;34m(\u001b[0m\u001b[0mself\u001b[0m\u001b[0;34m,\u001b[0m\u001b[0minput\u001b[0m\u001b[0;34m,\u001b[0m\u001b[0merrors\u001b[0m\u001b[0;34m=\u001b[0m\u001b[0;34m'strict'\u001b[0m\u001b[0;34m)\u001b[0m\u001b[0;34m:\u001b[0m\u001b[0;34m\u001b[0m\u001b[0;34m\u001b[0m\u001b[0m\n",
      "\u001b[0;31mUnicodeEncodeError\u001b[0m: 'charmap' codec can't encode character '\\u2640' in position 0: character maps to <undefined>"
     ]
    }
   ],
   "source": [
    "'♀'.encode('437')"
   ]
  },
  {
   "cell_type": "code",
   "execution_count": 23,
   "metadata": {},
   "outputs": [
    {
     "data": {
      "text/plain": [
       "'α'"
      ]
     },
     "execution_count": 23,
     "metadata": {},
     "output_type": "execute_result"
    }
   ],
   "source": [
    "b'\\xe0'.decode('437')"
   ]
  },
  {
   "cell_type": "code",
   "execution_count": 24,
   "metadata": {},
   "outputs": [
    {
     "data": {
      "text/plain": [
       "'à'"
      ]
     },
     "execution_count": 24,
     "metadata": {},
     "output_type": "execute_result"
    }
   ],
   "source": [
    "'\\xe0'"
   ]
  },
  {
   "cell_type": "code",
   "execution_count": 61,
   "metadata": {},
   "outputs": [
    {
     "name": "stdout",
     "output_type": "stream",
     "text": [
      "\u0000\u0001\u0002\u0003\u0004\u0005\u0006\u0007\b\t\n",
      "\u000b",
      "\f",
      "\r",
      "\u000e\u000f\n",
      "\u0010\u0011\u0012\u0013\u0014\u0015\u0016\u0017\u0018\u0019\u001a\u001b\u001c",
      "\u001d",
      "\u001e",
      "\u001f\n",
      " !\"#$%&'()*+,-./\n",
      "0123456789:;<=>?\n",
      "@ABCDEFGHIJKLMNO\n",
      "PQRSTUVWXYZ[\\]^_\n",
      "`abcdefghijklmno\n",
      "pqrstuvwxyz{|}~\n",
      "ÇüéâäàåçêëèïîìÄÅ\n",
      "ÉæÆôöòûùÿÖÜ¢£¥₧ƒ\n",
      "áíóúñÑªº¿⌐¬½¼¡«»\n",
      "░▒▓│┤╡╢╖╕╣║╗╝╜╛┐\n",
      "└┴┬├─┼╞╟╚╔╩╦╠═╬╧\n",
      "╨╤╥╙╘╒╓╫╪┘┌█▄▌▐▀\n",
      "αßΓπΣσµτΦΘΩδ∞φε∩\n",
      "≡±≥≤⌠⌡÷≈°∙·√ⁿ²■ \n"
     ]
    },
    {
     "data": {
      "text/plain": [
       "[None,\n",
       " None,\n",
       " None,\n",
       " None,\n",
       " None,\n",
       " None,\n",
       " None,\n",
       " None,\n",
       " None,\n",
       " None,\n",
       " None,\n",
       " None,\n",
       " None,\n",
       " None,\n",
       " None,\n",
       " None]"
      ]
     },
     "execution_count": 61,
     "metadata": {},
     "output_type": "execute_result"
    }
   ],
   "source": [
    "chs = bytes(range(256)).decode('437')\n",
    "[print(chs[n:n+16]) for n in range(0,16**2,16)]"
   ]
  },
  {
   "cell_type": "code",
   "execution_count": 112,
   "metadata": {},
   "outputs": [
    {
     "data": {
      "text/plain": [
       "'—'"
      ]
     },
     "execution_count": 112,
     "metadata": {},
     "output_type": "execute_result"
    }
   ],
   "source": [
    "'\\u2014'"
   ]
  },
  {
   "cell_type": "code",
   "execution_count": 119,
   "metadata": {},
   "outputs": [
    {
     "name": "stdout",
     "output_type": "stream",
     "text": [
      "♀︎\n"
     ]
    }
   ],
   "source": [
    "print('\\u2640\\uFE0E')"
   ]
  },
  {
   "cell_type": "code",
   "execution_count": 120,
   "metadata": {},
   "outputs": [
    {
     "name": "stdout",
     "output_type": "stream",
     "text": [
      "♀️\n"
     ]
    }
   ],
   "source": [
    "print('\\u2640\\uFE0F')"
   ]
  },
  {
   "cell_type": "code",
   "execution_count": 110,
   "metadata": {},
   "outputs": [],
   "source": [
    "def mojify(s):\n",
    "    return s.encode().decode('1252')"
   ]
  },
  {
   "cell_type": "code",
   "execution_count": 117,
   "metadata": {},
   "outputs": [
    {
     "data": {
      "text/plain": [
       "'isnÃƒÆ’Ã†â€™Ãƒâ€šÃ‚Â¢ÃƒÆ’Ã‚Â¢ÃƒÂ¢Ã¢â€šÂ¬Ã…Â¡Ãƒâ€šÃ‚Â¬ÃƒÆ’Ã‚Â¢ÃƒÂ¢Ã¢â€šÂ¬Ã…Â¾Ãƒâ€šÃ‚Â¢t'"
      ]
     },
     "execution_count": 117,
     "metadata": {},
     "output_type": "execute_result"
    }
   ],
   "source": [
    "mojify(mojify(mojify(mojify(mojify('isn\\u2019t')))))"
   ]
  },
  {
   "cell_type": "code",
   "execution_count": 109,
   "metadata": {},
   "outputs": [
    {
     "name": "stdout",
     "output_type": "stream",
     "text": [
      "\u0000\u0001\u0002\u0003\u0004\u0005\u0006\u0007\u000b",
      "\f",
      "\u000e\u000f   \u0000\u0001\u0002\u0003\u0004\u0005\u0006\u0007\u000b",
      "\f",
      "\u000e\u000f\n",
      "\u0010\u0011\u0012\u0013\u0014\u0015\u0016\u0017\u0018\u0019\u001a\u001b\u001c",
      "\u001d",
      "\u001e",
      "\u001f   \u0010\u0011\u0012\u0013\u0014\u0015\u0016\u0017\u0018\u0019\u001a\u001b\u001c",
      "\u001d",
      "\u001e",
      "\u001f\n",
      " !\"#$%&'()*+,-./    !\"#$%&'()*+,-./\n",
      "0123456789:;<=>?   0123456789:;<=>?\n",
      "@ABCDEFGHIJKLMNO   @ABCDEFGHIJKLMNO\n",
      "PQRSTUVWXYZ[\\]^_   PQRSTUVWXYZ[\\]^_\n",
      "`abcdefghijklmno   `abcdefghijklmno\n",
      "pqrstuvwxyz{|}~   pqrstuvwxyz{|}~\n",
      "€ ‚ƒ„…†‡ˆ‰Š‹Œ Ž    ",
      "\n",
      " ‘’“”•–—˜™š›œ žŸ   \n",
      " ¡¢£¤¥¦§¨©ª«¬­®¯    ¡¢£¤¥¦§¨©ª«¬­®¯\n",
      "°±²³´µ¶·¸¹º»¼½¾¿   °±²³´µ¶·¸¹º»¼½¾¿\n",
      "ÀÁÂÃÄÅÆÇÈÉÊËÌÍÎÏ   ÀÁÂÃÄÅÆÇÈÉÊËÌÍÎÏ\n",
      "ÐÑÒÓÔÕÖ×ØÙÚÛÜÝÞß   ÐÑÒÓÔÕÖ×ØÙÚÛÜÝÞß\n",
      "àáâãäåæçèéêëìíîï   àáâãäåæçèéêëìíîï\n",
      "ðñòóôõö÷øùúûüýþÿ   ðñòóôõö÷øùúûüýþÿ\n"
     ]
    }
   ],
   "source": [
    "for n in range(16):\n",
    "    for m in range(16):\n",
    "        if chr(16*n+m) not in '\\b\\r\\n\\t':\n",
    "            try:\n",
    "                print(bytes([16*n+m]).decode('1252'), end='')\n",
    "            except Exception:\n",
    "                print(' ',end='')\n",
    "    print('   ', end='')\n",
    "    \n",
    "    for m in range(16):\n",
    "        if chr(16*n+m) not in '\\b\\r\\n\\t':\n",
    "            try:\n",
    "                print(chr(16*n+m), end='')\n",
    "            except Exception:\n",
    "                print(' ',end='')\n",
    "    print()"
   ]
  },
  {
   "cell_type": "code",
   "execution_count": 103,
   "metadata": {},
   "outputs": [
    {
     "name": "stdout",
     "output_type": "stream",
     "text": [
      "0x0\n",
      "aabb\u0000ccdd\u0000eeff\n",
      "0x1\n",
      "aabb\u0001ccdd\u0001eeff\n",
      "0x2\n",
      "aabb\u0002ccdd\u0002eeff\n",
      "0x3\n",
      "aabb\u0003ccdd\u0003eeff\n",
      "0x4\n",
      "aabb\u0004ccdd\u0004eeff\n",
      "0x5\n",
      "aabb\u0005ccdd\u0005eeff\n",
      "0x6\n",
      "aabb\u0006ccdd\u0006eeff\n",
      "0x7\n",
      "aabb\u0007ccdd\u0007eeff\n",
      "0x8\n",
      "aabb\bccdd\beeff\n",
      "0x9\n",
      "aabb\tccdd\teeff\n",
      "0xa\n",
      "aabb\n",
      "ccdd\n",
      "eeff\n",
      "0xb\n",
      "aabb\u000b",
      "ccdd\u000b",
      "eeff\n",
      "0xc\n",
      "aabb\f",
      "ccdd\f",
      "eeff\n",
      "0xd\n",
      "aabb\r",
      "ccdd\r",
      "eeff\n",
      "0xe\n",
      "aabb\u000eccdd\u000eeeff\n",
      "0xf\n",
      "aabb\u000fccdd\u000feeff\n"
     ]
    }
   ],
   "source": [
    "for n in range(16):\n",
    "    print(hex(n))\n",
    "    print('aabb'+chr(n)+'ccdd'+chr(n)+\"eeff\")"
   ]
  },
  {
   "cell_type": "code",
   "execution_count": 108,
   "metadata": {},
   "outputs": [
    {
     "data": {
      "text/plain": [
       "8"
      ]
     },
     "execution_count": 108,
     "metadata": {},
     "output_type": "execute_result"
    }
   ],
   "source": [
    "ord('\\b')"
   ]
  },
  {
   "cell_type": "code",
   "execution_count": 39,
   "metadata": {},
   "outputs": [
    {
     "data": {
      "text/plain": [
       "b'\\xe2\\x80\\x94'"
      ]
     },
     "execution_count": 39,
     "metadata": {},
     "output_type": "execute_result"
    }
   ],
   "source": [
    "'\\u2014'.encode()"
   ]
  },
  {
   "cell_type": "code",
   "execution_count": 54,
   "metadata": {},
   "outputs": [
    {
     "data": {
      "text/plain": [
       "'Ãº'"
      ]
     },
     "execution_count": 54,
     "metadata": {},
     "output_type": "execute_result"
    }
   ],
   "source": [
    "'ú'.encode().decode('1252')"
   ]
  },
  {
   "cell_type": "code",
   "execution_count": 50,
   "metadata": {},
   "outputs": [
    {
     "data": {
      "text/plain": [
       "'0xfa'"
      ]
     },
     "execution_count": 50,
     "metadata": {},
     "output_type": "execute_result"
    }
   ],
   "source": [
    "hex(ord('ú'))"
   ]
  },
  {
   "cell_type": "code",
   "execution_count": 45,
   "metadata": {},
   "outputs": [
    {
     "data": {
      "text/plain": [
       "b'\\xe2\\x98\\x8b'"
      ]
     },
     "execution_count": 45,
     "metadata": {},
     "output_type": "execute_result"
    }
   ],
   "source": [
    "'☋'.encode()"
   ]
  },
  {
   "cell_type": "code",
   "execution_count": 58,
   "metadata": {},
   "outputs": [
    {
     "data": {
      "text/plain": [
       "'—'"
      ]
     },
     "execution_count": 58,
     "metadata": {},
     "output_type": "execute_result"
    }
   ],
   "source": [
    "'\\u2014'"
   ]
  },
  {
   "cell_type": "code",
   "execution_count": 57,
   "metadata": {},
   "outputs": [
    {
     "name": "stdout",
     "output_type": "stream",
     "text": [
      "\u0019\n"
     ]
    }
   ],
   "source": [
    "print('\\x19')"
   ]
  },
  {
   "cell_type": "code",
   "execution_count": null,
   "metadata": {},
   "outputs": [],
   "source": []
  }
 ],
 "metadata": {
  "kernelspec": {
   "display_name": "Python 3 (ipykernel)",
   "language": "python",
   "name": "python3"
  },
  "language_info": {
   "codemirror_mode": {
    "name": "ipython",
    "version": 3
   },
   "file_extension": ".py",
   "mimetype": "text/x-python",
   "name": "python",
   "nbconvert_exporter": "python",
   "pygments_lexer": "ipython3",
   "version": "3.11.1"
  }
 },
 "nbformat": 4,
 "nbformat_minor": 4
}
