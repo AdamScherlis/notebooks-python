{
 "cells": [
  {
   "cell_type": "code",
   "execution_count": null,
   "metadata": {},
   "outputs": [],
   "source": [
    "# 2021-12\n",
    "# shoulder-surfer-proof handwriting cipher\n",
    "# disguised as a legit conlang"
   ]
  },
  {
   "cell_type": "code",
   "execution_count": 1,
   "metadata": {},
   "outputs": [],
   "source": [
    "import string"
   ]
  },
  {
   "cell_type": "code",
   "execution_count": 16,
   "metadata": {},
   "outputs": [],
   "source": [
    "key_upp = 'EPJTAVKWOCGRNMIBXLZDYFHQUS'\n",
    "key_low = key_upp.lower()\n",
    "\n",
    "def encode_char(c):\n",
    "    if c in string.ascii_uppercase:\n",
    "        return key_upp[ord(c) - ord('A')]\n",
    "    elif c in string.ascii_lowercase:\n",
    "        return key_low[ord(c) - ord('a')]\n",
    "    else:\n",
    "        return c\n",
    "    \n",
    "def encode_str(s):\n",
    "    return ''.join(map(encode_char, s))\n",
    "\n",
    "assert encode_str(key_upp) == string.ascii_uppercase"
   ]
  },
  {
   "cell_type": "code",
   "execution_count": 12,
   "metadata": {},
   "outputs": [],
   "source": [
    "jobwal = encode_str"
   ]
  },
  {
   "cell_type": "code",
   "execution_count": 18,
   "metadata": {},
   "outputs": [
    {
     "name": "stdout",
     "output_type": "stream",
     "text": [
      "Ov wa wet emudwomk jimvotamdoer di zeu, wa hlida od om jobwal, dwed oz, pu zi jwemkomk dwa iltal \n",
      "iv dwa raddalz iv dwa erbwepad, dwed mid e hilt jiyrt pa neta iyd. Ov emuima hozwaz di tajobwal dwaza, emt \n",
      "kad ed dwaol naemomk, wa nyzd zypzdodyda dwa viyldw raddal iv dwa erbwepad, menaru T, vil E, emt zi hodw dwa \n",
      "idwalz.\n"
     ]
    }
   ],
   "source": [
    "plain = \"\"\"If he had anything confidential to say, he wrote it in cipher, that is, by so changing the order \n",
    "of the letters of the alphabet, that not a word could be made out. If anyone wishes to decipher these, and \n",
    "get at their meaning, he must substitute the fourth letter of the alphabet, namely D, for A, and so with the \n",
    "others.\"\"\"\n",
    "print(jobwal(plain))"
   ]
  },
  {
   "cell_type": "code",
   "execution_count": 19,
   "metadata": {},
   "outputs": [
    {
     "name": "stdout",
     "output_type": "stream",
     "text": [
      "If he had anything confidential to say, he wrote it in cipher, that is, by so changing the order \n",
      "of the letters of the alphabet, that not a word could be made out. If anyone wishes to decipher these, and \n",
      "get at their meaning, he must substitute the fourth letter of the alphabet, namely D, for A, and so with the \n",
      "others.\n"
     ]
    }
   ],
   "source": [
    "job = \"\"\"Ov wa wet emudwomk jimvotamdoer di zeu, wa hlida od om jobwal, dwed oz, pu zi jwemkomk dwa iltal \n",
    "iv dwa raddalz iv dwa erbwepad, dwed mid e hilt jiyrt pa neta iyd. Ov emuima hozwaz di tajobwal dwaza, emt \n",
    "kad ed dwaol naemomk, wa nyzd zypzdodyda dwa viyldw raddal iv dwa erbwepad, menaru T, vil E, emt zi hodw dwa \n",
    "idwalz.\"\"\"\n",
    "print(jobwal(job))"
   ]
  },
  {
   "cell_type": "code",
   "execution_count": 20,
   "metadata": {},
   "outputs": [
    {
     "data": {
      "text/plain": [
       "'ymfiojat'"
      ]
     },
     "execution_count": 20,
     "metadata": {},
     "output_type": "execute_result"
    }
   ],
   "source": [
    "jobwal('unvoiced')"
   ]
  },
  {
   "cell_type": "code",
   "execution_count": null,
   "metadata": {},
   "outputs": [],
   "source": []
  }
 ],
 "metadata": {
  "kernelspec": {
   "display_name": "Python 3 (ipykernel)",
   "language": "python",
   "name": "python3"
  },
  "language_info": {
   "codemirror_mode": {
    "name": "ipython",
    "version": 3
   },
   "file_extension": ".py",
   "mimetype": "text/x-python",
   "name": "python",
   "nbconvert_exporter": "python",
   "pygments_lexer": "ipython3",
   "version": "3.11.1"
  }
 },
 "nbformat": 4,
 "nbformat_minor": 4
}
