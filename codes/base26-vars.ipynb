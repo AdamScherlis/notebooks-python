{
 "cells": [
  {
   "cell_type": "code",
   "execution_count": null,
   "id": "2f003088",
   "metadata": {},
   "outputs": [],
   "source": [
    "# 2023-01\n",
    "# encoding numbers efficiently with short alpha strings\n",
    "# I forget what this was for"
   ]
  },
  {
   "cell_type": "code",
   "execution_count": 22,
   "id": "8b187066",
   "metadata": {},
   "outputs": [],
   "source": [
    "# standard numeration\n",
    "\n",
    "# 0 = ''\n",
    "def base26_r(n: int):\n",
    "    if n == 0:\n",
    "        return ''\n",
    "    return base26_r(n // 26) + chr(ord('a') + (n % 26))\n",
    "\n",
    "# 0 = '0'\n",
    "def base26(n: int):\n",
    "    if n == 0: # special case by convention: 0 has a leading zero\n",
    "        return 'a'\n",
    "    return base26_r(n)"
   ]
  },
  {
   "cell_type": "code",
   "execution_count": 18,
   "id": "1f8b97a4",
   "metadata": {},
   "outputs": [
    {
     "name": "stdout",
     "output_type": "stream",
     "text": [
      "['a', 'b', 'c', 'd', 'e', 'f', 'g', 'h', 'i', 'j', 'k', 'l', 'm', 'n', 'o', 'p', 'q', 'r', 's', 't', 'u', 'v', 'w', 'x', 'y', 'z', 'ba', 'bb', 'bc', 'bd', 'be', 'bf', 'bg', 'bh', 'bi', 'bj', 'bk', 'bl', 'bm', 'bn', 'bo', 'bp', 'bq', 'br', 'bs', 'bt', 'bu', 'bv', 'bw', 'bx']\n"
     ]
    }
   ],
   "source": [
    "print([*map(base26, range(50))])"
   ]
  },
  {
   "cell_type": "code",
   "execution_count": 14,
   "id": "fb642093",
   "metadata": {},
   "outputs": [],
   "source": [
    "# bijective numeration\n",
    "# aka Excel column numeration\n",
    "\n",
    "def base26_b(n: int):\n",
    "    if n == 0:\n",
    "        return ''\n",
    "    return base26_b((n-1) // 26) + chr(ord('a') + ((n-1) % 26))"
   ]
  },
  {
   "cell_type": "code",
   "execution_count": 19,
   "id": "12f0d89a",
   "metadata": {},
   "outputs": [
    {
     "name": "stdout",
     "output_type": "stream",
     "text": [
      "['', 'a', 'b', 'c', 'd', 'e', 'f', 'g', 'h', 'i', 'j', 'k', 'l', 'm', 'n', 'o', 'p', 'q', 'r', 's', 't', 'u', 'v', 'w', 'x', 'y', 'z', 'aa', 'ab', 'ac', 'ad', 'ae', 'af', 'ag', 'ah', 'ai', 'aj', 'ak', 'al', 'am', 'an', 'ao', 'ap', 'aq', 'ar', 'as', 'at', 'au', 'av', 'aw']\n"
     ]
    }
   ],
   "source": [
    "print([*map(base26_b, range(50))])"
   ]
  },
  {
   "cell_type": "code",
   "execution_count": 21,
   "id": "cfa7a9a0",
   "metadata": {},
   "outputs": [
    {
     "name": "stdout",
     "output_type": "stream",
     "text": [
      "['zw', 'zx', 'zy', 'zz', 'aaa', 'aab']\n"
     ]
    }
   ],
   "source": [
    "print([*map(base26_b, range(26**2+26-3, 26**2+26+3))])"
   ]
  },
  {
   "cell_type": "code",
   "execution_count": 23,
   "id": "66a039ca",
   "metadata": {},
   "outputs": [],
   "source": [
    "def int_to_var(n: int):\n",
    "    assert n >= 0\n",
    "    return base26(n)\n",
    "\n",
    "def int_to_var_b(n: int):\n",
    "    assert n >= 0\n",
    "    return base26_b(n + 1)"
   ]
  },
  {
   "cell_type": "code",
   "execution_count": null,
   "id": "38ea9f6f",
   "metadata": {},
   "outputs": [],
   "source": []
  }
 ],
 "metadata": {
  "kernelspec": {
   "display_name": "Python 3 (ipykernel)",
   "language": "python",
   "name": "python3"
  },
  "language_info": {
   "codemirror_mode": {
    "name": "ipython",
    "version": 3
   },
   "file_extension": ".py",
   "mimetype": "text/x-python",
   "name": "python",
   "nbconvert_exporter": "python",
   "pygments_lexer": "ipython3",
   "version": "3.11.1"
  }
 },
 "nbformat": 4,
 "nbformat_minor": 5
}
