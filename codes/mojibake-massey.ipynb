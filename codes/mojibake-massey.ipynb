{
 "cells": [
  {
   "cell_type": "code",
   "execution_count": null,
   "id": "3da9fb51",
   "metadata": {},
   "outputs": [],
   "source": [
    "# 2023-01\n",
    "# unsuccessfully trying to understand how a PDF copy-paste mojibake error happened"
   ]
  },
  {
   "cell_type": "code",
   "execution_count": 1,
   "id": "49c7432f",
   "metadata": {},
   "outputs": [],
   "source": [
    "s = \"Berlekamp-臿ssey Algorithm\""
   ]
  },
  {
   "cell_type": "code",
   "execution_count": null,
   "id": "25630af4",
   "metadata": {},
   "outputs": [],
   "source": [
    "\"\"\"A蜤RAGE MUTUAL INFORMATION OF CODING AND NONCODING \n",
    "...http://bpg.utoledo.edu › Grosse_etal2000\n",
    "臿ny statistical patterns have been \n",
    "discovered that are di«erent in coding and \n",
    "noncoding N , but most of them vary from species to.\"\"\""
   ]
  },
  {
   "cell_type": "markdown",
   "id": "b0e10c24",
   "metadata": {},
   "source": [
    "http://webcache.googleusercontent.com/search?q=cache:k8ciV5sCG_oJ:bpg.utoledo.edu/~afedorov/MIDTERM_EXAM2015/Introduction_Gene_Prediction/Grosse_etal2000.pdf&cd=1&hl=en&ct=clnk&gl=us"
   ]
  },
  {
   "cell_type": "code",
   "execution_count": 19,
   "id": "8a1b1150",
   "metadata": {},
   "outputs": [
    {
     "data": {
      "text/plain": [
       "b'\\xe8\\x9c\\xa4'"
      ]
     },
     "execution_count": 19,
     "metadata": {},
     "output_type": "execute_result"
    }
   ],
   "source": [
    "'蜤'.encode() # VE"
   ]
  },
  {
   "cell_type": "code",
   "execution_count": 18,
   "id": "de6fe682",
   "metadata": {},
   "outputs": [
    {
     "data": {
      "text/plain": [
       "b'\\xe8\\x87\\xbf'"
      ]
     },
     "execution_count": 18,
     "metadata": {},
     "output_type": "execute_result"
    }
   ],
   "source": [
    "'臿'.encode() # Ma"
   ]
  },
  {
   "cell_type": "code",
   "execution_count": 20,
   "id": "91d3a512",
   "metadata": {},
   "outputs": [
    {
     "data": {
      "text/plain": [
       "b'\\xc2\\xab'"
      ]
     },
     "execution_count": 20,
     "metadata": {},
     "output_type": "execute_result"
    }
   ],
   "source": [
    "'«'.encode() # ff"
   ]
  },
  {
   "cell_type": "code",
   "execution_count": 21,
   "id": "16ce734f",
   "metadata": {},
   "outputs": [
    {
     "data": {
      "text/plain": [
       "171"
      ]
     },
     "execution_count": 21,
     "metadata": {},
     "output_type": "execute_result"
    }
   ],
   "source": [
    "ord('«')"
   ]
  },
  {
   "cell_type": "code",
   "execution_count": 5,
   "id": "e975bf56",
   "metadata": {},
   "outputs": [
    {
     "data": {
      "text/plain": [
       "[232, 135, 191]"
      ]
     },
     "execution_count": 5,
     "metadata": {},
     "output_type": "execute_result"
    }
   ],
   "source": [
    "[*'臿'.encode()]"
   ]
  },
  {
   "cell_type": "code",
   "execution_count": 6,
   "id": "88ef80d8",
   "metadata": {},
   "outputs": [
    {
     "data": {
      "text/plain": [
       "[77, 97]"
      ]
     },
     "execution_count": 6,
     "metadata": {},
     "output_type": "execute_result"
    }
   ],
   "source": [
    "[*'Ma'.encode()]"
   ]
  },
  {
   "cell_type": "code",
   "execution_count": 8,
   "id": "58bdd701",
   "metadata": {},
   "outputs": [
    {
     "data": {
      "text/plain": [
       "'0x81ff'"
      ]
     },
     "execution_count": 8,
     "metadata": {},
     "output_type": "execute_result"
    }
   ],
   "source": [
    "hex(ord('臿'))"
   ]
  },
  {
   "cell_type": "code",
   "execution_count": 9,
   "id": "d337904e",
   "metadata": {},
   "outputs": [
    {
     "data": {
      "text/plain": [
       "b'\\xe5\\x8d\\x83\\xe6\\x97\\xa5'"
      ]
     },
     "execution_count": 9,
     "metadata": {},
     "output_type": "execute_result"
    }
   ],
   "source": [
    "'千日'.encode()"
   ]
  },
  {
   "cell_type": "code",
   "execution_count": 10,
   "id": "a7dc4d80",
   "metadata": {},
   "outputs": [
    {
     "data": {
      "text/plain": [
       "['0x5343', '0x65e5']"
      ]
     },
     "execution_count": 10,
     "metadata": {},
     "output_type": "execute_result"
    }
   ],
   "source": [
    "[hex(ord(c)) for c in '千日']"
   ]
  },
  {
   "cell_type": "code",
   "execution_count": 11,
   "id": "3358885b",
   "metadata": {},
   "outputs": [
    {
     "data": {
      "text/plain": [
       "['0x4d', '0x61']"
      ]
     },
     "execution_count": 11,
     "metadata": {},
     "output_type": "execute_result"
    }
   ],
   "source": [
    "[hex(ord(c)) for c in 'Ma']"
   ]
  },
  {
   "cell_type": "code",
   "execution_count": 13,
   "id": "f5289524",
   "metadata": {},
   "outputs": [
    {
     "data": {
      "text/plain": [
       "'䵡'"
      ]
     },
     "execution_count": 13,
     "metadata": {},
     "output_type": "execute_result"
    }
   ],
   "source": [
    "chr(0x4d61)"
   ]
  },
  {
   "cell_type": "code",
   "execution_count": 14,
   "id": "a9310622",
   "metadata": {},
   "outputs": [
    {
     "data": {
      "text/plain": [
       "'慍'"
      ]
     },
     "execution_count": 14,
     "metadata": {},
     "output_type": "execute_result"
    }
   ],
   "source": [
    "chr(0x614d)"
   ]
  },
  {
   "cell_type": "code",
   "execution_count": 15,
   "id": "93bca793",
   "metadata": {},
   "outputs": [
    {
     "data": {
      "text/plain": [
       "24909"
      ]
     },
     "execution_count": 15,
     "metadata": {},
     "output_type": "execute_result"
    }
   ],
   "source": [
    "0x614d"
   ]
  },
  {
   "cell_type": "code",
   "execution_count": 16,
   "id": "d1d0beba",
   "metadata": {},
   "outputs": [
    {
     "data": {
      "text/plain": [
       "19809"
      ]
     },
     "execution_count": 16,
     "metadata": {},
     "output_type": "execute_result"
    }
   ],
   "source": [
    "0x4d61"
   ]
  },
  {
   "cell_type": "code",
   "execution_count": 17,
   "id": "250072be",
   "metadata": {},
   "outputs": [
    {
     "name": "stderr",
     "output_type": "stream",
     "text": [
      "/home/adam/.local/lib/python3.11/site-packages/IPython/core/inputtransformer2.py:604: UserWarning: `make_tokens_by_line` received a list of lines which do not have lineending markers ('\\n', '\\r', '\\r\\n', '\\x0b', '\\x0c'), behavior will be unspecified\n",
      "  tokens_by_line = make_tokens_by_line(lines)\n"
     ]
    },
    {
     "data": {
      "text/plain": [
       "b'\\x0f\\x1d\\x18\\x19\\x1d'"
      ]
     },
     "execution_count": 17,
     "metadata": {},
     "output_type": "execute_result"
    }
   ],
   "source": [
    "\"\u000f\u001d",
    "\u0018\u0019\u001d",
    "\".encode()"
   ]
  },
  {
   "cell_type": "code",
   "execution_count": null,
   "id": "f2646e5e",
   "metadata": {},
   "outputs": [],
   "source": []
  }
 ],
 "metadata": {
  "kernelspec": {
   "display_name": "Python 3 (ipykernel)",
   "language": "python",
   "name": "python3"
  },
  "language_info": {
   "codemirror_mode": {
    "name": "ipython",
    "version": 3
   },
   "file_extension": ".py",
   "mimetype": "text/x-python",
   "name": "python",
   "nbconvert_exporter": "python",
   "pygments_lexer": "ipython3",
   "version": "3.11.1"
  }
 },
 "nbformat": 4,
 "nbformat_minor": 5
}
