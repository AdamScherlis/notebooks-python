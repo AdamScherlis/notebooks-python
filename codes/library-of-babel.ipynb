{
 "cells": [
  {
   "cell_type": "code",
   "execution_count": null,
   "id": "c28d7a24",
   "metadata": {},
   "outputs": [],
   "source": [
    "# 2023-08\n",
    "# some math about Borges' \"Library of Babel\""
   ]
  },
  {
   "cell_type": "code",
   "execution_count": 1,
   "id": "17e6ca53",
   "metadata": {},
   "outputs": [],
   "source": [
    "# by this art you may contemplate the variation of the twenty-three letters"
   ]
  },
  {
   "cell_type": "code",
   "execution_count": 2,
   "id": "040143f6",
   "metadata": {},
   "outputs": [],
   "source": [
    "import numpy as np"
   ]
  },
  {
   "cell_type": "code",
   "execution_count": 3,
   "id": "f5974656",
   "metadata": {},
   "outputs": [
    {
     "data": {
      "text/plain": [
       "5.577425461057129"
      ]
     },
     "execution_count": 3,
     "metadata": {},
     "output_type": "execute_result"
    }
   ],
   "source": [
    "# What is the expected length of the longest \"typical\" English string in a Babel book?\n",
    "\n",
    "# book length, symbols\n",
    "len_book = 410 * 40 * 80\n",
    "alphabet = 25\n",
    "perplexity_en = 2\n",
    "\n",
    "# entropy rate of English: ~1 bit per symbol\n",
    "# prob of \"typical\" English n-string = 2^n / 25^n\n",
    "# 1/len_book ~= (2/25)^n\n",
    "# n ~= log(len_book) / log(25/2)\n",
    "\n",
    "# unfortunately 2^n is not a great estimate for small n bc LOLN doesn't kick in\n",
    "\n",
    "# do we have to worry about overlap? conditional on prev n not being typical,\n",
    "# prob of typicality is only slightly reduced, bc P(prev typical | curr typical) ~ 2/25\n",
    "# (Bayes)\n",
    "\n",
    "np.log(len_book) / np.log(alphabet / perplexity_en)"
   ]
  },
  {
   "cell_type": "code",
   "execution_count": null,
   "id": "5a91ec7c",
   "metadata": {},
   "outputs": [],
   "source": [
    "# five or six letters, approx. one word"
   ]
  },
  {
   "cell_type": "code",
   "execution_count": 4,
   "id": "50375e42",
   "metadata": {},
   "outputs": [
    {
     "data": {
      "text/plain": [
       "1.8907912675552296e-15"
      ]
     },
     "execution_count": 4,
     "metadata": {},
     "output_type": "execute_result"
    }
   ],
   "source": [
    "# prob of something as long as \"O time thy pyramids\"\n",
    "len_book * (perplexity_en / alphabet)**len(\"O time thy pyramids\")"
   ]
  },
  {
   "cell_type": "code",
   "execution_count": null,
   "id": "be0cf346",
   "metadata": {},
   "outputs": [],
   "source": [
    "# actually plausible; ~3 books per person per day for a generation (on Earth)\n",
    "# so this is about what you'd expect for the longest coherent fragment ever discovered\n",
    "# (nicely bracketed between \"O time thy pyramids\" and \"Oh time thy pyramids\" at ~10x)"
   ]
  },
  {
   "cell_type": "code",
   "execution_count": null,
   "id": "27a3ec79",
   "metadata": {},
   "outputs": [],
   "source": [
    "# further \"research\": use LLM to estimate this empirically"
   ]
  }
 ],
 "metadata": {
  "kernelspec": {
   "display_name": "Python 3 (ipykernel)",
   "language": "python",
   "name": "python3"
  },
  "language_info": {
   "codemirror_mode": {
    "name": "ipython",
    "version": 3
   },
   "file_extension": ".py",
   "mimetype": "text/x-python",
   "name": "python",
   "nbconvert_exporter": "python",
   "pygments_lexer": "ipython3",
   "version": "3.11.1"
  }
 },
 "nbformat": 4,
 "nbformat_minor": 5
}
