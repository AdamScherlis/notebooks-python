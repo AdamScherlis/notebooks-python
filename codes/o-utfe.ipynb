{
 "cells": [
  {
   "cell_type": "code",
   "execution_count": null,
   "id": "9fe82991-8a16-4d7f-89bd-ff30bb777ef3",
   "metadata": {},
   "outputs": [],
   "source": [
    "# 2024-03\n",
    "# Oracle's UTF-EBCDIC variant\n",
    "# (making a point about emoji)"
   ]
  },
  {
   "cell_type": "code",
   "execution_count": 1,
   "id": "e9a6bff6-ab4c-4524-9a09-fa0df686ebe7",
   "metadata": {},
   "outputs": [],
   "source": [
    "import ebcdic"
   ]
  },
  {
   "cell_type": "code",
   "execution_count": 20,
   "id": "7e69b9dd-c5fc-4a40-b9e8-75d00515d5a5",
   "metadata": {},
   "outputs": [],
   "source": [
    "# correct dialect for UTF-EBCDIC\n",
    "EBCDIC = 'cp1047'"
   ]
  },
  {
   "cell_type": "code",
   "execution_count": 65,
   "id": "505482f9-d972-41ae-b3dd-80e8b572d1bf",
   "metadata": {},
   "outputs": [],
   "source": [
    "def utf8(x):\n",
    "    if isinstance(x, str):\n",
    "        return b''.join([utf8(ord(c)) for c in x])\n",
    "    if x < 0x80:\n",
    "        return bytes([x])\n",
    "    prefix = 0x80\n",
    "    for n_bytes in [2, 3, 4]:\n",
    "        prefix = 0x80 + (prefix >> 1)\n",
    "        bit_depth = (7 - n_bytes) + (n_bytes - 1) * 6\n",
    "        if x < 2**bit_depth:\n",
    "            out = []\n",
    "            for i in range(n_bytes - 1):\n",
    "                out = [0x80 + (0x3F & x)] + out\n",
    "                x >>= 6\n",
    "            out = [prefix + x] + out\n",
    "            return bytes(out)\n",
    "    raise ValueError\n",
    "\n",
    "def utf16(x):\n",
    "    # return: List[int] of code units\n",
    "    if isinstance(x, str):\n",
    "        return sum([utf16(ord(c)) for c in x], start=[])\n",
    "    if x < 0x10000: \n",
    "        # BMP\n",
    "        return [x]\n",
    "    else: \n",
    "        # astral\n",
    "        y = x - 0x10000\n",
    "        assert y < 0x100000\n",
    "        return [0xD800 + (y >> 10), 0xDC00 + (y & 0x03FF)]\n",
    "\n",
    "def utf8mod(x):\n",
    "    if isinstance(x, str):\n",
    "        return b''.join([utf8mod(ord(c)) for c in x])\n",
    "    if x < 0xA0:\n",
    "        return bytes([x])\n",
    "    prefix = 0x80\n",
    "    for n_bytes in [2, 3, 4, 5]:\n",
    "        prefix = 0x80 + (prefix >> 1)\n",
    "        bit_depth = (7 - n_bytes) + (n_bytes - 1) * 5\n",
    "        if x < 2**bit_depth:\n",
    "            out = []\n",
    "            for i in range(n_bytes - 1):\n",
    "                out = [0xA0 + (0x1F & x)] + out\n",
    "                x >>= 5\n",
    "            out = [prefix + x] + out\n",
    "            return bytes(out)\n",
    "    raise ValueError(x)\n",
    "\n",
    "def utfe_remap(x):\n",
    "    if x < 0xA0:\n",
    "        # one-byte: EBCDIC back-compat\n",
    "        return [*chr(x).encode(EBCDIC)][0]\n",
    "    elif x < 0xC0:\n",
    "        # continuation byte\n",
    "        offset = x - 0xA0\n",
    "        ranges = {\n",
    "            0x41: 0x4A,\n",
    "            0x51: 0x59,\n",
    "            0x62: 0x6A,\n",
    "            0x70: 0x73,\n",
    "        }\n",
    "        for first in ranges:\n",
    "            if first + offset <= ranges[first]:\n",
    "                return first + offset\n",
    "            offset -= ranges[first] + 1 - first\n",
    "    elif x < 0xFA: # max: 1111 1001\n",
    "        # start byte\n",
    "        offset = x - 0xC0\n",
    "        ranges = {\n",
    "            0x74: 0x78,\n",
    "            0x80: 0x80,\n",
    "            0x8A: 0x90,\n",
    "            0x9A: 0xA0,\n",
    "            0xAA: 0xAC,\n",
    "            0xAE: 0xBC,\n",
    "            0xBE: 0xBF,\n",
    "            0xCA: 0xCF,\n",
    "            0xDA: 0xDF,\n",
    "            0xE1: 0xE1,\n",
    "            0xEA: 0xEE,\n",
    "        }\n",
    "        for first in ranges:\n",
    "            if first + offset <= ranges[first]:\n",
    "                return first + offset\n",
    "            offset -= ranges[first] + 1 - first\n",
    "    else:\n",
    "        raise ValueError(x)\n",
    "\n",
    "def utfe(x):\n",
    "    mod_bytes = utf8mod(x)\n",
    "    return bytes(utfe_remap(x) for x in mod_bytes)\n",
    "\n",
    "def cesu8(x):\n",
    "    return b''.join(map(utf8, utf16(x)))\n",
    "\n",
    "def oracle_utfe(x):\n",
    "    return b''.join(map(utfe, utf16(x)))"
   ]
  },
  {
   "cell_type": "markdown",
   "id": "b778e60a-43f0-4936-b09a-354ad5fc606e",
   "metadata": {},
   "source": [
    "### TESTS"
   ]
  },
  {
   "cell_type": "code",
   "execution_count": 22,
   "id": "82f3821c-9e98-4e95-aa51-eaee1b368bfb",
   "metadata": {},
   "outputs": [],
   "source": [
    "for x in range(0xA0):\n",
    "    y = chr(x).encode(EBCDIC)"
   ]
  },
  {
   "cell_type": "code",
   "execution_count": 80,
   "id": "3c6585d9-996d-4d08-a643-ac16c1d98bc5",
   "metadata": {},
   "outputs": [],
   "source": [
    "# compare against Python implementation\n",
    "\n",
    "for i in range(0x110000):\n",
    "    if 0xd800 <= i < 0xe000:\n",
    "        pass # surrogate\n",
    "    else:\n",
    "        assert(utf8(chr(i)) == chr(i).encode('utf8'))"
   ]
  },
  {
   "cell_type": "code",
   "execution_count": 53,
   "id": "ee701c5a-fc17-42d8-8a64-55b628704b72",
   "metadata": {},
   "outputs": [
    {
     "data": {
      "text/plain": [
       "b'E \\xc8\\x85 \\xed\\xa0\\x81\\xed\\xb0\\x80'"
      ]
     },
     "execution_count": 53,
     "metadata": {},
     "output_type": "execute_result"
    }
   ],
   "source": [
    "cesu8('E ȅ 𐐀')"
   ]
  },
  {
   "cell_type": "code",
   "execution_count": 106,
   "id": "ad3d37b6-71a4-4a9d-84c9-017a92ecf024",
   "metadata": {},
   "outputs": [
    {
     "data": {
      "text/plain": [
       "b'\\xde\\xdf'"
      ]
     },
     "execution_count": 106,
     "metadata": {},
     "output_type": "execute_result"
    }
   ],
   "source": [
    "'Þß'.encode('1252')"
   ]
  },
  {
   "cell_type": "code",
   "execution_count": 103,
   "id": "2db1f24f-ebc5-438f-93bd-fc2211b2aa19",
   "metadata": {},
   "outputs": [
    {
     "data": {
      "text/plain": [
       "['0xde', '0xdf']"
      ]
     },
     "execution_count": 103,
     "metadata": {},
     "output_type": "execute_result"
    }
   ],
   "source": [
    "[hex(ord(c)) for c in 'Þß']"
   ]
  },
  {
   "cell_type": "code",
   "execution_count": 85,
   "id": "5c0fe6ac-8742-4e47-8f04-d13fe1c1d61a",
   "metadata": {},
   "outputs": [
    {
     "data": {
      "text/plain": [
       "'0xca0x460x53'"
      ]
     },
     "execution_count": 85,
     "metadata": {},
     "output_type": "execute_result"
    }
   ],
   "source": [
    "# cf. Oracle documentation\n",
    "\n",
    "''.join(map(hex, oracle_utfe('€')))"
   ]
  },
  {
   "cell_type": "code",
   "execution_count": 77,
   "id": "3fdea85d-743f-4065-a13c-b71f52b8026d",
   "metadata": {},
   "outputs": [],
   "source": [
    "def bin8(n):\n",
    "    assert n >= 0\n",
    "    s = bin(n)[2:]\n",
    "    return '0' * (8 - len(s)) + s\n",
    "\n",
    "def prettybin(n):\n",
    "    bits = bin8(n)\n",
    "    return ''.join(['. ', '# '][int(b)] for b in bits)"
   ]
  },
  {
   "cell_type": "code",
   "execution_count": 107,
   "id": "ff5462b2-fb32-490d-b6a0-12ab0463e7c2",
   "metadata": {},
   "outputs": [
    {
     "name": "stdout",
     "output_type": "stream",
     "text": [
      "# # . # # # . # \n",
      ". # # . . # . # \n",
      ". # . . . . # . \n",
      ". # # # . . . # \n",
      "# # . # # # . # \n",
      ". # # . . # # . \n",
      ". # . # . # # # \n",
      ". # . . . # . . \n"
     ]
    }
   ],
   "source": [
    "# draw a smiley face ;)\n",
    "\n",
    "bs = oracle_utfe('😃')\n",
    "for n in bs:\n",
    "    print(prettybin(n))"
   ]
  },
  {
   "cell_type": "code",
   "execution_count": 109,
   "id": "e1932ecc-f957-4c3d-873d-26337c81b0cd",
   "metadata": {},
   "outputs": [
    {
     "name": "stdout",
     "output_type": "stream",
     "text": [
      ". # . . . . # . \n",
      "# . # . . # . # \n",
      ". . . . . . . . \n",
      ". . . . . . . . \n",
      ". # # # # # # . \n",
      ". # . . . . # . \n",
      ". # # # # # # . \n"
     ]
    }
   ],
   "source": [
    "for n in [0x42, 0xA5, 0x00, 0x00, 0x7E, 0x42, 0x7E]:\n",
    "    print(prettybin(n))"
   ]
  },
  {
   "cell_type": "code",
   "execution_count": 15,
   "id": "64d94578-5abe-4970-a130-cd867151f8ec",
   "metadata": {},
   "outputs": [
    {
     "name": "stdout",
     "output_type": "stream",
     "text": [
      "0\n"
     ]
    }
   ],
   "source": [
    "x = 0\n",
    "x >>= 5\n",
    "print(x)"
   ]
  }
 ],
 "metadata": {
  "kernelspec": {
   "display_name": ".venv",
   "language": "python",
   "name": ".venv"
  },
  "language_info": {
   "codemirror_mode": {
    "name": "ipython",
    "version": 3
   },
   "file_extension": ".py",
   "mimetype": "text/x-python",
   "name": "python",
   "nbconvert_exporter": "python",
   "pygments_lexer": "ipython3",
   "version": "3.11.8"
  }
 },
 "nbformat": 4,
 "nbformat_minor": 5
}
