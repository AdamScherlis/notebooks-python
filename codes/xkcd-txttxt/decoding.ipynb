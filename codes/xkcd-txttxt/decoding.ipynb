{
 "cells": [
  {
   "cell_type": "code",
   "execution_count": 2,
   "id": "8d82b085-6891-4d9c-95f2-25edd9273328",
   "metadata": {},
   "outputs": [],
   "source": [
    "import numpy as np\n",
    "from PIL import Image\n",
    "\n",
    "# Load image and convert to numpy array\n",
    "im = Image.open('txt.txt.txt.txt.png')\n",
    "im = np.asarray(im)\n"
   ]
  },
  {
   "cell_type": "code",
   "execution_count": 3,
   "id": "424671c5-81ce-4e56-ba8a-fd5287079542",
   "metadata": {},
   "outputs": [
    {
     "data": {
      "text/plain": [
       "(400, 553, 3)"
      ]
     },
     "execution_count": 3,
     "metadata": {},
     "output_type": "execute_result"
    }
   ],
   "source": [
    "im.shape"
   ]
  },
  {
   "cell_type": "code",
   "execution_count": 13,
   "id": "48c787a0-45fb-40ab-af43-623a3cfef033",
   "metadata": {},
   "outputs": [],
   "source": [
    "im2 = im.reshape((400*553, 3))\n",
    "im3 = im2.reshape((553, 400, 3))"
   ]
  },
  {
   "cell_type": "code",
   "execution_count": 5,
   "id": "795ab9a8-9049-496d-ab7b-44e16de148eb",
   "metadata": {},
   "outputs": [
    {
     "data": {
      "text/plain": [
       "(221200, 3)"
      ]
     },
     "execution_count": 5,
     "metadata": {},
     "output_type": "execute_result"
    }
   ],
   "source": [
    "im2.shape"
   ]
  },
  {
   "cell_type": "code",
   "execution_count": 12,
   "id": "310658d0-fce3-4bb3-8f95-b99bb90e5303",
   "metadata": {},
   "outputs": [
    {
     "data": {
      "text/plain": [
       "array([136, 135, 131], dtype=uint8)"
      ]
     },
     "execution_count": 12,
     "metadata": {},
     "output_type": "execute_result"
    }
   ],
   "source": [
    "im2[200*553 + 300]"
   ]
  },
  {
   "cell_type": "code",
   "execution_count": 11,
   "id": "ac5ffec9-9bc9-4bb6-9559-f7acbe041bae",
   "metadata": {},
   "outputs": [
    {
     "data": {
      "text/plain": [
       "array([136, 135, 131], dtype=uint8)"
      ]
     },
     "execution_count": 11,
     "metadata": {},
     "output_type": "execute_result"
    }
   ],
   "source": [
    "im[200, 300]"
   ]
  },
  {
   "cell_type": "code",
   "execution_count": 14,
   "id": "02309097-1562-433b-89fe-b8c5db43bfae",
   "metadata": {},
   "outputs": [],
   "source": [
    "\n",
    "# Convert back to PIL Image and save\n",
    "im = Image.fromarray(np.uint8(im3))\n",
    "im.save('swapped.png')"
   ]
  },
  {
   "cell_type": "code",
   "execution_count": null,
   "id": "a20e40f7-72e2-466e-b22f-d86e8e00eee1",
   "metadata": {},
   "outputs": [],
   "source": []
  }
 ],
 "metadata": {
  "kernelspec": {
   "display_name": "Python 3 (ipykernel)",
   "language": "python",
   "name": "python3"
  },
  "language_info": {
   "codemirror_mode": {
    "name": "ipython",
    "version": 3
   },
   "file_extension": ".py",
   "mimetype": "text/x-python",
   "name": "python",
   "nbconvert_exporter": "python",
   "pygments_lexer": "ipython3",
   "version": "3.11.6"
  }
 },
 "nbformat": 4,
 "nbformat_minor": 5
}
