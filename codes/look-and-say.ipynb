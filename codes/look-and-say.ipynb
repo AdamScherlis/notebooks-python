{
 "cells": [
  {
   "cell_type": "code",
   "execution_count": 6,
   "id": "2f3c5a6e-5462-4517-a117-c6c9c3b2d45a",
   "metadata": {},
   "outputs": [],
   "source": [
    "elements = [22,13112221133211322112211213322112,312211322212221121123222112,111312211312113221133211322112211213322112,1321132122211322212221121123222112,3113112211322112211213322112,111312212221121123222112,132112211213322112,31121123222112,111213322112,123222112,3113322112,1113222112,1322112,311311222112,1113122112,132112,3112,1112,12,3113112221133112,11131221131112,13211312,31132,111311222112,13122112,32112,11133112,131112,312,13221133122211332,31131122211311122113222,11131221131211322113322112,13211321222113222112,3113112211322112,11131221222112,1321122112,3112112,1112133,12322211331222113112211,1113122113322113111221131221,13211322211312113211,311322113212221,132211331222113112211,311311222113111221131221,111312211312113211,132113212221,3113112211,11131221,13211,3112221,1322113312211,311311222113111221,11131221131211,13211321,311311,11131,1321133112,31131112,111312,132,311332,1113222,13221133112,3113112221131112,111312211312,1321132,311311222,11131221133112,1321131112,311312,11132,13112221133211322112211213322113,312211322212221121123222113,111312211312113221133211322112211213322113,1321132122211322212221121123222113,3113112211322112211213322113,111312212221121123222113,132112211213322113,31121123222113,111213322113,123222113,3113322113,1113222113,1322113,311311222113,1113122113,132113,3113,1113,13,3]\n",
    "\n",
    "elements = [str(x) for x in elements]"
   ]
  },
  {
   "cell_type": "code",
   "execution_count": 3,
   "id": "e6518017-e492-4e80-8cdd-52358f0f7300",
   "metadata": {},
   "outputs": [],
   "source": [
    "def las(x):\n",
    "    n = '0'\n",
    "    count = 0\n",
    "    out = ''\n",
    "    for c in x:\n",
    "        if c == n:\n",
    "            count += 1\n",
    "        elif n != '0':\n",
    "            out += str(count) + n\n",
    "            n = c\n",
    "            count = 1\n",
    "        else:\n",
    "            n = c\n",
    "            count = 1\n",
    "    if n != '0':\n",
    "        out += str(count) + n\n",
    "    return out            "
   ]
  },
  {
   "cell_type": "code",
   "execution_count": 9,
   "id": "9a707528-d912-4b3c-af9e-0b5f2034a058",
   "metadata": {},
   "outputs": [
    {
     "data": {
      "text/plain": [
       "'acde'"
      ]
     },
     "execution_count": 9,
     "metadata": {},
     "output_type": "execute_result"
    }
   ],
   "source": [
    "max(['a','ab','acde'], key=len)"
   ]
  },
  {
   "cell_type": "code",
   "execution_count": 10,
   "id": "3aff37c4-b1d9-4042-9b71-aae5e1e84136",
   "metadata": {},
   "outputs": [],
   "source": [
    "def breakdown(x):\n",
    "    els = [e for e in elements if len(e) <= len(x) and e == x[:len(e)]]\n",
    "    if els == []:\n",
    "        return [], x\n",
    "    else:\n",
    "        best = max(els, key=len)\n",
    "        rest, left = breakdown(x[len(best):])\n",
    "        return [best] + rest, left"
   ]
  },
  {
   "cell_type": "code",
   "execution_count": 12,
   "id": "ee88b3d8-3f99-4a38-8266-93c8ddf487c7",
   "metadata": {},
   "outputs": [
    {
     "name": "stdout",
     "output_type": "stream",
     "text": [
      "1\n",
      "([], '1')\n",
      "11\n",
      "([], '11')\n",
      "21\n",
      "([], '21')\n",
      "1211\n",
      "(['12'], '11')\n",
      "111221\n",
      "(['1112'], '21')\n",
      "312211\n",
      "(['312'], '211')\n",
      "13112221\n",
      "(['13'], '112221')\n",
      "1113213211\n",
      "(['11132', '13211'], '')\n",
      "31131211131221\n",
      "(['311312', '11131221'], '')\n",
      "13211311123113112211\n",
      "(['1321131112', '3113112211'], '')\n"
     ]
    }
   ],
   "source": [
    "x = '1'\n",
    "for _ in range(10):\n",
    "    print(x)\n",
    "    print(breakdown(x))\n",
    "    x = las(x)"
   ]
  },
  {
   "cell_type": "code",
   "execution_count": null,
   "id": "a9f62900-6e9f-4423-bd8a-fec3760348a4",
   "metadata": {},
   "outputs": [],
   "source": [
    "# first complete breakdown: Hf.Sn = 11132.13211"
   ]
  }
 ],
 "metadata": {
  "kernelspec": {
   "display_name": "Python 3 (ipykernel)",
   "language": "python",
   "name": "python3"
  },
  "language_info": {
   "codemirror_mode": {
    "name": "ipython",
    "version": 3
   },
   "file_extension": ".py",
   "mimetype": "text/x-python",
   "name": "python",
   "nbconvert_exporter": "python",
   "pygments_lexer": "ipython3",
   "version": "3.12.4"
  }
 },
 "nbformat": 4,
 "nbformat_minor": 5
}
